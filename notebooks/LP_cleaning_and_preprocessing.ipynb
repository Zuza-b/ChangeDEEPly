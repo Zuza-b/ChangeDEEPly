{
 "cells": [
  {
   "cell_type": "code",
   "execution_count": 1,
   "id": "829cb853",
   "metadata": {},
   "outputs": [],
   "source": [
    "# DATA PREPA\n",
    "import pandas as pd\n",
    "\n",
    "# VIZUALISATION\n",
    "import matplotlib.pyplot as plt\n",
    "import seaborn as sns\n",
    "\n",
    "# NLP\n",
    "from textblob import TextBlob"
   ]
  },
  {
   "cell_type": "markdown",
   "id": "32701b71",
   "metadata": {},
   "source": [
    "# Loading the data from .csv (after preparing it in Excel)"
   ]
  },
  {
   "cell_type": "code",
   "execution_count": 2,
   "id": "17f496d2",
   "metadata": {},
   "outputs": [
    {
     "data": {
      "text/html": [
       "<div>\n",
       "<style scoped>\n",
       "    .dataframe tbody tr th:only-of-type {\n",
       "        vertical-align: middle;\n",
       "    }\n",
       "\n",
       "    .dataframe tbody tr th {\n",
       "        vertical-align: top;\n",
       "    }\n",
       "\n",
       "    .dataframe thead th {\n",
       "        text-align: right;\n",
       "    }\n",
       "</style>\n",
       "<table border=\"1\" class=\"dataframe\">\n",
       "  <thead>\n",
       "    <tr style=\"text-align: right;\">\n",
       "      <th></th>\n",
       "      <th>User</th>\n",
       "      <th>Module</th>\n",
       "      <th>Step</th>\n",
       "      <th>Question</th>\n",
       "      <th>Answer</th>\n",
       "      <th>Unnamed: 5</th>\n",
       "      <th>Unnamed: 6</th>\n",
       "      <th>Unnamed: 7</th>\n",
       "      <th>Unnamed: 8</th>\n",
       "      <th>Unnamed: 9</th>\n",
       "      <th>...</th>\n",
       "      <th>Unnamed: 16</th>\n",
       "      <th>Unnamed: 17</th>\n",
       "      <th>Unnamed: 18</th>\n",
       "      <th>Unnamed: 19</th>\n",
       "      <th>Unnamed: 20</th>\n",
       "      <th>Unnamed: 21</th>\n",
       "      <th>Unnamed: 22</th>\n",
       "      <th>Unnamed: 23</th>\n",
       "      <th>Unnamed: 24</th>\n",
       "      <th>Unnamed: 25</th>\n",
       "    </tr>\n",
       "  </thead>\n",
       "  <tbody>\n",
       "    <tr>\n",
       "      <th>0</th>\n",
       "      <td>MP - Female 36 UK</td>\n",
       "      <td>Module_1</td>\n",
       "      <td>Step_1</td>\n",
       "      <td>What are you excited about as you begin your L...</td>\n",
       "      <td>Self development, learning new things about my...</td>\n",
       "      <td>NaN</td>\n",
       "      <td>NaN</td>\n",
       "      <td>NaN</td>\n",
       "      <td>NaN</td>\n",
       "      <td>NaN</td>\n",
       "      <td>...</td>\n",
       "      <td>NaN</td>\n",
       "      <td>NaN</td>\n",
       "      <td>NaN</td>\n",
       "      <td>NaN</td>\n",
       "      <td>NaN</td>\n",
       "      <td>NaN</td>\n",
       "      <td>NaN</td>\n",
       "      <td>NaN</td>\n",
       "      <td>NaN</td>\n",
       "      <td>NaN</td>\n",
       "    </tr>\n",
       "    <tr>\n",
       "      <th>1</th>\n",
       "      <td>MP - Female 36 UK</td>\n",
       "      <td>Module_1</td>\n",
       "      <td>Step_2</td>\n",
       "      <td>In what ways do you feel you are currently sho...</td>\n",
       "      <td>Sociable and confidently interact with others,...</td>\n",
       "      <td>NaN</td>\n",
       "      <td>NaN</td>\n",
       "      <td>NaN</td>\n",
       "      <td>NaN</td>\n",
       "      <td>NaN</td>\n",
       "      <td>...</td>\n",
       "      <td>NaN</td>\n",
       "      <td>NaN</td>\n",
       "      <td>NaN</td>\n",
       "      <td>NaN</td>\n",
       "      <td>NaN</td>\n",
       "      <td>NaN</td>\n",
       "      <td>NaN</td>\n",
       "      <td>NaN</td>\n",
       "      <td>NaN</td>\n",
       "      <td>NaN</td>\n",
       "    </tr>\n",
       "  </tbody>\n",
       "</table>\n",
       "<p>2 rows × 26 columns</p>\n",
       "</div>"
      ],
      "text/plain": [
       "                User    Module    Step  \\\n",
       "0  MP - Female 36 UK  Module_1  Step_1   \n",
       "1  MP - Female 36 UK  Module_1  Step_2   \n",
       "\n",
       "                                            Question  \\\n",
       "0  What are you excited about as you begin your L...   \n",
       "1  In what ways do you feel you are currently sho...   \n",
       "\n",
       "                                              Answer  Unnamed: 5  Unnamed: 6  \\\n",
       "0  Self development, learning new things about my...         NaN         NaN   \n",
       "1  Sociable and confidently interact with others,...         NaN         NaN   \n",
       "\n",
       "   Unnamed: 7  Unnamed: 8  Unnamed: 9  ...  Unnamed: 16  Unnamed: 17  \\\n",
       "0         NaN         NaN         NaN  ...          NaN          NaN   \n",
       "1         NaN         NaN         NaN  ...          NaN          NaN   \n",
       "\n",
       "   Unnamed: 18  Unnamed: 19  Unnamed: 20  Unnamed: 21  Unnamed: 22  \\\n",
       "0          NaN          NaN          NaN          NaN          NaN   \n",
       "1          NaN          NaN          NaN          NaN          NaN   \n",
       "\n",
       "   Unnamed: 23  Unnamed: 24  Unnamed: 25  \n",
       "0          NaN          NaN          NaN  \n",
       "1          NaN          NaN          NaN  \n",
       "\n",
       "[2 rows x 26 columns]"
      ]
     },
     "execution_count": 2,
     "metadata": {},
     "output_type": "execute_result"
    }
   ],
   "source": [
    "data = pd.read_csv('../raw_data/data.csv',sep=\";\")\n",
    "data.head(2)"
   ]
  },
  {
   "cell_type": "markdown",
   "id": "b13302df",
   "metadata": {},
   "source": [
    "# Cleaning the data"
   ]
  },
  {
   "cell_type": "markdown",
   "id": "1a89ece8",
   "metadata": {},
   "source": [
    "## Removing empty columns"
   ]
  },
  {
   "cell_type": "markdown",
   "id": "afeb5913",
   "metadata": {},
   "source": [
    "After loading the data that was exported from Excel, it created few ; at the end of each line. And it resulted in having empty columns. So let's remove them."
   ]
  },
  {
   "cell_type": "code",
   "execution_count": 3,
   "id": "0287de34",
   "metadata": {},
   "outputs": [
    {
     "name": "stdout",
     "output_type": "stream",
     "text": [
      "Shape of data: (2779, 5)\n",
      "The number of all participants: 70\n"
     ]
    }
   ],
   "source": [
    "data = data.loc[:,'User':'Answer']\n",
    "print(f'Shape of data: {data.shape}')\n",
    "print(f'The number of all participants: {data.User.nunique()}')"
   ]
  },
  {
   "cell_type": "code",
   "execution_count": 4,
   "id": "743a518e",
   "metadata": {
    "scrolled": true
   },
   "outputs": [
    {
     "data": {
      "text/html": [
       "<div>\n",
       "<style scoped>\n",
       "    .dataframe tbody tr th:only-of-type {\n",
       "        vertical-align: middle;\n",
       "    }\n",
       "\n",
       "    .dataframe tbody tr th {\n",
       "        vertical-align: top;\n",
       "    }\n",
       "\n",
       "    .dataframe thead th {\n",
       "        text-align: right;\n",
       "    }\n",
       "</style>\n",
       "<table border=\"1\" class=\"dataframe\">\n",
       "  <thead>\n",
       "    <tr style=\"text-align: right;\">\n",
       "      <th></th>\n",
       "      <th>User</th>\n",
       "      <th>Module</th>\n",
       "      <th>Step</th>\n",
       "      <th>Question</th>\n",
       "      <th>Answer</th>\n",
       "    </tr>\n",
       "  </thead>\n",
       "  <tbody>\n",
       "    <tr>\n",
       "      <th>0</th>\n",
       "      <td>MP - Female 36 UK</td>\n",
       "      <td>Module_1</td>\n",
       "      <td>Step_1</td>\n",
       "      <td>What are you excited about as you begin your L...</td>\n",
       "      <td>Self development, learning new things about my...</td>\n",
       "    </tr>\n",
       "    <tr>\n",
       "      <th>1</th>\n",
       "      <td>MP - Female 36 UK</td>\n",
       "      <td>Module_1</td>\n",
       "      <td>Step_2</td>\n",
       "      <td>In what ways do you feel you are currently sho...</td>\n",
       "      <td>Sociable and confidently interact with others,...</td>\n",
       "    </tr>\n",
       "  </tbody>\n",
       "</table>\n",
       "</div>"
      ],
      "text/plain": [
       "                User    Module    Step  \\\n",
       "0  MP - Female 36 UK  Module_1  Step_1   \n",
       "1  MP - Female 36 UK  Module_1  Step_2   \n",
       "\n",
       "                                            Question  \\\n",
       "0  What are you excited about as you begin your L...   \n",
       "1  In what ways do you feel you are currently sho...   \n",
       "\n",
       "                                              Answer  \n",
       "0  Self development, learning new things about my...  \n",
       "1  Sociable and confidently interact with others,...  "
      ]
     },
     "execution_count": 4,
     "metadata": {},
     "output_type": "execute_result"
    }
   ],
   "source": [
    "data.head(2)"
   ]
  },
  {
   "cell_type": "markdown",
   "id": "a3b54bd4",
   "metadata": {},
   "source": [
    "## Removing empty rows"
   ]
  },
  {
   "cell_type": "markdown",
   "id": "905d18e8",
   "metadata": {},
   "source": [
    "Within the Excel file there were empty rows after each participant. We removed the rows that were empty in 'User' column. There were 200 rows like that."
   ]
  },
  {
   "cell_type": "code",
   "execution_count": 5,
   "id": "160100eb",
   "metadata": {},
   "outputs": [
    {
     "name": "stdout",
     "output_type": "stream",
     "text": [
      "Number of empty rows to remove: 200\n"
     ]
    }
   ],
   "source": [
    "print(f'Number of empty rows to remove: {data.User.isnull().sum()}')"
   ]
  },
  {
   "cell_type": "code",
   "execution_count": 6,
   "id": "a3cecaf0",
   "metadata": {},
   "outputs": [
    {
     "data": {
      "text/plain": [
       "(2579, 5)"
      ]
     },
     "execution_count": 6,
     "metadata": {},
     "output_type": "execute_result"
    }
   ],
   "source": [
    "data = data.dropna(subset=['User'])\n",
    "data.shape"
   ]
  },
  {
   "cell_type": "markdown",
   "id": "720942ee",
   "metadata": {},
   "source": [
    "## Removing duplicates"
   ]
  },
  {
   "cell_type": "markdown",
   "id": "4d415c27",
   "metadata": {},
   "source": [
    "We checked if (by accident) there are some duplicated question-answer pair. And we found 15 rows like that, we also removed them."
   ]
  },
  {
   "cell_type": "code",
   "execution_count": 7,
   "id": "1215c5ac",
   "metadata": {},
   "outputs": [
    {
     "name": "stdout",
     "output_type": "stream",
     "text": [
      "Number of duplicated rows: 15\n"
     ]
    }
   ],
   "source": [
    "print(f'Number of duplicated rows: {data.duplicated().sum()}')"
   ]
  },
  {
   "cell_type": "code",
   "execution_count": 8,
   "id": "a159c877",
   "metadata": {},
   "outputs": [
    {
     "name": "stdout",
     "output_type": "stream",
     "text": [
      "Looking at duplicated rows:\n"
     ]
    },
    {
     "data": {
      "text/html": [
       "<div>\n",
       "<style scoped>\n",
       "    .dataframe tbody tr th:only-of-type {\n",
       "        vertical-align: middle;\n",
       "    }\n",
       "\n",
       "    .dataframe tbody tr th {\n",
       "        vertical-align: top;\n",
       "    }\n",
       "\n",
       "    .dataframe thead th {\n",
       "        text-align: right;\n",
       "    }\n",
       "</style>\n",
       "<table border=\"1\" class=\"dataframe\">\n",
       "  <thead>\n",
       "    <tr style=\"text-align: right;\">\n",
       "      <th></th>\n",
       "      <th>User</th>\n",
       "      <th>Module</th>\n",
       "      <th>Step</th>\n",
       "      <th>Question</th>\n",
       "      <th>Answer</th>\n",
       "    </tr>\n",
       "  </thead>\n",
       "  <tbody>\n",
       "    <tr>\n",
       "      <th>2547</th>\n",
       "      <td>CD Female (30s) South Africa</td>\n",
       "      <td>Module_4</td>\n",
       "      <td>Step_11</td>\n",
       "      <td>What is the story you are telling yourself abo...</td>\n",
       "      <td>The story I am telling, or at least my perspec...</td>\n",
       "    </tr>\n",
       "    <tr>\n",
       "      <th>2548</th>\n",
       "      <td>CD Female (30s) South Africa</td>\n",
       "      <td>Module_4</td>\n",
       "      <td>Step_11</td>\n",
       "      <td>What changes when you invite curiosity and “I ...</td>\n",
       "      <td>I immediately go from an immovable, debilitati...</td>\n",
       "    </tr>\n",
       "    <tr>\n",
       "      <th>2549</th>\n",
       "      <td>CD Female (30s) South Africa</td>\n",
       "      <td>Module_4</td>\n",
       "      <td>Step_11</td>\n",
       "      <td>What else is there to discover when you invite...</td>\n",
       "      <td>New perspectives. A way forward. Solutions. An...</td>\n",
       "    </tr>\n",
       "    <tr>\n",
       "      <th>2550</th>\n",
       "      <td>CD Female (30s) South Africa</td>\n",
       "      <td>Module_4</td>\n",
       "      <td>Step_11</td>\n",
       "      <td>Consider a relationship in your life that woul...</td>\n",
       "      <td>I would start by simply asking more questions....</td>\n",
       "    </tr>\n",
       "    <tr>\n",
       "      <th>2551</th>\n",
       "      <td>CD Female (30s) South Africa</td>\n",
       "      <td>Module_4</td>\n",
       "      <td>Step_13</td>\n",
       "      <td>Reflecting on what you’ve observed so far, wha...</td>\n",
       "      <td>Sjoe, one of the most consistent and persuasiv...</td>\n",
       "    </tr>\n",
       "    <tr>\n",
       "      <th>2552</th>\n",
       "      <td>CD Female (30s) South Africa</td>\n",
       "      <td>Module_4</td>\n",
       "      <td>Step_13</td>\n",
       "      <td>What is the impact of this on your life?</td>\n",
       "      <td>Believing this story has slowed me down, it ha...</td>\n",
       "    </tr>\n",
       "    <tr>\n",
       "      <th>2553</th>\n",
       "      <td>CD Female (30s) South Africa</td>\n",
       "      <td>Module_4</td>\n",
       "      <td>Step_13</td>\n",
       "      <td>Now it’s time to rewrite this story. How does ...</td>\n",
       "      <td>So my negative thoughts/voice often say \"You w...</td>\n",
       "    </tr>\n",
       "    <tr>\n",
       "      <th>2554</th>\n",
       "      <td>CD Female (30s) South Africa</td>\n",
       "      <td>Module_4</td>\n",
       "      <td>Step_13</td>\n",
       "      <td>What is possible for you if you go into the wo...</td>\n",
       "      <td>Opportunities for growth and opportunities to ...</td>\n",
       "    </tr>\n",
       "    <tr>\n",
       "      <th>2555</th>\n",
       "      <td>CD Female (30s) South Africa</td>\n",
       "      <td>Module_4</td>\n",
       "      <td>Step_13</td>\n",
       "      <td>What was this experience like for you?</td>\n",
       "      <td>Oddly reassuring. I really hope I remember to ...</td>\n",
       "    </tr>\n",
       "    <tr>\n",
       "      <th>2556</th>\n",
       "      <td>CD Female (30s) South Africa</td>\n",
       "      <td>Module_4</td>\n",
       "      <td>Step_13</td>\n",
       "      <td>What are you learning about the power of refra...</td>\n",
       "      <td>Reframing is essential to navigating through l...</td>\n",
       "    </tr>\n",
       "    <tr>\n",
       "      <th>2557</th>\n",
       "      <td>CD Female (30s) South Africa</td>\n",
       "      <td>Module_4</td>\n",
       "      <td>Step_13</td>\n",
       "      <td>What is one small action you can take right no...</td>\n",
       "      <td>Communicating thoughts and feelings with other...</td>\n",
       "    </tr>\n",
       "    <tr>\n",
       "      <th>2558</th>\n",
       "      <td>CD Female (30s) South Africa</td>\n",
       "      <td>Module_4</td>\n",
       "      <td>Step_13</td>\n",
       "      <td>We love attaching a metaphor, saying, action, ...</td>\n",
       "      <td>I don't have a mantra or lyric, but the work I...</td>\n",
       "    </tr>\n",
       "    <tr>\n",
       "      <th>2559</th>\n",
       "      <td>CD Female (30s) South Africa</td>\n",
       "      <td>Module_4</td>\n",
       "      <td>Step_12</td>\n",
       "      <td>What does gratitude mean to you?</td>\n",
       "      <td>a genuine appreciation for life and everything...</td>\n",
       "    </tr>\n",
       "    <tr>\n",
       "      <th>2560</th>\n",
       "      <td>CD Female (30s) South Africa</td>\n",
       "      <td>Module_4</td>\n",
       "      <td>Step_12</td>\n",
       "      <td>What is one thing you are grateful for in this...</td>\n",
       "      <td>SO much. Family. Friends. The work I do. My pe...</td>\n",
       "    </tr>\n",
       "    <tr>\n",
       "      <th>2561</th>\n",
       "      <td>CD Female (30s) South Africa</td>\n",
       "      <td>Module_4</td>\n",
       "      <td>Step_12</td>\n",
       "      <td>What is one thing you can do today to bring th...</td>\n",
       "      <td>Literally pausing and looking around you. It w...</td>\n",
       "    </tr>\n",
       "  </tbody>\n",
       "</table>\n",
       "</div>"
      ],
      "text/plain": [
       "                              User    Module     Step  \\\n",
       "2547  CD Female (30s) South Africa  Module_4  Step_11   \n",
       "2548  CD Female (30s) South Africa  Module_4  Step_11   \n",
       "2549  CD Female (30s) South Africa  Module_4  Step_11   \n",
       "2550  CD Female (30s) South Africa  Module_4  Step_11   \n",
       "2551  CD Female (30s) South Africa  Module_4  Step_13   \n",
       "2552  CD Female (30s) South Africa  Module_4  Step_13   \n",
       "2553  CD Female (30s) South Africa  Module_4  Step_13   \n",
       "2554  CD Female (30s) South Africa  Module_4  Step_13   \n",
       "2555  CD Female (30s) South Africa  Module_4  Step_13   \n",
       "2556  CD Female (30s) South Africa  Module_4  Step_13   \n",
       "2557  CD Female (30s) South Africa  Module_4  Step_13   \n",
       "2558  CD Female (30s) South Africa  Module_4  Step_13   \n",
       "2559  CD Female (30s) South Africa  Module_4  Step_12   \n",
       "2560  CD Female (30s) South Africa  Module_4  Step_12   \n",
       "2561  CD Female (30s) South Africa  Module_4  Step_12   \n",
       "\n",
       "                                               Question  \\\n",
       "2547  What is the story you are telling yourself abo...   \n",
       "2548  What changes when you invite curiosity and “I ...   \n",
       "2549  What else is there to discover when you invite...   \n",
       "2550  Consider a relationship in your life that woul...   \n",
       "2551  Reflecting on what you’ve observed so far, wha...   \n",
       "2552           What is the impact of this on your life?   \n",
       "2553  Now it’s time to rewrite this story. How does ...   \n",
       "2554  What is possible for you if you go into the wo...   \n",
       "2555             What was this experience like for you?   \n",
       "2556  What are you learning about the power of refra...   \n",
       "2557  What is one small action you can take right no...   \n",
       "2558  We love attaching a metaphor, saying, action, ...   \n",
       "2559                   What does gratitude mean to you?   \n",
       "2560  What is one thing you are grateful for in this...   \n",
       "2561  What is one thing you can do today to bring th...   \n",
       "\n",
       "                                                 Answer  \n",
       "2547  The story I am telling, or at least my perspec...  \n",
       "2548  I immediately go from an immovable, debilitati...  \n",
       "2549  New perspectives. A way forward. Solutions. An...  \n",
       "2550  I would start by simply asking more questions....  \n",
       "2551  Sjoe, one of the most consistent and persuasiv...  \n",
       "2552  Believing this story has slowed me down, it ha...  \n",
       "2553  So my negative thoughts/voice often say \"You w...  \n",
       "2554  Opportunities for growth and opportunities to ...  \n",
       "2555  Oddly reassuring. I really hope I remember to ...  \n",
       "2556  Reframing is essential to navigating through l...  \n",
       "2557  Communicating thoughts and feelings with other...  \n",
       "2558  I don't have a mantra or lyric, but the work I...  \n",
       "2559  a genuine appreciation for life and everything...  \n",
       "2560  SO much. Family. Friends. The work I do. My pe...  \n",
       "2561  Literally pausing and looking around you. It w...  "
      ]
     },
     "metadata": {},
     "output_type": "display_data"
    }
   ],
   "source": [
    "print(f'Looking at duplicated rows:')\n",
    "display(data[data.duplicated()])"
   ]
  },
  {
   "cell_type": "markdown",
   "id": "7602ecaa",
   "metadata": {},
   "source": [
    "Looks like for one participant Module 4 info was copied twice! Let's remove it!"
   ]
  },
  {
   "cell_type": "code",
   "execution_count": 9,
   "id": "63fe2d13",
   "metadata": {},
   "outputs": [
    {
     "data": {
      "text/plain": [
       "(2564, 5)"
      ]
     },
     "execution_count": 9,
     "metadata": {},
     "output_type": "execute_result"
    }
   ],
   "source": [
    "data = data.drop_duplicates()\n",
    "data.shape"
   ]
  },
  {
   "cell_type": "markdown",
   "id": "e43b1ede",
   "metadata": {},
   "source": [
    "## Adding count of words per answer"
   ]
  },
  {
   "cell_type": "markdown",
   "id": "0233b5aa",
   "metadata": {},
   "source": [
    "We created a function to count words in each answer and we use it to engineer new column 'Answer_lenght'."
   ]
  },
  {
   "cell_type": "code",
   "execution_count": 10,
   "id": "e44b4149",
   "metadata": {},
   "outputs": [
    {
     "data": {
      "text/html": [
       "<div>\n",
       "<style scoped>\n",
       "    .dataframe tbody tr th:only-of-type {\n",
       "        vertical-align: middle;\n",
       "    }\n",
       "\n",
       "    .dataframe tbody tr th {\n",
       "        vertical-align: top;\n",
       "    }\n",
       "\n",
       "    .dataframe thead th {\n",
       "        text-align: right;\n",
       "    }\n",
       "</style>\n",
       "<table border=\"1\" class=\"dataframe\">\n",
       "  <thead>\n",
       "    <tr style=\"text-align: right;\">\n",
       "      <th></th>\n",
       "      <th>User</th>\n",
       "      <th>Module</th>\n",
       "      <th>Step</th>\n",
       "      <th>Question</th>\n",
       "      <th>Answer</th>\n",
       "      <th>Answer_length</th>\n",
       "    </tr>\n",
       "  </thead>\n",
       "  <tbody>\n",
       "    <tr>\n",
       "      <th>0</th>\n",
       "      <td>MP - Female 36 UK</td>\n",
       "      <td>Module_1</td>\n",
       "      <td>Step_1</td>\n",
       "      <td>What are you excited about as you begin your L...</td>\n",
       "      <td>Self development, learning new things about my...</td>\n",
       "      <td>16</td>\n",
       "    </tr>\n",
       "    <tr>\n",
       "      <th>1</th>\n",
       "      <td>MP - Female 36 UK</td>\n",
       "      <td>Module_1</td>\n",
       "      <td>Step_2</td>\n",
       "      <td>In what ways do you feel you are currently sho...</td>\n",
       "      <td>Sociable and confidently interact with others,...</td>\n",
       "      <td>29</td>\n",
       "    </tr>\n",
       "    <tr>\n",
       "      <th>2</th>\n",
       "      <td>MP - Female 36 UK</td>\n",
       "      <td>Module_1</td>\n",
       "      <td>Step_2</td>\n",
       "      <td>In what ways would you like to be showing up d...</td>\n",
       "      <td>More relaxed</td>\n",
       "      <td>2</td>\n",
       "    </tr>\n",
       "  </tbody>\n",
       "</table>\n",
       "</div>"
      ],
      "text/plain": [
       "                User    Module    Step  \\\n",
       "0  MP - Female 36 UK  Module_1  Step_1   \n",
       "1  MP - Female 36 UK  Module_1  Step_2   \n",
       "2  MP - Female 36 UK  Module_1  Step_2   \n",
       "\n",
       "                                            Question  \\\n",
       "0  What are you excited about as you begin your L...   \n",
       "1  In what ways do you feel you are currently sho...   \n",
       "2  In what ways would you like to be showing up d...   \n",
       "\n",
       "                                              Answer  Answer_length  \n",
       "0  Self development, learning new things about my...             16  \n",
       "1  Sociable and confidently interact with others,...             29  \n",
       "2                                       More relaxed              2  "
      ]
     },
     "execution_count": 10,
     "metadata": {},
     "output_type": "execute_result"
    }
   ],
   "source": [
    "def count_words_in_answer(answer):\n",
    "    if type(answer) == str:\n",
    "        result = len(list(str(answer).split(\" \")))\n",
    "    else:\n",
    "        result = 0\n",
    "    return result\n",
    "\n",
    "# Adding a new column with the length of each answer\n",
    "data['Answer_length'] = data['Answer'].apply(lambda x: count_words_in_answer(x))\n",
    "data.head(3)"
   ]
  },
  {
   "cell_type": "markdown",
   "id": "11085a37",
   "metadata": {},
   "source": [
    "Let's plot the distribution of length of all the answers:"
   ]
  },
  {
   "cell_type": "code",
   "execution_count": 11,
   "id": "42af1fd4",
   "metadata": {},
   "outputs": [
    {
     "data": {
      "text/plain": [
       "<AxesSubplot:xlabel='Answer_length', ylabel='Count'>"
      ]
     },
     "execution_count": 11,
     "metadata": {},
     "output_type": "execute_result"
    },
    {
     "data": {
      "image/png": "[encoded data removed]",
      "text/plain": [
       "<Figure size 432x288 with 1 Axes>"
      ]
     },
     "metadata": {
      "needs_background": "light"
     },
     "output_type": "display_data"
    }
   ],
   "source": [
    "sns.histplot(data['Answer_length'], kde=True)"
   ]
  },
  {
   "cell_type": "markdown",
   "id": "8ec7e934",
   "metadata": {},
   "source": [
    "## Removing NaN answers"
   ]
  },
  {
   "cell_type": "markdown",
   "id": "6c50a27d",
   "metadata": {},
   "source": [
    "We checked if all answers are not missing. And we discovered that there are 2 missing answers so we removed them."
   ]
  },
  {
   "cell_type": "code",
   "execution_count": 12,
   "id": "cb572e21",
   "metadata": {
    "scrolled": true
   },
   "outputs": [
    {
     "name": "stdout",
     "output_type": "stream",
     "text": [
      "Number of Nan values insead of answer: 2\n"
     ]
    }
   ],
   "source": [
    "print(f'Number of Nan values insead of answer: {data.Answer.isnull().sum()}')"
   ]
  },
  {
   "cell_type": "code",
   "execution_count": 13,
   "id": "10f9e515",
   "metadata": {
    "scrolled": true
   },
   "outputs": [
    {
     "data": {
      "text/html": [
       "<div>\n",
       "<style scoped>\n",
       "    .dataframe tbody tr th:only-of-type {\n",
       "        vertical-align: middle;\n",
       "    }\n",
       "\n",
       "    .dataframe tbody tr th {\n",
       "        vertical-align: top;\n",
       "    }\n",
       "\n",
       "    .dataframe thead th {\n",
       "        text-align: right;\n",
       "    }\n",
       "</style>\n",
       "<table border=\"1\" class=\"dataframe\">\n",
       "  <thead>\n",
       "    <tr style=\"text-align: right;\">\n",
       "      <th></th>\n",
       "      <th>User</th>\n",
       "      <th>Module</th>\n",
       "      <th>Step</th>\n",
       "      <th>Question</th>\n",
       "      <th>Answer</th>\n",
       "      <th>Answer_length</th>\n",
       "    </tr>\n",
       "  </thead>\n",
       "  <tbody>\n",
       "    <tr>\n",
       "      <th>650</th>\n",
       "      <td>SM Female (30s) South Africa</td>\n",
       "      <td>Module_1</td>\n",
       "      <td>Step_2</td>\n",
       "      <td>How do you want to remember this?</td>\n",
       "      <td>NaN</td>\n",
       "      <td>0</td>\n",
       "    </tr>\n",
       "    <tr>\n",
       "      <th>1836</th>\n",
       "      <td>SM Female (30s) South Africa</td>\n",
       "      <td>Module_2</td>\n",
       "      <td>Step_7</td>\n",
       "      <td>We love attaching a metaphor, saying, action, ...</td>\n",
       "      <td>NaN</td>\n",
       "      <td>0</td>\n",
       "    </tr>\n",
       "  </tbody>\n",
       "</table>\n",
       "</div>"
      ],
      "text/plain": [
       "                              User    Module    Step  \\\n",
       "650   SM Female (30s) South Africa  Module_1  Step_2   \n",
       "1836  SM Female (30s) South Africa  Module_2  Step_7   \n",
       "\n",
       "                                               Question Answer  Answer_length  \n",
       "650                   How do you want to remember this?    NaN              0  \n",
       "1836  We love attaching a metaphor, saying, action, ...    NaN              0  "
      ]
     },
     "execution_count": 13,
     "metadata": {},
     "output_type": "execute_result"
    }
   ],
   "source": [
    "data[data.Answer.isnull()]"
   ]
  },
  {
   "cell_type": "code",
   "execution_count": 14,
   "id": "14bf8f20",
   "metadata": {},
   "outputs": [
    {
     "data": {
      "text/plain": [
       "(2562, 6)"
      ]
     },
     "execution_count": 14,
     "metadata": {},
     "output_type": "execute_result"
    }
   ],
   "source": [
    "data = data.dropna(subset=['Answer'])\n",
    "data.shape"
   ]
  },
  {
   "cell_type": "markdown",
   "id": "6ac375ed",
   "metadata": {},
   "source": [
    "## Examination of short answers (length < 4)"
   ]
  },
  {
   "cell_type": "code",
   "execution_count": 15,
   "id": "8d1e0e74",
   "metadata": {},
   "outputs": [
    {
     "data": {
      "text/html": [
       "<div>\n",
       "<style scoped>\n",
       "    .dataframe tbody tr th:only-of-type {\n",
       "        vertical-align: middle;\n",
       "    }\n",
       "\n",
       "    .dataframe tbody tr th {\n",
       "        vertical-align: top;\n",
       "    }\n",
       "\n",
       "    .dataframe thead th {\n",
       "        text-align: right;\n",
       "    }\n",
       "</style>\n",
       "<table border=\"1\" class=\"dataframe\">\n",
       "  <thead>\n",
       "    <tr style=\"text-align: right;\">\n",
       "      <th></th>\n",
       "      <th>User</th>\n",
       "      <th>Module</th>\n",
       "      <th>Step</th>\n",
       "      <th>Question</th>\n",
       "      <th>Answer_length</th>\n",
       "    </tr>\n",
       "    <tr>\n",
       "      <th>Answer</th>\n",
       "      <th></th>\n",
       "      <th></th>\n",
       "      <th></th>\n",
       "      <th></th>\n",
       "      <th></th>\n",
       "    </tr>\n",
       "  </thead>\n",
       "  <tbody>\n",
       "    <tr>\n",
       "      <th>\"Agenda, Engage, Assess\"</th>\n",
       "      <td>1</td>\n",
       "      <td>1</td>\n",
       "      <td>1</td>\n",
       "      <td>1</td>\n",
       "      <td>1</td>\n",
       "    </tr>\n",
       "    <tr>\n",
       "      <th>\"Re-frame your mind\"</th>\n",
       "      <td>1</td>\n",
       "      <td>1</td>\n",
       "      <td>1</td>\n",
       "      <td>1</td>\n",
       "      <td>1</td>\n",
       "    </tr>\n",
       "    <tr>\n",
       "      <th>\"We are family\"</th>\n",
       "      <td>1</td>\n",
       "      <td>1</td>\n",
       "      <td>1</td>\n",
       "      <td>1</td>\n",
       "      <td>1</td>\n",
       "    </tr>\n",
       "    <tr>\n",
       "      <th>A balanced scale</th>\n",
       "      <td>1</td>\n",
       "      <td>1</td>\n",
       "      <td>1</td>\n",
       "      <td>1</td>\n",
       "      <td>1</td>\n",
       "    </tr>\n",
       "    <tr>\n",
       "      <th>A daily reminder</th>\n",
       "      <td>1</td>\n",
       "      <td>1</td>\n",
       "      <td>1</td>\n",
       "      <td>1</td>\n",
       "      <td>1</td>\n",
       "    </tr>\n",
       "    <tr>\n",
       "      <th>...</th>\n",
       "      <td>...</td>\n",
       "      <td>...</td>\n",
       "      <td>...</td>\n",
       "      <td>...</td>\n",
       "      <td>...</td>\n",
       "    </tr>\n",
       "    <tr>\n",
       "      <th>relaxation and peace</th>\n",
       "      <td>1</td>\n",
       "      <td>1</td>\n",
       "      <td>1</td>\n",
       "      <td>1</td>\n",
       "      <td>1</td>\n",
       "    </tr>\n",
       "    <tr>\n",
       "      <th>settled and calm</th>\n",
       "      <td>1</td>\n",
       "      <td>1</td>\n",
       "      <td>1</td>\n",
       "      <td>1</td>\n",
       "      <td>1</td>\n",
       "    </tr>\n",
       "    <tr>\n",
       "      <th>shortness of breath</th>\n",
       "      <td>1</td>\n",
       "      <td>1</td>\n",
       "      <td>1</td>\n",
       "      <td>1</td>\n",
       "      <td>1</td>\n",
       "    </tr>\n",
       "    <tr>\n",
       "      <th>take a breath</th>\n",
       "      <td>1</td>\n",
       "      <td>1</td>\n",
       "      <td>1</td>\n",
       "      <td>1</td>\n",
       "      <td>1</td>\n",
       "    </tr>\n",
       "    <tr>\n",
       "      <th>throat and chest</th>\n",
       "      <td>1</td>\n",
       "      <td>1</td>\n",
       "      <td>1</td>\n",
       "      <td>1</td>\n",
       "      <td>1</td>\n",
       "    </tr>\n",
       "  </tbody>\n",
       "</table>\n",
       "<p>147 rows × 5 columns</p>\n",
       "</div>"
      ],
      "text/plain": [
       "                          User  Module  Step  Question  Answer_length\n",
       "Answer                                                               \n",
       "\"Agenda, Engage, Assess\"     1       1     1         1              1\n",
       "\"Re-frame your mind\"         1       1     1         1              1\n",
       "\"We are family\"              1       1     1         1              1\n",
       "A balanced scale             1       1     1         1              1\n",
       "A daily reminder             1       1     1         1              1\n",
       "...                        ...     ...   ...       ...            ...\n",
       "relaxation and peace         1       1     1         1              1\n",
       "settled and calm             1       1     1         1              1\n",
       "shortness of breath          1       1     1         1              1\n",
       "take a breath                1       1     1         1              1\n",
       "throat and chest             1       1     1         1              1\n",
       "\n",
       "[147 rows x 5 columns]"
      ]
     },
     "execution_count": 15,
     "metadata": {},
     "output_type": "execute_result"
    }
   ],
   "source": [
    "data[data['Answer_length'] == 3].groupby('Answer').count()"
   ]
  },
  {
   "cell_type": "code",
   "execution_count": 16,
   "id": "a49fc142",
   "metadata": {},
   "outputs": [
    {
     "data": {
      "text/plain": [
       "array(['Freedom', 'Calming', 'Integrity', 'Signposts', 'Courage',\n",
       "       'Equity', 'crates', 'Mantra', 'Happiness', 'People', 'Family',\n",
       "       'good.', 'calming', 'Triangle', 'Relaxing', 'Mantra..', 'Loyalty',\n",
       "       'trust', 'cool', 'Progress.', 'Balance', 'Calm', 'mantra',\n",
       "       'refreshing!', 'connection', 'Exercise', 'curious', 'Grounding',\n",
       "       'Hugs', 'Generosity', 'Compassion', 'Curiosity', 'Authenticity',\n",
       "       'Excellence', 'good', 'authenticity', 'curiosity', 'Fitness',\n",
       "       'Well-being', 'x', 'Relazing.', 'Patience', '-', 'Evolution.',\n",
       "       'freedom', 'realness', 'relaxing', 'travel', 'integrity',\n",
       "       'Responsibility', 'Contentment', 'centring', 'leadership',\n",
       "       'Knowledge', 'Books', 'Respect', 'Soothing.', 'euphoric',\n",
       "       'Stressful!', 'Fantastic!', 'Lethargic', 'Sad', 'Buzzing', 'Good',\n",
       "       'Darkness', 'Tension', 'Frustrating', 'Energising', 'unpleasant',\n",
       "       'wonderful', 'Sure', 'Peaceful', 'exhausting', 'discovery', 'calm',\n",
       "       'Darkness/Fog', 'Energizing', 'great', 'Sadness.', 'Goodness',\n",
       "       'Uncomfortable!', 'beauty', 'negatively', 'positively', 'darkness',\n",
       "       'strength', 'neutral', 'anxiety', 'Deflating', 'Sunshine',\n",
       "       'answered', 'Unhappiness.', 'Sunshine.', 'Energizing.',\n",
       "       'Frustrating.', 'Positive.', 'none', 'Nothing', 'Insecurity',\n",
       "       'Stress', 'Stressful', 'Positive', 'Happy', 'Joyous', 'Tense',\n",
       "       'Calming.', 'Joy', 'awareness', 'angry', 'Panic', 'Affirmations.',\n",
       "       'lryic', 'swear', 'throughout', 'panic', 'Empowering.',\n",
       "       'Idealism.', 'done', 'Disappointment', 'Acceptance', 'Breathe',\n",
       "       'Frustration', 'LP', 'Frustration!', 'positive', 'chest', '?',\n",
       "       'bugger', 'uplifting', 'lyric', 'Health', 'Imposter', 'Empowering',\n",
       "       'test', 'Comforting', 'motivating', 'Liberating.', 'Procrastinate',\n",
       "       'Reassuring.', '10', '8', '9', 'Daunting', 'A-C-T-I-O-N',\n",
       "       'Relatable.', 'Scoff.', '7', 'liberating', 'algebra'], dtype=object)"
      ]
     },
     "execution_count": 16,
     "metadata": {},
     "output_type": "execute_result"
    }
   ],
   "source": [
    "data[data['Answer_length'] < 2].Answer.unique()"
   ]
  },
  {
   "cell_type": "markdown",
   "id": "32161aed",
   "metadata": {},
   "source": [
    "# Exploring the data"
   ]
  },
  {
   "cell_type": "markdown",
   "id": "f30d601b",
   "metadata": {},
   "source": [
    "To explore data fro each participant, we created a function to extract information per user."
   ]
  },
  {
   "cell_type": "code",
   "execution_count": 17,
   "id": "2e3afe3b",
   "metadata": {},
   "outputs": [],
   "source": [
    "def user_answered_questions(users_name):\n",
    "    user_answered_questions = data.loc[data['User'] ==  users_name]\n",
    "    user_answered_questions = user_answered_questions.reset_index()\n",
    "    return user_answered_questions"
   ]
  },
  {
   "cell_type": "markdown",
   "id": "1f5f0add",
   "metadata": {},
   "source": [
    "## exploring first participant"
   ]
  },
  {
   "cell_type": "code",
   "execution_count": 18,
   "id": "9b58da9d",
   "metadata": {},
   "outputs": [
    {
     "name": "stdout",
     "output_type": "stream",
     "text": [
      "Number of missing values for first participant:\n"
     ]
    },
    {
     "data": {
      "text/plain": [
       "index            0\n",
       "User             0\n",
       "Module           0\n",
       "Step             0\n",
       "Question         0\n",
       "Answer           0\n",
       "Answer_length    0\n",
       "dtype: int64"
      ]
     },
     "metadata": {},
     "output_type": "display_data"
    },
    {
     "data": {
      "text/html": [
       "<div>\n",
       "<style scoped>\n",
       "    .dataframe tbody tr th:only-of-type {\n",
       "        vertical-align: middle;\n",
       "    }\n",
       "\n",
       "    .dataframe tbody tr th {\n",
       "        vertical-align: top;\n",
       "    }\n",
       "\n",
       "    .dataframe thead th {\n",
       "        text-align: right;\n",
       "    }\n",
       "</style>\n",
       "<table border=\"1\" class=\"dataframe\">\n",
       "  <thead>\n",
       "    <tr style=\"text-align: right;\">\n",
       "      <th></th>\n",
       "      <th>index</th>\n",
       "      <th>User</th>\n",
       "      <th>Module</th>\n",
       "      <th>Step</th>\n",
       "      <th>Question</th>\n",
       "      <th>Answer</th>\n",
       "      <th>Answer_length</th>\n",
       "    </tr>\n",
       "  </thead>\n",
       "  <tbody>\n",
       "    <tr>\n",
       "      <th>0</th>\n",
       "      <td>0</td>\n",
       "      <td>MP - Female 36 UK</td>\n",
       "      <td>Module_1</td>\n",
       "      <td>Step_1</td>\n",
       "      <td>What are you excited about as you begin your L...</td>\n",
       "      <td>Self development, learning new things about my...</td>\n",
       "      <td>16</td>\n",
       "    </tr>\n",
       "    <tr>\n",
       "      <th>1</th>\n",
       "      <td>1</td>\n",
       "      <td>MP - Female 36 UK</td>\n",
       "      <td>Module_1</td>\n",
       "      <td>Step_2</td>\n",
       "      <td>In what ways do you feel you are currently sho...</td>\n",
       "      <td>Sociable and confidently interact with others,...</td>\n",
       "      <td>29</td>\n",
       "    </tr>\n",
       "    <tr>\n",
       "      <th>2</th>\n",
       "      <td>2</td>\n",
       "      <td>MP - Female 36 UK</td>\n",
       "      <td>Module_1</td>\n",
       "      <td>Step_2</td>\n",
       "      <td>In what ways would you like to be showing up d...</td>\n",
       "      <td>More relaxed</td>\n",
       "      <td>2</td>\n",
       "    </tr>\n",
       "    <tr>\n",
       "      <th>3</th>\n",
       "      <td>3</td>\n",
       "      <td>MP - Female 36 UK</td>\n",
       "      <td>Module_1</td>\n",
       "      <td>Step_2</td>\n",
       "      <td>Why is this important to you?</td>\n",
       "      <td>Just be confident in my skills and that I'll b...</td>\n",
       "      <td>20</td>\n",
       "    </tr>\n",
       "    <tr>\n",
       "      <th>4</th>\n",
       "      <td>4</td>\n",
       "      <td>MP - Female 36 UK</td>\n",
       "      <td>Module_1</td>\n",
       "      <td>Step_2</td>\n",
       "      <td>What’s one small action you can take right now...</td>\n",
       "      <td>If worry creeps in, take a step back, thinking...</td>\n",
       "      <td>10</td>\n",
       "    </tr>\n",
       "  </tbody>\n",
       "</table>\n",
       "</div>"
      ],
      "text/plain": [
       "   index               User    Module    Step  \\\n",
       "0      0  MP - Female 36 UK  Module_1  Step_1   \n",
       "1      1  MP - Female 36 UK  Module_1  Step_2   \n",
       "2      2  MP - Female 36 UK  Module_1  Step_2   \n",
       "3      3  MP - Female 36 UK  Module_1  Step_2   \n",
       "4      4  MP - Female 36 UK  Module_1  Step_2   \n",
       "\n",
       "                                            Question  \\\n",
       "0  What are you excited about as you begin your L...   \n",
       "1  In what ways do you feel you are currently sho...   \n",
       "2  In what ways would you like to be showing up d...   \n",
       "3                      Why is this important to you?   \n",
       "4  What’s one small action you can take right now...   \n",
       "\n",
       "                                              Answer  Answer_length  \n",
       "0  Self development, learning new things about my...             16  \n",
       "1  Sociable and confidently interact with others,...             29  \n",
       "2                                       More relaxed              2  \n",
       "3  Just be confident in my skills and that I'll b...             20  \n",
       "4  If worry creeps in, take a step back, thinking...             10  "
      ]
     },
     "metadata": {},
     "output_type": "display_data"
    },
    {
     "name": "stdout",
     "output_type": "stream",
     "text": [
      "Shape of data for first participant: (68, 8)\n"
     ]
    }
   ],
   "source": [
    "# The answers of the \"first\" person\n",
    "first_person = user_answered_questions('MP - Female 36 UK')\n",
    "print(f'Number of missing values for first participant:')\n",
    "display(first_person.isnull().sum())\n",
    "display(first_person.head())\n",
    "first_person=first_person.reset_index()\n",
    "print(f'Shape of data for first participant: {first_person.shape}')"
   ]
  },
  {
   "cell_type": "markdown",
   "id": "ec1a8688",
   "metadata": {},
   "source": [
    "68 answers, from the given information about the data is should be 56 questions... So let's have a look ate the questions and examine if there are some weird ones...?"
   ]
  },
  {
   "cell_type": "code",
   "execution_count": 19,
   "id": "798bfc59",
   "metadata": {},
   "outputs": [
    {
     "name": "stdout",
     "output_type": "stream",
     "text": [
      "Printing all questions to see if there arent some weird ones\n",
      "What are you excited about as you begin your Leadership-Program experience?\n",
      "In what ways do you feel you are currently showing up as a leader in your everyday life?\n",
      "In what ways would you like to be showing up differently as a leader in your everyday life?\n",
      "Why is this important to you?\n",
      "What’s one small action you can take right now to move towards this?\n",
      "How do you want to remember this?\n",
      "What was that experience like for you?\n",
      "What are you noticing about conscious breathing?\n",
      "What has to be part of the way you live your life for you to be who you are?\n",
      "Identify one of your top values, and let us know why this value is important to you\n",
      "When you think of this value, what image or visual comes to mind?\n",
      "Identify another top value of yours, and let us know why this value is important to you\n",
      "When you think of this value, what sound, song or music comes to mind?\n",
      "Identify another top value of yours, and let us know why this value is important to you\n",
      "When you think of this value, what comes to mind?\n",
      "Reflecting on the video that you’ve just watched, what are your key takeaways?\n",
      "What are you still wondering about Above and Below the line?\n",
      "What image or visual comes to mind when you think of Below the line energy?\n",
      "How is this energy showing up in your body?\n",
      "What does it feel like to be in this place?\n",
      "What image or visual comes to mind when you think of this Above the line energy?\n",
      "How is this energy showing up in your body?\n",
      "What does it feel like to be in this place?\n",
      "What are you learning about the experiences of being Above and Below the line?\n",
      "How can you apply this learning to your everyday life?\n",
      "What are you taking away from this Above/Below the line experience?\n",
      "What was that like for you?\n",
      "Since being introduced to the idea of your inner narrators, what are you noticing?\n",
      "What are the facts of this situation? What do you know for certain? For example, you sent an email or message\n",
      "What is the story that your Saboteur(s) is telling you about this situation?\n",
      "What are you noticing? For example, what energy is showing up in your body as you recount this story? What is the impact of this on you?\n",
      "What are you learning about the power of conscious breathing?\n",
      "What is it like for you when you are living in alignment with your Values?\n",
      "What is the impact this has on those around you?\n",
      "What supports you with living in alignment to your Values in your everyday life?\n",
      "How do you want to bring this insight into your life?\n",
      "What’s going to help you remember this?\n",
      "What is your first reaction to this situation?\n",
      "Notice the energy and emotion of that reaction. Where does this energy live in your body?\n",
      "What is a different way you could respond to the same situation?\n",
      "What are you noticing about the power of Conscious Choice?\n",
      "What’s important to you about this?\n",
      "What is one small thing you can do to bring this insight and learning into your life?\n",
      "We love attaching a metaphor, saying, action, mantra or lyric to help us remember. How do you want to remember this?\n",
      "What is the story you are telling yourself about this situation?\n",
      "What changes when you invite curiosity and “I wonder…” to the story?\n",
      "What else is there to discover when you invite curiosity and “I wonder…” to the story?\n",
      "Consider a relationship in your life that would benefit from an injection of curiosity. We are wondering… how can you bring more curiosity into this relationship?\n",
      "Reflecting on what you’ve observed so far, what is one of the most persuasive things/story your Saboteurs say to you about yourself?\n",
      "What is the impact of this on your life?\n",
      "Now it’s time to rewrite this story. How does it change when you look at yourself from an Above The Line perspective? What do you see now?  What is different from this place? Please write it out\n",
      "What is possible for you if you go into the world from this perspective?\n",
      "What was this experience like for you?\n",
      "What are you learning about the power of reframing?\n",
      "What is one small action you can take right now to honor this insight?\n",
      "We love attaching a metaphor, saying, action, mantra or lyric to help us remember. How do you want to remember this?\n",
      "What does gratitude mean to you?\n",
      "What is one thing you are grateful for in this moment?\n",
      "What is one thing you can do today to bring this feeling of gratitude into your life?\n",
      "How would you rate your level of self-awareness now?\n",
      "Reflecting on your Leadership-Program experience from here, what have you noticed or are becoming more aware of?\n",
      "Based on these insights, how are you leading differently?\n",
      "What is the impact of this?\n",
      "What is it like for you to acknowledge this?\n",
      "To continue the progress you’ve made so far, what’s one thing you want to do more of?\n",
      "In order to make space for what you want to do more of, what’s one thing you want to do less of?\n",
      "What will you do to remember this?\n",
      "For completion, what is one thing that you’d like to share with the LP Community?\n"
     ]
    }
   ],
   "source": [
    "print(f'Printing all questions to see if there arent some weird ones')\n",
    "for i in range(68):\n",
    "    print(first_person['Question'][i])"
   ]
  },
  {
   "cell_type": "code",
   "execution_count": 20,
   "id": "90fa18dc",
   "metadata": {},
   "outputs": [
    {
     "name": "stdout",
     "output_type": "stream",
     "text": [
      "Plotting length for each anwser\n"
     ]
    },
    {
     "data": {
      "image/png": "[encoded data removed]",
      "text/plain": [
       "<Figure size 432x288 with 1 Axes>"
      ]
     },
     "metadata": {
      "needs_background": "light"
     },
     "output_type": "display_data"
    }
   ],
   "source": [
    "print(f'Plotting length for each anwser')\n",
    "plt.plot(first_person['Answer_length']);"
   ]
  },
  {
   "cell_type": "markdown",
   "id": "13c8ba48",
   "metadata": {},
   "source": [
    "## exploring second participant"
   ]
  },
  {
   "cell_type": "code",
   "execution_count": 21,
   "id": "f24356fe",
   "metadata": {
    "scrolled": true
   },
   "outputs": [
    {
     "name": "stdout",
     "output_type": "stream",
     "text": [
      "Number of missing values for first participant:\n"
     ]
    },
    {
     "data": {
      "text/plain": [
       "(15, 7)"
      ]
     },
     "metadata": {},
     "output_type": "display_data"
    },
    {
     "data": {
      "text/plain": [
       "index            0\n",
       "User             0\n",
       "Module           0\n",
       "Step             0\n",
       "Question         0\n",
       "Answer           0\n",
       "Answer_length    0\n",
       "dtype: int64"
      ]
     },
     "metadata": {},
     "output_type": "display_data"
    },
    {
     "name": "stdout",
     "output_type": "stream",
     "text": [
      "Number of anwsers: (15, 7)\n",
      "Plotting length for each anwser\n"
     ]
    },
    {
     "data": {
      "image/png": "[encoded data removed]",
      "text/plain": [
       "<Figure size 432x288 with 1 Axes>"
      ]
     },
     "metadata": {
      "needs_background": "light"
     },
     "output_type": "display_data"
    }
   ],
   "source": [
    "second_person = user_answered_questions('KB - Female (30s) CAN')\n",
    "print(f'Number of missing values for first participant:')\n",
    "display(second_person.shape)\n",
    "display(second_person.isnull().sum())\n",
    "print(f'Number of anwsers: {second_person.shape}')\n",
    "# The lenght of the answers of the second person as a function of curse duration\n",
    "second_person = second_person.reset_index()\n",
    "print(f'Plotting length for each anwser')\n",
    "plt.plot(second_person['Answer_length']);"
   ]
  },
  {
   "cell_type": "markdown",
   "id": "9d105b0f",
   "metadata": {},
   "source": [
    "## checking for pattern in lenght of answers"
   ]
  },
  {
   "cell_type": "markdown",
   "id": "7216e678",
   "metadata": {},
   "source": [
    "Let's check if there is a clear pattern for length of answers."
   ]
  },
  {
   "cell_type": "code",
   "execution_count": 22,
   "id": "19f27b5b",
   "metadata": {
    "scrolled": true
   },
   "outputs": [
    {
     "data": {
      "image/png": "[encoded data removed]",
      "text/plain": [
       "<Figure size 1080x576 with 1 Axes>"
      ]
     },
     "metadata": {
      "needs_background": "light"
     },
     "output_type": "display_data"
    }
   ],
   "source": [
    "# List of all the participants\n",
    "users_list = data.User.unique()\n",
    "\n",
    "plt.figure(figsize=(15,8))\n",
    "for i in users_list:\n",
    "    plt.plot(user_answered_questions(i)['Answer_length'])"
   ]
  },
  {
   "cell_type": "markdown",
   "id": "ced7157c",
   "metadata": {},
   "source": [
    "No clear pattern visible :) "
   ]
  },
  {
   "cell_type": "markdown",
   "id": "7d5b8547",
   "metadata": {},
   "source": [
    "# Exploring only the first module"
   ]
  },
  {
   "cell_type": "markdown",
   "id": "70e31160",
   "metadata": {},
   "source": [
    "## Running the first sentiment analysis on uncleaned data"
   ]
  },
  {
   "cell_type": "code",
   "execution_count": 23,
   "id": "fbeb732b",
   "metadata": {},
   "outputs": [
    {
     "data": {
      "text/html": [
       "<div>\n",
       "<style scoped>\n",
       "    .dataframe tbody tr th:only-of-type {\n",
       "        vertical-align: middle;\n",
       "    }\n",
       "\n",
       "    .dataframe tbody tr th {\n",
       "        vertical-align: top;\n",
       "    }\n",
       "\n",
       "    .dataframe thead th {\n",
       "        text-align: right;\n",
       "    }\n",
       "</style>\n",
       "<table border=\"1\" class=\"dataframe\">\n",
       "  <thead>\n",
       "    <tr style=\"text-align: right;\">\n",
       "      <th></th>\n",
       "      <th>User</th>\n",
       "      <th>Module</th>\n",
       "      <th>Step</th>\n",
       "      <th>Question</th>\n",
       "      <th>Answer</th>\n",
       "      <th>Answer_length</th>\n",
       "    </tr>\n",
       "  </thead>\n",
       "  <tbody>\n",
       "    <tr>\n",
       "      <th>0</th>\n",
       "      <td>MP - Female 36 UK</td>\n",
       "      <td>Module_1</td>\n",
       "      <td>Step_1</td>\n",
       "      <td>What are you excited about as you begin your L...</td>\n",
       "      <td>Self development, learning new things about my...</td>\n",
       "      <td>16</td>\n",
       "    </tr>\n",
       "    <tr>\n",
       "      <th>1</th>\n",
       "      <td>MP - Female 36 UK</td>\n",
       "      <td>Module_1</td>\n",
       "      <td>Step_2</td>\n",
       "      <td>In what ways do you feel you are currently sho...</td>\n",
       "      <td>Sociable and confidently interact with others,...</td>\n",
       "      <td>29</td>\n",
       "    </tr>\n",
       "    <tr>\n",
       "      <th>2</th>\n",
       "      <td>MP - Female 36 UK</td>\n",
       "      <td>Module_1</td>\n",
       "      <td>Step_2</td>\n",
       "      <td>In what ways would you like to be showing up d...</td>\n",
       "      <td>More relaxed</td>\n",
       "      <td>2</td>\n",
       "    </tr>\n",
       "    <tr>\n",
       "      <th>3</th>\n",
       "      <td>MP - Female 36 UK</td>\n",
       "      <td>Module_1</td>\n",
       "      <td>Step_2</td>\n",
       "      <td>Why is this important to you?</td>\n",
       "      <td>Just be confident in my skills and that I'll b...</td>\n",
       "      <td>20</td>\n",
       "    </tr>\n",
       "    <tr>\n",
       "      <th>4</th>\n",
       "      <td>MP - Female 36 UK</td>\n",
       "      <td>Module_1</td>\n",
       "      <td>Step_2</td>\n",
       "      <td>What’s one small action you can take right now...</td>\n",
       "      <td>If worry creeps in, take a step back, thinking...</td>\n",
       "      <td>10</td>\n",
       "    </tr>\n",
       "    <tr>\n",
       "      <th>5</th>\n",
       "      <td>MP - Female 36 UK</td>\n",
       "      <td>Module_1</td>\n",
       "      <td>Step_2</td>\n",
       "      <td>How do you want to remember this?</td>\n",
       "      <td>Worrying is the thief of joy</td>\n",
       "      <td>6</td>\n",
       "    </tr>\n",
       "    <tr>\n",
       "      <th>6</th>\n",
       "      <td>MP - Female 36 UK</td>\n",
       "      <td>Module_1</td>\n",
       "      <td>Step_3</td>\n",
       "      <td>What was that experience like for you?</td>\n",
       "      <td>I enjoyed it, I find I don't switch off muxh</td>\n",
       "      <td>10</td>\n",
       "    </tr>\n",
       "    <tr>\n",
       "      <th>7</th>\n",
       "      <td>MP - Female 36 UK</td>\n",
       "      <td>Module_1</td>\n",
       "      <td>Step_3</td>\n",
       "      <td>What are you noticing about conscious breathing?</td>\n",
       "      <td>Really helps to relax</td>\n",
       "      <td>4</td>\n",
       "    </tr>\n",
       "    <tr>\n",
       "      <th>8</th>\n",
       "      <td>MP - Female 36 UK</td>\n",
       "      <td>Module_1</td>\n",
       "      <td>Step_4</td>\n",
       "      <td>What has to be part of the way you live your l...</td>\n",
       "      <td>Freedom</td>\n",
       "      <td>1</td>\n",
       "    </tr>\n",
       "    <tr>\n",
       "      <th>9</th>\n",
       "      <td>MP - Female 36 UK</td>\n",
       "      <td>Module_1</td>\n",
       "      <td>Step_4</td>\n",
       "      <td>Identify one of your top values, and let us kn...</td>\n",
       "      <td>Adaptability, I think it encompasses lots of t...</td>\n",
       "      <td>39</td>\n",
       "    </tr>\n",
       "  </tbody>\n",
       "</table>\n",
       "</div>"
      ],
      "text/plain": [
       "                User    Module    Step  \\\n",
       "0  MP - Female 36 UK  Module_1  Step_1   \n",
       "1  MP - Female 36 UK  Module_1  Step_2   \n",
       "2  MP - Female 36 UK  Module_1  Step_2   \n",
       "3  MP - Female 36 UK  Module_1  Step_2   \n",
       "4  MP - Female 36 UK  Module_1  Step_2   \n",
       "5  MP - Female 36 UK  Module_1  Step_2   \n",
       "6  MP - Female 36 UK  Module_1  Step_3   \n",
       "7  MP - Female 36 UK  Module_1  Step_3   \n",
       "8  MP - Female 36 UK  Module_1  Step_4   \n",
       "9  MP - Female 36 UK  Module_1  Step_4   \n",
       "\n",
       "                                            Question  \\\n",
       "0  What are you excited about as you begin your L...   \n",
       "1  In what ways do you feel you are currently sho...   \n",
       "2  In what ways would you like to be showing up d...   \n",
       "3                      Why is this important to you?   \n",
       "4  What’s one small action you can take right now...   \n",
       "5                  How do you want to remember this?   \n",
       "6             What was that experience like for you?   \n",
       "7   What are you noticing about conscious breathing?   \n",
       "8  What has to be part of the way you live your l...   \n",
       "9  Identify one of your top values, and let us kn...   \n",
       "\n",
       "                                              Answer  Answer_length  \n",
       "0  Self development, learning new things about my...             16  \n",
       "1  Sociable and confidently interact with others,...             29  \n",
       "2                                       More relaxed              2  \n",
       "3  Just be confident in my skills and that I'll b...             20  \n",
       "4  If worry creeps in, take a step back, thinking...             10  \n",
       "5                       Worrying is the thief of joy              6  \n",
       "6       I enjoyed it, I find I don't switch off muxh             10  \n",
       "7                              Really helps to relax              4  \n",
       "8                                            Freedom              1  \n",
       "9  Adaptability, I think it encompasses lots of t...             39  "
      ]
     },
     "execution_count": 23,
     "metadata": {},
     "output_type": "execute_result"
    }
   ],
   "source": [
    "data.head(10)"
   ]
  },
  {
   "cell_type": "code",
   "execution_count": 24,
   "id": "a28bcf4e",
   "metadata": {},
   "outputs": [],
   "source": [
    "# Filtering the dataset only for the first Module\n",
    "data_Module_1 = data[data.Module=='Module_1']"
   ]
  },
  {
   "cell_type": "code",
   "execution_count": 25,
   "id": "6e60e613",
   "metadata": {},
   "outputs": [
    {
     "data": {
      "text/plain": [
       "68"
      ]
     },
     "execution_count": 25,
     "metadata": {},
     "output_type": "execute_result"
    }
   ],
   "source": [
    "# Number of the participants out of 70 who answered in the first module \n",
    "data_Module_1.User.nunique()"
   ]
  },
  {
   "cell_type": "code",
   "execution_count": 26,
   "id": "15baed68",
   "metadata": {},
   "outputs": [],
   "source": [
    "users_list_first_module = data_Module_1.User.unique()"
   ]
  },
  {
   "cell_type": "code",
   "execution_count": 27,
   "id": "57188c95",
   "metadata": {},
   "outputs": [
    {
     "data": {
      "text/plain": [
       "68"
      ]
     },
     "execution_count": 27,
     "metadata": {},
     "output_type": "execute_result"
    }
   ],
   "source": [
    "len(users_list_first_module)"
   ]
  },
  {
   "cell_type": "code",
   "execution_count": 28,
   "id": "aaa098b2",
   "metadata": {},
   "outputs": [],
   "source": [
    "first_person_all_module = user_answered_questions('MP - Female 36 UK')"
   ]
  },
  {
   "cell_type": "code",
   "execution_count": 29,
   "id": "564bda8d",
   "metadata": {},
   "outputs": [],
   "source": [
    "first_person_first_module = first_person_all_module[first_person_all_module.Module=='Module_1']"
   ]
  },
  {
   "cell_type": "code",
   "execution_count": 30,
   "id": "b8b99986",
   "metadata": {},
   "outputs": [
    {
     "data": {
      "text/html": [
       "<div>\n",
       "<style scoped>\n",
       "    .dataframe tbody tr th:only-of-type {\n",
       "        vertical-align: middle;\n",
       "    }\n",
       "\n",
       "    .dataframe tbody tr th {\n",
       "        vertical-align: top;\n",
       "    }\n",
       "\n",
       "    .dataframe thead th {\n",
       "        text-align: right;\n",
       "    }\n",
       "</style>\n",
       "<table border=\"1\" class=\"dataframe\">\n",
       "  <thead>\n",
       "    <tr style=\"text-align: right;\">\n",
       "      <th></th>\n",
       "      <th>index</th>\n",
       "      <th>User</th>\n",
       "      <th>Module</th>\n",
       "      <th>Step</th>\n",
       "      <th>Question</th>\n",
       "      <th>Answer</th>\n",
       "      <th>Answer_length</th>\n",
       "    </tr>\n",
       "  </thead>\n",
       "  <tbody>\n",
       "    <tr>\n",
       "      <th>0</th>\n",
       "      <td>0</td>\n",
       "      <td>MP - Female 36 UK</td>\n",
       "      <td>Module_1</td>\n",
       "      <td>Step_1</td>\n",
       "      <td>What are you excited about as you begin your L...</td>\n",
       "      <td>Self development, learning new things about my...</td>\n",
       "      <td>16</td>\n",
       "    </tr>\n",
       "    <tr>\n",
       "      <th>1</th>\n",
       "      <td>1</td>\n",
       "      <td>MP - Female 36 UK</td>\n",
       "      <td>Module_1</td>\n",
       "      <td>Step_2</td>\n",
       "      <td>In what ways do you feel you are currently sho...</td>\n",
       "      <td>Sociable and confidently interact with others,...</td>\n",
       "      <td>29</td>\n",
       "    </tr>\n",
       "    <tr>\n",
       "      <th>2</th>\n",
       "      <td>2</td>\n",
       "      <td>MP - Female 36 UK</td>\n",
       "      <td>Module_1</td>\n",
       "      <td>Step_2</td>\n",
       "      <td>In what ways would you like to be showing up d...</td>\n",
       "      <td>More relaxed</td>\n",
       "      <td>2</td>\n",
       "    </tr>\n",
       "    <tr>\n",
       "      <th>3</th>\n",
       "      <td>3</td>\n",
       "      <td>MP - Female 36 UK</td>\n",
       "      <td>Module_1</td>\n",
       "      <td>Step_2</td>\n",
       "      <td>Why is this important to you?</td>\n",
       "      <td>Just be confident in my skills and that I'll b...</td>\n",
       "      <td>20</td>\n",
       "    </tr>\n",
       "    <tr>\n",
       "      <th>4</th>\n",
       "      <td>4</td>\n",
       "      <td>MP - Female 36 UK</td>\n",
       "      <td>Module_1</td>\n",
       "      <td>Step_2</td>\n",
       "      <td>What’s one small action you can take right now...</td>\n",
       "      <td>If worry creeps in, take a step back, thinking...</td>\n",
       "      <td>10</td>\n",
       "    </tr>\n",
       "    <tr>\n",
       "      <th>5</th>\n",
       "      <td>5</td>\n",
       "      <td>MP - Female 36 UK</td>\n",
       "      <td>Module_1</td>\n",
       "      <td>Step_2</td>\n",
       "      <td>How do you want to remember this?</td>\n",
       "      <td>Worrying is the thief of joy</td>\n",
       "      <td>6</td>\n",
       "    </tr>\n",
       "    <tr>\n",
       "      <th>6</th>\n",
       "      <td>6</td>\n",
       "      <td>MP - Female 36 UK</td>\n",
       "      <td>Module_1</td>\n",
       "      <td>Step_3</td>\n",
       "      <td>What was that experience like for you?</td>\n",
       "      <td>I enjoyed it, I find I don't switch off muxh</td>\n",
       "      <td>10</td>\n",
       "    </tr>\n",
       "    <tr>\n",
       "      <th>7</th>\n",
       "      <td>7</td>\n",
       "      <td>MP - Female 36 UK</td>\n",
       "      <td>Module_1</td>\n",
       "      <td>Step_3</td>\n",
       "      <td>What are you noticing about conscious breathing?</td>\n",
       "      <td>Really helps to relax</td>\n",
       "      <td>4</td>\n",
       "    </tr>\n",
       "    <tr>\n",
       "      <th>8</th>\n",
       "      <td>8</td>\n",
       "      <td>MP - Female 36 UK</td>\n",
       "      <td>Module_1</td>\n",
       "      <td>Step_4</td>\n",
       "      <td>What has to be part of the way you live your l...</td>\n",
       "      <td>Freedom</td>\n",
       "      <td>1</td>\n",
       "    </tr>\n",
       "    <tr>\n",
       "      <th>9</th>\n",
       "      <td>9</td>\n",
       "      <td>MP - Female 36 UK</td>\n",
       "      <td>Module_1</td>\n",
       "      <td>Step_4</td>\n",
       "      <td>Identify one of your top values, and let us kn...</td>\n",
       "      <td>Adaptability, I think it encompasses lots of t...</td>\n",
       "      <td>39</td>\n",
       "    </tr>\n",
       "    <tr>\n",
       "      <th>10</th>\n",
       "      <td>10</td>\n",
       "      <td>MP - Female 36 UK</td>\n",
       "      <td>Module_1</td>\n",
       "      <td>Step_4</td>\n",
       "      <td>When you think of this value, what image or vi...</td>\n",
       "      <td>Confidence, being at peace in a multitude of e...</td>\n",
       "      <td>18</td>\n",
       "    </tr>\n",
       "    <tr>\n",
       "      <th>11</th>\n",
       "      <td>11</td>\n",
       "      <td>MP - Female 36 UK</td>\n",
       "      <td>Module_1</td>\n",
       "      <td>Step_4</td>\n",
       "      <td>Identify another top value of yours, and let u...</td>\n",
       "      <td>Accountability, taking ownership of choices, n...</td>\n",
       "      <td>14</td>\n",
       "    </tr>\n",
       "    <tr>\n",
       "      <th>12</th>\n",
       "      <td>12</td>\n",
       "      <td>MP - Female 36 UK</td>\n",
       "      <td>Module_1</td>\n",
       "      <td>Step_4</td>\n",
       "      <td>When you think of this value, what sound, song...</td>\n",
       "      <td>Nothing springs to mind, now trying to think o...</td>\n",
       "      <td>14</td>\n",
       "    </tr>\n",
       "    <tr>\n",
       "      <th>13</th>\n",
       "      <td>13</td>\n",
       "      <td>MP - Female 36 UK</td>\n",
       "      <td>Module_1</td>\n",
       "      <td>Step_4</td>\n",
       "      <td>Identify another top value of yours, and let u...</td>\n",
       "      <td>Openness, being open to opinions, people's, ot...</td>\n",
       "      <td>17</td>\n",
       "    </tr>\n",
       "    <tr>\n",
       "      <th>14</th>\n",
       "      <td>14</td>\n",
       "      <td>MP - Female 36 UK</td>\n",
       "      <td>Module_1</td>\n",
       "      <td>Step_4</td>\n",
       "      <td>When you think of this value, what comes to mind?</td>\n",
       "      <td>Really strong life long friendships</td>\n",
       "      <td>5</td>\n",
       "    </tr>\n",
       "  </tbody>\n",
       "</table>\n",
       "</div>"
      ],
      "text/plain": [
       "    index               User    Module    Step  \\\n",
       "0       0  MP - Female 36 UK  Module_1  Step_1   \n",
       "1       1  MP - Female 36 UK  Module_1  Step_2   \n",
       "2       2  MP - Female 36 UK  Module_1  Step_2   \n",
       "3       3  MP - Female 36 UK  Module_1  Step_2   \n",
       "4       4  MP - Female 36 UK  Module_1  Step_2   \n",
       "5       5  MP - Female 36 UK  Module_1  Step_2   \n",
       "6       6  MP - Female 36 UK  Module_1  Step_3   \n",
       "7       7  MP - Female 36 UK  Module_1  Step_3   \n",
       "8       8  MP - Female 36 UK  Module_1  Step_4   \n",
       "9       9  MP - Female 36 UK  Module_1  Step_4   \n",
       "10     10  MP - Female 36 UK  Module_1  Step_4   \n",
       "11     11  MP - Female 36 UK  Module_1  Step_4   \n",
       "12     12  MP - Female 36 UK  Module_1  Step_4   \n",
       "13     13  MP - Female 36 UK  Module_1  Step_4   \n",
       "14     14  MP - Female 36 UK  Module_1  Step_4   \n",
       "\n",
       "                                             Question  \\\n",
       "0   What are you excited about as you begin your L...   \n",
       "1   In what ways do you feel you are currently sho...   \n",
       "2   In what ways would you like to be showing up d...   \n",
       "3                       Why is this important to you?   \n",
       "4   What’s one small action you can take right now...   \n",
       "5                   How do you want to remember this?   \n",
       "6              What was that experience like for you?   \n",
       "7    What are you noticing about conscious breathing?   \n",
       "8   What has to be part of the way you live your l...   \n",
       "9   Identify one of your top values, and let us kn...   \n",
       "10  When you think of this value, what image or vi...   \n",
       "11  Identify another top value of yours, and let u...   \n",
       "12  When you think of this value, what sound, song...   \n",
       "13  Identify another top value of yours, and let u...   \n",
       "14  When you think of this value, what comes to mind?   \n",
       "\n",
       "                                               Answer  Answer_length  \n",
       "0   Self development, learning new things about my...             16  \n",
       "1   Sociable and confidently interact with others,...             29  \n",
       "2                                        More relaxed              2  \n",
       "3   Just be confident in my skills and that I'll b...             20  \n",
       "4   If worry creeps in, take a step back, thinking...             10  \n",
       "5                        Worrying is the thief of joy              6  \n",
       "6        I enjoyed it, I find I don't switch off muxh             10  \n",
       "7                               Really helps to relax              4  \n",
       "8                                             Freedom              1  \n",
       "9   Adaptability, I think it encompasses lots of t...             39  \n",
       "10  Confidence, being at peace in a multitude of e...             18  \n",
       "11  Accountability, taking ownership of choices, n...             14  \n",
       "12  Nothing springs to mind, now trying to think o...             14  \n",
       "13  Openness, being open to opinions, people's, ot...             17  \n",
       "14                Really strong life long friendships              5  "
      ]
     },
     "execution_count": 30,
     "metadata": {},
     "output_type": "execute_result"
    }
   ],
   "source": [
    "first_person_first_module"
   ]
  },
  {
   "cell_type": "code",
   "execution_count": 31,
   "id": "59482678",
   "metadata": {},
   "outputs": [],
   "source": [
    "# Adding all the answer a first person gave in the first module and creating a string out of it\n",
    "all_answers_testing = \"\"\n",
    "for i in range(len(first_person_first_module)):\n",
    "    all_answers_testing = all_answers_testing + first_person_first_module.Answer[i]"
   ]
  },
  {
   "cell_type": "code",
   "execution_count": 32,
   "id": "4230a01d",
   "metadata": {},
   "outputs": [],
   "source": [
    "#all_answers_testing"
   ]
  },
  {
   "cell_type": "code",
   "execution_count": 33,
   "id": "58fa27ac",
   "metadata": {},
   "outputs": [],
   "source": [
    "# A list of all the answers of all participants in the first module\n",
    "all_user_all_answers = []\n",
    "for name in users_list_first_module:\n",
    "    \n",
    "    all_answers = \"\"\n",
    "    for i in range(len(user_answered_questions(name)[user_answered_questions(name).Module=='Module_1'])):\n",
    "        all_answers = all_answers + user_answered_questions(name)[user_answered_questions(name).Module=='Module_1'].Answer[i]\n",
    "    all_user_all_answers.append(all_answers)"
   ]
  },
  {
   "cell_type": "code",
   "execution_count": 34,
   "id": "6eaa4486",
   "metadata": {},
   "outputs": [
    {
     "data": {
      "text/plain": [
       "68"
      ]
     },
     "execution_count": 34,
     "metadata": {},
     "output_type": "execute_result"
    }
   ],
   "source": [
    "# A list of all the answers of all participants in the first module\n",
    "len(all_user_all_answers)"
   ]
  },
  {
   "cell_type": "code",
   "execution_count": 35,
   "id": "efc179e2",
   "metadata": {
    "scrolled": true
   },
   "outputs": [
    {
     "data": {
      "text/plain": [
       "\"Self development, learning new things about my way of being and how I interact with othersSociable and confidently interact with others, will organise events and meet ups with friends and new colleagues. I am pretty self sufficient and lead myself through life and decisionsMore relaxedJust be confident in my skills and that I'll be able to navigate through, rather than worry about the outcomeIf worry creeps in, take a step back, thinking positivelyWorrying is the thief of joyI enjoyed it, I find I don't switch off muxhReally helps to relaxFreedomAdaptability, I think it encompasses lots of things, adapting to others, situations, environments. It's about recognising that you're not the centre of everything jng but that you're you, your part of lots of things and you adapt to themConfidence, being at peace in a multitude of environments and groups, standing tall and being sure you belongAccountability, taking ownership of choices, not being a victim and making my own opportunitiesNothing springs to mind, now trying to think of a song that would fit!Openness, being open to opinions, people's, other ways of being, open with feelings and being all in.Really strong life long friendships\""
      ]
     },
     "execution_count": 35,
     "metadata": {},
     "output_type": "execute_result"
    }
   ],
   "source": [
    "# Dataframe of the first module of all answers of all participants\n",
    "data_answers_first_module = pd.DataFrame(all_user_all_answers, users_list_first_module, columns=['Accummulated_answers'])\n",
    "data_answers_first_module['Accummulated_answers'][0]"
   ]
  },
  {
   "cell_type": "code",
   "execution_count": 36,
   "id": "e45b034e",
   "metadata": {},
   "outputs": [],
   "source": [
    "# The text of the first person, just as a first trial\n",
    "text = data_answers_first_module.Accummulated_answers[0]"
   ]
  },
  {
   "cell_type": "code",
   "execution_count": 37,
   "id": "328a7d1f",
   "metadata": {},
   "outputs": [
    {
     "data": {
      "text/plain": [
       "Sentiment(polarity=0.23787878787878786, subjectivity=0.5842487373737373)"
      ]
     },
     "execution_count": 37,
     "metadata": {},
     "output_type": "execute_result"
    }
   ],
   "source": [
    "# Sentiment in a range of [-1;1] for the first participant:\n",
    "blob = TextBlob(text)\n",
    "sentiment = blob.sentiment\n",
    "sentiment"
   ]
  },
  {
   "cell_type": "code",
   "execution_count": 38,
   "id": "304f97d0",
   "metadata": {},
   "outputs": [],
   "source": [
    "# Sentiment for all the participants in the first module\n",
    "all_sentiment = []\n",
    "for i in range(len(data_answers_first_module)):\n",
    "    text = data_answers_first_module.Accummulated_answers[i]\n",
    "    blob = TextBlob(text)\n",
    "    sentiment = blob.sentiment.polarity\n",
    "    all_sentiment.append(sentiment)"
   ]
  },
  {
   "cell_type": "code",
   "execution_count": 39,
   "id": "4e4a39b4",
   "metadata": {
    "scrolled": false
   },
   "outputs": [
    {
     "data": {
      "text/plain": [
       "<AxesSubplot:ylabel='Count'>"
      ]
     },
     "execution_count": 39,
     "metadata": {},
     "output_type": "execute_result"
    },
    {
     "data": {
      "image/png": "[encoded data removed]",
      "text/plain": [
       "<Figure size 432x288 with 1 Axes>"
      ]
     },
     "metadata": {
      "needs_background": "light"
     },
     "output_type": "display_data"
    }
   ],
   "source": [
    "# Distribution of the sentiment of the text of all the participants in the first module\n",
    "sns.histplot(all_sentiment, bins=50)"
   ]
  },
  {
   "cell_type": "markdown",
   "id": "a85e3e75",
   "metadata": {},
   "source": [
    "## Function etc"
   ]
  },
  {
   "cell_type": "code",
   "execution_count": 40,
   "id": "77c5fb6b",
   "metadata": {},
   "outputs": [],
   "source": [
    "users_list_all_q = ['DJ (30s) South Africa', 'CD Female (30s) South Africa',\n",
    "       'AV Female (40s) CAN', 'SOD Male (38) UK', 'JS Male (30s) South Africa',\n",
    "       'BM Male (30s) South Africa', 'RA Male (70s) CAN',\n",
    "       'DV Female (30s) South Africa', 'AG Female (40s) CAN',\n",
    "       'JP Female (40s) CAN']"
   ]
  },
  {
   "cell_type": "code",
   "execution_count": 78,
   "id": "f2db93af",
   "metadata": {},
   "outputs": [
    {
     "data": {
      "text/plain": [
       "10"
      ]
     },
     "execution_count": 78,
     "metadata": {},
     "output_type": "execute_result"
    }
   ],
   "source": [
    "len(users_list_all_q)"
   ]
  },
  {
   "cell_type": "code",
   "execution_count": 41,
   "id": "8839b493",
   "metadata": {},
   "outputs": [],
   "source": [
    "# Function for returning a dataframe with accumulated answers of participants (list )withing a module\n",
    "\n",
    "def accumulated_answers(user_list, module):\n",
    "    all_user_all_answers = []\n",
    "    for name in user_list:\n",
    "        all_answers = \"\"\n",
    "        for i in range(len(user_answered_questions(name)[user_answered_questions(name).Module==module])):\n",
    "            all_answers = all_answers + \" \" + user_answered_questions(name)[user_answered_questions(name).Module==module].reset_index().Answer[i]\n",
    "        all_user_all_answers.append(all_answers)\n",
    "    df = pd.DataFrame(all_user_all_answers, user_list, columns=['Accummulated_answers'])\n",
    "    df['Module_name'] = module\n",
    "    return df"
   ]
  },
  {
   "cell_type": "code",
   "execution_count": 42,
   "id": "bc1234e5",
   "metadata": {
    "scrolled": true
   },
   "outputs": [],
   "source": [
    "test1 = accumulated_answers(users_list_all_q, 'Module_1')\n",
    "test2 = accumulated_answers(users_list_all_q, 'Module_2')\n",
    "test3 = accumulated_answers(users_list_all_q, 'Module_3')\n",
    "test4 = accumulated_answers(users_list_all_q, 'Module_4')\n",
    "test5 = accumulated_answers(users_list_all_q, 'Module_5')"
   ]
  },
  {
   "cell_type": "code",
   "execution_count": 81,
   "id": "1073f969",
   "metadata": {},
   "outputs": [
    {
     "data": {
      "text/plain": [
       "' To learn some new skills and gain new insights I can employ in my day to day. I check in with my team members on a regular basis and do my best to communicate clearly and lead by example. I\\'d like to be able to motivate my team better I feel like it\\'s one thing to lead by example, be a good communicator and make sure your team knows your door is always open, but it\\'s another thing to be able to motivate and inspire your team. I do believe that having a leader that can encompass all this helps an employee\\'s overall happiness at work. To consciously try be more motivational in our weekly catch up meetings. Team Time Tuesdays Could be a useful technique to employ in stressful situations It allows you to clear your mind as you have to focus on one thing People Achievement, knowledge and teamwork A cross section of a tree Family \"We are family\" Independence, because it\\'s important to be self sufficient Someone flexing a muscle'"
      ]
     },
     "execution_count": 81,
     "metadata": {},
     "output_type": "execute_result"
    }
   ],
   "source": [
    "test1.Accummulated_answers[0]"
   ]
  },
  {
   "cell_type": "markdown",
   "id": "56f3d959",
   "metadata": {},
   "source": [
    "## Text cleaning needed, running the sentiment analysis"
   ]
  },
  {
   "cell_type": "code",
   "execution_count": 43,
   "id": "28890032",
   "metadata": {},
   "outputs": [],
   "source": [
    "all_sentiment1 = []\n",
    "for i in range(len(test1)):\n",
    "    text = test1.Accummulated_answers[i]\n",
    "    blob = TextBlob(text)\n",
    "    sentiment = blob.sentiment.polarity\n",
    "    all_sentiment1.append(sentiment)"
   ]
  },
  {
   "cell_type": "code",
   "execution_count": 44,
   "id": "d9eef96c",
   "metadata": {},
   "outputs": [],
   "source": [
    "all_sentiment2 = []\n",
    "for i in range(len(test2)):\n",
    "    text = test2.Accummulated_answers[i]\n",
    "    blob = TextBlob(text)\n",
    "    sentiment = blob.sentiment.polarity\n",
    "    all_sentiment2.append(sentiment)"
   ]
  },
  {
   "cell_type": "code",
   "execution_count": 45,
   "id": "cebf0b77",
   "metadata": {},
   "outputs": [],
   "source": [
    "all_sentiment3 = []\n",
    "for i in range(len(test3)):\n",
    "    text = test3.Accummulated_answers[i]\n",
    "    blob = TextBlob(text)\n",
    "    sentiment = blob.sentiment.polarity\n",
    "    all_sentiment3.append(sentiment)"
   ]
  },
  {
   "cell_type": "code",
   "execution_count": 46,
   "id": "a097b20f",
   "metadata": {},
   "outputs": [],
   "source": [
    "all_sentiment4 = []\n",
    "for i in range(len(test4)):\n",
    "    text = test4.Accummulated_answers[i]\n",
    "    blob = TextBlob(text)\n",
    "    sentiment = blob.sentiment.polarity\n",
    "    all_sentiment4.append(sentiment)"
   ]
  },
  {
   "cell_type": "code",
   "execution_count": 47,
   "id": "c3de652c",
   "metadata": {},
   "outputs": [],
   "source": [
    "all_sentiment5 = []\n",
    "for i in range(len(test5)):\n",
    "    text = test5.Accummulated_answers[i]\n",
    "    blob = TextBlob(text)\n",
    "    sentiment = blob.sentiment.polarity\n",
    "    all_sentiment5.append(sentiment)"
   ]
  },
  {
   "cell_type": "code",
   "execution_count": 48,
   "id": "dae6fa88",
   "metadata": {
    "scrolled": true
   },
   "outputs": [
    {
     "data": {
      "text/plain": [
       "<AxesSubplot:ylabel='Count'>"
      ]
     },
     "execution_count": 48,
     "metadata": {},
     "output_type": "execute_result"
    },
    {
     "data": {
      "image/png": "[encoded data removed]",
      "text/plain": [
       "<Figure size 432x288 with 1 Axes>"
      ]
     },
     "metadata": {
      "needs_background": "light"
     },
     "output_type": "display_data"
    }
   ],
   "source": [
    "sns.histplot(all_sentiment1, bins=50, binrange=(-0.1,0.5))"
   ]
  },
  {
   "cell_type": "code",
   "execution_count": 49,
   "id": "e24b6b0c",
   "metadata": {
    "scrolled": true
   },
   "outputs": [
    {
     "data": {
      "text/plain": [
       "<AxesSubplot:ylabel='Count'>"
      ]
     },
     "execution_count": 49,
     "metadata": {},
     "output_type": "execute_result"
    },
    {
     "data": {
      "image/png": "[encoded data removed]",
      "text/plain": [
       "<Figure size 432x288 with 1 Axes>"
      ]
     },
     "metadata": {
      "needs_background": "light"
     },
     "output_type": "display_data"
    }
   ],
   "source": [
    "sns.histplot(all_sentiment2, bins=50, binrange=(-0.1,0.5))"
   ]
  },
  {
   "cell_type": "code",
   "execution_count": 50,
   "id": "8fb91dd8",
   "metadata": {
    "scrolled": false
   },
   "outputs": [
    {
     "data": {
      "text/plain": [
       "<AxesSubplot:ylabel='Count'>"
      ]
     },
     "execution_count": 50,
     "metadata": {},
     "output_type": "execute_result"
    },
    {
     "data": {
      "image/png": "[encoded data removed]",
      "text/plain": [
       "<Figure size 432x288 with 1 Axes>"
      ]
     },
     "metadata": {
      "needs_background": "light"
     },
     "output_type": "display_data"
    }
   ],
   "source": [
    "sns.histplot(all_sentiment3, bins=50, binrange=(-0.1,0.5))"
   ]
  },
  {
   "cell_type": "code",
   "execution_count": 51,
   "id": "bbec4461",
   "metadata": {},
   "outputs": [
    {
     "data": {
      "text/plain": [
       "<AxesSubplot:ylabel='Count'>"
      ]
     },
     "execution_count": 51,
     "metadata": {},
     "output_type": "execute_result"
    },
    {
     "data": {
      "image/png": "[encoded data removed]",
      "text/plain": [
       "<Figure size 432x288 with 1 Axes>"
      ]
     },
     "metadata": {
      "needs_background": "light"
     },
     "output_type": "display_data"
    }
   ],
   "source": [
    "sns.histplot(all_sentiment4, bins=50, binrange=(-0.1,0.5))"
   ]
  },
  {
   "cell_type": "code",
   "execution_count": 52,
   "id": "9f176f20",
   "metadata": {},
   "outputs": [
    {
     "data": {
      "text/plain": [
       "<AxesSubplot:ylabel='Count'>"
      ]
     },
     "execution_count": 52,
     "metadata": {},
     "output_type": "execute_result"
    },
    {
     "data": {
      "image/png": "[encoded data removed]",
      "text/plain": [
       "<Figure size 432x288 with 1 Axes>"
      ]
     },
     "metadata": {
      "needs_background": "light"
     },
     "output_type": "display_data"
    }
   ],
   "source": [
    "sns.histplot(all_sentiment5, bins=50, binrange=(-0.1,0.5))"
   ]
  },
  {
   "cell_type": "markdown",
   "id": "5017568d",
   "metadata": {},
   "source": [
    "## Collecting all the text data per modul for all the participants"
   ]
  },
  {
   "cell_type": "code",
   "execution_count": 53,
   "id": "b8cc134c",
   "metadata": {},
   "outputs": [
    {
     "data": {
      "text/html": [
       "<div>\n",
       "<style scoped>\n",
       "    .dataframe tbody tr th:only-of-type {\n",
       "        vertical-align: middle;\n",
       "    }\n",
       "\n",
       "    .dataframe tbody tr th {\n",
       "        vertical-align: top;\n",
       "    }\n",
       "\n",
       "    .dataframe thead th {\n",
       "        text-align: right;\n",
       "    }\n",
       "</style>\n",
       "<table border=\"1\" class=\"dataframe\">\n",
       "  <thead>\n",
       "    <tr style=\"text-align: right;\">\n",
       "      <th></th>\n",
       "      <th>User</th>\n",
       "      <th>Module</th>\n",
       "      <th>Step</th>\n",
       "      <th>Question</th>\n",
       "      <th>Answer</th>\n",
       "      <th>Answer_length</th>\n",
       "    </tr>\n",
       "  </thead>\n",
       "  <tbody>\n",
       "    <tr>\n",
       "      <th>0</th>\n",
       "      <td>MP - Female 36 UK</td>\n",
       "      <td>Module_1</td>\n",
       "      <td>Step_1</td>\n",
       "      <td>What are you excited about as you begin your L...</td>\n",
       "      <td>Self development, learning new things about my...</td>\n",
       "      <td>16</td>\n",
       "    </tr>\n",
       "    <tr>\n",
       "      <th>1</th>\n",
       "      <td>MP - Female 36 UK</td>\n",
       "      <td>Module_1</td>\n",
       "      <td>Step_2</td>\n",
       "      <td>In what ways do you feel you are currently sho...</td>\n",
       "      <td>Sociable and confidently interact with others,...</td>\n",
       "      <td>29</td>\n",
       "    </tr>\n",
       "    <tr>\n",
       "      <th>2</th>\n",
       "      <td>MP - Female 36 UK</td>\n",
       "      <td>Module_1</td>\n",
       "      <td>Step_2</td>\n",
       "      <td>In what ways would you like to be showing up d...</td>\n",
       "      <td>More relaxed</td>\n",
       "      <td>2</td>\n",
       "    </tr>\n",
       "    <tr>\n",
       "      <th>3</th>\n",
       "      <td>MP - Female 36 UK</td>\n",
       "      <td>Module_1</td>\n",
       "      <td>Step_2</td>\n",
       "      <td>Why is this important to you?</td>\n",
       "      <td>Just be confident in my skills and that I'll b...</td>\n",
       "      <td>20</td>\n",
       "    </tr>\n",
       "    <tr>\n",
       "      <th>4</th>\n",
       "      <td>MP - Female 36 UK</td>\n",
       "      <td>Module_1</td>\n",
       "      <td>Step_2</td>\n",
       "      <td>What’s one small action you can take right now...</td>\n",
       "      <td>If worry creeps in, take a step back, thinking...</td>\n",
       "      <td>10</td>\n",
       "    </tr>\n",
       "    <tr>\n",
       "      <th>5</th>\n",
       "      <td>MP - Female 36 UK</td>\n",
       "      <td>Module_1</td>\n",
       "      <td>Step_2</td>\n",
       "      <td>How do you want to remember this?</td>\n",
       "      <td>Worrying is the thief of joy</td>\n",
       "      <td>6</td>\n",
       "    </tr>\n",
       "    <tr>\n",
       "      <th>6</th>\n",
       "      <td>MP - Female 36 UK</td>\n",
       "      <td>Module_1</td>\n",
       "      <td>Step_3</td>\n",
       "      <td>What was that experience like for you?</td>\n",
       "      <td>I enjoyed it, I find I don't switch off muxh</td>\n",
       "      <td>10</td>\n",
       "    </tr>\n",
       "    <tr>\n",
       "      <th>7</th>\n",
       "      <td>MP - Female 36 UK</td>\n",
       "      <td>Module_1</td>\n",
       "      <td>Step_3</td>\n",
       "      <td>What are you noticing about conscious breathing?</td>\n",
       "      <td>Really helps to relax</td>\n",
       "      <td>4</td>\n",
       "    </tr>\n",
       "    <tr>\n",
       "      <th>8</th>\n",
       "      <td>MP - Female 36 UK</td>\n",
       "      <td>Module_1</td>\n",
       "      <td>Step_4</td>\n",
       "      <td>What has to be part of the way you live your l...</td>\n",
       "      <td>Freedom</td>\n",
       "      <td>1</td>\n",
       "    </tr>\n",
       "    <tr>\n",
       "      <th>9</th>\n",
       "      <td>MP - Female 36 UK</td>\n",
       "      <td>Module_1</td>\n",
       "      <td>Step_4</td>\n",
       "      <td>Identify one of your top values, and let us kn...</td>\n",
       "      <td>Adaptability, I think it encompasses lots of t...</td>\n",
       "      <td>39</td>\n",
       "    </tr>\n",
       "  </tbody>\n",
       "</table>\n",
       "</div>"
      ],
      "text/plain": [
       "                User    Module    Step  \\\n",
       "0  MP - Female 36 UK  Module_1  Step_1   \n",
       "1  MP - Female 36 UK  Module_1  Step_2   \n",
       "2  MP - Female 36 UK  Module_1  Step_2   \n",
       "3  MP - Female 36 UK  Module_1  Step_2   \n",
       "4  MP - Female 36 UK  Module_1  Step_2   \n",
       "5  MP - Female 36 UK  Module_1  Step_2   \n",
       "6  MP - Female 36 UK  Module_1  Step_3   \n",
       "7  MP - Female 36 UK  Module_1  Step_3   \n",
       "8  MP - Female 36 UK  Module_1  Step_4   \n",
       "9  MP - Female 36 UK  Module_1  Step_4   \n",
       "\n",
       "                                            Question  \\\n",
       "0  What are you excited about as you begin your L...   \n",
       "1  In what ways do you feel you are currently sho...   \n",
       "2  In what ways would you like to be showing up d...   \n",
       "3                      Why is this important to you?   \n",
       "4  What’s one small action you can take right now...   \n",
       "5                  How do you want to remember this?   \n",
       "6             What was that experience like for you?   \n",
       "7   What are you noticing about conscious breathing?   \n",
       "8  What has to be part of the way you live your l...   \n",
       "9  Identify one of your top values, and let us kn...   \n",
       "\n",
       "                                              Answer  Answer_length  \n",
       "0  Self development, learning new things about my...             16  \n",
       "1  Sociable and confidently interact with others,...             29  \n",
       "2                                       More relaxed              2  \n",
       "3  Just be confident in my skills and that I'll b...             20  \n",
       "4  If worry creeps in, take a step back, thinking...             10  \n",
       "5                       Worrying is the thief of joy              6  \n",
       "6       I enjoyed it, I find I don't switch off muxh             10  \n",
       "7                              Really helps to relax              4  \n",
       "8                                            Freedom              1  \n",
       "9  Adaptability, I think it encompasses lots of t...             39  "
      ]
     },
     "execution_count": 53,
     "metadata": {},
     "output_type": "execute_result"
    }
   ],
   "source": [
    "data.head(10)"
   ]
  },
  {
   "cell_type": "code",
   "execution_count": null,
   "id": "9718b1b7",
   "metadata": {},
   "outputs": [],
   "source": []
  },
  {
   "cell_type": "code",
   "execution_count": null,
   "id": "bdff0497",
   "metadata": {},
   "outputs": [],
   "source": []
  },
  {
   "cell_type": "code",
   "execution_count": 54,
   "id": "a81d0ce2",
   "metadata": {},
   "outputs": [],
   "source": [
    "users_list_almost_all_q = ['MP - Female 36 UK', 'MD - Female 67 UK', 'DJ (30s) South Africa',\n",
    "       'KA Female (40s) CAN', 'CD Female (30s) South Africa',\n",
    "       'DE Male (30s) CAN', 'MS Female (60s) CAN', 'AV Female (40s) CAN',\n",
    "       'SOD Male (38) UK', 'JS Male (30s) South Africa',\n",
    "       'BM Male (30s) South Africa', 'RA Male (70s) CAN',\n",
    "       'HA Female (70s) CAN', 'JA Male (50s) CAN',\n",
    "       'DV Female (30s) South Africa', 'AG Female (40s) CAN',\n",
    "       'JP Female (40s) CAN', 'SA Female (48) CAN', 'NG Male (67) UK']"
   ]
  },
  {
   "cell_type": "code",
   "execution_count": 55,
   "id": "ff6c4e52",
   "metadata": {},
   "outputs": [],
   "source": [
    "users_list_all_q = ['DJ (30s) South Africa', 'CD Female (30s) South Africa',\n",
    "       'AV Female (40s) CAN', 'SOD Male (38) UK', 'JS Male (30s) South Africa',\n",
    "       'BM Male (30s) South Africa', 'RA Male (70s) CAN',\n",
    "       'DV Female (30s) South Africa', 'AG Female (40s) CAN',\n",
    "       'JP Female (40s) CAN']"
   ]
  },
  {
   "cell_type": "markdown",
   "id": "423ae600",
   "metadata": {},
   "source": [
    "# Exploring number of answered Qs for each participants"
   ]
  },
  {
   "cell_type": "code",
   "execution_count": 56,
   "id": "0e8bd428",
   "metadata": {},
   "outputs": [
    {
     "data": {
      "text/html": [
       "<div>\n",
       "<style scoped>\n",
       "    .dataframe tbody tr th:only-of-type {\n",
       "        vertical-align: middle;\n",
       "    }\n",
       "\n",
       "    .dataframe tbody tr th {\n",
       "        vertical-align: top;\n",
       "    }\n",
       "\n",
       "    .dataframe thead th {\n",
       "        text-align: right;\n",
       "    }\n",
       "</style>\n",
       "<table border=\"1\" class=\"dataframe\">\n",
       "  <thead>\n",
       "    <tr style=\"text-align: right;\">\n",
       "      <th></th>\n",
       "      <th></th>\n",
       "      <th>User</th>\n",
       "      <th>Module</th>\n",
       "      <th>Answer</th>\n",
       "      <th>Answer_length</th>\n",
       "    </tr>\n",
       "    <tr>\n",
       "      <th>Step</th>\n",
       "      <th>Question</th>\n",
       "      <th></th>\n",
       "      <th></th>\n",
       "      <th></th>\n",
       "      <th></th>\n",
       "    </tr>\n",
       "  </thead>\n",
       "  <tbody>\n",
       "    <tr>\n",
       "      <th>Step_1</th>\n",
       "      <th>What are you excited about as you begin your Leadership-Program experience?</th>\n",
       "      <td>70</td>\n",
       "      <td>70</td>\n",
       "      <td>70</td>\n",
       "      <td>70</td>\n",
       "    </tr>\n",
       "    <tr>\n",
       "      <th rowspan=\"4\" valign=\"top\">Step_10</th>\n",
       "      <th>Notice the energy and emotion of that reaction. Where does this energy live in your body?</th>\n",
       "      <td>29</td>\n",
       "      <td>29</td>\n",
       "      <td>29</td>\n",
       "      <td>29</td>\n",
       "    </tr>\n",
       "    <tr>\n",
       "      <th>We love attaching a metaphor, saying, action, mantra or lyric to help us remember. How do you want to remember this?</th>\n",
       "      <td>27</td>\n",
       "      <td>27</td>\n",
       "      <td>27</td>\n",
       "      <td>27</td>\n",
       "    </tr>\n",
       "    <tr>\n",
       "      <th>What are you noticing about the power of Conscious Choice?</th>\n",
       "      <td>29</td>\n",
       "      <td>29</td>\n",
       "      <td>29</td>\n",
       "      <td>29</td>\n",
       "    </tr>\n",
       "    <tr>\n",
       "      <th>What is a different way you could respond to the same situation?</th>\n",
       "      <td>30</td>\n",
       "      <td>30</td>\n",
       "      <td>30</td>\n",
       "      <td>30</td>\n",
       "    </tr>\n",
       "    <tr>\n",
       "      <th>...</th>\n",
       "      <th>...</th>\n",
       "      <td>...</td>\n",
       "      <td>...</td>\n",
       "      <td>...</td>\n",
       "      <td>...</td>\n",
       "    </tr>\n",
       "    <tr>\n",
       "      <th rowspan=\"5\" valign=\"top\">Step_9</th>\n",
       "      <th>How do you want to bring this insight into your life?</th>\n",
       "      <td>31</td>\n",
       "      <td>31</td>\n",
       "      <td>31</td>\n",
       "      <td>31</td>\n",
       "    </tr>\n",
       "    <tr>\n",
       "      <th>What is it like for you when you are living in alignment with your Values?</th>\n",
       "      <td>31</td>\n",
       "      <td>31</td>\n",
       "      <td>31</td>\n",
       "      <td>31</td>\n",
       "    </tr>\n",
       "    <tr>\n",
       "      <th>What is the impact this has on those around you?</th>\n",
       "      <td>31</td>\n",
       "      <td>31</td>\n",
       "      <td>31</td>\n",
       "      <td>31</td>\n",
       "    </tr>\n",
       "    <tr>\n",
       "      <th>What supports you with living in alignment to your Values in your everyday life?</th>\n",
       "      <td>31</td>\n",
       "      <td>31</td>\n",
       "      <td>31</td>\n",
       "      <td>31</td>\n",
       "    </tr>\n",
       "    <tr>\n",
       "      <th>What’s going to help you remember this?</th>\n",
       "      <td>31</td>\n",
       "      <td>31</td>\n",
       "      <td>31</td>\n",
       "      <td>31</td>\n",
       "    </tr>\n",
       "  </tbody>\n",
       "</table>\n",
       "<p>70 rows × 4 columns</p>\n",
       "</div>"
      ],
      "text/plain": [
       "                                                            User  Module  \\\n",
       "Step    Question                                                           \n",
       "Step_1  What are you excited about as you begin your Le...    70      70   \n",
       "Step_10 Notice the energy and emotion of that reaction....    29      29   \n",
       "        We love attaching a metaphor, saying, action, m...    27      27   \n",
       "        What are you noticing about the power of Consci...    29      29   \n",
       "        What is a different way you could respond to th...    30      30   \n",
       "...                                                          ...     ...   \n",
       "Step_9  How do you want to bring this insight into your...    31      31   \n",
       "        What is it like for you when you are living in ...    31      31   \n",
       "        What is the impact this has on those around you?      31      31   \n",
       "        What supports you with living in alignment to y...    31      31   \n",
       "        What’s going to help you remember this?               31      31   \n",
       "\n",
       "                                                            Answer  \\\n",
       "Step    Question                                                     \n",
       "Step_1  What are you excited about as you begin your Le...      70   \n",
       "Step_10 Notice the energy and emotion of that reaction....      29   \n",
       "        We love attaching a metaphor, saying, action, m...      27   \n",
       "        What are you noticing about the power of Consci...      29   \n",
       "        What is a different way you could respond to th...      30   \n",
       "...                                                            ...   \n",
       "Step_9  How do you want to bring this insight into your...      31   \n",
       "        What is it like for you when you are living in ...      31   \n",
       "        What is the impact this has on those around you?        31   \n",
       "        What supports you with living in alignment to y...      31   \n",
       "        What’s going to help you remember this?                 31   \n",
       "\n",
       "                                                            Answer_length  \n",
       "Step    Question                                                           \n",
       "Step_1  What are you excited about as you begin your Le...             70  \n",
       "Step_10 Notice the energy and emotion of that reaction....             29  \n",
       "        We love attaching a metaphor, saying, action, m...             27  \n",
       "        What are you noticing about the power of Consci...             29  \n",
       "        What is a different way you could respond to th...             30  \n",
       "...                                                                   ...  \n",
       "Step_9  How do you want to bring this insight into your...             31  \n",
       "        What is it like for you when you are living in ...             31  \n",
       "        What is the impact this has on those around you?               31  \n",
       "        What supports you with living in alignment to y...             31  \n",
       "        What’s going to help you remember this?                        31  \n",
       "\n",
       "[70 rows x 4 columns]"
      ]
     },
     "execution_count": 56,
     "metadata": {},
     "output_type": "execute_result"
    }
   ],
   "source": [
    "data.groupby(['Step','Question']).count()"
   ]
  },
  {
   "cell_type": "code",
   "execution_count": 57,
   "id": "a8ab9618",
   "metadata": {},
   "outputs": [
    {
     "data": {
      "text/plain": [
       "Step\n",
       "Step_1      2\n",
       "Step_10     7\n",
       "Step_11     4\n",
       "Step_12     3\n",
       "Step_13     8\n",
       "Step_14     9\n",
       "Step_2     10\n",
       "Step_3      3\n",
       "Step_4      7\n",
       "Step_5     11\n",
       "Step_6      1\n",
       "Step_7      9\n",
       "Step_8      1\n",
       "Step_9      5\n",
       "Name: Question, dtype: int64"
      ]
     },
     "execution_count": 57,
     "metadata": {},
     "output_type": "execute_result"
    }
   ],
   "source": [
    "temp = data[data.User == 'CD Female (30s) South Africa']\n",
    "temp.groupby(['Step']).count()['Question']"
   ]
  },
  {
   "cell_type": "code",
   "execution_count": 58,
   "id": "af05d154",
   "metadata": {},
   "outputs": [
    {
     "data": {
      "text/plain": [
       "User\n",
       "AD Male (50s) CAN               54\n",
       "AG Female (40s) CAN             73\n",
       "AH Female (40s) CAN              6\n",
       "AMH Male (40s) New Zealand      23\n",
       "AV Female (40s) CAN             73\n",
       "                                ..\n",
       "TY Male (30s) CAN                1\n",
       "WH Female (37) South Africa     30\n",
       "WR Female (70s) CAN             36\n",
       "ZS Female (30s) South Africa    26\n",
       "ZT Female (40s) CAN              1\n",
       "Name: Answer, Length: 70, dtype: int64"
      ]
     },
     "execution_count": 58,
     "metadata": {},
     "output_type": "execute_result"
    }
   ],
   "source": [
    "data.groupby('User').count()['Answer']"
   ]
  },
  {
   "cell_type": "code",
   "execution_count": 59,
   "id": "a89cb5cf",
   "metadata": {
    "scrolled": true
   },
   "outputs": [
    {
     "data": {
      "image/png": "[encoded data removed]",
      "text/plain": [
       "<Figure size 1080x576 with 1 Axes>"
      ]
     },
     "metadata": {
      "needs_background": "light"
     },
     "output_type": "display_data"
    }
   ],
   "source": [
    "plt.figure(figsize=(15,8))\n",
    "ax = sns.scatterplot(x='Question', y='Answer_length', data=data, hue='User', legend=False)\n",
    "ax.set(xlabel=None);"
   ]
  },
  {
   "cell_type": "code",
   "execution_count": 60,
   "id": "d6d5fd7d",
   "metadata": {},
   "outputs": [
    {
     "data": {
      "image/png": "[encoded data removed]",
      "text/plain": [
       "<Figure size 1440x720 with 1 Axes>"
      ]
     },
     "metadata": {
      "needs_background": "light"
     },
     "output_type": "display_data"
    }
   ],
   "source": [
    "plt.figure(figsize=(20,10))\n",
    "ax = sns.violinplot(x='Question', y='Answer_length', data=data, legend=False); #hue='User', "
   ]
  },
  {
   "cell_type": "code",
   "execution_count": 61,
   "id": "2d77bbae",
   "metadata": {
    "scrolled": true
   },
   "outputs": [
    {
     "data": {
      "text/plain": [
       "Question                                                   User                        \n",
       "Based on these insights, how are you leading differently?  SA Female (48) CAN              65\n",
       "                                                           NG Male (67) UK                 55\n",
       "                                                           DE Male (30s) CAN               51\n",
       "                                                           AG Female (40s) CAN             38\n",
       "                                                           DJ (30s) South Africa           35\n",
       "                                                                                           ..\n",
       "Why is this important to you?                              KB - Female (30s) CAN           11\n",
       "                                                           AD Male (50s) CAN               10\n",
       "                                                           JP Female (40s) CAN              9\n",
       "                                                           RB Female (50s) CAN              9\n",
       "                                                           ZS Female (30s) South Africa     9\n",
       "Name: Answer_length, Length: 2281, dtype: int64"
      ]
     },
     "execution_count": 61,
     "metadata": {},
     "output_type": "execute_result"
    }
   ],
   "source": [
    "df_agg = data.groupby(['Question','User']).agg({'Answer_length':sum})\n",
    "df_agg['Answer_length'].groupby('Question', group_keys=False).nlargest(50)"
   ]
  },
  {
   "cell_type": "code",
   "execution_count": 62,
   "id": "f4b8b813",
   "metadata": {},
   "outputs": [
    {
     "name": "stdout",
     "output_type": "stream",
     "text": [
      "Max number of answers: 80\n",
      "Min number of answers: 1\n"
     ]
    }
   ],
   "source": [
    "print(f'Max number of answers: {max(data.groupby(\"User\").count()[\"Answer\"])}')\n",
    "print(f'Min number of answers: {min(data.groupby(\"User\").count()[\"Answer\"])}')"
   ]
  },
  {
   "cell_type": "code",
   "execution_count": null,
   "id": "896a119c",
   "metadata": {},
   "outputs": [],
   "source": []
  },
  {
   "cell_type": "code",
   "execution_count": null,
   "id": "0d024dcf",
   "metadata": {},
   "outputs": [],
   "source": []
  },
  {
   "cell_type": "code",
   "execution_count": null,
   "id": "d733729d",
   "metadata": {},
   "outputs": [],
   "source": []
  },
  {
   "cell_type": "code",
   "execution_count": null,
   "id": "475cec8f",
   "metadata": {},
   "outputs": [],
   "source": []
  },
  {
   "cell_type": "code",
   "execution_count": null,
   "id": "b33a1df2",
   "metadata": {},
   "outputs": [],
   "source": []
  },
  {
   "cell_type": "code",
   "execution_count": 63,
   "id": "2a713228",
   "metadata": {},
   "outputs": [
    {
     "data": {
      "text/html": [
       "<div>\n",
       "<style scoped>\n",
       "    .dataframe tbody tr th:only-of-type {\n",
       "        vertical-align: middle;\n",
       "    }\n",
       "\n",
       "    .dataframe tbody tr th {\n",
       "        vertical-align: top;\n",
       "    }\n",
       "\n",
       "    .dataframe thead th {\n",
       "        text-align: right;\n",
       "    }\n",
       "</style>\n",
       "<table border=\"1\" class=\"dataframe\">\n",
       "  <thead>\n",
       "    <tr style=\"text-align: right;\">\n",
       "      <th></th>\n",
       "      <th>User</th>\n",
       "      <th>Number_of_answers</th>\n",
       "      <th>Longest_answer</th>\n",
       "      <th>Shortest_answer</th>\n",
       "    </tr>\n",
       "  </thead>\n",
       "  <tbody>\n",
       "    <tr>\n",
       "      <th>0</th>\n",
       "      <td>MP - Female 36 UK</td>\n",
       "      <td>68</td>\n",
       "      <td>42</td>\n",
       "      <td>1</td>\n",
       "    </tr>\n",
       "    <tr>\n",
       "      <th>1</th>\n",
       "      <td>KB - Female (30s) CAN</td>\n",
       "      <td>15</td>\n",
       "      <td>22</td>\n",
       "      <td>1</td>\n",
       "    </tr>\n",
       "    <tr>\n",
       "      <th>2</th>\n",
       "      <td>MW - Male (40s)  New Zealand</td>\n",
       "      <td>36</td>\n",
       "      <td>91</td>\n",
       "      <td>1</td>\n",
       "    </tr>\n",
       "    <tr>\n",
       "      <th>3</th>\n",
       "      <td>MD - Female 67 UK</td>\n",
       "      <td>61</td>\n",
       "      <td>75</td>\n",
       "      <td>1</td>\n",
       "    </tr>\n",
       "    <tr>\n",
       "      <th>4</th>\n",
       "      <td>DJ (30s) South Africa</td>\n",
       "      <td>73</td>\n",
       "      <td>57</td>\n",
       "      <td>1</td>\n",
       "    </tr>\n",
       "  </tbody>\n",
       "</table>\n",
       "</div>"
      ],
      "text/plain": [
       "                           User  Number_of_answers  Longest_answer  \\\n",
       "0             MP - Female 36 UK                 68              42   \n",
       "1         KB - Female (30s) CAN                 15              22   \n",
       "2  MW - Male (40s)  New Zealand                 36              91   \n",
       "3             MD - Female 67 UK                 61              75   \n",
       "4         DJ (30s) South Africa                 73              57   \n",
       "\n",
       "   Shortest_answer  \n",
       "0                1  \n",
       "1                1  \n",
       "2                1  \n",
       "3                1  \n",
       "4                1  "
      ]
     },
     "execution_count": 63,
     "metadata": {},
     "output_type": "execute_result"
    }
   ],
   "source": [
    "# participant | # of answered Qs | shortest answer | longest answer\n",
    "participants = data['User'].unique()\n",
    "answers_overview = []\n",
    "for participant in participants:\n",
    "    #print(participant)\n",
    "    cur_user = participant\n",
    "    cur_data = data[data['User']==cur_user]\n",
    "    number_of_answers = cur_data.shape[0] - cur_data.Answer.isnull().sum()\n",
    "    answers_list = []\n",
    "    for i in range(len(cur_data.Answer)):\n",
    "        #print(i)\n",
    "        if type(list(cur_data.Answer)[i]) == str:\n",
    "            answers_list.append(len(list(cur_data.Answer)[i].split(\" \")))\n",
    "        else: answers_list.append(0)\n",
    "        \n",
    "    max_answer = max(answers_list)\n",
    "    min_answer = min(answers_list)\n",
    "    answers_overview.append([cur_user, number_of_answers, max_answer, min_answer])\n",
    "    \n",
    "data_overview = pd.DataFrame(answers_overview, columns=[\"User\", \"Number_of_answers\", \"Longest_answer\", \"Shortest_answer\"])\n",
    "data_overview.head()"
   ]
  },
  {
   "cell_type": "code",
   "execution_count": 64,
   "id": "34d209e6",
   "metadata": {
    "scrolled": true
   },
   "outputs": [
    {
     "name": "stdout",
     "output_type": "stream",
     "text": [
      "Max number of answers: 80\n",
      "Min number of answers: 1\n"
     ]
    }
   ],
   "source": [
    "print(f'Max number of answers: {max(data_overview.Number_of_answers)}')\n",
    "print(f'Min number of answers: {min(data_overview.Number_of_answers)}')"
   ]
  },
  {
   "cell_type": "code",
   "execution_count": 65,
   "id": "78348390",
   "metadata": {},
   "outputs": [
    {
     "name": "stdout",
     "output_type": "stream",
     "text": [
      "Longest answer has: 251 words\n",
      "Shortest answer has: 1 words\n"
     ]
    }
   ],
   "source": [
    "print(f'Longest answer has: {max(data_overview.Longest_answer)} words')\n",
    "print(f'Shortest answer has: {min(data_overview.Shortest_answer)} words')"
   ]
  },
  {
   "cell_type": "code",
   "execution_count": 66,
   "id": "890a3e97",
   "metadata": {
    "scrolled": true
   },
   "outputs": [
    {
     "data": {
      "text/html": [
       "<div>\n",
       "<style scoped>\n",
       "    .dataframe tbody tr th:only-of-type {\n",
       "        vertical-align: middle;\n",
       "    }\n",
       "\n",
       "    .dataframe tbody tr th {\n",
       "        vertical-align: top;\n",
       "    }\n",
       "\n",
       "    .dataframe thead th {\n",
       "        text-align: right;\n",
       "    }\n",
       "</style>\n",
       "<table border=\"1\" class=\"dataframe\">\n",
       "  <thead>\n",
       "    <tr style=\"text-align: right;\">\n",
       "      <th></th>\n",
       "      <th>User</th>\n",
       "      <th>Number_of_answers</th>\n",
       "      <th>Longest_answer</th>\n",
       "      <th>Shortest_answer</th>\n",
       "    </tr>\n",
       "  </thead>\n",
       "  <tbody>\n",
       "  </tbody>\n",
       "</table>\n",
       "</div>"
      ],
      "text/plain": [
       "Empty DataFrame\n",
       "Columns: [User, Number_of_answers, Longest_answer, Shortest_answer]\n",
       "Index: []"
      ]
     },
     "execution_count": 66,
     "metadata": {},
     "output_type": "execute_result"
    }
   ],
   "source": [
    "data_overview[data_overview.Shortest_answer == 0]"
   ]
  },
  {
   "cell_type": "code",
   "execution_count": 67,
   "id": "bf68f3f1",
   "metadata": {},
   "outputs": [
    {
     "data": {
      "text/plain": [
       "Number_of_answers\n",
       "1     7\n",
       "2     2\n",
       "3     1\n",
       "6     5\n",
       "8     2\n",
       "15    3\n",
       "21    1\n",
       "23    2\n",
       "24    1\n",
       "25    1\n",
       "26    6\n",
       "27    1\n",
       "30    1\n",
       "35    1\n",
       "36    5\n",
       "37    1\n",
       "45    1\n",
       "46    1\n",
       "47    1\n",
       "49    1\n",
       "50    1\n",
       "53    1\n",
       "54    1\n",
       "58    2\n",
       "59    1\n",
       "61    8\n",
       "64    1\n",
       "68    1\n",
       "73    9\n",
       "80    1\n",
       "Name: User, dtype: int64"
      ]
     },
     "execution_count": 67,
     "metadata": {},
     "output_type": "execute_result"
    }
   ],
   "source": [
    "group = data_overview.groupby('Number_of_answers')['User'].count()\n",
    "group"
   ]
  },
  {
   "cell_type": "code",
   "execution_count": 68,
   "id": "09ec11b9",
   "metadata": {},
   "outputs": [
    {
     "data": {
      "text/html": [
       "<div>\n",
       "<style scoped>\n",
       "    .dataframe tbody tr th:only-of-type {\n",
       "        vertical-align: middle;\n",
       "    }\n",
       "\n",
       "    .dataframe tbody tr th {\n",
       "        vertical-align: top;\n",
       "    }\n",
       "\n",
       "    .dataframe thead th {\n",
       "        text-align: right;\n",
       "    }\n",
       "</style>\n",
       "<table border=\"1\" class=\"dataframe\">\n",
       "  <thead>\n",
       "    <tr style=\"text-align: right;\">\n",
       "      <th></th>\n",
       "      <th>User</th>\n",
       "      <th>Number_of_answers</th>\n",
       "      <th>Longest_answer</th>\n",
       "      <th>Shortest_answer</th>\n",
       "    </tr>\n",
       "  </thead>\n",
       "  <tbody>\n",
       "    <tr>\n",
       "      <th>9</th>\n",
       "      <td>CD Female (30s) South Africa</td>\n",
       "      <td>80</td>\n",
       "      <td>251</td>\n",
       "      <td>1</td>\n",
       "    </tr>\n",
       "  </tbody>\n",
       "</table>\n",
       "</div>"
      ],
      "text/plain": [
       "                           User  Number_of_answers  Longest_answer  \\\n",
       "9  CD Female (30s) South Africa                 80             251   \n",
       "\n",
       "   Shortest_answer  \n",
       "9                1  "
      ]
     },
     "execution_count": 68,
     "metadata": {},
     "output_type": "execute_result"
    }
   ],
   "source": [
    "data_overview[data_overview['Number_of_answers']==80]"
   ]
  },
  {
   "cell_type": "markdown",
   "id": "a78665b2",
   "metadata": {},
   "source": [
    "## Plotting distribution of answered questions"
   ]
  },
  {
   "cell_type": "code",
   "execution_count": 69,
   "id": "e9562a6f",
   "metadata": {
    "scrolled": true
   },
   "outputs": [
    {
     "data": {
      "image/png": "[encoded data removed]",
      "text/plain": [
       "<Figure size 432x288 with 1 Axes>"
      ]
     },
     "metadata": {
      "needs_background": "light"
     },
     "output_type": "display_data"
    }
   ],
   "source": [
    "sns.histplot(data.groupby('User').count()['Answer'], bins=15, kde=True);"
   ]
  },
  {
   "cell_type": "markdown",
   "id": "ce22912e",
   "metadata": {},
   "source": [
    "# Merging answers within a module"
   ]
  },
  {
   "cell_type": "code",
   "execution_count": 70,
   "id": "df51c92b",
   "metadata": {},
   "outputs": [
    {
     "data": {
      "text/html": [
       "<div>\n",
       "<style scoped>\n",
       "    .dataframe tbody tr th:only-of-type {\n",
       "        vertical-align: middle;\n",
       "    }\n",
       "\n",
       "    .dataframe tbody tr th {\n",
       "        vertical-align: top;\n",
       "    }\n",
       "\n",
       "    .dataframe thead th {\n",
       "        text-align: right;\n",
       "    }\n",
       "</style>\n",
       "<table border=\"1\" class=\"dataframe\">\n",
       "  <thead>\n",
       "    <tr style=\"text-align: right;\">\n",
       "      <th></th>\n",
       "      <th>User</th>\n",
       "      <th>Module</th>\n",
       "      <th>Step</th>\n",
       "      <th>Question</th>\n",
       "      <th>Answer</th>\n",
       "      <th>Answer_length</th>\n",
       "    </tr>\n",
       "  </thead>\n",
       "  <tbody>\n",
       "    <tr>\n",
       "      <th>0</th>\n",
       "      <td>MP - Female 36 UK</td>\n",
       "      <td>Module_1</td>\n",
       "      <td>Step_1</td>\n",
       "      <td>What are you excited about as you begin your L...</td>\n",
       "      <td>Self development, learning new things about my...</td>\n",
       "      <td>16</td>\n",
       "    </tr>\n",
       "    <tr>\n",
       "      <th>1</th>\n",
       "      <td>MP - Female 36 UK</td>\n",
       "      <td>Module_1</td>\n",
       "      <td>Step_2</td>\n",
       "      <td>In what ways do you feel you are currently sho...</td>\n",
       "      <td>Sociable and confidently interact with others,...</td>\n",
       "      <td>29</td>\n",
       "    </tr>\n",
       "    <tr>\n",
       "      <th>2</th>\n",
       "      <td>MP - Female 36 UK</td>\n",
       "      <td>Module_1</td>\n",
       "      <td>Step_2</td>\n",
       "      <td>In what ways would you like to be showing up d...</td>\n",
       "      <td>More relaxed</td>\n",
       "      <td>2</td>\n",
       "    </tr>\n",
       "    <tr>\n",
       "      <th>3</th>\n",
       "      <td>MP - Female 36 UK</td>\n",
       "      <td>Module_1</td>\n",
       "      <td>Step_2</td>\n",
       "      <td>Why is this important to you?</td>\n",
       "      <td>Just be confident in my skills and that I'll b...</td>\n",
       "      <td>20</td>\n",
       "    </tr>\n",
       "    <tr>\n",
       "      <th>4</th>\n",
       "      <td>MP - Female 36 UK</td>\n",
       "      <td>Module_1</td>\n",
       "      <td>Step_2</td>\n",
       "      <td>What’s one small action you can take right now...</td>\n",
       "      <td>If worry creeps in, take a step back, thinking...</td>\n",
       "      <td>10</td>\n",
       "    </tr>\n",
       "    <tr>\n",
       "      <th>5</th>\n",
       "      <td>MP - Female 36 UK</td>\n",
       "      <td>Module_1</td>\n",
       "      <td>Step_2</td>\n",
       "      <td>How do you want to remember this?</td>\n",
       "      <td>Worrying is the thief of joy</td>\n",
       "      <td>6</td>\n",
       "    </tr>\n",
       "    <tr>\n",
       "      <th>6</th>\n",
       "      <td>MP - Female 36 UK</td>\n",
       "      <td>Module_1</td>\n",
       "      <td>Step_3</td>\n",
       "      <td>What was that experience like for you?</td>\n",
       "      <td>I enjoyed it, I find I don't switch off muxh</td>\n",
       "      <td>10</td>\n",
       "    </tr>\n",
       "    <tr>\n",
       "      <th>7</th>\n",
       "      <td>MP - Female 36 UK</td>\n",
       "      <td>Module_1</td>\n",
       "      <td>Step_3</td>\n",
       "      <td>What are you noticing about conscious breathing?</td>\n",
       "      <td>Really helps to relax</td>\n",
       "      <td>4</td>\n",
       "    </tr>\n",
       "    <tr>\n",
       "      <th>8</th>\n",
       "      <td>MP - Female 36 UK</td>\n",
       "      <td>Module_1</td>\n",
       "      <td>Step_4</td>\n",
       "      <td>What has to be part of the way you live your l...</td>\n",
       "      <td>Freedom</td>\n",
       "      <td>1</td>\n",
       "    </tr>\n",
       "    <tr>\n",
       "      <th>9</th>\n",
       "      <td>MP - Female 36 UK</td>\n",
       "      <td>Module_1</td>\n",
       "      <td>Step_4</td>\n",
       "      <td>Identify one of your top values, and let us kn...</td>\n",
       "      <td>Adaptability, I think it encompasses lots of t...</td>\n",
       "      <td>39</td>\n",
       "    </tr>\n",
       "    <tr>\n",
       "      <th>10</th>\n",
       "      <td>MP - Female 36 UK</td>\n",
       "      <td>Module_1</td>\n",
       "      <td>Step_4</td>\n",
       "      <td>When you think of this value, what image or vi...</td>\n",
       "      <td>Confidence, being at peace in a multitude of e...</td>\n",
       "      <td>18</td>\n",
       "    </tr>\n",
       "    <tr>\n",
       "      <th>11</th>\n",
       "      <td>MP - Female 36 UK</td>\n",
       "      <td>Module_1</td>\n",
       "      <td>Step_4</td>\n",
       "      <td>Identify another top value of yours, and let u...</td>\n",
       "      <td>Accountability, taking ownership of choices, n...</td>\n",
       "      <td>14</td>\n",
       "    </tr>\n",
       "    <tr>\n",
       "      <th>12</th>\n",
       "      <td>MP - Female 36 UK</td>\n",
       "      <td>Module_1</td>\n",
       "      <td>Step_4</td>\n",
       "      <td>When you think of this value, what sound, song...</td>\n",
       "      <td>Nothing springs to mind, now trying to think o...</td>\n",
       "      <td>14</td>\n",
       "    </tr>\n",
       "    <tr>\n",
       "      <th>13</th>\n",
       "      <td>MP - Female 36 UK</td>\n",
       "      <td>Module_1</td>\n",
       "      <td>Step_4</td>\n",
       "      <td>Identify another top value of yours, and let u...</td>\n",
       "      <td>Openness, being open to opinions, people's, ot...</td>\n",
       "      <td>17</td>\n",
       "    </tr>\n",
       "    <tr>\n",
       "      <th>14</th>\n",
       "      <td>MP - Female 36 UK</td>\n",
       "      <td>Module_1</td>\n",
       "      <td>Step_4</td>\n",
       "      <td>When you think of this value, what comes to mind?</td>\n",
       "      <td>Really strong life long friendships</td>\n",
       "      <td>5</td>\n",
       "    </tr>\n",
       "    <tr>\n",
       "      <th>16</th>\n",
       "      <td>KB - Female (30s) CAN</td>\n",
       "      <td>Module_1</td>\n",
       "      <td>Step_1</td>\n",
       "      <td>What are you excited about as you begin your L...</td>\n",
       "      <td>I'm always excited to learn new ways of lookin...</td>\n",
       "      <td>13</td>\n",
       "    </tr>\n",
       "    <tr>\n",
       "      <th>17</th>\n",
       "      <td>KB - Female (30s) CAN</td>\n",
       "      <td>Module_1</td>\n",
       "      <td>Step_2</td>\n",
       "      <td>In what ways do you feel you are currently sho...</td>\n",
       "      <td>I'm leading a few projects at work that mean a...</td>\n",
       "      <td>22</td>\n",
       "    </tr>\n",
       "    <tr>\n",
       "      <th>18</th>\n",
       "      <td>KB - Female (30s) CAN</td>\n",
       "      <td>Module_1</td>\n",
       "      <td>Step_2</td>\n",
       "      <td>In what ways would you like to be showing up d...</td>\n",
       "      <td>Stop letting perfect be the enemy of done.</td>\n",
       "      <td>8</td>\n",
       "    </tr>\n",
       "    <tr>\n",
       "      <th>19</th>\n",
       "      <td>KB - Female (30s) CAN</td>\n",
       "      <td>Module_1</td>\n",
       "      <td>Step_2</td>\n",
       "      <td>Why is this important to you?</td>\n",
       "      <td>I will show up as more collaborative, creative...</td>\n",
       "      <td>11</td>\n",
       "    </tr>\n",
       "    <tr>\n",
       "      <th>20</th>\n",
       "      <td>KB - Female (30s) CAN</td>\n",
       "      <td>Module_1</td>\n",
       "      <td>Step_2</td>\n",
       "      <td>What’s one small action you can take right now...</td>\n",
       "      <td>Take time to release strict expectations on pr...</td>\n",
       "      <td>14</td>\n",
       "    </tr>\n",
       "    <tr>\n",
       "      <th>21</th>\n",
       "      <td>KB - Female (30s) CAN</td>\n",
       "      <td>Module_1</td>\n",
       "      <td>Step_2</td>\n",
       "      <td>How do you want to remember this?</td>\n",
       "      <td>Grow as we go</td>\n",
       "      <td>4</td>\n",
       "    </tr>\n",
       "    <tr>\n",
       "      <th>22</th>\n",
       "      <td>KB - Female (30s) CAN</td>\n",
       "      <td>Module_1</td>\n",
       "      <td>Step_3</td>\n",
       "      <td>What was that experience like for you?</td>\n",
       "      <td>Calming</td>\n",
       "      <td>1</td>\n",
       "    </tr>\n",
       "    <tr>\n",
       "      <th>23</th>\n",
       "      <td>KB - Female (30s) CAN</td>\n",
       "      <td>Module_1</td>\n",
       "      <td>Step_3</td>\n",
       "      <td>What are you noticing about conscious breathing?</td>\n",
       "      <td>Taking time to fully exhale expells the negati...</td>\n",
       "      <td>14</td>\n",
       "    </tr>\n",
       "    <tr>\n",
       "      <th>24</th>\n",
       "      <td>KB - Female (30s) CAN</td>\n",
       "      <td>Module_1</td>\n",
       "      <td>Step_4</td>\n",
       "      <td>What has to be part of the way you live your l...</td>\n",
       "      <td>Integrity</td>\n",
       "      <td>1</td>\n",
       "    </tr>\n",
       "    <tr>\n",
       "      <th>25</th>\n",
       "      <td>KB - Female (30s) CAN</td>\n",
       "      <td>Module_1</td>\n",
       "      <td>Step_4</td>\n",
       "      <td>Identify one of your top values, and let us kn...</td>\n",
       "      <td>Integrity</td>\n",
       "      <td>1</td>\n",
       "    </tr>\n",
       "    <tr>\n",
       "      <th>26</th>\n",
       "      <td>KB - Female (30s) CAN</td>\n",
       "      <td>Module_1</td>\n",
       "      <td>Step_4</td>\n",
       "      <td>When you think of this value, what image or vi...</td>\n",
       "      <td>Signposts</td>\n",
       "      <td>1</td>\n",
       "    </tr>\n",
       "    <tr>\n",
       "      <th>27</th>\n",
       "      <td>KB - Female (30s) CAN</td>\n",
       "      <td>Module_1</td>\n",
       "      <td>Step_4</td>\n",
       "      <td>Identify another top value of yours, and let u...</td>\n",
       "      <td>Courage</td>\n",
       "      <td>1</td>\n",
       "    </tr>\n",
       "    <tr>\n",
       "      <th>28</th>\n",
       "      <td>KB - Female (30s) CAN</td>\n",
       "      <td>Module_1</td>\n",
       "      <td>Step_4</td>\n",
       "      <td>When you think of this value, what sound, song...</td>\n",
       "      <td>The beating of a drum</td>\n",
       "      <td>5</td>\n",
       "    </tr>\n",
       "    <tr>\n",
       "      <th>29</th>\n",
       "      <td>KB - Female (30s) CAN</td>\n",
       "      <td>Module_1</td>\n",
       "      <td>Step_4</td>\n",
       "      <td>Identify another top value of yours, and let u...</td>\n",
       "      <td>Equity</td>\n",
       "      <td>1</td>\n",
       "    </tr>\n",
       "    <tr>\n",
       "      <th>30</th>\n",
       "      <td>KB - Female (30s) CAN</td>\n",
       "      <td>Module_1</td>\n",
       "      <td>Step_4</td>\n",
       "      <td>When you think of this value, what comes to mind?</td>\n",
       "      <td>crates</td>\n",
       "      <td>1</td>\n",
       "    </tr>\n",
       "    <tr>\n",
       "      <th>32</th>\n",
       "      <td>MW - Male (40s)  New Zealand</td>\n",
       "      <td>Module_1</td>\n",
       "      <td>Step_1</td>\n",
       "      <td>What are you excited about as you begin your L...</td>\n",
       "      <td>Experiencing other approaches, concepts and in...</td>\n",
       "      <td>18</td>\n",
       "    </tr>\n",
       "    <tr>\n",
       "      <th>33</th>\n",
       "      <td>MW - Male (40s)  New Zealand</td>\n",
       "      <td>Module_1</td>\n",
       "      <td>Step_2</td>\n",
       "      <td>In what ways do you feel you are currently sho...</td>\n",
       "      <td>In a range of roles, as a father, husband, bro...</td>\n",
       "      <td>18</td>\n",
       "    </tr>\n",
       "    <tr>\n",
       "      <th>34</th>\n",
       "      <td>MW - Male (40s)  New Zealand</td>\n",
       "      <td>Module_1</td>\n",
       "      <td>Step_2</td>\n",
       "      <td>In what ways would you like to be showing up d...</td>\n",
       "      <td>To be more conscious of my impact on others. E...</td>\n",
       "      <td>40</td>\n",
       "    </tr>\n",
       "    <tr>\n",
       "      <th>35</th>\n",
       "      <td>MW - Male (40s)  New Zealand</td>\n",
       "      <td>Module_1</td>\n",
       "      <td>Step_2</td>\n",
       "      <td>Why is this important to you?</td>\n",
       "      <td>Just yesterday I was aware I had set up a proj...</td>\n",
       "      <td>91</td>\n",
       "    </tr>\n",
       "    <tr>\n",
       "      <th>36</th>\n",
       "      <td>MW - Male (40s)  New Zealand</td>\n",
       "      <td>Module_1</td>\n",
       "      <td>Step_2</td>\n",
       "      <td>What’s one small action you can take right now...</td>\n",
       "      <td>Set up a meeting on Monday to connect in with ...</td>\n",
       "      <td>27</td>\n",
       "    </tr>\n",
       "    <tr>\n",
       "      <th>37</th>\n",
       "      <td>MW - Male (40s)  New Zealand</td>\n",
       "      <td>Module_1</td>\n",
       "      <td>Step_2</td>\n",
       "      <td>How do you want to remember this?</td>\n",
       "      <td>Together slow down to speed up</td>\n",
       "      <td>6</td>\n",
       "    </tr>\n",
       "    <tr>\n",
       "      <th>38</th>\n",
       "      <td>MW - Male (40s)  New Zealand</td>\n",
       "      <td>Module_1</td>\n",
       "      <td>Step_3</td>\n",
       "      <td>What was that experience like for you?</td>\n",
       "      <td>Nice but a bit fast, my in breath lasted for t...</td>\n",
       "      <td>53</td>\n",
       "    </tr>\n",
       "    <tr>\n",
       "      <th>39</th>\n",
       "      <td>MW - Male (40s)  New Zealand</td>\n",
       "      <td>Module_1</td>\n",
       "      <td>Step_3</td>\n",
       "      <td>What are you noticing about conscious breathing?</td>\n",
       "      <td>It is helpful, and useful when I remember to d...</td>\n",
       "      <td>11</td>\n",
       "    </tr>\n",
       "    <tr>\n",
       "      <th>40</th>\n",
       "      <td>MW - Male (40s)  New Zealand</td>\n",
       "      <td>Module_1</td>\n",
       "      <td>Step_4</td>\n",
       "      <td>What has to be part of the way you live your l...</td>\n",
       "      <td>Time with my Whanau (family, wife and 4 childr...</td>\n",
       "      <td>35</td>\n",
       "    </tr>\n",
       "    <tr>\n",
       "      <th>41</th>\n",
       "      <td>MW - Male (40s)  New Zealand</td>\n",
       "      <td>Module_1</td>\n",
       "      <td>Step_4</td>\n",
       "      <td>Identify one of your top values, and let us kn...</td>\n",
       "      <td>Unlocking awareness and potential in myself an...</td>\n",
       "      <td>33</td>\n",
       "    </tr>\n",
       "  </tbody>\n",
       "</table>\n",
       "</div>"
      ],
      "text/plain": [
       "                            User    Module    Step  \\\n",
       "0              MP - Female 36 UK  Module_1  Step_1   \n",
       "1              MP - Female 36 UK  Module_1  Step_2   \n",
       "2              MP - Female 36 UK  Module_1  Step_2   \n",
       "3              MP - Female 36 UK  Module_1  Step_2   \n",
       "4              MP - Female 36 UK  Module_1  Step_2   \n",
       "5              MP - Female 36 UK  Module_1  Step_2   \n",
       "6              MP - Female 36 UK  Module_1  Step_3   \n",
       "7              MP - Female 36 UK  Module_1  Step_3   \n",
       "8              MP - Female 36 UK  Module_1  Step_4   \n",
       "9              MP - Female 36 UK  Module_1  Step_4   \n",
       "10             MP - Female 36 UK  Module_1  Step_4   \n",
       "11             MP - Female 36 UK  Module_1  Step_4   \n",
       "12             MP - Female 36 UK  Module_1  Step_4   \n",
       "13             MP - Female 36 UK  Module_1  Step_4   \n",
       "14             MP - Female 36 UK  Module_1  Step_4   \n",
       "16         KB - Female (30s) CAN  Module_1  Step_1   \n",
       "17         KB - Female (30s) CAN  Module_1  Step_2   \n",
       "18         KB - Female (30s) CAN  Module_1  Step_2   \n",
       "19         KB - Female (30s) CAN  Module_1  Step_2   \n",
       "20         KB - Female (30s) CAN  Module_1  Step_2   \n",
       "21         KB - Female (30s) CAN  Module_1  Step_2   \n",
       "22         KB - Female (30s) CAN  Module_1  Step_3   \n",
       "23         KB - Female (30s) CAN  Module_1  Step_3   \n",
       "24         KB - Female (30s) CAN  Module_1  Step_4   \n",
       "25         KB - Female (30s) CAN  Module_1  Step_4   \n",
       "26         KB - Female (30s) CAN  Module_1  Step_4   \n",
       "27         KB - Female (30s) CAN  Module_1  Step_4   \n",
       "28         KB - Female (30s) CAN  Module_1  Step_4   \n",
       "29         KB - Female (30s) CAN  Module_1  Step_4   \n",
       "30         KB - Female (30s) CAN  Module_1  Step_4   \n",
       "32  MW - Male (40s)  New Zealand  Module_1  Step_1   \n",
       "33  MW - Male (40s)  New Zealand  Module_1  Step_2   \n",
       "34  MW - Male (40s)  New Zealand  Module_1  Step_2   \n",
       "35  MW - Male (40s)  New Zealand  Module_1  Step_2   \n",
       "36  MW - Male (40s)  New Zealand  Module_1  Step_2   \n",
       "37  MW - Male (40s)  New Zealand  Module_1  Step_2   \n",
       "38  MW - Male (40s)  New Zealand  Module_1  Step_3   \n",
       "39  MW - Male (40s)  New Zealand  Module_1  Step_3   \n",
       "40  MW - Male (40s)  New Zealand  Module_1  Step_4   \n",
       "41  MW - Male (40s)  New Zealand  Module_1  Step_4   \n",
       "\n",
       "                                             Question  \\\n",
       "0   What are you excited about as you begin your L...   \n",
       "1   In what ways do you feel you are currently sho...   \n",
       "2   In what ways would you like to be showing up d...   \n",
       "3                       Why is this important to you?   \n",
       "4   What’s one small action you can take right now...   \n",
       "5                   How do you want to remember this?   \n",
       "6              What was that experience like for you?   \n",
       "7    What are you noticing about conscious breathing?   \n",
       "8   What has to be part of the way you live your l...   \n",
       "9   Identify one of your top values, and let us kn...   \n",
       "10  When you think of this value, what image or vi...   \n",
       "11  Identify another top value of yours, and let u...   \n",
       "12  When you think of this value, what sound, song...   \n",
       "13  Identify another top value of yours, and let u...   \n",
       "14  When you think of this value, what comes to mind?   \n",
       "16  What are you excited about as you begin your L...   \n",
       "17  In what ways do you feel you are currently sho...   \n",
       "18  In what ways would you like to be showing up d...   \n",
       "19                      Why is this important to you?   \n",
       "20  What’s one small action you can take right now...   \n",
       "21                  How do you want to remember this?   \n",
       "22             What was that experience like for you?   \n",
       "23   What are you noticing about conscious breathing?   \n",
       "24  What has to be part of the way you live your l...   \n",
       "25  Identify one of your top values, and let us kn...   \n",
       "26  When you think of this value, what image or vi...   \n",
       "27  Identify another top value of yours, and let u...   \n",
       "28  When you think of this value, what sound, song...   \n",
       "29  Identify another top value of yours, and let u...   \n",
       "30  When you think of this value, what comes to mind?   \n",
       "32  What are you excited about as you begin your L...   \n",
       "33  In what ways do you feel you are currently sho...   \n",
       "34  In what ways would you like to be showing up d...   \n",
       "35                      Why is this important to you?   \n",
       "36  What’s one small action you can take right now...   \n",
       "37                  How do you want to remember this?   \n",
       "38             What was that experience like for you?   \n",
       "39   What are you noticing about conscious breathing?   \n",
       "40  What has to be part of the way you live your l...   \n",
       "41  Identify one of your top values, and let us kn...   \n",
       "\n",
       "                                               Answer  Answer_length  \n",
       "0   Self development, learning new things about my...             16  \n",
       "1   Sociable and confidently interact with others,...             29  \n",
       "2                                        More relaxed              2  \n",
       "3   Just be confident in my skills and that I'll b...             20  \n",
       "4   If worry creeps in, take a step back, thinking...             10  \n",
       "5                        Worrying is the thief of joy              6  \n",
       "6        I enjoyed it, I find I don't switch off muxh             10  \n",
       "7                               Really helps to relax              4  \n",
       "8                                             Freedom              1  \n",
       "9   Adaptability, I think it encompasses lots of t...             39  \n",
       "10  Confidence, being at peace in a multitude of e...             18  \n",
       "11  Accountability, taking ownership of choices, n...             14  \n",
       "12  Nothing springs to mind, now trying to think o...             14  \n",
       "13  Openness, being open to opinions, people's, ot...             17  \n",
       "14                Really strong life long friendships              5  \n",
       "16  I'm always excited to learn new ways of lookin...             13  \n",
       "17  I'm leading a few projects at work that mean a...             22  \n",
       "18         Stop letting perfect be the enemy of done.              8  \n",
       "19  I will show up as more collaborative, creative...             11  \n",
       "20  Take time to release strict expectations on pr...             14  \n",
       "21                                      Grow as we go              4  \n",
       "22                                            Calming              1  \n",
       "23  Taking time to fully exhale expells the negati...             14  \n",
       "24                                          Integrity              1  \n",
       "25                                          Integrity              1  \n",
       "26                                          Signposts              1  \n",
       "27                                            Courage              1  \n",
       "28                              The beating of a drum              5  \n",
       "29                                             Equity              1  \n",
       "30                                             crates              1  \n",
       "32  Experiencing other approaches, concepts and in...             18  \n",
       "33  In a range of roles, as a father, husband, bro...             18  \n",
       "34  To be more conscious of my impact on others. E...             40  \n",
       "35  Just yesterday I was aware I had set up a proj...             91  \n",
       "36  Set up a meeting on Monday to connect in with ...             27  \n",
       "37                     Together slow down to speed up              6  \n",
       "38  Nice but a bit fast, my in breath lasted for t...             53  \n",
       "39  It is helpful, and useful when I remember to d...             11  \n",
       "40  Time with my Whanau (family, wife and 4 childr...             35  \n",
       "41  Unlocking awareness and potential in myself an...             33  "
      ]
     },
     "execution_count": 70,
     "metadata": {},
     "output_type": "execute_result"
    }
   ],
   "source": [
    "data.head(40)"
   ]
  },
  {
   "cell_type": "code",
   "execution_count": 71,
   "id": "692d0f81",
   "metadata": {},
   "outputs": [
    {
     "name": "stdout",
     "output_type": "stream",
     "text": [
      "Self development, learning new things about my way of being and how I interact with others\n",
      "90\n",
      "Sociable and confidently interact with others, will organise events and meet ups with friends and new colleagues. I am pretty self sufficient and lead myself through life and decisions\n",
      "184\n"
     ]
    }
   ],
   "source": [
    "print(data.Answer[0])\n",
    "print(len(data.Answer[0]))\n",
    "print(data.Answer[1])\n",
    "print(len(data.Answer[1]))"
   ]
  },
  {
   "cell_type": "code",
   "execution_count": 72,
   "id": "961eefa6",
   "metadata": {},
   "outputs": [
    {
     "data": {
      "text/plain": [
       "'Self development, learning new things about my way of being and how I interact with others Sociable and confidently interact with others, will organise events and meet ups with friends and new colleagues. I am pretty self sufficient and lead myself through life and decisions'"
      ]
     },
     "execution_count": 72,
     "metadata": {},
     "output_type": "execute_result"
    }
   ],
   "source": [
    "first_person_first_two = data.Answer[0] + \" \" + data.Answer[1]\n",
    "first_person_first_two"
   ]
  },
  {
   "cell_type": "code",
   "execution_count": 73,
   "id": "1190c315",
   "metadata": {},
   "outputs": [
    {
     "data": {
      "text/plain": [
       "275"
      ]
     },
     "execution_count": 73,
     "metadata": {},
     "output_type": "execute_result"
    }
   ],
   "source": [
    "len(first_person_first_two)"
   ]
  },
  {
   "cell_type": "code",
   "execution_count": 87,
   "id": "a871d8bd",
   "metadata": {},
   "outputs": [
    {
     "data": {
      "text/plain": [
       "Sentiment(polarity=0.8, subjectivity=1.0)"
      ]
     },
     "execution_count": 87,
     "metadata": {},
     "output_type": "execute_result"
    }
   ],
   "source": [
    "letssee = ' happy '\n",
    "blob2 = TextBlob(letssee)\n",
    "sentiment = blob2.sentiment\n",
    "sentiment"
   ]
  },
  {
   "cell_type": "code",
   "execution_count": 75,
   "id": "14c05de9",
   "metadata": {},
   "outputs": [
    {
     "data": {
      "text/plain": [
       "WordList(['this', 'food', 'was', 'really', 'boring'])"
      ]
     },
     "execution_count": 75,
     "metadata": {},
     "output_type": "execute_result"
    }
   ],
   "source": [
    "blob2.words"
   ]
  },
  {
   "cell_type": "code",
   "execution_count": null,
   "id": "d9e93cdc",
   "metadata": {},
   "outputs": [],
   "source": []
  }
 ],
 "metadata": {
  "kernelspec": {
   "display_name": "Python 3 (ipykernel)",
   "language": "python",
   "name": "python3"
  },
  "language_info": {
   "codemirror_mode": {
    "name": "ipython",
    "version": 3
   },
   "file_extension": ".py",
   "mimetype": "text/x-python",
   "name": "python",
   "nbconvert_exporter": "python",
   "pygments_lexer": "ipython3",
   "version": "3.8.12"
  },
  "toc": {
   "base_numbering": 1,
   "nav_menu": {},
   "number_sections": true,
   "sideBar": true,
   "skip_h1_title": false,
   "title_cell": "Table of Contents",
   "title_sidebar": "Contents",
   "toc_cell": false,
   "toc_position": {},
   "toc_section_display": true,
   "toc_window_display": true
  }
 },
 "nbformat": 4,
 "nbformat_minor": 5
}
