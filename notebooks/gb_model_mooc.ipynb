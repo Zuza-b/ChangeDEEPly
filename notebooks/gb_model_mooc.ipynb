{
 "cells": [
  {
   "cell_type": "code",
   "execution_count": 1,
   "id": "93c31b6e",
   "metadata": {},
   "outputs": [],
   "source": [
    "import pandas as pd\n",
    "import numpy as np\n",
    "from sklearn.preprocessing import OneHotEncoder, StandardScaler, FunctionTransformer\n",
    "from datetime import datetime\n",
    "from sklearn import set_config\n",
    "from sklearn.pipeline import Pipeline, FeatureUnion\n",
    "from sklearn.compose import ColumnTransformer\n",
    "set_config(display='diagram')\n",
    "from sklearn.model_selection import train_test_split"
   ]
  },
  {
   "cell_type": "code",
   "execution_count": 2,
   "id": "32e93efc",
   "metadata": {
    "scrolled": false
   },
   "outputs": [
    {
     "data": {
      "text/html": [
       "<div>\n",
       "<style scoped>\n",
       "    .dataframe tbody tr th:only-of-type {\n",
       "        vertical-align: middle;\n",
       "    }\n",
       "\n",
       "    .dataframe tbody tr th {\n",
       "        vertical-align: top;\n",
       "    }\n",
       "\n",
       "    .dataframe thead th {\n",
       "        text-align: right;\n",
       "    }\n",
       "</style>\n",
       "<table border=\"1\" class=\"dataframe\">\n",
       "  <thead>\n",
       "    <tr style=\"text-align: right;\">\n",
       "      <th></th>\n",
       "      <th>Unnamed: 0</th>\n",
       "      <th>username</th>\n",
       "      <th>session_id</th>\n",
       "      <th>action</th>\n",
       "      <th>truth</th>\n",
       "      <th>id</th>\n",
       "      <th>start</th>\n",
       "      <th>end</th>\n",
       "      <th>category</th>\n",
       "      <th>gender</th>\n",
       "      <th>education</th>\n",
       "      <th>birth</th>\n",
       "      <th>timestamp</th>\n",
       "      <th>timediff</th>\n",
       "    </tr>\n",
       "  </thead>\n",
       "  <tbody>\n",
       "    <tr>\n",
       "      <th>0</th>\n",
       "      <td>7084339</td>\n",
       "      <td>24057</td>\n",
       "      <td>df8ec8baa5af2f61e5426307be9a5e75</td>\n",
       "      <td>load_video</td>\n",
       "      <td>1</td>\n",
       "      <td>809</td>\n",
       "      <td>2015-05-11 20:00:00</td>\n",
       "      <td>2015-07-17 00:00:00</td>\n",
       "      <td>economics</td>\n",
       "      <td>male</td>\n",
       "      <td>Master's</td>\n",
       "      <td>1987.0</td>\n",
       "      <td>1433436084</td>\n",
       "      <td>0.0</td>\n",
       "    </tr>\n",
       "    <tr>\n",
       "      <th>1</th>\n",
       "      <td>7084345</td>\n",
       "      <td>24057</td>\n",
       "      <td>df8ec8baa5af2f61e5426307be9a5e75</td>\n",
       "      <td>play_video</td>\n",
       "      <td>1</td>\n",
       "      <td>809</td>\n",
       "      <td>2015-05-11 20:00:00</td>\n",
       "      <td>2015-07-17 00:00:00</td>\n",
       "      <td>economics</td>\n",
       "      <td>male</td>\n",
       "      <td>Master's</td>\n",
       "      <td>1987.0</td>\n",
       "      <td>1433436087</td>\n",
       "      <td>3.0</td>\n",
       "    </tr>\n",
       "  </tbody>\n",
       "</table>\n",
       "</div>"
      ],
      "text/plain": [
       "   Unnamed: 0  username                        session_id      action  truth  \\\n",
       "0     7084339     24057  df8ec8baa5af2f61e5426307be9a5e75  load_video      1   \n",
       "1     7084345     24057  df8ec8baa5af2f61e5426307be9a5e75  play_video      1   \n",
       "\n",
       "    id                start                  end   category gender education  \\\n",
       "0  809  2015-05-11 20:00:00  2015-07-17 00:00:00  economics   male  Master's   \n",
       "1  809  2015-05-11 20:00:00  2015-07-17 00:00:00  economics   male  Master's   \n",
       "\n",
       "    birth   timestamp  timediff  \n",
       "0  1987.0  1433436084       0.0  \n",
       "1  1987.0  1433436087       3.0  "
      ]
     },
     "execution_count": 2,
     "metadata": {},
     "output_type": "execute_result"
    }
   ],
   "source": [
    "df = pd.read_csv(\"/Users/azin/code/azinmjalali/ChangeDEEPly/raw_data/df_full_withtime.csv\") \n",
    "df.head(2)"
   ]
  },
  {
   "cell_type": "code",
   "execution_count": 13,
   "id": "f52bf187",
   "metadata": {},
   "outputs": [
    {
     "data": {
      "text/plain": [
       "16.582652"
      ]
     },
     "execution_count": 13,
     "metadata": {},
     "output_type": "execute_result"
    }
   ],
   "source": [
    "8291326*0.000002"
   ]
  },
  {
   "cell_type": "code",
   "execution_count": 14,
   "id": "9708ddbf",
   "metadata": {},
   "outputs": [],
   "source": [
    "df_train, df_test = train_test_split(df, test_size=0.000002, random_state=42)"
   ]
  },
  {
   "cell_type": "code",
   "execution_count": 15,
   "id": "4e2f8063",
   "metadata": {},
   "outputs": [
    {
     "data": {
      "text/plain": [
       "(17, 14)"
      ]
     },
     "execution_count": 15,
     "metadata": {},
     "output_type": "execute_result"
    }
   ],
   "source": [
    "df_test.shape"
   ]
  },
  {
   "cell_type": "code",
   "execution_count": 16,
   "id": "e82214f7",
   "metadata": {},
   "outputs": [
    {
     "data": {
      "text/plain": [
       "(8291309, 14)"
      ]
     },
     "execution_count": 16,
     "metadata": {},
     "output_type": "execute_result"
    }
   ],
   "source": [
    "df_train.shape"
   ]
  },
  {
   "cell_type": "code",
   "execution_count": 17,
   "id": "b6d7767c",
   "metadata": {},
   "outputs": [],
   "source": [
    "df_train.to_csv('/Users/azin/code/azinmjalali/ChangeDEEPly/raw_data/df_full_withtime_train.csv')\n",
    "df_test.to_csv('/Users/azin/code/azinmjalali/ChangeDEEPly/raw_data/df_full_withtime_predict.csv')"
   ]
  },
  {
   "cell_type": "code",
   "execution_count": 4,
   "id": "d68393c4",
   "metadata": {},
   "outputs": [],
   "source": [
    "import seaborn as sns\n",
    "import matplotlib.pyplot as plt "
   ]
  },
  {
   "cell_type": "code",
   "execution_count": 7,
   "id": "b051f2be",
   "metadata": {
    "scrolled": true
   },
   "outputs": [
    {
     "data": {
      "text/plain": [
       "<AxesSubplot:xlabel='action', ylabel='Count'>"
      ]
     },
     "execution_count": 7,
     "metadata": {},
     "output_type": "execute_result"
    },
    {
     "data": {
      "image/png": "[encoded data removed]",
      "text/plain": [
       "<Figure size 432x288 with 1 Axes>"
      ]
     },
     "metadata": {
      "needs_background": "light"
     },
     "output_type": "display_data"
    }
   ],
   "source": [
    "plt.figure(figsize = (1))\n",
    "sns.histplot(df[\"action\"])"
   ]
  },
  {
   "cell_type": "code",
   "execution_count": null,
   "id": "c49f1ceb",
   "metadata": {},
   "outputs": [],
   "source": [
    "# Start a figure\n",
    "plt.figure(figsize=(10,3))\n",
    "# First subplot\n",
    "plt.subplot(1,2,1)\n",
    "plt.plot(years_x, coal_y, label=\"Drop out\")\n",
    "plt.plot(years_x, gas_y, label = \"gas\")\n",
    "plt.title('coal vs. gas')\n",
    "plt.legend()\n",
    "# Second subplot\n",
    "plt.subplot(1,2,2) \n",
    "plt.plot(years_x, total_y, label=\"total\", c='black')\n",
    "plt.title(\"all energies\")\n",
    "# Global figure methods\n",
    "plt.suptitle('US electricity CO2 emissions')\n",
    "plt.show()"
   ]
  },
  {
   "cell_type": "code",
   "execution_count": null,
   "id": "ca6a12fa",
   "metadata": {},
   "outputs": [],
   "source": [
    "# Destructuring initialization\n",
    "fig, axs = plt.subplots(1, 2, figsize=(10,3)) # axs is a (1,2) nd-array\n",
    "\n",
    "# First subplot\n",
    "axs[0].plot(years_x, coal_y, label=\"coal\")\n",
    "axs[0].plot(years_x, gas_y, label = \"gas\")\n",
    "axs[0].set_title('coal vs. gas')\n",
    "axs[0].legend()\n",
    "# Second subplot\n",
    "axs[1].plot(years_x, total_y, c='black')\n",
    "axs[1].set_title('all energies')\n",
    "# Global figure methods\n",
    "plt.suptitle('US electricity CO2 emissions')\n",
    "plt.show()"
   ]
  },
  {
   "cell_type": "code",
   "execution_count": 102,
   "id": "8c380987",
   "metadata": {},
   "outputs": [
    {
     "data": {
      "text/html": [
       "<div>\n",
       "<style scoped>\n",
       "    .dataframe tbody tr th:only-of-type {\n",
       "        vertical-align: middle;\n",
       "    }\n",
       "\n",
       "    .dataframe tbody tr th {\n",
       "        vertical-align: top;\n",
       "    }\n",
       "\n",
       "    .dataframe thead th {\n",
       "        text-align: right;\n",
       "    }\n",
       "</style>\n",
       "<table border=\"1\" class=\"dataframe\">\n",
       "  <thead>\n",
       "    <tr style=\"text-align: right;\">\n",
       "      <th></th>\n",
       "      <th>Unnamed: 0</th>\n",
       "      <th>username</th>\n",
       "      <th>session_id</th>\n",
       "      <th>action</th>\n",
       "      <th>truth</th>\n",
       "      <th>id</th>\n",
       "      <th>start</th>\n",
       "      <th>end</th>\n",
       "      <th>category</th>\n",
       "      <th>gender</th>\n",
       "      <th>education</th>\n",
       "      <th>birth</th>\n",
       "      <th>timestamp</th>\n",
       "      <th>timediff</th>\n",
       "      <th>count</th>\n",
       "    </tr>\n",
       "  </thead>\n",
       "  <tbody>\n",
       "    <tr>\n",
       "      <th>0</th>\n",
       "      <td>7084339</td>\n",
       "      <td>24057</td>\n",
       "      <td>df8ec8baa5af2f61e5426307be9a5e75</td>\n",
       "      <td>load_video</td>\n",
       "      <td>1</td>\n",
       "      <td>809</td>\n",
       "      <td>2015-05-11 20:00:00</td>\n",
       "      <td>2015-07-17 00:00:00</td>\n",
       "      <td>economics</td>\n",
       "      <td>male</td>\n",
       "      <td>Master's</td>\n",
       "      <td>1987.0</td>\n",
       "      <td>1433436084</td>\n",
       "      <td>0.0</td>\n",
       "      <td>1</td>\n",
       "    </tr>\n",
       "    <tr>\n",
       "      <th>1</th>\n",
       "      <td>7084345</td>\n",
       "      <td>24057</td>\n",
       "      <td>df8ec8baa5af2f61e5426307be9a5e75</td>\n",
       "      <td>play_video</td>\n",
       "      <td>1</td>\n",
       "      <td>809</td>\n",
       "      <td>2015-05-11 20:00:00</td>\n",
       "      <td>2015-07-17 00:00:00</td>\n",
       "      <td>economics</td>\n",
       "      <td>male</td>\n",
       "      <td>Master's</td>\n",
       "      <td>1987.0</td>\n",
       "      <td>1433436087</td>\n",
       "      <td>3.0</td>\n",
       "      <td>1</td>\n",
       "    </tr>\n",
       "    <tr>\n",
       "      <th>2</th>\n",
       "      <td>7084340</td>\n",
       "      <td>24057</td>\n",
       "      <td>df8ec8baa5af2f61e5426307be9a5e75</td>\n",
       "      <td>close_courseware</td>\n",
       "      <td>1</td>\n",
       "      <td>809</td>\n",
       "      <td>2015-05-11 20:00:00</td>\n",
       "      <td>2015-07-17 00:00:00</td>\n",
       "      <td>economics</td>\n",
       "      <td>male</td>\n",
       "      <td>Master's</td>\n",
       "      <td>1987.0</td>\n",
       "      <td>1433436102</td>\n",
       "      <td>15.0</td>\n",
       "      <td>1</td>\n",
       "    </tr>\n",
       "    <tr>\n",
       "      <th>3</th>\n",
       "      <td>16055144</td>\n",
       "      <td>670347</td>\n",
       "      <td>95925c14aa0a330a541359eb244352e4</td>\n",
       "      <td>stop_video</td>\n",
       "      <td>1</td>\n",
       "      <td>34</td>\n",
       "      <td>2015-05-05 08:00:00</td>\n",
       "      <td>2015-09-10 01:00:00</td>\n",
       "      <td>social science</td>\n",
       "      <td>male</td>\n",
       "      <td>Bachelor's</td>\n",
       "      <td>1993.0</td>\n",
       "      <td>1433436152</td>\n",
       "      <td>0.0</td>\n",
       "      <td>1</td>\n",
       "    </tr>\n",
       "    <tr>\n",
       "      <th>4</th>\n",
       "      <td>16055145</td>\n",
       "      <td>670347</td>\n",
       "      <td>95925c14aa0a330a541359eb244352e4</td>\n",
       "      <td>pause_video</td>\n",
       "      <td>1</td>\n",
       "      <td>34</td>\n",
       "      <td>2015-05-05 08:00:00</td>\n",
       "      <td>2015-09-10 01:00:00</td>\n",
       "      <td>social science</td>\n",
       "      <td>male</td>\n",
       "      <td>Bachelor's</td>\n",
       "      <td>1993.0</td>\n",
       "      <td>1433436152</td>\n",
       "      <td>0.0</td>\n",
       "      <td>1</td>\n",
       "    </tr>\n",
       "  </tbody>\n",
       "</table>\n",
       "</div>"
      ],
      "text/plain": [
       "   Unnamed: 0  username                        session_id            action  \\\n",
       "0     7084339     24057  df8ec8baa5af2f61e5426307be9a5e75        load_video   \n",
       "1     7084345     24057  df8ec8baa5af2f61e5426307be9a5e75        play_video   \n",
       "2     7084340     24057  df8ec8baa5af2f61e5426307be9a5e75  close_courseware   \n",
       "3    16055144    670347  95925c14aa0a330a541359eb244352e4        stop_video   \n",
       "4    16055145    670347  95925c14aa0a330a541359eb244352e4       pause_video   \n",
       "\n",
       "   truth   id                start                  end        category  \\\n",
       "0      1  809  2015-05-11 20:00:00  2015-07-17 00:00:00       economics   \n",
       "1      1  809  2015-05-11 20:00:00  2015-07-17 00:00:00       economics   \n",
       "2      1  809  2015-05-11 20:00:00  2015-07-17 00:00:00       economics   \n",
       "3      1   34  2015-05-05 08:00:00  2015-09-10 01:00:00  social science   \n",
       "4      1   34  2015-05-05 08:00:00  2015-09-10 01:00:00  social science   \n",
       "\n",
       "  gender   education   birth   timestamp  timediff  count  \n",
       "0   male    Master's  1987.0  1433436084       0.0      1  \n",
       "1   male    Master's  1987.0  1433436087       3.0      1  \n",
       "2   male    Master's  1987.0  1433436102      15.0      1  \n",
       "3   male  Bachelor's  1993.0  1433436152       0.0      1  \n",
       "4   male  Bachelor's  1993.0  1433436152       0.0      1  "
      ]
     },
     "execution_count": 102,
     "metadata": {},
     "output_type": "execute_result"
    }
   ],
   "source": [
    "for_plotting = df\n",
    "for_plotting.head()"
   ]
  },
  {
   "cell_type": "code",
   "execution_count": 103,
   "id": "524294fe",
   "metadata": {},
   "outputs": [
    {
     "data": {
      "text/html": [
       "<div>\n",
       "<style scoped>\n",
       "    .dataframe tbody tr th:only-of-type {\n",
       "        vertical-align: middle;\n",
       "    }\n",
       "\n",
       "    .dataframe tbody tr th {\n",
       "        vertical-align: top;\n",
       "    }\n",
       "\n",
       "    .dataframe thead th {\n",
       "        text-align: right;\n",
       "    }\n",
       "</style>\n",
       "<table border=\"1\" class=\"dataframe\">\n",
       "  <thead>\n",
       "    <tr style=\"text-align: right;\">\n",
       "      <th></th>\n",
       "      <th>username</th>\n",
       "      <th>id</th>\n",
       "      <th>action</th>\n",
       "      <th>Unnamed: 0</th>\n",
       "      <th>truth</th>\n",
       "      <th>birth</th>\n",
       "      <th>timestamp</th>\n",
       "      <th>timediff</th>\n",
       "      <th>count</th>\n",
       "    </tr>\n",
       "  </thead>\n",
       "  <tbody>\n",
       "    <tr>\n",
       "      <th>0</th>\n",
       "      <td>6938</td>\n",
       "      <td>34</td>\n",
       "      <td>close_courseware</td>\n",
       "      <td>144493256</td>\n",
       "      <td>9</td>\n",
       "      <td>17838.0</td>\n",
       "      <td>12902193563</td>\n",
       "      <td>50527.0</td>\n",
       "      <td>9</td>\n",
       "    </tr>\n",
       "    <tr>\n",
       "      <th>1</th>\n",
       "      <td>6938</td>\n",
       "      <td>34</td>\n",
       "      <td>load_video</td>\n",
       "      <td>48164456</td>\n",
       "      <td>3</td>\n",
       "      <td>5946.0</td>\n",
       "      <td>4300660906</td>\n",
       "      <td>8.0</td>\n",
       "      <td>3</td>\n",
       "    </tr>\n",
       "    <tr>\n",
       "      <th>2</th>\n",
       "      <td>6938</td>\n",
       "      <td>34</td>\n",
       "      <td>pause_video</td>\n",
       "      <td>80274097</td>\n",
       "      <td>5</td>\n",
       "      <td>9910.0</td>\n",
       "      <td>7167735163</td>\n",
       "      <td>223.0</td>\n",
       "      <td>5</td>\n",
       "    </tr>\n",
       "    <tr>\n",
       "      <th>3</th>\n",
       "      <td>6938</td>\n",
       "      <td>34</td>\n",
       "      <td>play_video</td>\n",
       "      <td>80274106</td>\n",
       "      <td>5</td>\n",
       "      <td>9910.0</td>\n",
       "      <td>7167734752</td>\n",
       "      <td>792.0</td>\n",
       "      <td>5</td>\n",
       "    </tr>\n",
       "    <tr>\n",
       "      <th>4</th>\n",
       "      <td>6938</td>\n",
       "      <td>34</td>\n",
       "      <td>problem_check</td>\n",
       "      <td>96328813</td>\n",
       "      <td>6</td>\n",
       "      <td>11892.0</td>\n",
       "      <td>8601526569</td>\n",
       "      <td>903.0</td>\n",
       "      <td>6</td>\n",
       "    </tr>\n",
       "  </tbody>\n",
       "</table>\n",
       "</div>"
      ],
      "text/plain": [
       "   username  id            action  Unnamed: 0  truth    birth    timestamp  \\\n",
       "0      6938  34  close_courseware   144493256      9  17838.0  12902193563   \n",
       "1      6938  34        load_video    48164456      3   5946.0   4300660906   \n",
       "2      6938  34       pause_video    80274097      5   9910.0   7167735163   \n",
       "3      6938  34        play_video    80274106      5   9910.0   7167734752   \n",
       "4      6938  34     problem_check    96328813      6  11892.0   8601526569   \n",
       "\n",
       "   timediff  count  \n",
       "0   50527.0      9  \n",
       "1       8.0      3  \n",
       "2     223.0      5  \n",
       "3     792.0      5  \n",
       "4     903.0      6  "
      ]
     },
     "execution_count": 103,
     "metadata": {},
     "output_type": "execute_result"
    }
   ],
   "source": [
    "for_plotting = df\n",
    "for_plotting['count'] = 1\n",
    "for_plotting = for_plotting.groupby(['username','id', 'action']).sum()\n",
    "for_plotting = for_plotting.reset_index()\n",
    "for_plotting.head()"
   ]
  },
  {
   "cell_type": "code",
   "execution_count": 108,
   "id": "40c2e2de",
   "metadata": {},
   "outputs": [
    {
     "data": {
      "image/png": "[encoded data removed]",
      "text/plain": [
       "<Figure size 1440x432 with 2 Axes>"
      ]
     },
     "metadata": {},
     "output_type": "display_data"
    }
   ],
   "source": [
    "sns.set_style(\"whitegrid\")\n",
    "sns.set_context(\"poster\")\n",
    "\n",
    "plt.figure(figsize=(20, 6))\n",
    "\n",
    "plt.subplot(1, 2, 1)\n",
    "plt.title('Drop out')\n",
    "sns.boxplot(data=for_plotting[for_plotting['truth'] >= 1], x=\"action\", y=\"count\")\n",
    "plt.xticks(rotation = 90)\n",
    "plt.ylim(0, 60)\n",
    "\n",
    "plt.subplot(1, 2, 2)\n",
    "plt.title('Completed')\n",
    "sns.boxplot(data=for_plotting[for_plotting['truth'] == 0], x=\"action\", y=\"count\")\n",
    "plt.xticks(rotation = 90);\n",
    "plt.ylim(0, 60);"
   ]
  },
  {
   "cell_type": "code",
   "execution_count": 68,
   "id": "1fde5f03",
   "metadata": {},
   "outputs": [
    {
     "data": {
      "text/plain": [
       "17"
      ]
     },
     "execution_count": 68,
     "metadata": {},
     "output_type": "execute_result"
    }
   ],
   "source": [
    "df['category'].nunique()"
   ]
  },
  {
   "cell_type": "code",
   "execution_count": 45,
   "id": "2117a51e",
   "metadata": {},
   "outputs": [
    {
     "data": {
      "text/plain": [
       "(8322174, 14)"
      ]
     },
     "execution_count": 45,
     "metadata": {},
     "output_type": "execute_result"
    }
   ],
   "source": [
    "df.shape"
   ]
  },
  {
   "cell_type": "code",
   "execution_count": 3,
   "id": "4f5ce42a",
   "metadata": {},
   "outputs": [],
   "source": [
    "df = df[df['birth']<2010]"
   ]
  },
  {
   "cell_type": "code",
   "execution_count": 75,
   "id": "e6e431c8",
   "metadata": {
    "scrolled": true
   },
   "outputs": [
    {
     "data": {
      "text/plain": [
       "(10000, 14)"
      ]
     },
     "execution_count": 75,
     "metadata": {},
     "output_type": "execute_result"
    }
   ],
   "source": [
    "df.shape"
   ]
  },
  {
   "cell_type": "code",
   "execution_count": 4,
   "id": "e8e18b47",
   "metadata": {},
   "outputs": [],
   "source": [
    "df = df.reset_index(drop=True)"
   ]
  },
  {
   "cell_type": "code",
   "execution_count": null,
   "id": "8b36802c",
   "metadata": {},
   "outputs": [],
   "source": []
  },
  {
   "cell_type": "code",
   "execution_count": 5,
   "id": "4fe445e8",
   "metadata": {},
   "outputs": [],
   "source": [
    "def remove_duplicates(data):\n",
    "    return pd.DataFrame(data).drop_duplicates()\n",
    "\n",
    "def age_constructor(data):\n",
    "    return pd.DatetimeIndex(pd.to_datetime(data['start'], format='%Y/%m/%d')).year - pd.DatetimeIndex(pd.to_datetime(data['birth'], format='%Y')).year\n",
    "\n",
    "def array_reshape(data):\n",
    "    output = np.reshape(data, (-1, 1))\n",
    "    return output\n",
    "\n",
    "def action_time(data):\n",
    "    ohe_action = OneHotEncoder(sparse = False) # Instanciate encoder\n",
    "    ohe_action.fit(data[['action']]) # Fit encoder\n",
    "    action_encoded = ohe_action.transform(data[['action']])\n",
    "    action_X = pd.DataFrame(action_encoded)\n",
    "    timediff = list(data['timediff'])\n",
    "    for row in range(len(action_X.index)):\n",
    "        action_X.iloc[row,action_X.columns[action_X.iloc[row,] == 1][0]] = timediff[row]\n",
    "    action_X['username'] = data[['username']]\n",
    "    action_X['id'] = data[['id']]\n",
    "    return action_X\n",
    "\n",
    "def combining_actions(dataframe):\n",
    "    output_df = dataframe.groupby(['username', 'id']).sum()\n",
    "    return output_df\n",
    "\n",
    "def keep_unchanged(data):\n",
    "    return pd.DataFrame(data[[\"truth\", \"username\", \"id\"]])\n",
    "\n",
    "# def calc_percentage_course(df):\n",
    "#     df['course_start'] = pd.to_datetime(df['start'])\n",
    "#     df['course_start'] = df.course_start.values.astype(np.int64) // 10 ** 9\n",
    "#     df['course_end'] = pd.to_datetime(df['end'])\n",
    "#     df['course_end'] = df.course_end.values.astype(np.int64) // 10 ** 9\n",
    "#     #df = df.drop(['start'], axis = 1)\n",
    "#     #df = df.drop(['end'], axis = 1)\n",
    "#     df['percent_course'] = (df['timestamp'] - df['course_start'])/(df['course_end'] - df['course_start'])\n",
    "#     users_min_30per_comp = df[df['percent_course'] >= 0.3]['username'].unique()\n",
    "#     df = df[df['username'].isin(users_min_30per_comp)][df['percent_course'] < 0.3]\n",
    "#     return df"
   ]
  },
  {
   "cell_type": "code",
   "execution_count": 6,
   "id": "863d3e79",
   "metadata": {},
   "outputs": [],
   "source": [
    "# filtering_pipe = Pipeline([\n",
    "#     ('first_part_of_the_course', FunctionTransformer(calc_percentage_course))\n",
    "# ])\n",
    "\n",
    "gender_pipe = Pipeline([\n",
    "    ('ohe_gender', OneHotEncoder(drop='if_binary', sparse = False, handle_unknown='ignore'))\n",
    "])\n",
    "\n",
    "category_edu_pipe = Pipeline([\n",
    "    ('ohe', OneHotEncoder(handle_unknown='ignore', sparse = False))\n",
    "])\n",
    "\n",
    "keep_unchanged_pipe = Pipeline([\n",
    "    ('keep_unchanged', FunctionTransformer(keep_unchanged))#,\n",
    "    #('reshape', FunctionTransformer(array_reshape))\n",
    "])\n",
    "\n",
    "age_pipe = Pipeline([\n",
    "    ('age_calc', FunctionTransformer(age_constructor)),\n",
    "    ('reshape', FunctionTransformer(array_reshape)),\n",
    "    ('stdscaler', StandardScaler())\n",
    "])\n",
    "\n",
    "actions_pipe = Pipeline([\n",
    "    ('ohe_action', FunctionTransformer(action_time)),\n",
    "    ('combining_actions', FunctionTransformer(combining_actions)),\n",
    "    ('stdscaler', StandardScaler())\n",
    "])\n",
    "\n",
    "basic_encoding_pipe = ColumnTransformer([\n",
    "    ('keep_unchanged', keep_unchanged_pipe, [\"truth\",\"username\", \"id\"]),\n",
    "    ('category_edu_pipe', category_edu_pipe, [\"category\", \"education\"]),\n",
    "    ('gender_pipe', gender_pipe, [\"gender\"])\n",
    "], remainder=\"drop\")\n",
    "\n",
    "preprocessing_pipe = FeatureUnion([\n",
    "    ('basic_encoding_pipe', basic_encoding_pipe),\n",
    "    ('age', age_pipe)\n",
    "])\n",
    "\n",
    "removing_duplicates_pipe = Pipeline([\n",
    "    ('preprocessing_pipe', preprocessing_pipe),\n",
    "    ('remove_duplicates', FunctionTransformer(remove_duplicates))\n",
    "])\n",
    "\n",
    "merge_pipe = FeatureUnion([\n",
    "    ('all_without_duplicates', removing_duplicates_pipe),\n",
    "    ('actions', actions_pipe)\n",
    "])\n",
    "\n",
    "# final_pipe = Pipeline([\n",
    "#     ('merge_pipe', merge_pipe),\n",
    "#     ('filtering_pipe', filtering_pipe)\n",
    "# ])\n",
    "# final_pipe"
   ]
  },
  {
   "cell_type": "code",
   "execution_count": 60,
   "id": "cde392e0",
   "metadata": {},
   "outputs": [],
   "source": [
    "test_temp = df.iloc[:50000,]"
   ]
  },
  {
   "cell_type": "code",
   "execution_count": 70,
   "id": "f0d6da0b",
   "metadata": {},
   "outputs": [
    {
     "data": {
      "text/html": [
       "<div>\n",
       "<style scoped>\n",
       "    .dataframe tbody tr th:only-of-type {\n",
       "        vertical-align: middle;\n",
       "    }\n",
       "\n",
       "    .dataframe tbody tr th {\n",
       "        vertical-align: top;\n",
       "    }\n",
       "\n",
       "    .dataframe thead th {\n",
       "        text-align: right;\n",
       "    }\n",
       "</style>\n",
       "<table border=\"1\" class=\"dataframe\">\n",
       "  <thead>\n",
       "    <tr style=\"text-align: right;\">\n",
       "      <th></th>\n",
       "      <th>index</th>\n",
       "      <th>Unnamed: 0</th>\n",
       "      <th>username</th>\n",
       "      <th>session_id</th>\n",
       "      <th>action</th>\n",
       "      <th>truth</th>\n",
       "      <th>id</th>\n",
       "      <th>start</th>\n",
       "      <th>end</th>\n",
       "      <th>category</th>\n",
       "      <th>gender</th>\n",
       "      <th>education</th>\n",
       "      <th>birth</th>\n",
       "      <th>timestamp</th>\n",
       "      <th>timediff</th>\n",
       "    </tr>\n",
       "  </thead>\n",
       "  <tbody>\n",
       "    <tr>\n",
       "      <th>0</th>\n",
       "      <td>0</td>\n",
       "      <td>7084339</td>\n",
       "      <td>24057</td>\n",
       "      <td>df8ec8baa5af2f61e5426307be9a5e75</td>\n",
       "      <td>load_video</td>\n",
       "      <td>1</td>\n",
       "      <td>809</td>\n",
       "      <td>2015-05-11 20:00:00</td>\n",
       "      <td>2015-07-17 00:00:00</td>\n",
       "      <td>economics</td>\n",
       "      <td>male</td>\n",
       "      <td>Master's</td>\n",
       "      <td>1987.0</td>\n",
       "      <td>1433436084</td>\n",
       "      <td>0.0</td>\n",
       "    </tr>\n",
       "    <tr>\n",
       "      <th>1</th>\n",
       "      <td>1</td>\n",
       "      <td>7084345</td>\n",
       "      <td>24057</td>\n",
       "      <td>df8ec8baa5af2f61e5426307be9a5e75</td>\n",
       "      <td>play_video</td>\n",
       "      <td>1</td>\n",
       "      <td>809</td>\n",
       "      <td>2015-05-11 20:00:00</td>\n",
       "      <td>2015-07-17 00:00:00</td>\n",
       "      <td>economics</td>\n",
       "      <td>male</td>\n",
       "      <td>Master's</td>\n",
       "      <td>1987.0</td>\n",
       "      <td>1433436087</td>\n",
       "      <td>3.0</td>\n",
       "    </tr>\n",
       "    <tr>\n",
       "      <th>2</th>\n",
       "      <td>2</td>\n",
       "      <td>7084340</td>\n",
       "      <td>24057</td>\n",
       "      <td>df8ec8baa5af2f61e5426307be9a5e75</td>\n",
       "      <td>close_courseware</td>\n",
       "      <td>1</td>\n",
       "      <td>809</td>\n",
       "      <td>2015-05-11 20:00:00</td>\n",
       "      <td>2015-07-17 00:00:00</td>\n",
       "      <td>economics</td>\n",
       "      <td>male</td>\n",
       "      <td>Master's</td>\n",
       "      <td>1987.0</td>\n",
       "      <td>1433436102</td>\n",
       "      <td>15.0</td>\n",
       "    </tr>\n",
       "    <tr>\n",
       "      <th>3</th>\n",
       "      <td>3</td>\n",
       "      <td>16055144</td>\n",
       "      <td>670347</td>\n",
       "      <td>95925c14aa0a330a541359eb244352e4</td>\n",
       "      <td>stop_video</td>\n",
       "      <td>1</td>\n",
       "      <td>34</td>\n",
       "      <td>2015-05-05 08:00:00</td>\n",
       "      <td>2015-09-10 01:00:00</td>\n",
       "      <td>social science</td>\n",
       "      <td>male</td>\n",
       "      <td>Bachelor's</td>\n",
       "      <td>1993.0</td>\n",
       "      <td>1433436152</td>\n",
       "      <td>0.0</td>\n",
       "    </tr>\n",
       "    <tr>\n",
       "      <th>4</th>\n",
       "      <td>4</td>\n",
       "      <td>16055145</td>\n",
       "      <td>670347</td>\n",
       "      <td>95925c14aa0a330a541359eb244352e4</td>\n",
       "      <td>pause_video</td>\n",
       "      <td>1</td>\n",
       "      <td>34</td>\n",
       "      <td>2015-05-05 08:00:00</td>\n",
       "      <td>2015-09-10 01:00:00</td>\n",
       "      <td>social science</td>\n",
       "      <td>male</td>\n",
       "      <td>Bachelor's</td>\n",
       "      <td>1993.0</td>\n",
       "      <td>1433436152</td>\n",
       "      <td>0.0</td>\n",
       "    </tr>\n",
       "  </tbody>\n",
       "</table>\n",
       "</div>"
      ],
      "text/plain": [
       "   index  Unnamed: 0  username                        session_id  \\\n",
       "0      0     7084339     24057  df8ec8baa5af2f61e5426307be9a5e75   \n",
       "1      1     7084345     24057  df8ec8baa5af2f61e5426307be9a5e75   \n",
       "2      2     7084340     24057  df8ec8baa5af2f61e5426307be9a5e75   \n",
       "3      3    16055144    670347  95925c14aa0a330a541359eb244352e4   \n",
       "4      4    16055145    670347  95925c14aa0a330a541359eb244352e4   \n",
       "\n",
       "             action  truth   id                start                  end  \\\n",
       "0        load_video      1  809  2015-05-11 20:00:00  2015-07-17 00:00:00   \n",
       "1        play_video      1  809  2015-05-11 20:00:00  2015-07-17 00:00:00   \n",
       "2  close_courseware      1  809  2015-05-11 20:00:00  2015-07-17 00:00:00   \n",
       "3        stop_video      1   34  2015-05-05 08:00:00  2015-09-10 01:00:00   \n",
       "4       pause_video      1   34  2015-05-05 08:00:00  2015-09-10 01:00:00   \n",
       "\n",
       "         category gender   education   birth   timestamp  timediff  \n",
       "0       economics   male    Master's  1987.0  1433436084       0.0  \n",
       "1       economics   male    Master's  1987.0  1433436087       3.0  \n",
       "2       economics   male    Master's  1987.0  1433436102      15.0  \n",
       "3  social science   male  Bachelor's  1993.0  1433436152       0.0  \n",
       "4  social science   male  Bachelor's  1993.0  1433436152       0.0  "
      ]
     },
     "execution_count": 70,
     "metadata": {},
     "output_type": "execute_result"
    }
   ],
   "source": [
    "test_temp.head()"
   ]
  },
  {
   "cell_type": "code",
   "execution_count": 7,
   "id": "570bdaff",
   "metadata": {},
   "outputs": [
    {
     "ename": "KeyboardInterrupt",
     "evalue": "",
     "output_type": "error",
     "traceback": [
      "\u001b[0;31m---------------------------------------------------------------------------\u001b[0m",
      "\u001b[0;31mKeyboardInterrupt\u001b[0m                         Traceback (most recent call last)",
      "\u001b[0;32m/var/folders/_7/w5j4nb6d4bbc4twx86srr4240000gn/T/ipykernel_11530/2144416718.py\u001b[0m in \u001b[0;36m<module>\u001b[0;34m\u001b[0m\n\u001b[0;32m----> 1\u001b[0;31m \u001b[0mdf_trans\u001b[0m \u001b[0;34m=\u001b[0m \u001b[0mpd\u001b[0m\u001b[0;34m.\u001b[0m\u001b[0mDataFrame\u001b[0m\u001b[0;34m(\u001b[0m\u001b[0mmerge_pipe\u001b[0m\u001b[0;34m.\u001b[0m\u001b[0mfit_transform\u001b[0m\u001b[0;34m(\u001b[0m\u001b[0mdf\u001b[0m\u001b[0;34m)\u001b[0m\u001b[0;34m)\u001b[0m\u001b[0;34m\u001b[0m\u001b[0;34m\u001b[0m\u001b[0m\n\u001b[0m\u001b[1;32m      2\u001b[0m \u001b[0mdf_trans\u001b[0m\u001b[0;34m.\u001b[0m\u001b[0mhead\u001b[0m\u001b[0;34m(\u001b[0m\u001b[0;36m2\u001b[0m\u001b[0;34m)\u001b[0m\u001b[0;34m\u001b[0m\u001b[0;34m\u001b[0m\u001b[0m\n",
      "\u001b[0;32m~/.pyenv/versions/3.8.12/envs/lewagon/lib/python3.8/site-packages/sklearn/pipeline.py\u001b[0m in \u001b[0;36mfit_transform\u001b[0;34m(self, X, y, **fit_params)\u001b[0m\n\u001b[1;32m   1170\u001b[0m             \u001b[0msum\u001b[0m \u001b[0mof\u001b[0m\u001b[0;31m \u001b[0m\u001b[0;31m`\u001b[0m\u001b[0mn_components\u001b[0m\u001b[0;31m`\u001b[0m \u001b[0;34m(\u001b[0m\u001b[0moutput\u001b[0m \u001b[0mdimension\u001b[0m\u001b[0;34m)\u001b[0m \u001b[0mover\u001b[0m \u001b[0mtransformers\u001b[0m\u001b[0;34m.\u001b[0m\u001b[0;34m\u001b[0m\u001b[0;34m\u001b[0m\u001b[0m\n\u001b[1;32m   1171\u001b[0m         \"\"\"\n\u001b[0;32m-> 1172\u001b[0;31m         \u001b[0mresults\u001b[0m \u001b[0;34m=\u001b[0m \u001b[0mself\u001b[0m\u001b[0;34m.\u001b[0m\u001b[0m_parallel_func\u001b[0m\u001b[0;34m(\u001b[0m\u001b[0mX\u001b[0m\u001b[0;34m,\u001b[0m \u001b[0my\u001b[0m\u001b[0;34m,\u001b[0m \u001b[0mfit_params\u001b[0m\u001b[0;34m,\u001b[0m \u001b[0m_fit_transform_one\u001b[0m\u001b[0;34m)\u001b[0m\u001b[0;34m\u001b[0m\u001b[0;34m\u001b[0m\u001b[0m\n\u001b[0m\u001b[1;32m   1173\u001b[0m         \u001b[0;32mif\u001b[0m \u001b[0;32mnot\u001b[0m \u001b[0mresults\u001b[0m\u001b[0;34m:\u001b[0m\u001b[0;34m\u001b[0m\u001b[0;34m\u001b[0m\u001b[0m\n\u001b[1;32m   1174\u001b[0m             \u001b[0;31m# All transformers are None\u001b[0m\u001b[0;34m\u001b[0m\u001b[0;34m\u001b[0m\u001b[0;34m\u001b[0m\u001b[0m\n",
      "\u001b[0;32m~/.pyenv/versions/3.8.12/envs/lewagon/lib/python3.8/site-packages/sklearn/pipeline.py\u001b[0m in \u001b[0;36m_parallel_func\u001b[0;34m(self, X, y, fit_params, func)\u001b[0m\n\u001b[1;32m   1192\u001b[0m         \u001b[0mtransformers\u001b[0m \u001b[0;34m=\u001b[0m \u001b[0mlist\u001b[0m\u001b[0;34m(\u001b[0m\u001b[0mself\u001b[0m\u001b[0;34m.\u001b[0m\u001b[0m_iter\u001b[0m\u001b[0;34m(\u001b[0m\u001b[0;34m)\u001b[0m\u001b[0;34m)\u001b[0m\u001b[0;34m\u001b[0m\u001b[0;34m\u001b[0m\u001b[0m\n\u001b[1;32m   1193\u001b[0m \u001b[0;34m\u001b[0m\u001b[0m\n\u001b[0;32m-> 1194\u001b[0;31m         return Parallel(n_jobs=self.n_jobs)(\n\u001b[0m\u001b[1;32m   1195\u001b[0m             delayed(func)(\n\u001b[1;32m   1196\u001b[0m                 \u001b[0mtransformer\u001b[0m\u001b[0;34m,\u001b[0m\u001b[0;34m\u001b[0m\u001b[0;34m\u001b[0m\u001b[0m\n",
      "\u001b[0;32m~/.pyenv/versions/3.8.12/envs/lewagon/lib/python3.8/site-packages/joblib/parallel.py\u001b[0m in \u001b[0;36m__call__\u001b[0;34m(self, iterable)\u001b[0m\n\u001b[1;32m   1039\u001b[0m             \u001b[0;31m# remaining jobs.\u001b[0m\u001b[0;34m\u001b[0m\u001b[0;34m\u001b[0m\u001b[0;34m\u001b[0m\u001b[0m\n\u001b[1;32m   1040\u001b[0m             \u001b[0mself\u001b[0m\u001b[0;34m.\u001b[0m\u001b[0m_iterating\u001b[0m \u001b[0;34m=\u001b[0m \u001b[0;32mFalse\u001b[0m\u001b[0;34m\u001b[0m\u001b[0;34m\u001b[0m\u001b[0m\n\u001b[0;32m-> 1041\u001b[0;31m             \u001b[0;32mif\u001b[0m \u001b[0mself\u001b[0m\u001b[0;34m.\u001b[0m\u001b[0mdispatch_one_batch\u001b[0m\u001b[0;34m(\u001b[0m\u001b[0miterator\u001b[0m\u001b[0;34m)\u001b[0m\u001b[0;34m:\u001b[0m\u001b[0;34m\u001b[0m\u001b[0;34m\u001b[0m\u001b[0m\n\u001b[0m\u001b[1;32m   1042\u001b[0m                 \u001b[0mself\u001b[0m\u001b[0;34m.\u001b[0m\u001b[0m_iterating\u001b[0m \u001b[0;34m=\u001b[0m \u001b[0mself\u001b[0m\u001b[0;34m.\u001b[0m\u001b[0m_original_iterator\u001b[0m \u001b[0;32mis\u001b[0m \u001b[0;32mnot\u001b[0m \u001b[0;32mNone\u001b[0m\u001b[0;34m\u001b[0m\u001b[0;34m\u001b[0m\u001b[0m\n\u001b[1;32m   1043\u001b[0m \u001b[0;34m\u001b[0m\u001b[0m\n",
      "\u001b[0;32m~/.pyenv/versions/3.8.12/envs/lewagon/lib/python3.8/site-packages/joblib/parallel.py\u001b[0m in \u001b[0;36mdispatch_one_batch\u001b[0;34m(self, iterator)\u001b[0m\n\u001b[1;32m    857\u001b[0m                 \u001b[0;32mreturn\u001b[0m \u001b[0;32mFalse\u001b[0m\u001b[0;34m\u001b[0m\u001b[0;34m\u001b[0m\u001b[0m\n\u001b[1;32m    858\u001b[0m             \u001b[0;32melse\u001b[0m\u001b[0;34m:\u001b[0m\u001b[0;34m\u001b[0m\u001b[0;34m\u001b[0m\u001b[0m\n\u001b[0;32m--> 859\u001b[0;31m                 \u001b[0mself\u001b[0m\u001b[0;34m.\u001b[0m\u001b[0m_dispatch\u001b[0m\u001b[0;34m(\u001b[0m\u001b[0mtasks\u001b[0m\u001b[0;34m)\u001b[0m\u001b[0;34m\u001b[0m\u001b[0;34m\u001b[0m\u001b[0m\n\u001b[0m\u001b[1;32m    860\u001b[0m                 \u001b[0;32mreturn\u001b[0m \u001b[0;32mTrue\u001b[0m\u001b[0;34m\u001b[0m\u001b[0;34m\u001b[0m\u001b[0m\n\u001b[1;32m    861\u001b[0m \u001b[0;34m\u001b[0m\u001b[0m\n",
      "\u001b[0;32m~/.pyenv/versions/3.8.12/envs/lewagon/lib/python3.8/site-packages/joblib/parallel.py\u001b[0m in \u001b[0;36m_dispatch\u001b[0;34m(self, batch)\u001b[0m\n\u001b[1;32m    775\u001b[0m         \u001b[0;32mwith\u001b[0m \u001b[0mself\u001b[0m\u001b[0;34m.\u001b[0m\u001b[0m_lock\u001b[0m\u001b[0;34m:\u001b[0m\u001b[0;34m\u001b[0m\u001b[0;34m\u001b[0m\u001b[0m\n\u001b[1;32m    776\u001b[0m             \u001b[0mjob_idx\u001b[0m \u001b[0;34m=\u001b[0m \u001b[0mlen\u001b[0m\u001b[0;34m(\u001b[0m\u001b[0mself\u001b[0m\u001b[0;34m.\u001b[0m\u001b[0m_jobs\u001b[0m\u001b[0;34m)\u001b[0m\u001b[0;34m\u001b[0m\u001b[0;34m\u001b[0m\u001b[0m\n\u001b[0;32m--> 777\u001b[0;31m             \u001b[0mjob\u001b[0m \u001b[0;34m=\u001b[0m \u001b[0mself\u001b[0m\u001b[0;34m.\u001b[0m\u001b[0m_backend\u001b[0m\u001b[0;34m.\u001b[0m\u001b[0mapply_async\u001b[0m\u001b[0;34m(\u001b[0m\u001b[0mbatch\u001b[0m\u001b[0;34m,\u001b[0m \u001b[0mcallback\u001b[0m\u001b[0;34m=\u001b[0m\u001b[0mcb\u001b[0m\u001b[0;34m)\u001b[0m\u001b[0;34m\u001b[0m\u001b[0;34m\u001b[0m\u001b[0m\n\u001b[0m\u001b[1;32m    778\u001b[0m             \u001b[0;31m# A job can complete so quickly than its callback is\u001b[0m\u001b[0;34m\u001b[0m\u001b[0;34m\u001b[0m\u001b[0;34m\u001b[0m\u001b[0m\n\u001b[1;32m    779\u001b[0m             \u001b[0;31m# called before we get here, causing self._jobs to\u001b[0m\u001b[0;34m\u001b[0m\u001b[0;34m\u001b[0m\u001b[0;34m\u001b[0m\u001b[0m\n",
      "\u001b[0;32m~/.pyenv/versions/3.8.12/envs/lewagon/lib/python3.8/site-packages/joblib/_parallel_backends.py\u001b[0m in \u001b[0;36mapply_async\u001b[0;34m(self, func, callback)\u001b[0m\n\u001b[1;32m    206\u001b[0m     \u001b[0;32mdef\u001b[0m \u001b[0mapply_async\u001b[0m\u001b[0;34m(\u001b[0m\u001b[0mself\u001b[0m\u001b[0;34m,\u001b[0m \u001b[0mfunc\u001b[0m\u001b[0;34m,\u001b[0m \u001b[0mcallback\u001b[0m\u001b[0;34m=\u001b[0m\u001b[0;32mNone\u001b[0m\u001b[0;34m)\u001b[0m\u001b[0;34m:\u001b[0m\u001b[0;34m\u001b[0m\u001b[0;34m\u001b[0m\u001b[0m\n\u001b[1;32m    207\u001b[0m         \u001b[0;34m\"\"\"Schedule a func to be run\"\"\"\u001b[0m\u001b[0;34m\u001b[0m\u001b[0;34m\u001b[0m\u001b[0m\n\u001b[0;32m--> 208\u001b[0;31m         \u001b[0mresult\u001b[0m \u001b[0;34m=\u001b[0m \u001b[0mImmediateResult\u001b[0m\u001b[0;34m(\u001b[0m\u001b[0mfunc\u001b[0m\u001b[0;34m)\u001b[0m\u001b[0;34m\u001b[0m\u001b[0;34m\u001b[0m\u001b[0m\n\u001b[0m\u001b[1;32m    209\u001b[0m         \u001b[0;32mif\u001b[0m \u001b[0mcallback\u001b[0m\u001b[0;34m:\u001b[0m\u001b[0;34m\u001b[0m\u001b[0;34m\u001b[0m\u001b[0m\n\u001b[1;32m    210\u001b[0m             \u001b[0mcallback\u001b[0m\u001b[0;34m(\u001b[0m\u001b[0mresult\u001b[0m\u001b[0;34m)\u001b[0m\u001b[0;34m\u001b[0m\u001b[0;34m\u001b[0m\u001b[0m\n",
      "\u001b[0;32m~/.pyenv/versions/3.8.12/envs/lewagon/lib/python3.8/site-packages/joblib/_parallel_backends.py\u001b[0m in \u001b[0;36m__init__\u001b[0;34m(self, batch)\u001b[0m\n\u001b[1;32m    570\u001b[0m         \u001b[0;31m# Don't delay the application, to avoid keeping the input\u001b[0m\u001b[0;34m\u001b[0m\u001b[0;34m\u001b[0m\u001b[0;34m\u001b[0m\u001b[0m\n\u001b[1;32m    571\u001b[0m         \u001b[0;31m# arguments in memory\u001b[0m\u001b[0;34m\u001b[0m\u001b[0;34m\u001b[0m\u001b[0;34m\u001b[0m\u001b[0m\n\u001b[0;32m--> 572\u001b[0;31m         \u001b[0mself\u001b[0m\u001b[0;34m.\u001b[0m\u001b[0mresults\u001b[0m \u001b[0;34m=\u001b[0m \u001b[0mbatch\u001b[0m\u001b[0;34m(\u001b[0m\u001b[0;34m)\u001b[0m\u001b[0;34m\u001b[0m\u001b[0;34m\u001b[0m\u001b[0m\n\u001b[0m\u001b[1;32m    573\u001b[0m \u001b[0;34m\u001b[0m\u001b[0m\n\u001b[1;32m    574\u001b[0m     \u001b[0;32mdef\u001b[0m \u001b[0mget\u001b[0m\u001b[0;34m(\u001b[0m\u001b[0mself\u001b[0m\u001b[0;34m)\u001b[0m\u001b[0;34m:\u001b[0m\u001b[0;34m\u001b[0m\u001b[0;34m\u001b[0m\u001b[0m\n",
      "\u001b[0;32m~/.pyenv/versions/3.8.12/envs/lewagon/lib/python3.8/site-packages/joblib/parallel.py\u001b[0m in \u001b[0;36m__call__\u001b[0;34m(self)\u001b[0m\n\u001b[1;32m    260\u001b[0m         \u001b[0;31m# change the default number of processes to -1\u001b[0m\u001b[0;34m\u001b[0m\u001b[0;34m\u001b[0m\u001b[0;34m\u001b[0m\u001b[0m\n\u001b[1;32m    261\u001b[0m         \u001b[0;32mwith\u001b[0m \u001b[0mparallel_backend\u001b[0m\u001b[0;34m(\u001b[0m\u001b[0mself\u001b[0m\u001b[0;34m.\u001b[0m\u001b[0m_backend\u001b[0m\u001b[0;34m,\u001b[0m \u001b[0mn_jobs\u001b[0m\u001b[0;34m=\u001b[0m\u001b[0mself\u001b[0m\u001b[0;34m.\u001b[0m\u001b[0m_n_jobs\u001b[0m\u001b[0;34m)\u001b[0m\u001b[0;34m:\u001b[0m\u001b[0;34m\u001b[0m\u001b[0;34m\u001b[0m\u001b[0m\n\u001b[0;32m--> 262\u001b[0;31m             return [func(*args, **kwargs)\n\u001b[0m\u001b[1;32m    263\u001b[0m                     for func, args, kwargs in self.items]\n\u001b[1;32m    264\u001b[0m \u001b[0;34m\u001b[0m\u001b[0m\n",
      "\u001b[0;32m~/.pyenv/versions/3.8.12/envs/lewagon/lib/python3.8/site-packages/joblib/parallel.py\u001b[0m in \u001b[0;36m<listcomp>\u001b[0;34m(.0)\u001b[0m\n\u001b[1;32m    260\u001b[0m         \u001b[0;31m# change the default number of processes to -1\u001b[0m\u001b[0;34m\u001b[0m\u001b[0;34m\u001b[0m\u001b[0;34m\u001b[0m\u001b[0m\n\u001b[1;32m    261\u001b[0m         \u001b[0;32mwith\u001b[0m \u001b[0mparallel_backend\u001b[0m\u001b[0;34m(\u001b[0m\u001b[0mself\u001b[0m\u001b[0;34m.\u001b[0m\u001b[0m_backend\u001b[0m\u001b[0;34m,\u001b[0m \u001b[0mn_jobs\u001b[0m\u001b[0;34m=\u001b[0m\u001b[0mself\u001b[0m\u001b[0;34m.\u001b[0m\u001b[0m_n_jobs\u001b[0m\u001b[0;34m)\u001b[0m\u001b[0;34m:\u001b[0m\u001b[0;34m\u001b[0m\u001b[0;34m\u001b[0m\u001b[0m\n\u001b[0;32m--> 262\u001b[0;31m             return [func(*args, **kwargs)\n\u001b[0m\u001b[1;32m    263\u001b[0m                     for func, args, kwargs in self.items]\n\u001b[1;32m    264\u001b[0m \u001b[0;34m\u001b[0m\u001b[0m\n",
      "\u001b[0;32m~/.pyenv/versions/3.8.12/envs/lewagon/lib/python3.8/site-packages/sklearn/utils/fixes.py\u001b[0m in \u001b[0;36m__call__\u001b[0;34m(self, *args, **kwargs)\u001b[0m\n\u001b[1;32m    214\u001b[0m     \u001b[0;32mdef\u001b[0m \u001b[0m__call__\u001b[0m\u001b[0;34m(\u001b[0m\u001b[0mself\u001b[0m\u001b[0;34m,\u001b[0m \u001b[0;34m*\u001b[0m\u001b[0margs\u001b[0m\u001b[0;34m,\u001b[0m \u001b[0;34m**\u001b[0m\u001b[0mkwargs\u001b[0m\u001b[0;34m)\u001b[0m\u001b[0;34m:\u001b[0m\u001b[0;34m\u001b[0m\u001b[0;34m\u001b[0m\u001b[0m\n\u001b[1;32m    215\u001b[0m         \u001b[0;32mwith\u001b[0m \u001b[0mconfig_context\u001b[0m\u001b[0;34m(\u001b[0m\u001b[0;34m**\u001b[0m\u001b[0mself\u001b[0m\u001b[0;34m.\u001b[0m\u001b[0mconfig\u001b[0m\u001b[0;34m)\u001b[0m\u001b[0;34m:\u001b[0m\u001b[0;34m\u001b[0m\u001b[0;34m\u001b[0m\u001b[0m\n\u001b[0;32m--> 216\u001b[0;31m             \u001b[0;32mreturn\u001b[0m \u001b[0mself\u001b[0m\u001b[0;34m.\u001b[0m\u001b[0mfunction\u001b[0m\u001b[0;34m(\u001b[0m\u001b[0;34m*\u001b[0m\u001b[0margs\u001b[0m\u001b[0;34m,\u001b[0m \u001b[0;34m**\u001b[0m\u001b[0mkwargs\u001b[0m\u001b[0;34m)\u001b[0m\u001b[0;34m\u001b[0m\u001b[0;34m\u001b[0m\u001b[0m\n\u001b[0m\u001b[1;32m    217\u001b[0m \u001b[0;34m\u001b[0m\u001b[0m\n\u001b[1;32m    218\u001b[0m \u001b[0;34m\u001b[0m\u001b[0m\n",
      "\u001b[0;32m~/.pyenv/versions/3.8.12/envs/lewagon/lib/python3.8/site-packages/sklearn/pipeline.py\u001b[0m in \u001b[0;36m_fit_transform_one\u001b[0;34m(transformer, X, y, weight, message_clsname, message, **fit_params)\u001b[0m\n\u001b[1;32m    891\u001b[0m     \u001b[0;32mwith\u001b[0m \u001b[0m_print_elapsed_time\u001b[0m\u001b[0;34m(\u001b[0m\u001b[0mmessage_clsname\u001b[0m\u001b[0;34m,\u001b[0m \u001b[0mmessage\u001b[0m\u001b[0;34m)\u001b[0m\u001b[0;34m:\u001b[0m\u001b[0;34m\u001b[0m\u001b[0;34m\u001b[0m\u001b[0m\n\u001b[1;32m    892\u001b[0m         \u001b[0;32mif\u001b[0m \u001b[0mhasattr\u001b[0m\u001b[0;34m(\u001b[0m\u001b[0mtransformer\u001b[0m\u001b[0;34m,\u001b[0m \u001b[0;34m\"fit_transform\"\u001b[0m\u001b[0;34m)\u001b[0m\u001b[0;34m:\u001b[0m\u001b[0;34m\u001b[0m\u001b[0;34m\u001b[0m\u001b[0m\n\u001b[0;32m--> 893\u001b[0;31m             \u001b[0mres\u001b[0m \u001b[0;34m=\u001b[0m \u001b[0mtransformer\u001b[0m\u001b[0;34m.\u001b[0m\u001b[0mfit_transform\u001b[0m\u001b[0;34m(\u001b[0m\u001b[0mX\u001b[0m\u001b[0;34m,\u001b[0m \u001b[0my\u001b[0m\u001b[0;34m,\u001b[0m \u001b[0;34m**\u001b[0m\u001b[0mfit_params\u001b[0m\u001b[0;34m)\u001b[0m\u001b[0;34m\u001b[0m\u001b[0;34m\u001b[0m\u001b[0m\n\u001b[0m\u001b[1;32m    894\u001b[0m         \u001b[0;32melse\u001b[0m\u001b[0;34m:\u001b[0m\u001b[0;34m\u001b[0m\u001b[0;34m\u001b[0m\u001b[0m\n\u001b[1;32m    895\u001b[0m             \u001b[0mres\u001b[0m \u001b[0;34m=\u001b[0m \u001b[0mtransformer\u001b[0m\u001b[0;34m.\u001b[0m\u001b[0mfit\u001b[0m\u001b[0;34m(\u001b[0m\u001b[0mX\u001b[0m\u001b[0;34m,\u001b[0m \u001b[0my\u001b[0m\u001b[0;34m,\u001b[0m \u001b[0;34m**\u001b[0m\u001b[0mfit_params\u001b[0m\u001b[0;34m)\u001b[0m\u001b[0;34m.\u001b[0m\u001b[0mtransform\u001b[0m\u001b[0;34m(\u001b[0m\u001b[0mX\u001b[0m\u001b[0;34m)\u001b[0m\u001b[0;34m\u001b[0m\u001b[0;34m\u001b[0m\u001b[0m\n",
      "\u001b[0;32m~/.pyenv/versions/3.8.12/envs/lewagon/lib/python3.8/site-packages/sklearn/pipeline.py\u001b[0m in \u001b[0;36mfit_transform\u001b[0;34m(self, X, y, **fit_params)\u001b[0m\n\u001b[1;32m    432\u001b[0m             \u001b[0mfit_params_last_step\u001b[0m \u001b[0;34m=\u001b[0m \u001b[0mfit_params_steps\u001b[0m\u001b[0;34m[\u001b[0m\u001b[0mself\u001b[0m\u001b[0;34m.\u001b[0m\u001b[0msteps\u001b[0m\u001b[0;34m[\u001b[0m\u001b[0;34m-\u001b[0m\u001b[0;36m1\u001b[0m\u001b[0;34m]\u001b[0m\u001b[0;34m[\u001b[0m\u001b[0;36m0\u001b[0m\u001b[0;34m]\u001b[0m\u001b[0;34m]\u001b[0m\u001b[0;34m\u001b[0m\u001b[0;34m\u001b[0m\u001b[0m\n\u001b[1;32m    433\u001b[0m             \u001b[0;32mif\u001b[0m \u001b[0mhasattr\u001b[0m\u001b[0;34m(\u001b[0m\u001b[0mlast_step\u001b[0m\u001b[0;34m,\u001b[0m \u001b[0;34m\"fit_transform\"\u001b[0m\u001b[0;34m)\u001b[0m\u001b[0;34m:\u001b[0m\u001b[0;34m\u001b[0m\u001b[0;34m\u001b[0m\u001b[0m\n\u001b[0;32m--> 434\u001b[0;31m                 \u001b[0;32mreturn\u001b[0m \u001b[0mlast_step\u001b[0m\u001b[0;34m.\u001b[0m\u001b[0mfit_transform\u001b[0m\u001b[0;34m(\u001b[0m\u001b[0mXt\u001b[0m\u001b[0;34m,\u001b[0m \u001b[0my\u001b[0m\u001b[0;34m,\u001b[0m \u001b[0;34m**\u001b[0m\u001b[0mfit_params_last_step\u001b[0m\u001b[0;34m)\u001b[0m\u001b[0;34m\u001b[0m\u001b[0;34m\u001b[0m\u001b[0m\n\u001b[0m\u001b[1;32m    435\u001b[0m             \u001b[0;32melse\u001b[0m\u001b[0;34m:\u001b[0m\u001b[0;34m\u001b[0m\u001b[0;34m\u001b[0m\u001b[0m\n\u001b[1;32m    436\u001b[0m                 \u001b[0;32mreturn\u001b[0m \u001b[0mlast_step\u001b[0m\u001b[0;34m.\u001b[0m\u001b[0mfit\u001b[0m\u001b[0;34m(\u001b[0m\u001b[0mXt\u001b[0m\u001b[0;34m,\u001b[0m \u001b[0my\u001b[0m\u001b[0;34m,\u001b[0m \u001b[0;34m**\u001b[0m\u001b[0mfit_params_last_step\u001b[0m\u001b[0;34m)\u001b[0m\u001b[0;34m.\u001b[0m\u001b[0mtransform\u001b[0m\u001b[0;34m(\u001b[0m\u001b[0mXt\u001b[0m\u001b[0;34m)\u001b[0m\u001b[0;34m\u001b[0m\u001b[0;34m\u001b[0m\u001b[0m\n",
      "\u001b[0;32m~/.pyenv/versions/3.8.12/envs/lewagon/lib/python3.8/site-packages/sklearn/base.py\u001b[0m in \u001b[0;36mfit_transform\u001b[0;34m(self, X, y, **fit_params)\u001b[0m\n\u001b[1;32m    850\u001b[0m         \u001b[0;32mif\u001b[0m \u001b[0my\u001b[0m \u001b[0;32mis\u001b[0m \u001b[0;32mNone\u001b[0m\u001b[0;34m:\u001b[0m\u001b[0;34m\u001b[0m\u001b[0;34m\u001b[0m\u001b[0m\n\u001b[1;32m    851\u001b[0m             \u001b[0;31m# fit method of arity 1 (unsupervised transformation)\u001b[0m\u001b[0;34m\u001b[0m\u001b[0;34m\u001b[0m\u001b[0;34m\u001b[0m\u001b[0m\n\u001b[0;32m--> 852\u001b[0;31m             \u001b[0;32mreturn\u001b[0m \u001b[0mself\u001b[0m\u001b[0;34m.\u001b[0m\u001b[0mfit\u001b[0m\u001b[0;34m(\u001b[0m\u001b[0mX\u001b[0m\u001b[0;34m,\u001b[0m \u001b[0;34m**\u001b[0m\u001b[0mfit_params\u001b[0m\u001b[0;34m)\u001b[0m\u001b[0;34m.\u001b[0m\u001b[0mtransform\u001b[0m\u001b[0;34m(\u001b[0m\u001b[0mX\u001b[0m\u001b[0;34m)\u001b[0m\u001b[0;34m\u001b[0m\u001b[0;34m\u001b[0m\u001b[0m\n\u001b[0m\u001b[1;32m    853\u001b[0m         \u001b[0;32melse\u001b[0m\u001b[0;34m:\u001b[0m\u001b[0;34m\u001b[0m\u001b[0;34m\u001b[0m\u001b[0m\n\u001b[1;32m    854\u001b[0m             \u001b[0;31m# fit method of arity 2 (supervised transformation)\u001b[0m\u001b[0;34m\u001b[0m\u001b[0;34m\u001b[0m\u001b[0;34m\u001b[0m\u001b[0m\n",
      "\u001b[0;32m~/.pyenv/versions/3.8.12/envs/lewagon/lib/python3.8/site-packages/sklearn/preprocessing/_function_transformer.py\u001b[0m in \u001b[0;36mtransform\u001b[0;34m(self, X)\u001b[0m\n\u001b[1;32m    180\u001b[0m         \"\"\"\n\u001b[1;32m    181\u001b[0m         \u001b[0mX\u001b[0m \u001b[0;34m=\u001b[0m \u001b[0mself\u001b[0m\u001b[0;34m.\u001b[0m\u001b[0m_check_input\u001b[0m\u001b[0;34m(\u001b[0m\u001b[0mX\u001b[0m\u001b[0;34m,\u001b[0m \u001b[0mreset\u001b[0m\u001b[0;34m=\u001b[0m\u001b[0;32mFalse\u001b[0m\u001b[0;34m)\u001b[0m\u001b[0;34m\u001b[0m\u001b[0;34m\u001b[0m\u001b[0m\n\u001b[0;32m--> 182\u001b[0;31m         \u001b[0;32mreturn\u001b[0m \u001b[0mself\u001b[0m\u001b[0;34m.\u001b[0m\u001b[0m_transform\u001b[0m\u001b[0;34m(\u001b[0m\u001b[0mX\u001b[0m\u001b[0;34m,\u001b[0m \u001b[0mfunc\u001b[0m\u001b[0;34m=\u001b[0m\u001b[0mself\u001b[0m\u001b[0;34m.\u001b[0m\u001b[0mfunc\u001b[0m\u001b[0;34m,\u001b[0m \u001b[0mkw_args\u001b[0m\u001b[0;34m=\u001b[0m\u001b[0mself\u001b[0m\u001b[0;34m.\u001b[0m\u001b[0mkw_args\u001b[0m\u001b[0;34m)\u001b[0m\u001b[0;34m\u001b[0m\u001b[0;34m\u001b[0m\u001b[0m\n\u001b[0m\u001b[1;32m    183\u001b[0m \u001b[0;34m\u001b[0m\u001b[0m\n\u001b[1;32m    184\u001b[0m     \u001b[0;32mdef\u001b[0m \u001b[0minverse_transform\u001b[0m\u001b[0;34m(\u001b[0m\u001b[0mself\u001b[0m\u001b[0;34m,\u001b[0m \u001b[0mX\u001b[0m\u001b[0;34m)\u001b[0m\u001b[0;34m:\u001b[0m\u001b[0;34m\u001b[0m\u001b[0;34m\u001b[0m\u001b[0m\n",
      "\u001b[0;32m~/.pyenv/versions/3.8.12/envs/lewagon/lib/python3.8/site-packages/sklearn/preprocessing/_function_transformer.py\u001b[0m in \u001b[0;36m_transform\u001b[0;34m(self, X, func, kw_args)\u001b[0m\n\u001b[1;32m    203\u001b[0m             \u001b[0mfunc\u001b[0m \u001b[0;34m=\u001b[0m \u001b[0m_identity\u001b[0m\u001b[0;34m\u001b[0m\u001b[0;34m\u001b[0m\u001b[0m\n\u001b[1;32m    204\u001b[0m \u001b[0;34m\u001b[0m\u001b[0m\n\u001b[0;32m--> 205\u001b[0;31m         \u001b[0;32mreturn\u001b[0m \u001b[0mfunc\u001b[0m\u001b[0;34m(\u001b[0m\u001b[0mX\u001b[0m\u001b[0;34m,\u001b[0m \u001b[0;34m**\u001b[0m\u001b[0;34m(\u001b[0m\u001b[0mkw_args\u001b[0m \u001b[0;32mif\u001b[0m \u001b[0mkw_args\u001b[0m \u001b[0;32melse\u001b[0m \u001b[0;34m{\u001b[0m\u001b[0;34m}\u001b[0m\u001b[0;34m)\u001b[0m\u001b[0;34m)\u001b[0m\u001b[0;34m\u001b[0m\u001b[0;34m\u001b[0m\u001b[0m\n\u001b[0m\u001b[1;32m    206\u001b[0m \u001b[0;34m\u001b[0m\u001b[0m\n\u001b[1;32m    207\u001b[0m     \u001b[0;32mdef\u001b[0m \u001b[0m__sklearn_is_fitted__\u001b[0m\u001b[0;34m(\u001b[0m\u001b[0mself\u001b[0m\u001b[0;34m)\u001b[0m\u001b[0;34m:\u001b[0m\u001b[0;34m\u001b[0m\u001b[0;34m\u001b[0m\u001b[0m\n",
      "\u001b[0;32m/var/folders/_7/w5j4nb6d4bbc4twx86srr4240000gn/T/ipykernel_11530/750015683.py\u001b[0m in \u001b[0;36mremove_duplicates\u001b[0;34m(data)\u001b[0m\n\u001b[1;32m      1\u001b[0m \u001b[0;32mdef\u001b[0m \u001b[0mremove_duplicates\u001b[0m\u001b[0;34m(\u001b[0m\u001b[0mdata\u001b[0m\u001b[0;34m)\u001b[0m\u001b[0;34m:\u001b[0m\u001b[0;34m\u001b[0m\u001b[0;34m\u001b[0m\u001b[0m\n\u001b[0;32m----> 2\u001b[0;31m     \u001b[0;32mreturn\u001b[0m \u001b[0mpd\u001b[0m\u001b[0;34m.\u001b[0m\u001b[0mDataFrame\u001b[0m\u001b[0;34m(\u001b[0m\u001b[0mdata\u001b[0m\u001b[0;34m)\u001b[0m\u001b[0;34m.\u001b[0m\u001b[0mdrop_duplicates\u001b[0m\u001b[0;34m(\u001b[0m\u001b[0;34m)\u001b[0m\u001b[0;34m\u001b[0m\u001b[0;34m\u001b[0m\u001b[0m\n\u001b[0m\u001b[1;32m      3\u001b[0m \u001b[0;34m\u001b[0m\u001b[0m\n\u001b[1;32m      4\u001b[0m \u001b[0;32mdef\u001b[0m \u001b[0mage_constructor\u001b[0m\u001b[0;34m(\u001b[0m\u001b[0mdata\u001b[0m\u001b[0;34m)\u001b[0m\u001b[0;34m:\u001b[0m\u001b[0;34m\u001b[0m\u001b[0;34m\u001b[0m\u001b[0m\n\u001b[1;32m      5\u001b[0m     \u001b[0;32mreturn\u001b[0m \u001b[0mpd\u001b[0m\u001b[0;34m.\u001b[0m\u001b[0mDatetimeIndex\u001b[0m\u001b[0;34m(\u001b[0m\u001b[0mpd\u001b[0m\u001b[0;34m.\u001b[0m\u001b[0mto_datetime\u001b[0m\u001b[0;34m(\u001b[0m\u001b[0mdata\u001b[0m\u001b[0;34m[\u001b[0m\u001b[0;34m'start'\u001b[0m\u001b[0;34m]\u001b[0m\u001b[0;34m,\u001b[0m \u001b[0mformat\u001b[0m\u001b[0;34m=\u001b[0m\u001b[0;34m'%Y/%m/%d'\u001b[0m\u001b[0;34m)\u001b[0m\u001b[0;34m)\u001b[0m\u001b[0;34m.\u001b[0m\u001b[0myear\u001b[0m \u001b[0;34m-\u001b[0m \u001b[0mpd\u001b[0m\u001b[0;34m.\u001b[0m\u001b[0mDatetimeIndex\u001b[0m\u001b[0;34m(\u001b[0m\u001b[0mpd\u001b[0m\u001b[0;34m.\u001b[0m\u001b[0mto_datetime\u001b[0m\u001b[0;34m(\u001b[0m\u001b[0mdata\u001b[0m\u001b[0;34m[\u001b[0m\u001b[0;34m'birth'\u001b[0m\u001b[0;34m]\u001b[0m\u001b[0;34m,\u001b[0m \u001b[0mformat\u001b[0m\u001b[0;34m=\u001b[0m\u001b[0;34m'%Y'\u001b[0m\u001b[0;34m)\u001b[0m\u001b[0;34m)\u001b[0m\u001b[0;34m.\u001b[0m\u001b[0myear\u001b[0m\u001b[0;34m\u001b[0m\u001b[0;34m\u001b[0m\u001b[0m\n",
      "\u001b[0;32m~/.pyenv/versions/3.8.12/envs/lewagon/lib/python3.8/site-packages/pandas/util/_decorators.py\u001b[0m in \u001b[0;36mwrapper\u001b[0;34m(*args, **kwargs)\u001b[0m\n\u001b[1;32m    309\u001b[0m                     \u001b[0mstacklevel\u001b[0m\u001b[0;34m=\u001b[0m\u001b[0mstacklevel\u001b[0m\u001b[0;34m,\u001b[0m\u001b[0;34m\u001b[0m\u001b[0;34m\u001b[0m\u001b[0m\n\u001b[1;32m    310\u001b[0m                 )\n\u001b[0;32m--> 311\u001b[0;31m             \u001b[0;32mreturn\u001b[0m \u001b[0mfunc\u001b[0m\u001b[0;34m(\u001b[0m\u001b[0;34m*\u001b[0m\u001b[0margs\u001b[0m\u001b[0;34m,\u001b[0m \u001b[0;34m**\u001b[0m\u001b[0mkwargs\u001b[0m\u001b[0;34m)\u001b[0m\u001b[0;34m\u001b[0m\u001b[0;34m\u001b[0m\u001b[0m\n\u001b[0m\u001b[1;32m    312\u001b[0m \u001b[0;34m\u001b[0m\u001b[0m\n\u001b[1;32m    313\u001b[0m         \u001b[0;32mreturn\u001b[0m \u001b[0mwrapper\u001b[0m\u001b[0;34m\u001b[0m\u001b[0;34m\u001b[0m\u001b[0m\n",
      "\u001b[0;32m~/.pyenv/versions/3.8.12/envs/lewagon/lib/python3.8/site-packages/pandas/core/frame.py\u001b[0m in \u001b[0;36mdrop_duplicates\u001b[0;34m(self, subset, keep, inplace, ignore_index)\u001b[0m\n\u001b[1;32m   6061\u001b[0m         \u001b[0minplace\u001b[0m \u001b[0;34m=\u001b[0m \u001b[0mvalidate_bool_kwarg\u001b[0m\u001b[0;34m(\u001b[0m\u001b[0minplace\u001b[0m\u001b[0;34m,\u001b[0m \u001b[0;34m\"inplace\"\u001b[0m\u001b[0;34m)\u001b[0m\u001b[0;34m\u001b[0m\u001b[0;34m\u001b[0m\u001b[0m\n\u001b[1;32m   6062\u001b[0m         \u001b[0mignore_index\u001b[0m \u001b[0;34m=\u001b[0m \u001b[0mvalidate_bool_kwarg\u001b[0m\u001b[0;34m(\u001b[0m\u001b[0mignore_index\u001b[0m\u001b[0;34m,\u001b[0m \u001b[0;34m\"ignore_index\"\u001b[0m\u001b[0;34m)\u001b[0m\u001b[0;34m\u001b[0m\u001b[0;34m\u001b[0m\u001b[0m\n\u001b[0;32m-> 6063\u001b[0;31m         \u001b[0mduplicated\u001b[0m \u001b[0;34m=\u001b[0m \u001b[0mself\u001b[0m\u001b[0;34m.\u001b[0m\u001b[0mduplicated\u001b[0m\u001b[0;34m(\u001b[0m\u001b[0msubset\u001b[0m\u001b[0;34m,\u001b[0m \u001b[0mkeep\u001b[0m\u001b[0;34m=\u001b[0m\u001b[0mkeep\u001b[0m\u001b[0;34m)\u001b[0m\u001b[0;34m\u001b[0m\u001b[0;34m\u001b[0m\u001b[0m\n\u001b[0m\u001b[1;32m   6064\u001b[0m \u001b[0;34m\u001b[0m\u001b[0m\n\u001b[1;32m   6065\u001b[0m         \u001b[0mresult\u001b[0m \u001b[0;34m=\u001b[0m \u001b[0mself\u001b[0m\u001b[0;34m[\u001b[0m\u001b[0;34m-\u001b[0m\u001b[0mduplicated\u001b[0m\u001b[0;34m]\u001b[0m\u001b[0;34m\u001b[0m\u001b[0;34m\u001b[0m\u001b[0m\n",
      "\u001b[0;32m~/.pyenv/versions/3.8.12/envs/lewagon/lib/python3.8/site-packages/pandas/core/frame.py\u001b[0m in \u001b[0;36mduplicated\u001b[0;34m(self, subset, keep)\u001b[0m\n\u001b[1;32m   6200\u001b[0m         \u001b[0mlabels\u001b[0m\u001b[0;34m,\u001b[0m \u001b[0mshape\u001b[0m \u001b[0;34m=\u001b[0m \u001b[0mmap\u001b[0m\u001b[0;34m(\u001b[0m\u001b[0mlist\u001b[0m\u001b[0;34m,\u001b[0m \u001b[0mzip\u001b[0m\u001b[0;34m(\u001b[0m\u001b[0;34m*\u001b[0m\u001b[0mmap\u001b[0m\u001b[0;34m(\u001b[0m\u001b[0mf\u001b[0m\u001b[0;34m,\u001b[0m \u001b[0mvals\u001b[0m\u001b[0;34m)\u001b[0m\u001b[0;34m)\u001b[0m\u001b[0;34m)\u001b[0m\u001b[0;34m\u001b[0m\u001b[0;34m\u001b[0m\u001b[0m\n\u001b[1;32m   6201\u001b[0m \u001b[0;34m\u001b[0m\u001b[0m\n\u001b[0;32m-> 6202\u001b[0;31m         ids = get_group_index(\n\u001b[0m\u001b[1;32m   6203\u001b[0m             \u001b[0mlabels\u001b[0m\u001b[0;34m,\u001b[0m\u001b[0;34m\u001b[0m\u001b[0;34m\u001b[0m\u001b[0m\n\u001b[1;32m   6204\u001b[0m             \u001b[0;31m# error: Argument 1 to \"tuple\" has incompatible type \"List[_T]\";\u001b[0m\u001b[0;34m\u001b[0m\u001b[0;34m\u001b[0m\u001b[0;34m\u001b[0m\u001b[0m\n",
      "\u001b[0;32m~/.pyenv/versions/3.8.12/envs/lewagon/lib/python3.8/site-packages/pandas/core/sorting.py\u001b[0m in \u001b[0;36mget_group_index\u001b[0;34m(labels, shape, sort, xnull)\u001b[0m\n\u001b[1;32m    166\u001b[0m             \u001b[0;32melse\u001b[0m\u001b[0;34m:\u001b[0m\u001b[0;34m\u001b[0m\u001b[0;34m\u001b[0m\u001b[0m\n\u001b[1;32m    167\u001b[0m                 \u001b[0mstride\u001b[0m \u001b[0;34m//=\u001b[0m \u001b[0mlshape\u001b[0m\u001b[0;34m[\u001b[0m\u001b[0mi\u001b[0m\u001b[0;34m]\u001b[0m\u001b[0;34m\u001b[0m\u001b[0;34m\u001b[0m\u001b[0m\n\u001b[0;32m--> 168\u001b[0;31m             \u001b[0mout\u001b[0m \u001b[0;34m+=\u001b[0m \u001b[0mlabels\u001b[0m\u001b[0;34m[\u001b[0m\u001b[0mi\u001b[0m\u001b[0;34m]\u001b[0m \u001b[0;34m*\u001b[0m \u001b[0mstride\u001b[0m\u001b[0;34m\u001b[0m\u001b[0;34m\u001b[0m\u001b[0m\n\u001b[0m\u001b[1;32m    169\u001b[0m \u001b[0;34m\u001b[0m\u001b[0m\n\u001b[1;32m    170\u001b[0m         \u001b[0;32mif\u001b[0m \u001b[0mxnull\u001b[0m\u001b[0;34m:\u001b[0m  \u001b[0;31m# exclude nulls\u001b[0m\u001b[0;34m\u001b[0m\u001b[0;34m\u001b[0m\u001b[0m\n",
      "\u001b[0;31mKeyboardInterrupt\u001b[0m: "
     ]
    }
   ],
   "source": [
    "df_trans = pd.DataFrame(merge_pipe.fit_transform(df))\n",
    "df_trans.head(2)"
   ]
  },
  {
   "cell_type": "code",
   "execution_count": null,
   "id": "990a6b7e",
   "metadata": {
    "scrolled": true
   },
   "outputs": [],
   "source": [
    "y = df_trans[0]\n",
    "y"
   ]
  },
  {
   "cell_type": "code",
   "execution_count": 73,
   "id": "6e71afa6",
   "metadata": {},
   "outputs": [
    {
     "data": {
      "text/html": [
       "<div>\n",
       "<style scoped>\n",
       "    .dataframe tbody tr th:only-of-type {\n",
       "        vertical-align: middle;\n",
       "    }\n",
       "\n",
       "    .dataframe tbody tr th {\n",
       "        vertical-align: top;\n",
       "    }\n",
       "\n",
       "    .dataframe thead th {\n",
       "        text-align: right;\n",
       "    }\n",
       "</style>\n",
       "<table border=\"1\" class=\"dataframe\">\n",
       "  <thead>\n",
       "    <tr style=\"text-align: right;\">\n",
       "      <th></th>\n",
       "      <th>0</th>\n",
       "      <th>1</th>\n",
       "      <th>2</th>\n",
       "      <th>3</th>\n",
       "      <th>4</th>\n",
       "      <th>5</th>\n",
       "      <th>6</th>\n",
       "      <th>7</th>\n",
       "      <th>8</th>\n",
       "      <th>9</th>\n",
       "      <th>...</th>\n",
       "      <th>16</th>\n",
       "      <th>17</th>\n",
       "      <th>18</th>\n",
       "      <th>19</th>\n",
       "      <th>20</th>\n",
       "      <th>21</th>\n",
       "      <th>22</th>\n",
       "      <th>23</th>\n",
       "      <th>24</th>\n",
       "      <th>25</th>\n",
       "    </tr>\n",
       "  </thead>\n",
       "  <tbody>\n",
       "    <tr>\n",
       "      <th>0</th>\n",
       "      <td>1.0</td>\n",
       "      <td>24057.0</td>\n",
       "      <td>809.0</td>\n",
       "      <td>0.0</td>\n",
       "      <td>1.0</td>\n",
       "      <td>0.0</td>\n",
       "      <td>0.0</td>\n",
       "      <td>0.0</td>\n",
       "      <td>0.0</td>\n",
       "      <td>1.0</td>\n",
       "      <td>...</td>\n",
       "      <td>-0.204656</td>\n",
       "      <td>-0.530274</td>\n",
       "      <td>-0.253380</td>\n",
       "      <td>-0.367065</td>\n",
       "      <td>-0.151266</td>\n",
       "      <td>-0.304872</td>\n",
       "      <td>-0.114136</td>\n",
       "      <td>-0.247615</td>\n",
       "      <td>-0.314301</td>\n",
       "      <td>-0.473932</td>\n",
       "    </tr>\n",
       "    <tr>\n",
       "      <th>1</th>\n",
       "      <td>1.0</td>\n",
       "      <td>670347.0</td>\n",
       "      <td>34.0</td>\n",
       "      <td>0.0</td>\n",
       "      <td>0.0</td>\n",
       "      <td>1.0</td>\n",
       "      <td>0.0</td>\n",
       "      <td>1.0</td>\n",
       "      <td>0.0</td>\n",
       "      <td>0.0</td>\n",
       "      <td>...</td>\n",
       "      <td>-0.213075</td>\n",
       "      <td>-0.266870</td>\n",
       "      <td>-0.232996</td>\n",
       "      <td>-0.367065</td>\n",
       "      <td>-0.151266</td>\n",
       "      <td>-0.304872</td>\n",
       "      <td>-0.114136</td>\n",
       "      <td>-0.247615</td>\n",
       "      <td>-0.253050</td>\n",
       "      <td>0.244623</td>\n",
       "    </tr>\n",
       "    <tr>\n",
       "      <th>2</th>\n",
       "      <td>1.0</td>\n",
       "      <td>628087.0</td>\n",
       "      <td>34.0</td>\n",
       "      <td>0.0</td>\n",
       "      <td>0.0</td>\n",
       "      <td>1.0</td>\n",
       "      <td>0.0</td>\n",
       "      <td>1.0</td>\n",
       "      <td>0.0</td>\n",
       "      <td>0.0</td>\n",
       "      <td>...</td>\n",
       "      <td>-0.213663</td>\n",
       "      <td>-0.443001</td>\n",
       "      <td>-0.235001</td>\n",
       "      <td>-0.367065</td>\n",
       "      <td>-0.151266</td>\n",
       "      <td>-0.304872</td>\n",
       "      <td>-0.114136</td>\n",
       "      <td>-0.247615</td>\n",
       "      <td>-0.314301</td>\n",
       "      <td>-0.473932</td>\n",
       "    </tr>\n",
       "    <tr>\n",
       "      <th>3</th>\n",
       "      <td>1.0</td>\n",
       "      <td>201332.0</td>\n",
       "      <td>34.0</td>\n",
       "      <td>0.0</td>\n",
       "      <td>0.0</td>\n",
       "      <td>1.0</td>\n",
       "      <td>0.0</td>\n",
       "      <td>1.0</td>\n",
       "      <td>0.0</td>\n",
       "      <td>0.0</td>\n",
       "      <td>...</td>\n",
       "      <td>-0.213467</td>\n",
       "      <td>-0.542968</td>\n",
       "      <td>-0.205093</td>\n",
       "      <td>0.451917</td>\n",
       "      <td>-0.054447</td>\n",
       "      <td>-0.195265</td>\n",
       "      <td>-0.113645</td>\n",
       "      <td>-0.247615</td>\n",
       "      <td>0.340616</td>\n",
       "      <td>0.129584</td>\n",
       "    </tr>\n",
       "    <tr>\n",
       "      <th>4</th>\n",
       "      <td>0.0</td>\n",
       "      <td>561486.0</td>\n",
       "      <td>34.0</td>\n",
       "      <td>0.0</td>\n",
       "      <td>0.0</td>\n",
       "      <td>1.0</td>\n",
       "      <td>0.0</td>\n",
       "      <td>1.0</td>\n",
       "      <td>0.0</td>\n",
       "      <td>0.0</td>\n",
       "      <td>...</td>\n",
       "      <td>-0.213957</td>\n",
       "      <td>-0.547729</td>\n",
       "      <td>-0.255218</td>\n",
       "      <td>-0.367065</td>\n",
       "      <td>-0.151266</td>\n",
       "      <td>-0.304872</td>\n",
       "      <td>-0.114136</td>\n",
       "      <td>-0.247615</td>\n",
       "      <td>-0.314301</td>\n",
       "      <td>-0.473932</td>\n",
       "    </tr>\n",
       "  </tbody>\n",
       "</table>\n",
       "<p>5 rows × 26 columns</p>\n",
       "</div>"
      ],
      "text/plain": [
       "    0         1      2    3    4    5    6    7    8    9   ...        16  \\\n",
       "0  1.0   24057.0  809.0  0.0  1.0  0.0  0.0  0.0  0.0  1.0  ... -0.204656   \n",
       "1  1.0  670347.0   34.0  0.0  0.0  1.0  0.0  1.0  0.0  0.0  ... -0.213075   \n",
       "2  1.0  628087.0   34.0  0.0  0.0  1.0  0.0  1.0  0.0  0.0  ... -0.213663   \n",
       "3  1.0  201332.0   34.0  0.0  0.0  1.0  0.0  1.0  0.0  0.0  ... -0.213467   \n",
       "4  0.0  561486.0   34.0  0.0  0.0  1.0  0.0  1.0  0.0  0.0  ... -0.213957   \n",
       "\n",
       "         17        18        19        20        21        22        23  \\\n",
       "0 -0.530274 -0.253380 -0.367065 -0.151266 -0.304872 -0.114136 -0.247615   \n",
       "1 -0.266870 -0.232996 -0.367065 -0.151266 -0.304872 -0.114136 -0.247615   \n",
       "2 -0.443001 -0.235001 -0.367065 -0.151266 -0.304872 -0.114136 -0.247615   \n",
       "3 -0.542968 -0.205093  0.451917 -0.054447 -0.195265 -0.113645 -0.247615   \n",
       "4 -0.547729 -0.255218 -0.367065 -0.151266 -0.304872 -0.114136 -0.247615   \n",
       "\n",
       "         24        25  \n",
       "0 -0.314301 -0.473932  \n",
       "1 -0.253050  0.244623  \n",
       "2 -0.314301 -0.473932  \n",
       "3  0.340616  0.129584  \n",
       "4 -0.314301 -0.473932  \n",
       "\n",
       "[5 rows x 26 columns]"
      ]
     },
     "execution_count": 73,
     "metadata": {},
     "output_type": "execute_result"
    }
   ],
   "source": [
    "df_trans.head()"
   ]
  },
  {
   "cell_type": "code",
   "execution_count": 89,
   "id": "cda35bf0",
   "metadata": {},
   "outputs": [],
   "source": [
    "X = df_trans.drop(columns=[0])\n",
    "X = X.set_index([1,2])"
   ]
  },
  {
   "cell_type": "code",
   "execution_count": 75,
   "id": "69b3b592",
   "metadata": {},
   "outputs": [
    {
     "data": {
      "text/html": [
       "<div>\n",
       "<style scoped>\n",
       "    .dataframe tbody tr th:only-of-type {\n",
       "        vertical-align: middle;\n",
       "    }\n",
       "\n",
       "    .dataframe tbody tr th {\n",
       "        vertical-align: top;\n",
       "    }\n",
       "\n",
       "    .dataframe thead th {\n",
       "        text-align: right;\n",
       "    }\n",
       "</style>\n",
       "<table border=\"1\" class=\"dataframe\">\n",
       "  <thead>\n",
       "    <tr style=\"text-align: right;\">\n",
       "      <th></th>\n",
       "      <th></th>\n",
       "      <th>3</th>\n",
       "      <th>4</th>\n",
       "      <th>5</th>\n",
       "      <th>6</th>\n",
       "      <th>7</th>\n",
       "      <th>8</th>\n",
       "      <th>9</th>\n",
       "      <th>10</th>\n",
       "      <th>11</th>\n",
       "      <th>12</th>\n",
       "      <th>...</th>\n",
       "      <th>16</th>\n",
       "      <th>17</th>\n",
       "      <th>18</th>\n",
       "      <th>19</th>\n",
       "      <th>20</th>\n",
       "      <th>21</th>\n",
       "      <th>22</th>\n",
       "      <th>23</th>\n",
       "      <th>24</th>\n",
       "      <th>25</th>\n",
       "    </tr>\n",
       "    <tr>\n",
       "      <th>1</th>\n",
       "      <th>2</th>\n",
       "      <th></th>\n",
       "      <th></th>\n",
       "      <th></th>\n",
       "      <th></th>\n",
       "      <th></th>\n",
       "      <th></th>\n",
       "      <th></th>\n",
       "      <th></th>\n",
       "      <th></th>\n",
       "      <th></th>\n",
       "      <th></th>\n",
       "      <th></th>\n",
       "      <th></th>\n",
       "      <th></th>\n",
       "      <th></th>\n",
       "      <th></th>\n",
       "      <th></th>\n",
       "      <th></th>\n",
       "      <th></th>\n",
       "      <th></th>\n",
       "      <th></th>\n",
       "    </tr>\n",
       "  </thead>\n",
       "  <tbody>\n",
       "    <tr>\n",
       "      <th>24057.0</th>\n",
       "      <th>809.0</th>\n",
       "      <td>0.0</td>\n",
       "      <td>1.0</td>\n",
       "      <td>0.0</td>\n",
       "      <td>0.0</td>\n",
       "      <td>0.0</td>\n",
       "      <td>0.0</td>\n",
       "      <td>1.0</td>\n",
       "      <td>0.0</td>\n",
       "      <td>1.0</td>\n",
       "      <td>0.166490</td>\n",
       "      <td>...</td>\n",
       "      <td>-0.204656</td>\n",
       "      <td>-0.530274</td>\n",
       "      <td>-0.253380</td>\n",
       "      <td>-0.367065</td>\n",
       "      <td>-0.151266</td>\n",
       "      <td>-0.304872</td>\n",
       "      <td>-0.114136</td>\n",
       "      <td>-0.247615</td>\n",
       "      <td>-0.314301</td>\n",
       "      <td>-0.473932</td>\n",
       "    </tr>\n",
       "    <tr>\n",
       "      <th>670347.0</th>\n",
       "      <th>34.0</th>\n",
       "      <td>0.0</td>\n",
       "      <td>0.0</td>\n",
       "      <td>1.0</td>\n",
       "      <td>0.0</td>\n",
       "      <td>1.0</td>\n",
       "      <td>0.0</td>\n",
       "      <td>0.0</td>\n",
       "      <td>0.0</td>\n",
       "      <td>1.0</td>\n",
       "      <td>-0.678353</td>\n",
       "      <td>...</td>\n",
       "      <td>-0.213075</td>\n",
       "      <td>-0.266870</td>\n",
       "      <td>-0.232996</td>\n",
       "      <td>-0.367065</td>\n",
       "      <td>-0.151266</td>\n",
       "      <td>-0.304872</td>\n",
       "      <td>-0.114136</td>\n",
       "      <td>-0.247615</td>\n",
       "      <td>-0.253050</td>\n",
       "      <td>0.244623</td>\n",
       "    </tr>\n",
       "    <tr>\n",
       "      <th>628087.0</th>\n",
       "      <th>34.0</th>\n",
       "      <td>0.0</td>\n",
       "      <td>0.0</td>\n",
       "      <td>1.0</td>\n",
       "      <td>0.0</td>\n",
       "      <td>1.0</td>\n",
       "      <td>0.0</td>\n",
       "      <td>0.0</td>\n",
       "      <td>0.0</td>\n",
       "      <td>0.0</td>\n",
       "      <td>-0.537546</td>\n",
       "      <td>...</td>\n",
       "      <td>-0.213663</td>\n",
       "      <td>-0.443001</td>\n",
       "      <td>-0.235001</td>\n",
       "      <td>-0.367065</td>\n",
       "      <td>-0.151266</td>\n",
       "      <td>-0.304872</td>\n",
       "      <td>-0.114136</td>\n",
       "      <td>-0.247615</td>\n",
       "      <td>-0.314301</td>\n",
       "      <td>-0.473932</td>\n",
       "    </tr>\n",
       "    <tr>\n",
       "      <th>201332.0</th>\n",
       "      <th>34.0</th>\n",
       "      <td>0.0</td>\n",
       "      <td>0.0</td>\n",
       "      <td>1.0</td>\n",
       "      <td>0.0</td>\n",
       "      <td>1.0</td>\n",
       "      <td>0.0</td>\n",
       "      <td>0.0</td>\n",
       "      <td>0.0</td>\n",
       "      <td>1.0</td>\n",
       "      <td>0.588912</td>\n",
       "      <td>...</td>\n",
       "      <td>-0.213467</td>\n",
       "      <td>-0.542968</td>\n",
       "      <td>-0.205093</td>\n",
       "      <td>0.451917</td>\n",
       "      <td>-0.054447</td>\n",
       "      <td>-0.195265</td>\n",
       "      <td>-0.113645</td>\n",
       "      <td>-0.247615</td>\n",
       "      <td>0.340616</td>\n",
       "      <td>0.129584</td>\n",
       "    </tr>\n",
       "    <tr>\n",
       "      <th>561486.0</th>\n",
       "      <th>34.0</th>\n",
       "      <td>0.0</td>\n",
       "      <td>0.0</td>\n",
       "      <td>1.0</td>\n",
       "      <td>0.0</td>\n",
       "      <td>1.0</td>\n",
       "      <td>0.0</td>\n",
       "      <td>0.0</td>\n",
       "      <td>0.0</td>\n",
       "      <td>1.0</td>\n",
       "      <td>-0.396738</td>\n",
       "      <td>...</td>\n",
       "      <td>-0.213957</td>\n",
       "      <td>-0.547729</td>\n",
       "      <td>-0.255218</td>\n",
       "      <td>-0.367065</td>\n",
       "      <td>-0.151266</td>\n",
       "      <td>-0.304872</td>\n",
       "      <td>-0.114136</td>\n",
       "      <td>-0.247615</td>\n",
       "      <td>-0.314301</td>\n",
       "      <td>-0.473932</td>\n",
       "    </tr>\n",
       "  </tbody>\n",
       "</table>\n",
       "<p>5 rows × 23 columns</p>\n",
       "</div>"
      ],
      "text/plain": [
       "                 3    4    5    6    7    8    9    10   11        12  ...  \\\n",
       "1        2                                                             ...   \n",
       "24057.0  809.0  0.0  1.0  0.0  0.0  0.0  0.0  1.0  0.0  1.0  0.166490  ...   \n",
       "670347.0 34.0   0.0  0.0  1.0  0.0  1.0  0.0  0.0  0.0  1.0 -0.678353  ...   \n",
       "628087.0 34.0   0.0  0.0  1.0  0.0  1.0  0.0  0.0  0.0  0.0 -0.537546  ...   \n",
       "201332.0 34.0   0.0  0.0  1.0  0.0  1.0  0.0  0.0  0.0  1.0  0.588912  ...   \n",
       "561486.0 34.0   0.0  0.0  1.0  0.0  1.0  0.0  0.0  0.0  1.0 -0.396738  ...   \n",
       "\n",
       "                      16        17        18        19        20        21  \\\n",
       "1        2                                                                   \n",
       "24057.0  809.0 -0.204656 -0.530274 -0.253380 -0.367065 -0.151266 -0.304872   \n",
       "670347.0 34.0  -0.213075 -0.266870 -0.232996 -0.367065 -0.151266 -0.304872   \n",
       "628087.0 34.0  -0.213663 -0.443001 -0.235001 -0.367065 -0.151266 -0.304872   \n",
       "201332.0 34.0  -0.213467 -0.542968 -0.205093  0.451917 -0.054447 -0.195265   \n",
       "561486.0 34.0  -0.213957 -0.547729 -0.255218 -0.367065 -0.151266 -0.304872   \n",
       "\n",
       "                      22        23        24        25  \n",
       "1        2                                              \n",
       "24057.0  809.0 -0.114136 -0.247615 -0.314301 -0.473932  \n",
       "670347.0 34.0  -0.114136 -0.247615 -0.253050  0.244623  \n",
       "628087.0 34.0  -0.114136 -0.247615 -0.314301 -0.473932  \n",
       "201332.0 34.0  -0.113645 -0.247615  0.340616  0.129584  \n",
       "561486.0 34.0  -0.114136 -0.247615 -0.314301 -0.473932  \n",
       "\n",
       "[5 rows x 23 columns]"
      ]
     },
     "execution_count": 75,
     "metadata": {},
     "output_type": "execute_result"
    }
   ],
   "source": [
    "X.head()"
   ]
  },
  {
   "cell_type": "code",
   "execution_count": 90,
   "id": "be519a66",
   "metadata": {
    "scrolled": true
   },
   "outputs": [],
   "source": [
    "X_train, X_test, y_train, y_test = train_test_split(X, y, test_size=0.33, random_state=42)"
   ]
  },
  {
   "cell_type": "code",
   "execution_count": 91,
   "id": "e69579bc",
   "metadata": {},
   "outputs": [
    {
     "data": {
      "text/html": [
       "<style>#sk-1e3a5b49-de03-46fe-b62d-2431500917bd {color: black;background-color: white;}#sk-1e3a5b49-de03-46fe-b62d-2431500917bd pre{padding: 0;}#sk-1e3a5b49-de03-46fe-b62d-2431500917bd div.sk-toggleable {background-color: white;}#sk-1e3a5b49-de03-46fe-b62d-2431500917bd label.sk-toggleable__label {cursor: pointer;display: block;width: 100%;margin-bottom: 0;padding: 0.3em;box-sizing: border-box;text-align: center;}#sk-1e3a5b49-de03-46fe-b62d-2431500917bd label.sk-toggleable__label-arrow:before {content: \"▸\";float: left;margin-right: 0.25em;color: #696969;}#sk-1e3a5b49-de03-46fe-b62d-2431500917bd label.sk-toggleable__label-arrow:hover:before {color: black;}#sk-1e3a5b49-de03-46fe-b62d-2431500917bd div.sk-estimator:hover label.sk-toggleable__label-arrow:before {color: black;}#sk-1e3a5b49-de03-46fe-b62d-2431500917bd div.sk-toggleable__content {max-height: 0;max-width: 0;overflow: hidden;text-align: left;background-color: #f0f8ff;}#sk-1e3a5b49-de03-46fe-b62d-2431500917bd div.sk-toggleable__content pre {margin: 0.2em;color: black;border-radius: 0.25em;background-color: #f0f8ff;}#sk-1e3a5b49-de03-46fe-b62d-2431500917bd input.sk-toggleable__control:checked~div.sk-toggleable__content {max-height: 200px;max-width: 100%;overflow: auto;}#sk-1e3a5b49-de03-46fe-b62d-2431500917bd input.sk-toggleable__control:checked~label.sk-toggleable__label-arrow:before {content: \"▾\";}#sk-1e3a5b49-de03-46fe-b62d-2431500917bd div.sk-estimator input.sk-toggleable__control:checked~label.sk-toggleable__label {background-color: #d4ebff;}#sk-1e3a5b49-de03-46fe-b62d-2431500917bd div.sk-label input.sk-toggleable__control:checked~label.sk-toggleable__label {background-color: #d4ebff;}#sk-1e3a5b49-de03-46fe-b62d-2431500917bd input.sk-hidden--visually {border: 0;clip: rect(1px 1px 1px 1px);clip: rect(1px, 1px, 1px, 1px);height: 1px;margin: -1px;overflow: hidden;padding: 0;position: absolute;width: 1px;}#sk-1e3a5b49-de03-46fe-b62d-2431500917bd div.sk-estimator {font-family: monospace;background-color: #f0f8ff;border: 1px dotted black;border-radius: 0.25em;box-sizing: border-box;margin-bottom: 0.5em;}#sk-1e3a5b49-de03-46fe-b62d-2431500917bd div.sk-estimator:hover {background-color: #d4ebff;}#sk-1e3a5b49-de03-46fe-b62d-2431500917bd div.sk-parallel-item::after {content: \"\";width: 100%;border-bottom: 1px solid gray;flex-grow: 1;}#sk-1e3a5b49-de03-46fe-b62d-2431500917bd div.sk-label:hover label.sk-toggleable__label {background-color: #d4ebff;}#sk-1e3a5b49-de03-46fe-b62d-2431500917bd div.sk-serial::before {content: \"\";position: absolute;border-left: 1px solid gray;box-sizing: border-box;top: 2em;bottom: 0;left: 50%;}#sk-1e3a5b49-de03-46fe-b62d-2431500917bd div.sk-serial {display: flex;flex-direction: column;align-items: center;background-color: white;padding-right: 0.2em;padding-left: 0.2em;}#sk-1e3a5b49-de03-46fe-b62d-2431500917bd div.sk-item {z-index: 1;}#sk-1e3a5b49-de03-46fe-b62d-2431500917bd div.sk-parallel {display: flex;align-items: stretch;justify-content: center;background-color: white;}#sk-1e3a5b49-de03-46fe-b62d-2431500917bd div.sk-parallel::before {content: \"\";position: absolute;border-left: 1px solid gray;box-sizing: border-box;top: 2em;bottom: 0;left: 50%;}#sk-1e3a5b49-de03-46fe-b62d-2431500917bd div.sk-parallel-item {display: flex;flex-direction: column;position: relative;background-color: white;}#sk-1e3a5b49-de03-46fe-b62d-2431500917bd div.sk-parallel-item:first-child::after {align-self: flex-end;width: 50%;}#sk-1e3a5b49-de03-46fe-b62d-2431500917bd div.sk-parallel-item:last-child::after {align-self: flex-start;width: 50%;}#sk-1e3a5b49-de03-46fe-b62d-2431500917bd div.sk-parallel-item:only-child::after {width: 0;}#sk-1e3a5b49-de03-46fe-b62d-2431500917bd div.sk-dashed-wrapped {border: 1px dashed gray;margin: 0 0.4em 0.5em 0.4em;box-sizing: border-box;padding-bottom: 0.4em;background-color: white;position: relative;}#sk-1e3a5b49-de03-46fe-b62d-2431500917bd div.sk-label label {font-family: monospace;font-weight: bold;background-color: white;display: inline-block;line-height: 1.2em;}#sk-1e3a5b49-de03-46fe-b62d-2431500917bd div.sk-label-container {position: relative;z-index: 2;text-align: center;}#sk-1e3a5b49-de03-46fe-b62d-2431500917bd div.sk-container {/* jupyter's `normalize.less` sets `[hidden] { display: none; }` but bootstrap.min.css set `[hidden] { display: none !important; }` so we also need the `!important` here to be able to override the default hidden behavior on the sphinx rendered scikit-learn.org. See: https://github.com/scikit-learn/scikit-learn/issues/21755 */display: inline-block !important;position: relative;}#sk-1e3a5b49-de03-46fe-b62d-2431500917bd div.sk-text-repr-fallback {display: none;}</style><div id=\"sk-1e3a5b49-de03-46fe-b62d-2431500917bd\" class=\"sk-top-container\"><div class=\"sk-text-repr-fallback\"><pre>GradientBoostingClassifier()</pre><b>Please rerun this cell to show the HTML repr or trust the notebook.</b></div><div class=\"sk-container\" hidden><div class=\"sk-item\"><div class=\"sk-estimator sk-toggleable\"><input class=\"sk-toggleable__control sk-hidden--visually\" id=\"11ece366-014d-4e67-bf51-ef2bda95b0c3\" type=\"checkbox\" checked><label for=\"11ece366-014d-4e67-bf51-ef2bda95b0c3\" class=\"sk-toggleable__label sk-toggleable__label-arrow\">GradientBoostingClassifier</label><div class=\"sk-toggleable__content\"><pre>GradientBoostingClassifier()</pre></div></div></div></div></div>"
      ],
      "text/plain": [
       "GradientBoostingClassifier()"
      ]
     },
     "execution_count": 91,
     "metadata": {},
     "output_type": "execute_result"
    }
   ],
   "source": [
    "from sklearn.ensemble import GradientBoostingClassifier\n",
    "from sklearn.model_selection import cross_val_score\n",
    "\n",
    "gbc_model = GradientBoostingClassifier()\n",
    "\n",
    "gbc_model.fit(X_train, y_train)"
   ]
  },
  {
   "cell_type": "code",
   "execution_count": 92,
   "id": "40cd4f7f",
   "metadata": {},
   "outputs": [
    {
     "data": {
      "text/plain": [
       "0.507142857142857"
      ]
     },
     "execution_count": 92,
     "metadata": {},
     "output_type": "execute_result"
    }
   ],
   "source": [
    "cross_val_score(gbc_model, X_train, y_train, cv = 10 , scoring= 'accuracy').mean()"
   ]
  },
  {
   "cell_type": "code",
   "execution_count": 93,
   "id": "fdf1f4e9",
   "metadata": {},
   "outputs": [
    {
     "data": {
      "text/plain": [
       "array([1., 1., 1., 0., 0., 1., 1., 0., 1., 1., 1., 1., 0., 0., 1., 0., 0.,\n",
       "       0., 0., 0., 0., 0., 1., 0., 0., 0., 1., 0., 1., 1., 1., 1., 1., 1.,\n",
       "       1., 0., 1., 0., 0., 1., 1., 0., 1., 1., 0., 1., 0., 0., 1., 1., 1.,\n",
       "       0., 1., 1., 0., 0., 0., 0., 0., 1., 0., 0., 0., 1., 0., 0., 0., 1.,\n",
       "       0., 0., 0.])"
      ]
     },
     "execution_count": 93,
     "metadata": {},
     "output_type": "execute_result"
    }
   ],
   "source": [
    "gbc_model.predict(X_test)"
   ]
  },
  {
   "cell_type": "code",
   "execution_count": 82,
   "id": "e59ba38f",
   "metadata": {},
   "outputs": [],
   "source": [
    "from sklearn.neighbors import KNeighborsClassifier\n",
    "from sklearn.model_selection import cross_val_score\n",
    "import matplotlib.pyplot as plt"
   ]
  },
  {
   "cell_type": "code",
   "execution_count": 83,
   "id": "30869dce",
   "metadata": {
    "scrolled": false
   },
   "outputs": [],
   "source": [
    "error_rate = []\n",
    "\n",
    "# Will take some time\n",
    "for i in range(1,40):\n",
    "    \n",
    "    knn = KNeighborsClassifier(n_neighbors=i)\n",
    "    knn.fit(X_train,y_train)\n",
    "    pred_i = knn.predict(X_test)\n",
    "    error_rate.append(np.mean(pred_i != y_test))"
   ]
  },
  {
   "cell_type": "code",
   "execution_count": 84,
   "id": "7125bfb0",
   "metadata": {
    "scrolled": true
   },
   "outputs": [
    {
     "data": {
      "text/plain": [
       "Text(0, 0.5, 'Error Rate')"
      ]
     },
     "execution_count": 84,
     "metadata": {},
     "output_type": "execute_result"
    },
    {
     "data": {
      "image/png": "[encoded data removed]",
      "text/plain": [
       "<Figure size 720x432 with 1 Axes>"
      ]
     },
     "metadata": {
      "needs_background": "light"
     },
     "output_type": "display_data"
    }
   ],
   "source": [
    "plt.figure(figsize=(10,6))\n",
    "plt.plot(range(1,40),error_rate,color='blue', linestyle='dashed', marker='o',\n",
    "         markerfacecolor='red', markersize=10)\n",
    "plt.title('Error Rate vs. K Value')\n",
    "plt.xlabel('K')\n",
    "plt.ylabel('Error Rate')"
   ]
  },
  {
   "cell_type": "code",
   "execution_count": 85,
   "id": "e35e38db",
   "metadata": {},
   "outputs": [
    {
     "data": {
      "text/html": [
       "<style>#sk-a81ae1f3-98ce-4b9c-a174-3805e87ef0fe {color: black;background-color: white;}#sk-a81ae1f3-98ce-4b9c-a174-3805e87ef0fe pre{padding: 0;}#sk-a81ae1f3-98ce-4b9c-a174-3805e87ef0fe div.sk-toggleable {background-color: white;}#sk-a81ae1f3-98ce-4b9c-a174-3805e87ef0fe label.sk-toggleable__label {cursor: pointer;display: block;width: 100%;margin-bottom: 0;padding: 0.3em;box-sizing: border-box;text-align: center;}#sk-a81ae1f3-98ce-4b9c-a174-3805e87ef0fe label.sk-toggleable__label-arrow:before {content: \"▸\";float: left;margin-right: 0.25em;color: #696969;}#sk-a81ae1f3-98ce-4b9c-a174-3805e87ef0fe label.sk-toggleable__label-arrow:hover:before {color: black;}#sk-a81ae1f3-98ce-4b9c-a174-3805e87ef0fe div.sk-estimator:hover label.sk-toggleable__label-arrow:before {color: black;}#sk-a81ae1f3-98ce-4b9c-a174-3805e87ef0fe div.sk-toggleable__content {max-height: 0;max-width: 0;overflow: hidden;text-align: left;background-color: #f0f8ff;}#sk-a81ae1f3-98ce-4b9c-a174-3805e87ef0fe div.sk-toggleable__content pre {margin: 0.2em;color: black;border-radius: 0.25em;background-color: #f0f8ff;}#sk-a81ae1f3-98ce-4b9c-a174-3805e87ef0fe input.sk-toggleable__control:checked~div.sk-toggleable__content {max-height: 200px;max-width: 100%;overflow: auto;}#sk-a81ae1f3-98ce-4b9c-a174-3805e87ef0fe input.sk-toggleable__control:checked~label.sk-toggleable__label-arrow:before {content: \"▾\";}#sk-a81ae1f3-98ce-4b9c-a174-3805e87ef0fe div.sk-estimator input.sk-toggleable__control:checked~label.sk-toggleable__label {background-color: #d4ebff;}#sk-a81ae1f3-98ce-4b9c-a174-3805e87ef0fe div.sk-label input.sk-toggleable__control:checked~label.sk-toggleable__label {background-color: #d4ebff;}#sk-a81ae1f3-98ce-4b9c-a174-3805e87ef0fe input.sk-hidden--visually {border: 0;clip: rect(1px 1px 1px 1px);clip: rect(1px, 1px, 1px, 1px);height: 1px;margin: -1px;overflow: hidden;padding: 0;position: absolute;width: 1px;}#sk-a81ae1f3-98ce-4b9c-a174-3805e87ef0fe div.sk-estimator {font-family: monospace;background-color: #f0f8ff;border: 1px dotted black;border-radius: 0.25em;box-sizing: border-box;margin-bottom: 0.5em;}#sk-a81ae1f3-98ce-4b9c-a174-3805e87ef0fe div.sk-estimator:hover {background-color: #d4ebff;}#sk-a81ae1f3-98ce-4b9c-a174-3805e87ef0fe div.sk-parallel-item::after {content: \"\";width: 100%;border-bottom: 1px solid gray;flex-grow: 1;}#sk-a81ae1f3-98ce-4b9c-a174-3805e87ef0fe div.sk-label:hover label.sk-toggleable__label {background-color: #d4ebff;}#sk-a81ae1f3-98ce-4b9c-a174-3805e87ef0fe div.sk-serial::before {content: \"\";position: absolute;border-left: 1px solid gray;box-sizing: border-box;top: 2em;bottom: 0;left: 50%;}#sk-a81ae1f3-98ce-4b9c-a174-3805e87ef0fe div.sk-serial {display: flex;flex-direction: column;align-items: center;background-color: white;padding-right: 0.2em;padding-left: 0.2em;}#sk-a81ae1f3-98ce-4b9c-a174-3805e87ef0fe div.sk-item {z-index: 1;}#sk-a81ae1f3-98ce-4b9c-a174-3805e87ef0fe div.sk-parallel {display: flex;align-items: stretch;justify-content: center;background-color: white;}#sk-a81ae1f3-98ce-4b9c-a174-3805e87ef0fe div.sk-parallel::before {content: \"\";position: absolute;border-left: 1px solid gray;box-sizing: border-box;top: 2em;bottom: 0;left: 50%;}#sk-a81ae1f3-98ce-4b9c-a174-3805e87ef0fe div.sk-parallel-item {display: flex;flex-direction: column;position: relative;background-color: white;}#sk-a81ae1f3-98ce-4b9c-a174-3805e87ef0fe div.sk-parallel-item:first-child::after {align-self: flex-end;width: 50%;}#sk-a81ae1f3-98ce-4b9c-a174-3805e87ef0fe div.sk-parallel-item:last-child::after {align-self: flex-start;width: 50%;}#sk-a81ae1f3-98ce-4b9c-a174-3805e87ef0fe div.sk-parallel-item:only-child::after {width: 0;}#sk-a81ae1f3-98ce-4b9c-a174-3805e87ef0fe div.sk-dashed-wrapped {border: 1px dashed gray;margin: 0 0.4em 0.5em 0.4em;box-sizing: border-box;padding-bottom: 0.4em;background-color: white;position: relative;}#sk-a81ae1f3-98ce-4b9c-a174-3805e87ef0fe div.sk-label label {font-family: monospace;font-weight: bold;background-color: white;display: inline-block;line-height: 1.2em;}#sk-a81ae1f3-98ce-4b9c-a174-3805e87ef0fe div.sk-label-container {position: relative;z-index: 2;text-align: center;}#sk-a81ae1f3-98ce-4b9c-a174-3805e87ef0fe div.sk-container {/* jupyter's `normalize.less` sets `[hidden] { display: none; }` but bootstrap.min.css set `[hidden] { display: none !important; }` so we also need the `!important` here to be able to override the default hidden behavior on the sphinx rendered scikit-learn.org. See: https://github.com/scikit-learn/scikit-learn/issues/21755 */display: inline-block !important;position: relative;}#sk-a81ae1f3-98ce-4b9c-a174-3805e87ef0fe div.sk-text-repr-fallback {display: none;}</style><div id=\"sk-a81ae1f3-98ce-4b9c-a174-3805e87ef0fe\" class=\"sk-top-container\"><div class=\"sk-text-repr-fallback\"><pre>KNeighborsClassifier(n_neighbors=24)</pre><b>Please rerun this cell to show the HTML repr or trust the notebook.</b></div><div class=\"sk-container\" hidden><div class=\"sk-item\"><div class=\"sk-estimator sk-toggleable\"><input class=\"sk-toggleable__control sk-hidden--visually\" id=\"258b45a2-f35c-4a97-83fb-1250c8c2997f\" type=\"checkbox\" checked><label for=\"258b45a2-f35c-4a97-83fb-1250c8c2997f\" class=\"sk-toggleable__label sk-toggleable__label-arrow\">KNeighborsClassifier</label><div class=\"sk-toggleable__content\"><pre>KNeighborsClassifier(n_neighbors=24)</pre></div></div></div></div></div>"
      ],
      "text/plain": [
       "KNeighborsClassifier(n_neighbors=24)"
      ]
     },
     "execution_count": 85,
     "metadata": {},
     "output_type": "execute_result"
    }
   ],
   "source": [
    "knn = KNeighborsClassifier(n_neighbors=24)\n",
    "knn.fit(X_train,y_train)"
   ]
  },
  {
   "cell_type": "code",
   "execution_count": 97,
   "id": "85d35cee",
   "metadata": {},
   "outputs": [
    {
     "data": {
      "text/plain": [
       "0.6011111111111112"
      ]
     },
     "execution_count": 97,
     "metadata": {},
     "output_type": "execute_result"
    }
   ],
   "source": [
    "knn = KNeighborsClassifier()\n",
    "cross_val_score(knn, X_train, y_train, cv = 10 , scoring= 'accuracy').mean()"
   ]
  }
 ],
 "metadata": {
  "kernelspec": {
   "display_name": "Python 3 (ipykernel)",
   "language": "python",
   "name": "python3"
  },
  "language_info": {
   "codemirror_mode": {
    "name": "ipython",
    "version": 3
   },
   "file_extension": ".py",
   "mimetype": "text/x-python",
   "name": "python",
   "nbconvert_exporter": "python",
   "pygments_lexer": "ipython3",
   "version": "3.8.12"
  },
  "toc": {
   "base_numbering": 1,
   "nav_menu": {},
   "number_sections": true,
   "sideBar": true,
   "skip_h1_title": false,
   "title_cell": "Table of Contents",
   "title_sidebar": "Contents",
   "toc_cell": false,
   "toc_position": {},
   "toc_section_display": true,
   "toc_window_display": false
  }
 },
 "nbformat": 4,
 "nbformat_minor": 5
}
