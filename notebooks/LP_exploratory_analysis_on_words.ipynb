{
 "cells": [
  {
   "cell_type": "markdown",
   "id": "d4a407b1",
   "metadata": {},
   "source": [
    "# Loading essentials"
   ]
  },
  {
   "cell_type": "code",
   "execution_count": 1,
   "id": "aedb765b",
   "metadata": {},
   "outputs": [],
   "source": [
    "# DATA PREPA\n",
    "import pandas as pd\n",
    "\n",
    "# VIZUALISATION\n",
    "import matplotlib.pyplot as plt\n",
    "import seaborn as sns\n",
    "\n",
    "# NLP\n",
    "from textblob import TextBlob"
   ]
  },
  {
   "cell_type": "markdown",
   "id": "ce2f3806",
   "metadata": {},
   "source": [
    "# Reading the data"
   ]
  },
  {
   "cell_type": "code",
   "execution_count": 2,
   "id": "9cef4684",
   "metadata": {},
   "outputs": [
    {
     "data": {
      "text/html": [
       "<div>\n",
       "<style scoped>\n",
       "    .dataframe tbody tr th:only-of-type {\n",
       "        vertical-align: middle;\n",
       "    }\n",
       "\n",
       "    .dataframe tbody tr th {\n",
       "        vertical-align: top;\n",
       "    }\n",
       "\n",
       "    .dataframe thead th {\n",
       "        text-align: right;\n",
       "    }\n",
       "</style>\n",
       "<table border=\"1\" class=\"dataframe\">\n",
       "  <thead>\n",
       "    <tr style=\"text-align: right;\">\n",
       "      <th></th>\n",
       "      <th>Unnamed: 0</th>\n",
       "      <th>User</th>\n",
       "      <th>Module</th>\n",
       "      <th>Step</th>\n",
       "      <th>Question</th>\n",
       "      <th>Answer</th>\n",
       "      <th>Answer_length</th>\n",
       "    </tr>\n",
       "  </thead>\n",
       "  <tbody>\n",
       "    <tr>\n",
       "      <th>0</th>\n",
       "      <td>0</td>\n",
       "      <td>MP - Female 36 UK</td>\n",
       "      <td>Module_1</td>\n",
       "      <td>Step_1</td>\n",
       "      <td>What are you excited about as you begin your L...</td>\n",
       "      <td>Self development, learning new things about my...</td>\n",
       "      <td>16</td>\n",
       "    </tr>\n",
       "    <tr>\n",
       "      <th>1</th>\n",
       "      <td>1</td>\n",
       "      <td>MP - Female 36 UK</td>\n",
       "      <td>Module_1</td>\n",
       "      <td>Step_2</td>\n",
       "      <td>In what ways do you feel you are currently sho...</td>\n",
       "      <td>Sociable and confidently interact with others,...</td>\n",
       "      <td>29</td>\n",
       "    </tr>\n",
       "  </tbody>\n",
       "</table>\n",
       "</div>"
      ],
      "text/plain": [
       "   Unnamed: 0               User    Module    Step  \\\n",
       "0           0  MP - Female 36 UK  Module_1  Step_1   \n",
       "1           1  MP - Female 36 UK  Module_1  Step_2   \n",
       "\n",
       "                                            Question  \\\n",
       "0  What are you excited about as you begin your L...   \n",
       "1  In what ways do you feel you are currently sho...   \n",
       "\n",
       "                                              Answer  Answer_length  \n",
       "0  Self development, learning new things about my...             16  \n",
       "1  Sociable and confidently interact with others,...             29  "
      ]
     },
     "execution_count": 2,
     "metadata": {},
     "output_type": "execute_result"
    }
   ],
   "source": [
    "data = pd.read_csv('../raw_data/lp_data_cleaned.csv')\n",
    "data.head(2)"
   ]
  }
 ],
 "metadata": {
  "kernelspec": {
   "display_name": "Python 3 (ipykernel)",
   "language": "python",
   "name": "python3"
  },
  "language_info": {
   "codemirror_mode": {
    "name": "ipython",
    "version": 3
   },
   "file_extension": ".py",
   "mimetype": "text/x-python",
   "name": "python",
   "nbconvert_exporter": "python",
   "pygments_lexer": "ipython3",
   "version": "3.8.12"
  },
  "toc": {
   "base_numbering": 1,
   "nav_menu": {},
   "number_sections": true,
   "sideBar": true,
   "skip_h1_title": false,
   "title_cell": "Table of Contents",
   "title_sidebar": "Contents",
   "toc_cell": false,
   "toc_position": {},
   "toc_section_display": true,
   "toc_window_display": false
  }
 },
 "nbformat": 4,
 "nbformat_minor": 5
}
