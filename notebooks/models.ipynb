{
 "cells": [
  {
   "cell_type": "markdown",
   "id": "f0d7a735",
   "metadata": {},
   "source": [
    "# Importing libraries"
   ]
  },
  {
   "cell_type": "code",
   "execution_count": 2,
   "id": "3c3c49c2",
   "metadata": {},
   "outputs": [],
   "source": [
    "import pandas as pd # used for dataframes\n",
    "import numpy as np \n",
    "import xgboost as xgb # Gradient Boosting Algorithm\n",
    "import matplotlib.pyplot as plt\n",
    "import seaborn as sns\n",
    "import gc # Garbage Collector required to extract unused and residual data and variables from memory\n",
    "from sklearn.metrics import mean_squared_error as mse\n",
    "from sklearn.model_selection import train_test_split\n",
    "from sklearn.metrics import accuracy_score\n",
    "from sklearn.pipeline import Pipeline\n",
    "from sklearn.preprocessing import StandardScaler\n",
    "from sklearn.preprocessing import OneHotEncoder\n",
    "from sklearn.compose import ColumnTransformer"
   ]
  },
  {
   "cell_type": "markdown",
   "id": "415d35ae",
   "metadata": {},
   "source": [
    "# Importing part of train_dataset (all models are based on the original dataset)"
   ]
  },
  {
   "cell_type": "code",
   "execution_count": 3,
   "id": "59d9b72e",
   "metadata": {},
   "outputs": [],
   "source": [
    "df = pd.read_csv('/Users/azin/code/azinmjalali/ChangeDEEPly/raw_data/df_full_withtime.csv')"
   ]
  },
  {
   "cell_type": "code",
   "execution_count": 4,
   "id": "9ecd02d7",
   "metadata": {},
   "outputs": [
    {
     "data": {
      "text/html": [
       "<div>\n",
       "<style scoped>\n",
       "    .dataframe tbody tr th:only-of-type {\n",
       "        vertical-align: middle;\n",
       "    }\n",
       "\n",
       "    .dataframe tbody tr th {\n",
       "        vertical-align: top;\n",
       "    }\n",
       "\n",
       "    .dataframe thead th {\n",
       "        text-align: right;\n",
       "    }\n",
       "</style>\n",
       "<table border=\"1\" class=\"dataframe\">\n",
       "  <thead>\n",
       "    <tr style=\"text-align: right;\">\n",
       "      <th></th>\n",
       "      <th>Unnamed: 0</th>\n",
       "      <th>username</th>\n",
       "      <th>session_id</th>\n",
       "      <th>action</th>\n",
       "      <th>truth</th>\n",
       "      <th>id</th>\n",
       "      <th>start</th>\n",
       "      <th>end</th>\n",
       "      <th>category</th>\n",
       "      <th>gender</th>\n",
       "      <th>education</th>\n",
       "      <th>birth</th>\n",
       "      <th>timestamp</th>\n",
       "      <th>timediff</th>\n",
       "    </tr>\n",
       "  </thead>\n",
       "  <tbody>\n",
       "    <tr>\n",
       "      <th>0</th>\n",
       "      <td>7084339</td>\n",
       "      <td>24057</td>\n",
       "      <td>df8ec8baa5af2f61e5426307be9a5e75</td>\n",
       "      <td>load_video</td>\n",
       "      <td>1</td>\n",
       "      <td>809</td>\n",
       "      <td>2015-05-11 20:00:00</td>\n",
       "      <td>2015-07-17 00:00:00</td>\n",
       "      <td>economics</td>\n",
       "      <td>male</td>\n",
       "      <td>Master's</td>\n",
       "      <td>1987.0</td>\n",
       "      <td>1433436084</td>\n",
       "      <td>0.0</td>\n",
       "    </tr>\n",
       "    <tr>\n",
       "      <th>1</th>\n",
       "      <td>7084345</td>\n",
       "      <td>24057</td>\n",
       "      <td>df8ec8baa5af2f61e5426307be9a5e75</td>\n",
       "      <td>play_video</td>\n",
       "      <td>1</td>\n",
       "      <td>809</td>\n",
       "      <td>2015-05-11 20:00:00</td>\n",
       "      <td>2015-07-17 00:00:00</td>\n",
       "      <td>economics</td>\n",
       "      <td>male</td>\n",
       "      <td>Master's</td>\n",
       "      <td>1987.0</td>\n",
       "      <td>1433436087</td>\n",
       "      <td>3.0</td>\n",
       "    </tr>\n",
       "  </tbody>\n",
       "</table>\n",
       "</div>"
      ],
      "text/plain": [
       "   Unnamed: 0  username                        session_id      action  truth  \\\n",
       "0     7084339     24057  df8ec8baa5af2f61e5426307be9a5e75  load_video      1   \n",
       "1     7084345     24057  df8ec8baa5af2f61e5426307be9a5e75  play_video      1   \n",
       "\n",
       "    id                start                  end   category gender education  \\\n",
       "0  809  2015-05-11 20:00:00  2015-07-17 00:00:00  economics   male  Master's   \n",
       "1  809  2015-05-11 20:00:00  2015-07-17 00:00:00  economics   male  Master's   \n",
       "\n",
       "    birth   timestamp  timediff  \n",
       "0  1987.0  1433436084       0.0  \n",
       "1  1987.0  1433436087       3.0  "
      ]
     },
     "execution_count": 4,
     "metadata": {},
     "output_type": "execute_result"
    }
   ],
   "source": [
    "df.head(2)"
   ]
  },
  {
   "cell_type": "markdown",
   "id": "edf45ee7",
   "metadata": {},
   "source": [
    "# importing Pipeline"
   ]
  },
  {
   "cell_type": "code",
   "execution_count": 4,
   "id": "84c13881",
   "metadata": {},
   "outputs": [
    {
     "name": "stdout",
     "output_type": "stream",
     "text": [
      "Requirement already satisfied: scikit-learn in /Users/azin/.pyenv/versions/3.8.12/envs/lewagon/lib/python3.8/site-packages (1.0.2)\n",
      "Requirement already satisfied: threadpoolctl>=2.0.0 in /Users/azin/.pyenv/versions/3.8.12/envs/lewagon/lib/python3.8/site-packages (from scikit-learn) (3.0.0)\n",
      "Requirement already satisfied: scipy>=1.1.0 in /Users/azin/.pyenv/versions/3.8.12/envs/lewagon/lib/python3.8/site-packages (from scikit-learn) (1.7.3)\n",
      "Requirement already satisfied: joblib>=0.11 in /Users/azin/.pyenv/versions/3.8.12/envs/lewagon/lib/python3.8/site-packages (from scikit-learn) (1.0.1)\n",
      "Requirement already satisfied: numpy>=1.14.6 in /Users/azin/.pyenv/versions/3.8.12/envs/lewagon/lib/python3.8/site-packages (from scikit-learn) (1.18.5)\n"
     ]
    }
   ],
   "source": [
    "!pip install --upgrade scikit-learn"
   ]
  },
  {
   "cell_type": "code",
   "execution_count": 5,
   "id": "1167e0ad",
   "metadata": {},
   "outputs": [],
   "source": [
    "import pandas as pd\n",
    "import numpy as np\n",
    "from sklearn.preprocessing import OneHotEncoder, StandardScaler, FunctionTransformer\n",
    "from datetime import datetime\n",
    "from sklearn import set_config\n",
    "from sklearn.pipeline import Pipeline, FeatureUnion\n",
    "from sklearn.compose import ColumnTransformer\n",
    "set_config(display='diagram')"
   ]
  },
  {
   "cell_type": "code",
   "execution_count": 6,
   "id": "684b2341",
   "metadata": {},
   "outputs": [],
   "source": [
    "df = df.drop(columns=['Unnamed: 0'])"
   ]
  },
  {
   "cell_type": "code",
   "execution_count": 7,
   "id": "7ec1c84b",
   "metadata": {},
   "outputs": [
    {
     "data": {
      "text/html": [
       "<style>#sk-a230b331-5b9b-4666-8754-b0cdddc05a4f {color: black;background-color: white;}#sk-a230b331-5b9b-4666-8754-b0cdddc05a4f pre{padding: 0;}#sk-a230b331-5b9b-4666-8754-b0cdddc05a4f div.sk-toggleable {background-color: white;}#sk-a230b331-5b9b-4666-8754-b0cdddc05a4f label.sk-toggleable__label {cursor: pointer;display: block;width: 100%;margin-bottom: 0;padding: 0.3em;box-sizing: border-box;text-align: center;}#sk-a230b331-5b9b-4666-8754-b0cdddc05a4f label.sk-toggleable__label-arrow:before {content: \"▸\";float: left;margin-right: 0.25em;color: #696969;}#sk-a230b331-5b9b-4666-8754-b0cdddc05a4f label.sk-toggleable__label-arrow:hover:before {color: black;}#sk-a230b331-5b9b-4666-8754-b0cdddc05a4f div.sk-estimator:hover label.sk-toggleable__label-arrow:before {color: black;}#sk-a230b331-5b9b-4666-8754-b0cdddc05a4f div.sk-toggleable__content {max-height: 0;max-width: 0;overflow: hidden;text-align: left;background-color: #f0f8ff;}#sk-a230b331-5b9b-4666-8754-b0cdddc05a4f div.sk-toggleable__content pre {margin: 0.2em;color: black;border-radius: 0.25em;background-color: #f0f8ff;}#sk-a230b331-5b9b-4666-8754-b0cdddc05a4f input.sk-toggleable__control:checked~div.sk-toggleable__content {max-height: 200px;max-width: 100%;overflow: auto;}#sk-a230b331-5b9b-4666-8754-b0cdddc05a4f input.sk-toggleable__control:checked~label.sk-toggleable__label-arrow:before {content: \"▾\";}#sk-a230b331-5b9b-4666-8754-b0cdddc05a4f div.sk-estimator input.sk-toggleable__control:checked~label.sk-toggleable__label {background-color: #d4ebff;}#sk-a230b331-5b9b-4666-8754-b0cdddc05a4f div.sk-label input.sk-toggleable__control:checked~label.sk-toggleable__label {background-color: #d4ebff;}#sk-a230b331-5b9b-4666-8754-b0cdddc05a4f input.sk-hidden--visually {border: 0;clip: rect(1px 1px 1px 1px);clip: rect(1px, 1px, 1px, 1px);height: 1px;margin: -1px;overflow: hidden;padding: 0;position: absolute;width: 1px;}#sk-a230b331-5b9b-4666-8754-b0cdddc05a4f div.sk-estimator {font-family: monospace;background-color: #f0f8ff;border: 1px dotted black;border-radius: 0.25em;box-sizing: border-box;margin-bottom: 0.5em;}#sk-a230b331-5b9b-4666-8754-b0cdddc05a4f div.sk-estimator:hover {background-color: #d4ebff;}#sk-a230b331-5b9b-4666-8754-b0cdddc05a4f div.sk-parallel-item::after {content: \"\";width: 100%;border-bottom: 1px solid gray;flex-grow: 1;}#sk-a230b331-5b9b-4666-8754-b0cdddc05a4f div.sk-label:hover label.sk-toggleable__label {background-color: #d4ebff;}#sk-a230b331-5b9b-4666-8754-b0cdddc05a4f div.sk-serial::before {content: \"\";position: absolute;border-left: 1px solid gray;box-sizing: border-box;top: 2em;bottom: 0;left: 50%;}#sk-a230b331-5b9b-4666-8754-b0cdddc05a4f div.sk-serial {display: flex;flex-direction: column;align-items: center;background-color: white;padding-right: 0.2em;padding-left: 0.2em;}#sk-a230b331-5b9b-4666-8754-b0cdddc05a4f div.sk-item {z-index: 1;}#sk-a230b331-5b9b-4666-8754-b0cdddc05a4f div.sk-parallel {display: flex;align-items: stretch;justify-content: center;background-color: white;}#sk-a230b331-5b9b-4666-8754-b0cdddc05a4f div.sk-parallel::before {content: \"\";position: absolute;border-left: 1px solid gray;box-sizing: border-box;top: 2em;bottom: 0;left: 50%;}#sk-a230b331-5b9b-4666-8754-b0cdddc05a4f div.sk-parallel-item {display: flex;flex-direction: column;position: relative;background-color: white;}#sk-a230b331-5b9b-4666-8754-b0cdddc05a4f div.sk-parallel-item:first-child::after {align-self: flex-end;width: 50%;}#sk-a230b331-5b9b-4666-8754-b0cdddc05a4f div.sk-parallel-item:last-child::after {align-self: flex-start;width: 50%;}#sk-a230b331-5b9b-4666-8754-b0cdddc05a4f div.sk-parallel-item:only-child::after {width: 0;}#sk-a230b331-5b9b-4666-8754-b0cdddc05a4f div.sk-dashed-wrapped {border: 1px dashed gray;margin: 0 0.4em 0.5em 0.4em;box-sizing: border-box;padding-bottom: 0.4em;background-color: white;position: relative;}#sk-a230b331-5b9b-4666-8754-b0cdddc05a4f div.sk-label label {font-family: monospace;font-weight: bold;background-color: white;display: inline-block;line-height: 1.2em;}#sk-a230b331-5b9b-4666-8754-b0cdddc05a4f div.sk-label-container {position: relative;z-index: 2;text-align: center;}#sk-a230b331-5b9b-4666-8754-b0cdddc05a4f div.sk-container {/* jupyter's `normalize.less` sets `[hidden] { display: none; }` but bootstrap.min.css set `[hidden] { display: none !important; }` so we also need the `!important` here to be able to override the default hidden behavior on the sphinx rendered scikit-learn.org. See: https://github.com/scikit-learn/scikit-learn/issues/21755 */display: inline-block !important;position: relative;}#sk-a230b331-5b9b-4666-8754-b0cdddc05a4f div.sk-text-repr-fallback {display: none;}</style><div id=\"sk-a230b331-5b9b-4666-8754-b0cdddc05a4f\" class=\"sk-top-container\"><div class=\"sk-text-repr-fallback\"><pre>Pipeline(steps=[(&#x27;preprocessing_pipe&#x27;,\n",
       "                 FeatureUnion(transformer_list=[(&#x27;basic_encoding_pipe&#x27;,\n",
       "                                                 ColumnTransformer(transformers=[(&#x27;gender_pipe&#x27;,\n",
       "                                                                                  Pipeline(steps=[(&#x27;ohe&#x27;,\n",
       "                                                                                                   OneHotEncoder(drop=&#x27;if_binary&#x27;,\n",
       "                                                                                                                 handle_unknown=&#x27;ignore&#x27;,\n",
       "                                                                                                                 sparse=False))]),\n",
       "                                                                                  [&#x27;gender&#x27;]),\n",
       "                                                                                 (&#x27;category_edu_pipe&#x27;,\n",
       "                                                                                  Pipeline(steps=[(&#x27;ohe&#x27;,\n",
       "                                                                                                   OneHotEncoder(handle_unknown=&#x27;ignore&#x27;,\n",
       "                                                                                                                 sparse=False))]),\n",
       "                                                                                  [&#x27;category&#x27;,\n",
       "                                                                                   &#x27;education&#x27;])])),\n",
       "                                                (&#x27;age&#x27;,\n",
       "                                                 Pipeline(steps=[(&#x27;age_calc&#x27;,\n",
       "                                                                  FunctionTransformer(func=&lt;function &lt;lambda&gt; at 0x1501f1af0&gt;)),\n",
       "                                                                 (&#x27;reshape&#x27;,\n",
       "                                                                  FunctionTransformer(func=&lt;function &lt;lambda&gt; at 0x1501f1c10&gt;)),\n",
       "                                                                 (&#x27;stdscaler&#x27;,\n",
       "                                                                  StandardScaler())]))])),\n",
       "                (&#x27;remove_duplicates&#x27;,\n",
       "                 FunctionTransformer(func=&lt;function &lt;lambda&gt; at 0x1501f1ca0&gt;))])</pre><b>Please rerun this cell to show the HTML repr or trust the notebook.</b></div><div class=\"sk-container\" hidden><div class=\"sk-item sk-dashed-wrapped\"><div class=\"sk-label-container\"><div class=\"sk-label sk-toggleable\"><input class=\"sk-toggleable__control sk-hidden--visually\" id=\"498f5804-d61a-446a-a88b-15c312153fb1\" type=\"checkbox\" ><label for=\"498f5804-d61a-446a-a88b-15c312153fb1\" class=\"sk-toggleable__label sk-toggleable__label-arrow\">Pipeline</label><div class=\"sk-toggleable__content\"><pre>Pipeline(steps=[(&#x27;preprocessing_pipe&#x27;,\n",
       "                 FeatureUnion(transformer_list=[(&#x27;basic_encoding_pipe&#x27;,\n",
       "                                                 ColumnTransformer(transformers=[(&#x27;gender_pipe&#x27;,\n",
       "                                                                                  Pipeline(steps=[(&#x27;ohe&#x27;,\n",
       "                                                                                                   OneHotEncoder(drop=&#x27;if_binary&#x27;,\n",
       "                                                                                                                 handle_unknown=&#x27;ignore&#x27;,\n",
       "                                                                                                                 sparse=False))]),\n",
       "                                                                                  [&#x27;gender&#x27;]),\n",
       "                                                                                 (&#x27;category_edu_pipe&#x27;,\n",
       "                                                                                  Pipeline(steps=[(&#x27;ohe&#x27;,\n",
       "                                                                                                   OneHotEncoder(handle_unknown=&#x27;ignore&#x27;,\n",
       "                                                                                                                 sparse=False))]),\n",
       "                                                                                  [&#x27;category&#x27;,\n",
       "                                                                                   &#x27;education&#x27;])])),\n",
       "                                                (&#x27;age&#x27;,\n",
       "                                                 Pipeline(steps=[(&#x27;age_calc&#x27;,\n",
       "                                                                  FunctionTransformer(func=&lt;function &lt;lambda&gt; at 0x1501f1af0&gt;)),\n",
       "                                                                 (&#x27;reshape&#x27;,\n",
       "                                                                  FunctionTransformer(func=&lt;function &lt;lambda&gt; at 0x1501f1c10&gt;)),\n",
       "                                                                 (&#x27;stdscaler&#x27;,\n",
       "                                                                  StandardScaler())]))])),\n",
       "                (&#x27;remove_duplicates&#x27;,\n",
       "                 FunctionTransformer(func=&lt;function &lt;lambda&gt; at 0x1501f1ca0&gt;))])</pre></div></div></div><div class=\"sk-serial\"><div class=\"sk-item sk-dashed-wrapped\"><div class=\"sk-label-container\"><div class=\"sk-label sk-toggleable\"><input class=\"sk-toggleable__control sk-hidden--visually\" id=\"0719b74f-cd83-4318-98dc-d48a9388df90\" type=\"checkbox\" ><label for=\"0719b74f-cd83-4318-98dc-d48a9388df90\" class=\"sk-toggleable__label sk-toggleable__label-arrow\">preprocessing_pipe: FeatureUnion</label><div class=\"sk-toggleable__content\"><pre>FeatureUnion(transformer_list=[(&#x27;basic_encoding_pipe&#x27;,\n",
       "                                ColumnTransformer(transformers=[(&#x27;gender_pipe&#x27;,\n",
       "                                                                 Pipeline(steps=[(&#x27;ohe&#x27;,\n",
       "                                                                                  OneHotEncoder(drop=&#x27;if_binary&#x27;,\n",
       "                                                                                                handle_unknown=&#x27;ignore&#x27;,\n",
       "                                                                                                sparse=False))]),\n",
       "                                                                 [&#x27;gender&#x27;]),\n",
       "                                                                (&#x27;category_edu_pipe&#x27;,\n",
       "                                                                 Pipeline(steps=[(&#x27;ohe&#x27;,\n",
       "                                                                                  OneHotEncoder(handle_unknown=&#x27;ignore&#x27;,\n",
       "                                                                                                sparse=False))]),\n",
       "                                                                 [&#x27;category&#x27;,\n",
       "                                                                  &#x27;education&#x27;])])),\n",
       "                               (&#x27;age&#x27;,\n",
       "                                Pipeline(steps=[(&#x27;age_calc&#x27;,\n",
       "                                                 FunctionTransformer(func=&lt;function &lt;lambda&gt; at 0x1501f1af0&gt;)),\n",
       "                                                (&#x27;reshape&#x27;,\n",
       "                                                 FunctionTransformer(func=&lt;function &lt;lambda&gt; at 0x1501f1c10&gt;)),\n",
       "                                                (&#x27;stdscaler&#x27;,\n",
       "                                                 StandardScaler())]))])</pre></div></div></div><div class=\"sk-parallel\"><div class=\"sk-parallel-item\"><div class=\"sk-item\"><div class=\"sk-label-container\"><div class=\"sk-label sk-toggleable\"><label>basic_encoding_pipe</label></div></div><div class=\"sk-serial\"><div class=\"sk-item sk-dashed-wrapped\"><div class=\"sk-parallel\"><div class=\"sk-parallel-item\"><div class=\"sk-item\"><div class=\"sk-label-container\"><div class=\"sk-label sk-toggleable\"><input class=\"sk-toggleable__control sk-hidden--visually\" id=\"d2533257-8b17-41cb-b412-b1f4fd9a3f65\" type=\"checkbox\" ><label for=\"d2533257-8b17-41cb-b412-b1f4fd9a3f65\" class=\"sk-toggleable__label sk-toggleable__label-arrow\">gender_pipe</label><div class=\"sk-toggleable__content\"><pre>[&#x27;gender&#x27;]</pre></div></div></div><div class=\"sk-serial\"><div class=\"sk-item\"><div class=\"sk-serial\"><div class=\"sk-item\"><div class=\"sk-estimator sk-toggleable\"><input class=\"sk-toggleable__control sk-hidden--visually\" id=\"6f613300-38b3-4aec-b3f7-c763d1054907\" type=\"checkbox\" ><label for=\"6f613300-38b3-4aec-b3f7-c763d1054907\" class=\"sk-toggleable__label sk-toggleable__label-arrow\">OneHotEncoder</label><div class=\"sk-toggleable__content\"><pre>OneHotEncoder(drop=&#x27;if_binary&#x27;, handle_unknown=&#x27;ignore&#x27;, sparse=False)</pre></div></div></div></div></div></div></div></div><div class=\"sk-parallel-item\"><div class=\"sk-item\"><div class=\"sk-label-container\"><div class=\"sk-label sk-toggleable\"><input class=\"sk-toggleable__control sk-hidden--visually\" id=\"13d24136-19ef-44f4-8de6-ed12768c2a76\" type=\"checkbox\" ><label for=\"13d24136-19ef-44f4-8de6-ed12768c2a76\" class=\"sk-toggleable__label sk-toggleable__label-arrow\">category_edu_pipe</label><div class=\"sk-toggleable__content\"><pre>[&#x27;category&#x27;, &#x27;education&#x27;]</pre></div></div></div><div class=\"sk-serial\"><div class=\"sk-item\"><div class=\"sk-serial\"><div class=\"sk-item\"><div class=\"sk-estimator sk-toggleable\"><input class=\"sk-toggleable__control sk-hidden--visually\" id=\"97acad51-6188-42be-8dbd-1488f971e3aa\" type=\"checkbox\" ><label for=\"97acad51-6188-42be-8dbd-1488f971e3aa\" class=\"sk-toggleable__label sk-toggleable__label-arrow\">OneHotEncoder</label><div class=\"sk-toggleable__content\"><pre>OneHotEncoder(handle_unknown=&#x27;ignore&#x27;, sparse=False)</pre></div></div></div></div></div></div></div></div></div></div></div></div></div><div class=\"sk-parallel-item\"><div class=\"sk-item\"><div class=\"sk-label-container\"><div class=\"sk-label sk-toggleable\"><label>age</label></div></div><div class=\"sk-serial\"><div class=\"sk-item\"><div class=\"sk-serial\"><div class=\"sk-item\"><div class=\"sk-estimator sk-toggleable\"><input class=\"sk-toggleable__control sk-hidden--visually\" id=\"8747cc27-d754-41f4-a089-09c6985385bc\" type=\"checkbox\" ><label for=\"8747cc27-d754-41f4-a089-09c6985385bc\" class=\"sk-toggleable__label sk-toggleable__label-arrow\">FunctionTransformer</label><div class=\"sk-toggleable__content\"><pre>FunctionTransformer(func=&lt;function &lt;lambda&gt; at 0x1501f1af0&gt;)</pre></div></div></div><div class=\"sk-item\"><div class=\"sk-estimator sk-toggleable\"><input class=\"sk-toggleable__control sk-hidden--visually\" id=\"f07c3a68-4762-45d0-8904-11cf6a930aa5\" type=\"checkbox\" ><label for=\"f07c3a68-4762-45d0-8904-11cf6a930aa5\" class=\"sk-toggleable__label sk-toggleable__label-arrow\">FunctionTransformer</label><div class=\"sk-toggleable__content\"><pre>FunctionTransformer(func=&lt;function &lt;lambda&gt; at 0x1501f1c10&gt;)</pre></div></div></div><div class=\"sk-item\"><div class=\"sk-estimator sk-toggleable\"><input class=\"sk-toggleable__control sk-hidden--visually\" id=\"4784ac2f-714d-4e7a-bbd3-2ea9874299e9\" type=\"checkbox\" ><label for=\"4784ac2f-714d-4e7a-bbd3-2ea9874299e9\" class=\"sk-toggleable__label sk-toggleable__label-arrow\">StandardScaler</label><div class=\"sk-toggleable__content\"><pre>StandardScaler()</pre></div></div></div></div></div></div></div></div></div></div><div class=\"sk-item\"><div class=\"sk-estimator sk-toggleable\"><input class=\"sk-toggleable__control sk-hidden--visually\" id=\"3fac9f2a-e5b1-4eeb-80a4-3c7de2eca5ab\" type=\"checkbox\" ><label for=\"3fac9f2a-e5b1-4eeb-80a4-3c7de2eca5ab\" class=\"sk-toggleable__label sk-toggleable__label-arrow\">FunctionTransformer</label><div class=\"sk-toggleable__content\"><pre>FunctionTransformer(func=&lt;function &lt;lambda&gt; at 0x1501f1ca0&gt;)</pre></div></div></div></div></div></div></div>"
      ],
      "text/plain": [
       "Pipeline(steps=[('preprocessing_pipe',\n",
       "                 FeatureUnion(transformer_list=[('basic_encoding_pipe',\n",
       "                                                 ColumnTransformer(transformers=[('gender_pipe',\n",
       "                                                                                  Pipeline(steps=[('ohe',\n",
       "                                                                                                   OneHotEncoder(drop='if_binary',\n",
       "                                                                                                                 handle_unknown='ignore',\n",
       "                                                                                                                 sparse=False))]),\n",
       "                                                                                  ['gender']),\n",
       "                                                                                 ('category_edu_pipe',\n",
       "                                                                                  Pipeline(steps=[('ohe',\n",
       "                                                                                                   OneHotEncoder(handle_unknown='ignore',\n",
       "                                                                                                                 sparse=False))]),\n",
       "                                                                                  ['category',\n",
       "                                                                                   'education'])])),\n",
       "                                                ('age',\n",
       "                                                 Pipeline(steps=[('age_calc',\n",
       "                                                                  FunctionTransformer(func=<function <lambda> at 0x1501f1af0>)),\n",
       "                                                                 ('reshape',\n",
       "                                                                  FunctionTransformer(func=<function <lambda> at 0x1501f1c10>)),\n",
       "                                                                 ('stdscaler',\n",
       "                                                                  StandardScaler())]))])),\n",
       "                ('remove_duplicates',\n",
       "                 FunctionTransformer(func=<function <lambda> at 0x1501f1ca0>))])"
      ]
     },
     "execution_count": 7,
     "metadata": {},
     "output_type": "execute_result"
    }
   ],
   "source": [
    "def remove_duplicates(dataframe):\n",
    "    return pd.DataFrame(dataframe).drop_duplicates()\n",
    "\n",
    "age_constructor = FunctionTransformer(lambda data: pd.DatetimeIndex(pd.to_datetime(data['start'], format='%Y-%m-%d')).year - pd.DatetimeIndex(pd.to_datetime(data['birth'], format='%Y')).year)\n",
    "array_reshape = FunctionTransformer(lambda data: np.reshape(data, (-1, 1)))\n",
    "rp = FunctionTransformer(lambda data: remove_duplicates(data))\n",
    "\n",
    "gender_pipe = Pipeline([\n",
    "    ('ohe', OneHotEncoder(drop='if_binary', sparse = False, handle_unknown='ignore')) #\n",
    "])\n",
    "\n",
    "category_edu_pipe = Pipeline([\n",
    "    ('ohe', OneHotEncoder(handle_unknown='ignore',sparse = False)) # \n",
    "])\n",
    "\n",
    "age_pipe = Pipeline([\n",
    "    ('age_calc', age_constructor),\n",
    "    ('reshape', array_reshape),\n",
    "    ('stdscaler', StandardScaler())\n",
    "])\n",
    "\n",
    "basic_encoding_pipe = ColumnTransformer([\n",
    "    ('gender_pipe', gender_pipe, [\"gender\"]),\n",
    "    ('category_edu_pipe', category_edu_pipe, [\"category\", \"education\"])\n",
    "], remainder=\"drop\")\n",
    "\n",
    "preprocessing_pipe = FeatureUnion([\n",
    "    ('basic_encoding_pipe', basic_encoding_pipe),\n",
    "    ('age', age_pipe)\n",
    "])\n",
    "\n",
    "# final_pipe = Pipeline([\n",
    "#     ('preprocessing_pipe', preprocessing_pipe),\n",
    "#     ('remove_duplicates', rp)\n",
    "# ])\n",
    "\n",
    "# final_pipe"
   ]
  },
  {
   "cell_type": "code",
   "execution_count": 9,
   "id": "7415a66c",
   "metadata": {},
   "outputs": [
    {
     "data": {
      "text/plain": [
       "ColumnTransformer(n_jobs=None, remainder='drop', sparse_threshold=0.3,\n",
       "                  transformer_weights=None,\n",
       "                  transformers=[('num_tr',\n",
       "                                 Pipeline(memory=None,\n",
       "                                          steps=[('scaler',\n",
       "                                                  StandardScaler(copy=True,\n",
       "                                                                 with_mean=True,\n",
       "                                                                 with_std=True))],\n",
       "                                          verbose=False),\n",
       "                                 ['birth']),\n",
       "                                ('cat_tr',\n",
       "                                 OneHotEncoder(categories='auto', drop=None,\n",
       "                                               dtype=<class 'numpy.float64'>,\n",
       "                                               handle_unknown='ignore',\n",
       "                                               sparse=False),\n",
       "                                 ['education', 'gender', 'category'])],\n",
       "                  verbose=False)"
      ]
     },
     "execution_count": 9,
     "metadata": {},
     "output_type": "execute_result"
    }
   ],
   "source": [
    "# # Impute then Scale for numerical variables: \n",
    "# num_transformer = Pipeline([\n",
    "#     ('scaler', StandardScaler())])\n",
    "\n",
    "# # Encode categorical variables\n",
    "# cat_transformer = OneHotEncoder(handle_unknown='ignore', sparse=False)\n",
    "\n",
    "# # Paralellize \"num_transformer\" and \"One hot encoder\"\n",
    "# preprocessor = ColumnTransformer([\n",
    "#     ('num_tr', num_transformer, ['birth']),\n",
    "#     ('cat_tr', cat_transformer, ['education', 'gender', 'category'])])\n",
    "    \n",
    "# preprocessor"
   ]
  },
  {
   "cell_type": "markdown",
   "id": "adc23c24",
   "metadata": {},
   "source": [
    "## Fitting and transfroming on pipeline"
   ]
  },
  {
   "cell_type": "code",
   "execution_count": 32,
   "id": "9e17a23b",
   "metadata": {
    "scrolled": true
   },
   "outputs": [
    {
     "data": {
      "text/html": [
       "<div>\n",
       "<style scoped>\n",
       "    .dataframe tbody tr th:only-of-type {\n",
       "        vertical-align: middle;\n",
       "    }\n",
       "\n",
       "    .dataframe tbody tr th {\n",
       "        vertical-align: top;\n",
       "    }\n",
       "\n",
       "    .dataframe thead th {\n",
       "        text-align: right;\n",
       "    }\n",
       "</style>\n",
       "<table border=\"1\" class=\"dataframe\">\n",
       "  <thead>\n",
       "    <tr style=\"text-align: right;\">\n",
       "      <th></th>\n",
       "      <th>0</th>\n",
       "      <th>1</th>\n",
       "      <th>2</th>\n",
       "      <th>3</th>\n",
       "      <th>4</th>\n",
       "      <th>5</th>\n",
       "      <th>6</th>\n",
       "      <th>7</th>\n",
       "      <th>8</th>\n",
       "      <th>9</th>\n",
       "      <th>...</th>\n",
       "      <th>16</th>\n",
       "      <th>17</th>\n",
       "      <th>18</th>\n",
       "      <th>19</th>\n",
       "      <th>20</th>\n",
       "      <th>21</th>\n",
       "      <th>22</th>\n",
       "      <th>23</th>\n",
       "      <th>24</th>\n",
       "      <th>25</th>\n",
       "    </tr>\n",
       "  </thead>\n",
       "  <tbody>\n",
       "    <tr>\n",
       "      <th>0</th>\n",
       "      <td>1.0</td>\n",
       "      <td>0.0</td>\n",
       "      <td>0.0</td>\n",
       "      <td>0.0</td>\n",
       "      <td>0.0</td>\n",
       "      <td>0.0</td>\n",
       "      <td>1.0</td>\n",
       "      <td>0.0</td>\n",
       "      <td>0.0</td>\n",
       "      <td>0.0</td>\n",
       "      <td>...</td>\n",
       "      <td>0.0</td>\n",
       "      <td>0.0</td>\n",
       "      <td>0.0</td>\n",
       "      <td>0.0</td>\n",
       "      <td>0.0</td>\n",
       "      <td>0.0</td>\n",
       "      <td>1.0</td>\n",
       "      <td>0.0</td>\n",
       "      <td>0.0</td>\n",
       "      <td>0.162372</td>\n",
       "    </tr>\n",
       "    <tr>\n",
       "      <th>1</th>\n",
       "      <td>1.0</td>\n",
       "      <td>0.0</td>\n",
       "      <td>0.0</td>\n",
       "      <td>0.0</td>\n",
       "      <td>0.0</td>\n",
       "      <td>0.0</td>\n",
       "      <td>1.0</td>\n",
       "      <td>0.0</td>\n",
       "      <td>0.0</td>\n",
       "      <td>0.0</td>\n",
       "      <td>...</td>\n",
       "      <td>0.0</td>\n",
       "      <td>0.0</td>\n",
       "      <td>0.0</td>\n",
       "      <td>0.0</td>\n",
       "      <td>0.0</td>\n",
       "      <td>0.0</td>\n",
       "      <td>1.0</td>\n",
       "      <td>0.0</td>\n",
       "      <td>0.0</td>\n",
       "      <td>0.162372</td>\n",
       "    </tr>\n",
       "    <tr>\n",
       "      <th>2</th>\n",
       "      <td>1.0</td>\n",
       "      <td>0.0</td>\n",
       "      <td>0.0</td>\n",
       "      <td>0.0</td>\n",
       "      <td>0.0</td>\n",
       "      <td>0.0</td>\n",
       "      <td>1.0</td>\n",
       "      <td>0.0</td>\n",
       "      <td>0.0</td>\n",
       "      <td>0.0</td>\n",
       "      <td>...</td>\n",
       "      <td>0.0</td>\n",
       "      <td>0.0</td>\n",
       "      <td>0.0</td>\n",
       "      <td>0.0</td>\n",
       "      <td>0.0</td>\n",
       "      <td>0.0</td>\n",
       "      <td>1.0</td>\n",
       "      <td>0.0</td>\n",
       "      <td>0.0</td>\n",
       "      <td>0.162372</td>\n",
       "    </tr>\n",
       "  </tbody>\n",
       "</table>\n",
       "<p>3 rows × 26 columns</p>\n",
       "</div>"
      ],
      "text/plain": [
       "    0    1    2    3    4    5    6    7    8    9   ...   16   17   18   19  \\\n",
       "0  1.0  0.0  0.0  0.0  0.0  0.0  1.0  0.0  0.0  0.0  ...  0.0  0.0  0.0  0.0   \n",
       "1  1.0  0.0  0.0  0.0  0.0  0.0  1.0  0.0  0.0  0.0  ...  0.0  0.0  0.0  0.0   \n",
       "2  1.0  0.0  0.0  0.0  0.0  0.0  1.0  0.0  0.0  0.0  ...  0.0  0.0  0.0  0.0   \n",
       "\n",
       "    20   21   22   23   24        25  \n",
       "0  0.0  0.0  1.0  0.0  0.0  0.162372  \n",
       "1  0.0  0.0  1.0  0.0  0.0  0.162372  \n",
       "2  0.0  0.0  1.0  0.0  0.0  0.162372  \n",
       "\n",
       "[3 rows x 26 columns]"
      ]
     },
     "metadata": {},
     "output_type": "display_data"
    }
   ],
   "source": [
    "X_transformed = preprocessing_pipe.fit_transform(df)\n",
    "\n",
    "\n",
    "display(pd.DataFrame(X_transformed).head(3))"
   ]
  },
  {
   "cell_type": "code",
   "execution_count": 33,
   "id": "9dfa73a6",
   "metadata": {},
   "outputs": [
    {
     "data": {
      "text/plain": [
       "(8322174, 26)"
      ]
     },
     "execution_count": 33,
     "metadata": {},
     "output_type": "execute_result"
    }
   ],
   "source": [
    "X_transformed.shape"
   ]
  },
  {
   "cell_type": "markdown",
   "id": "b60810fa",
   "metadata": {},
   "source": [
    "# Splitting the dataset"
   ]
  },
  {
   "cell_type": "code",
   "execution_count": 38,
   "id": "5346c793",
   "metadata": {},
   "outputs": [
    {
     "data": {
      "text/plain": [
       "(8322174, 2)"
      ]
     },
     "execution_count": 38,
     "metadata": {},
     "output_type": "execute_result"
    }
   ],
   "source": [
    "labels = df[['username','id']]\n",
    "labels.shape"
   ]
  },
  {
   "cell_type": "code",
   "execution_count": 40,
   "id": "42060e02",
   "metadata": {},
   "outputs": [
    {
     "data": {
      "text/plain": [
       "Int64Index([      0,       3,       5,       7,       9,      15,      19,\n",
       "                 26,      28,      32,\n",
       "            ...\n",
       "            8317424, 8317579, 8318358, 8318690, 8318973, 8319463, 8319630,\n",
       "            8320118, 8320535, 8321828],\n",
       "           dtype='int64', length=42631)"
      ]
     },
     "execution_count": 40,
     "metadata": {},
     "output_type": "execute_result"
    }
   ],
   "source": [
    "unique_labels = labels.drop_duplicates()\n",
    "unique_labels.shape\n",
    "unique_labels = unique_labels.index\n",
    "unique_labels"
   ]
  },
  {
   "cell_type": "code",
   "execution_count": 41,
   "id": "c733ef3d",
   "metadata": {},
   "outputs": [],
   "source": [
    "y = df['truth']\n",
    "y = y.iloc[unique_labels]"
   ]
  },
  {
   "cell_type": "code",
   "execution_count": 44,
   "id": "fa724c2a",
   "metadata": {
    "scrolled": true
   },
   "outputs": [
    {
     "data": {
      "text/plain": [
       "(42631, 26)"
      ]
     },
     "execution_count": 44,
     "metadata": {},
     "output_type": "execute_result"
    }
   ],
   "source": [
    "X_transformed = X_transformed[unique_labels,:]\n",
    "X_transformed.shape"
   ]
  },
  {
   "cell_type": "code",
   "execution_count": 45,
   "id": "45ea691a",
   "metadata": {},
   "outputs": [],
   "source": [
    "X_train, X_test, y_train, y_test = train_test_split(X_transformed[:5000], y[:5000], test_size=0.33, random_state=42)"
   ]
  },
  {
   "cell_type": "markdown",
   "id": "b94d9fae",
   "metadata": {},
   "source": [
    "# Modeling"
   ]
  },
  {
   "cell_type": "markdown",
   "id": "8ec418f4",
   "metadata": {},
   "source": [
    "## XGboost"
   ]
  },
  {
   "cell_type": "code",
   "execution_count": 64,
   "id": "725f6987",
   "metadata": {},
   "outputs": [
    {
     "name": "stdout",
     "output_type": "stream",
     "text": [
      "[16:52:34] WARNING: /Users/runner/work/xgboost/xgboost/src/learner.cc:1115: Starting in XGBoost 1.3.0, the default evaluation metric used with the objective 'binary:logistic' was changed from 'error' to 'logloss'. Explicitly set eval_metric if you'd like to restore the old behavior.\n"
     ]
    },
    {
     "data": {
      "text/html": [
       "<style>#sk-309ce475-1ea4-4b37-9281-ee17393cd010 {color: black;background-color: white;}#sk-309ce475-1ea4-4b37-9281-ee17393cd010 pre{padding: 0;}#sk-309ce475-1ea4-4b37-9281-ee17393cd010 div.sk-toggleable {background-color: white;}#sk-309ce475-1ea4-4b37-9281-ee17393cd010 label.sk-toggleable__label {cursor: pointer;display: block;width: 100%;margin-bottom: 0;padding: 0.3em;box-sizing: border-box;text-align: center;}#sk-309ce475-1ea4-4b37-9281-ee17393cd010 label.sk-toggleable__label-arrow:before {content: \"▸\";float: left;margin-right: 0.25em;color: #696969;}#sk-309ce475-1ea4-4b37-9281-ee17393cd010 label.sk-toggleable__label-arrow:hover:before {color: black;}#sk-309ce475-1ea4-4b37-9281-ee17393cd010 div.sk-estimator:hover label.sk-toggleable__label-arrow:before {color: black;}#sk-309ce475-1ea4-4b37-9281-ee17393cd010 div.sk-toggleable__content {max-height: 0;max-width: 0;overflow: hidden;text-align: left;background-color: #f0f8ff;}#sk-309ce475-1ea4-4b37-9281-ee17393cd010 div.sk-toggleable__content pre {margin: 0.2em;color: black;border-radius: 0.25em;background-color: #f0f8ff;}#sk-309ce475-1ea4-4b37-9281-ee17393cd010 input.sk-toggleable__control:checked~div.sk-toggleable__content {max-height: 200px;max-width: 100%;overflow: auto;}#sk-309ce475-1ea4-4b37-9281-ee17393cd010 input.sk-toggleable__control:checked~label.sk-toggleable__label-arrow:before {content: \"▾\";}#sk-309ce475-1ea4-4b37-9281-ee17393cd010 div.sk-estimator input.sk-toggleable__control:checked~label.sk-toggleable__label {background-color: #d4ebff;}#sk-309ce475-1ea4-4b37-9281-ee17393cd010 div.sk-label input.sk-toggleable__control:checked~label.sk-toggleable__label {background-color: #d4ebff;}#sk-309ce475-1ea4-4b37-9281-ee17393cd010 input.sk-hidden--visually {border: 0;clip: rect(1px 1px 1px 1px);clip: rect(1px, 1px, 1px, 1px);height: 1px;margin: -1px;overflow: hidden;padding: 0;position: absolute;width: 1px;}#sk-309ce475-1ea4-4b37-9281-ee17393cd010 div.sk-estimator {font-family: monospace;background-color: #f0f8ff;border: 1px dotted black;border-radius: 0.25em;box-sizing: border-box;margin-bottom: 0.5em;}#sk-309ce475-1ea4-4b37-9281-ee17393cd010 div.sk-estimator:hover {background-color: #d4ebff;}#sk-309ce475-1ea4-4b37-9281-ee17393cd010 div.sk-parallel-item::after {content: \"\";width: 100%;border-bottom: 1px solid gray;flex-grow: 1;}#sk-309ce475-1ea4-4b37-9281-ee17393cd010 div.sk-label:hover label.sk-toggleable__label {background-color: #d4ebff;}#sk-309ce475-1ea4-4b37-9281-ee17393cd010 div.sk-serial::before {content: \"\";position: absolute;border-left: 1px solid gray;box-sizing: border-box;top: 2em;bottom: 0;left: 50%;}#sk-309ce475-1ea4-4b37-9281-ee17393cd010 div.sk-serial {display: flex;flex-direction: column;align-items: center;background-color: white;padding-right: 0.2em;padding-left: 0.2em;}#sk-309ce475-1ea4-4b37-9281-ee17393cd010 div.sk-item {z-index: 1;}#sk-309ce475-1ea4-4b37-9281-ee17393cd010 div.sk-parallel {display: flex;align-items: stretch;justify-content: center;background-color: white;}#sk-309ce475-1ea4-4b37-9281-ee17393cd010 div.sk-parallel::before {content: \"\";position: absolute;border-left: 1px solid gray;box-sizing: border-box;top: 2em;bottom: 0;left: 50%;}#sk-309ce475-1ea4-4b37-9281-ee17393cd010 div.sk-parallel-item {display: flex;flex-direction: column;position: relative;background-color: white;}#sk-309ce475-1ea4-4b37-9281-ee17393cd010 div.sk-parallel-item:first-child::after {align-self: flex-end;width: 50%;}#sk-309ce475-1ea4-4b37-9281-ee17393cd010 div.sk-parallel-item:last-child::after {align-self: flex-start;width: 50%;}#sk-309ce475-1ea4-4b37-9281-ee17393cd010 div.sk-parallel-item:only-child::after {width: 0;}#sk-309ce475-1ea4-4b37-9281-ee17393cd010 div.sk-dashed-wrapped {border: 1px dashed gray;margin: 0 0.4em 0.5em 0.4em;box-sizing: border-box;padding-bottom: 0.4em;background-color: white;position: relative;}#sk-309ce475-1ea4-4b37-9281-ee17393cd010 div.sk-label label {font-family: monospace;font-weight: bold;background-color: white;display: inline-block;line-height: 1.2em;}#sk-309ce475-1ea4-4b37-9281-ee17393cd010 div.sk-label-container {position: relative;z-index: 2;text-align: center;}#sk-309ce475-1ea4-4b37-9281-ee17393cd010 div.sk-container {/* jupyter's `normalize.less` sets `[hidden] { display: none; }` but bootstrap.min.css set `[hidden] { display: none !important; }` so we also need the `!important` here to be able to override the default hidden behavior on the sphinx rendered scikit-learn.org. See: https://github.com/scikit-learn/scikit-learn/issues/21755 */display: inline-block !important;position: relative;}#sk-309ce475-1ea4-4b37-9281-ee17393cd010 div.sk-text-repr-fallback {display: none;}</style><div id=\"sk-309ce475-1ea4-4b37-9281-ee17393cd010\" class=\"sk-top-container\"><div class=\"sk-text-repr-fallback\"><pre>XGBClassifier(base_score=0.5, booster=&#x27;gbtree&#x27;, colsample_bylevel=1,\n",
       "              colsample_bynode=1, colsample_bytree=1, enable_categorical=False,\n",
       "              gamma=0, gpu_id=-1, importance_type=None,\n",
       "              interaction_constraints=&#x27;&#x27;, learning_rate=0.300000012,\n",
       "              max_delta_step=0, max_depth=6, min_child_weight=1, missing=nan,\n",
       "              monotone_constraints=&#x27;()&#x27;, n_estimators=100, n_jobs=8,\n",
       "              num_parallel_tree=1, predictor=&#x27;auto&#x27;, random_state=0,\n",
       "              reg_alpha=0, reg_lambda=1, scale_pos_weight=1, subsample=1,\n",
       "              tree_method=&#x27;exact&#x27;, use_label_encoder=False,\n",
       "              validate_parameters=1, verbosity=None)</pre><b>Please rerun this cell to show the HTML repr or trust the notebook.</b></div><div class=\"sk-container\" hidden><div class=\"sk-item\"><div class=\"sk-estimator sk-toggleable\"><input class=\"sk-toggleable__control sk-hidden--visually\" id=\"00973ec3-f331-4957-8c51-975261e50652\" type=\"checkbox\" checked><label for=\"00973ec3-f331-4957-8c51-975261e50652\" class=\"sk-toggleable__label sk-toggleable__label-arrow\">XGBClassifier</label><div class=\"sk-toggleable__content\"><pre>XGBClassifier(base_score=0.5, booster=&#x27;gbtree&#x27;, colsample_bylevel=1,\n",
       "              colsample_bynode=1, colsample_bytree=1, enable_categorical=False,\n",
       "              gamma=0, gpu_id=-1, importance_type=None,\n",
       "              interaction_constraints=&#x27;&#x27;, learning_rate=0.300000012,\n",
       "              max_delta_step=0, max_depth=6, min_child_weight=1, missing=nan,\n",
       "              monotone_constraints=&#x27;()&#x27;, n_estimators=100, n_jobs=8,\n",
       "              num_parallel_tree=1, predictor=&#x27;auto&#x27;, random_state=0,\n",
       "              reg_alpha=0, reg_lambda=1, scale_pos_weight=1, subsample=1,\n",
       "              tree_method=&#x27;exact&#x27;, use_label_encoder=False,\n",
       "              validate_parameters=1, verbosity=None)</pre></div></div></div></div></div>"
      ],
      "text/plain": [
       "XGBClassifier(base_score=0.5, booster='gbtree', colsample_bylevel=1,\n",
       "              colsample_bynode=1, colsample_bytree=1, enable_categorical=False,\n",
       "              gamma=0, gpu_id=-1, importance_type=None,\n",
       "              interaction_constraints='', learning_rate=0.300000012,\n",
       "              max_delta_step=0, max_depth=6, min_child_weight=1, missing=nan,\n",
       "              monotone_constraints='()', n_estimators=100, n_jobs=8,\n",
       "              num_parallel_tree=1, predictor='auto', random_state=0,\n",
       "              reg_alpha=0, reg_lambda=1, scale_pos_weight=1, subsample=1,\n",
       "              tree_method='exact', use_label_encoder=False,\n",
       "              validate_parameters=1, verbosity=None)"
      ]
     },
     "execution_count": 64,
     "metadata": {},
     "output_type": "execute_result"
    }
   ],
   "source": [
    "from xgboost import XGBClassifier\n",
    "from sklearn.metrics import accuracy_score\n",
    "xgbc_model = XGBClassifier(use_label_encoder=False)\n",
    "xgbc_model.fit(X_train, y_train)"
   ]
  },
  {
   "cell_type": "code",
   "execution_count": 65,
   "id": "77a15a02",
   "metadata": {},
   "outputs": [
    {
     "name": "stdout",
     "output_type": "stream",
     "text": [
      "[16:52:42] WARNING: /Users/runner/work/xgboost/xgboost/src/learner.cc:1115: Starting in XGBoost 1.3.0, the default evaluation metric used with the objective 'binary:logistic' was changed from 'error' to 'logloss'. Explicitly set eval_metric if you'd like to restore the old behavior.\n",
      "[16:52:43] WARNING: /Users/runner/work/xgboost/xgboost/src/learner.cc:1115: Starting in XGBoost 1.3.0, the default evaluation metric used with the objective 'binary:logistic' was changed from 'error' to 'logloss'. Explicitly set eval_metric if you'd like to restore the old behavior.\n",
      "[16:52:43] WARNING: /Users/runner/work/xgboost/xgboost/src/learner.cc:1115: Starting in XGBoost 1.3.0, the default evaluation metric used with the objective 'binary:logistic' was changed from 'error' to 'logloss'. Explicitly set eval_metric if you'd like to restore the old behavior.\n",
      "[16:52:43] WARNING: /Users/runner/work/xgboost/xgboost/src/learner.cc:1115: Starting in XGBoost 1.3.0, the default evaluation metric used with the objective 'binary:logistic' was changed from 'error' to 'logloss'. Explicitly set eval_metric if you'd like to restore the old behavior.\n",
      "[16:52:43] WARNING: /Users/runner/work/xgboost/xgboost/src/learner.cc:1115: Starting in XGBoost 1.3.0, the default evaluation metric used with the objective 'binary:logistic' was changed from 'error' to 'logloss'. Explicitly set eval_metric if you'd like to restore the old behavior.\n"
     ]
    },
    {
     "data": {
      "text/plain": [
       "0.7014925373134329"
      ]
     },
     "execution_count": 65,
     "metadata": {},
     "output_type": "execute_result"
    }
   ],
   "source": [
    "cross_val_score(xgbc_model, X_train, y_train, cv = 5 , scoring= 'accuracy').mean()"
   ]
  },
  {
   "cell_type": "markdown",
   "id": "eb48c3e4",
   "metadata": {},
   "source": [
    "## KNeighborsClassifier"
   ]
  },
  {
   "cell_type": "code",
   "execution_count": 46,
   "id": "88858596",
   "metadata": {},
   "outputs": [],
   "source": [
    "from sklearn.neighbors import KNeighborsClassifier\n",
    "from sklearn.model_selection import cross_val_score"
   ]
  },
  {
   "cell_type": "code",
   "execution_count": 47,
   "id": "e42947aa",
   "metadata": {},
   "outputs": [],
   "source": [
    "error_rate = []\n",
    "\n",
    "# Will take some time\n",
    "for i in range(1,40):\n",
    "    \n",
    "    knn = KNeighborsClassifier(n_neighbors=i)\n",
    "    knn.fit(X_train,y_train)\n",
    "    pred_i = knn.predict(X_test)\n",
    "    error_rate.append(np.mean(pred_i != y_test))"
   ]
  },
  {
   "cell_type": "code",
   "execution_count": 48,
   "id": "d96d8477",
   "metadata": {},
   "outputs": [
    {
     "data": {
      "text/plain": [
       "Text(0, 0.5, 'Error Rate')"
      ]
     },
     "execution_count": 48,
     "metadata": {},
     "output_type": "execute_result"
    },
    {
     "data": {
      "image/png": "[encoded data removed]",
      "text/plain": [
       "<Figure size 720x432 with 1 Axes>"
      ]
     },
     "metadata": {
      "needs_background": "light"
     },
     "output_type": "display_data"
    }
   ],
   "source": [
    "plt.figure(figsize=(10,6))\n",
    "plt.plot(range(1,40),error_rate,color='blue', linestyle='dashed', marker='o',\n",
    "         markerfacecolor='red', markersize=10)\n",
    "plt.title('Error Rate vs. K Value')\n",
    "plt.xlabel('K')\n",
    "plt.ylabel('Error Rate')"
   ]
  },
  {
   "cell_type": "code",
   "execution_count": 49,
   "id": "514e7aef",
   "metadata": {
    "scrolled": true
   },
   "outputs": [
    {
     "data": {
      "text/html": [
       "<style>#sk-ca5a7bf6-e361-4138-9655-06d91d16df9a {color: black;background-color: white;}#sk-ca5a7bf6-e361-4138-9655-06d91d16df9a pre{padding: 0;}#sk-ca5a7bf6-e361-4138-9655-06d91d16df9a div.sk-toggleable {background-color: white;}#sk-ca5a7bf6-e361-4138-9655-06d91d16df9a label.sk-toggleable__label {cursor: pointer;display: block;width: 100%;margin-bottom: 0;padding: 0.3em;box-sizing: border-box;text-align: center;}#sk-ca5a7bf6-e361-4138-9655-06d91d16df9a label.sk-toggleable__label-arrow:before {content: \"▸\";float: left;margin-right: 0.25em;color: #696969;}#sk-ca5a7bf6-e361-4138-9655-06d91d16df9a label.sk-toggleable__label-arrow:hover:before {color: black;}#sk-ca5a7bf6-e361-4138-9655-06d91d16df9a div.sk-estimator:hover label.sk-toggleable__label-arrow:before {color: black;}#sk-ca5a7bf6-e361-4138-9655-06d91d16df9a div.sk-toggleable__content {max-height: 0;max-width: 0;overflow: hidden;text-align: left;background-color: #f0f8ff;}#sk-ca5a7bf6-e361-4138-9655-06d91d16df9a div.sk-toggleable__content pre {margin: 0.2em;color: black;border-radius: 0.25em;background-color: #f0f8ff;}#sk-ca5a7bf6-e361-4138-9655-06d91d16df9a input.sk-toggleable__control:checked~div.sk-toggleable__content {max-height: 200px;max-width: 100%;overflow: auto;}#sk-ca5a7bf6-e361-4138-9655-06d91d16df9a input.sk-toggleable__control:checked~label.sk-toggleable__label-arrow:before {content: \"▾\";}#sk-ca5a7bf6-e361-4138-9655-06d91d16df9a div.sk-estimator input.sk-toggleable__control:checked~label.sk-toggleable__label {background-color: #d4ebff;}#sk-ca5a7bf6-e361-4138-9655-06d91d16df9a div.sk-label input.sk-toggleable__control:checked~label.sk-toggleable__label {background-color: #d4ebff;}#sk-ca5a7bf6-e361-4138-9655-06d91d16df9a input.sk-hidden--visually {border: 0;clip: rect(1px 1px 1px 1px);clip: rect(1px, 1px, 1px, 1px);height: 1px;margin: -1px;overflow: hidden;padding: 0;position: absolute;width: 1px;}#sk-ca5a7bf6-e361-4138-9655-06d91d16df9a div.sk-estimator {font-family: monospace;background-color: #f0f8ff;border: 1px dotted black;border-radius: 0.25em;box-sizing: border-box;margin-bottom: 0.5em;}#sk-ca5a7bf6-e361-4138-9655-06d91d16df9a div.sk-estimator:hover {background-color: #d4ebff;}#sk-ca5a7bf6-e361-4138-9655-06d91d16df9a div.sk-parallel-item::after {content: \"\";width: 100%;border-bottom: 1px solid gray;flex-grow: 1;}#sk-ca5a7bf6-e361-4138-9655-06d91d16df9a div.sk-label:hover label.sk-toggleable__label {background-color: #d4ebff;}#sk-ca5a7bf6-e361-4138-9655-06d91d16df9a div.sk-serial::before {content: \"\";position: absolute;border-left: 1px solid gray;box-sizing: border-box;top: 2em;bottom: 0;left: 50%;}#sk-ca5a7bf6-e361-4138-9655-06d91d16df9a div.sk-serial {display: flex;flex-direction: column;align-items: center;background-color: white;padding-right: 0.2em;padding-left: 0.2em;}#sk-ca5a7bf6-e361-4138-9655-06d91d16df9a div.sk-item {z-index: 1;}#sk-ca5a7bf6-e361-4138-9655-06d91d16df9a div.sk-parallel {display: flex;align-items: stretch;justify-content: center;background-color: white;}#sk-ca5a7bf6-e361-4138-9655-06d91d16df9a div.sk-parallel::before {content: \"\";position: absolute;border-left: 1px solid gray;box-sizing: border-box;top: 2em;bottom: 0;left: 50%;}#sk-ca5a7bf6-e361-4138-9655-06d91d16df9a div.sk-parallel-item {display: flex;flex-direction: column;position: relative;background-color: white;}#sk-ca5a7bf6-e361-4138-9655-06d91d16df9a div.sk-parallel-item:first-child::after {align-self: flex-end;width: 50%;}#sk-ca5a7bf6-e361-4138-9655-06d91d16df9a div.sk-parallel-item:last-child::after {align-self: flex-start;width: 50%;}#sk-ca5a7bf6-e361-4138-9655-06d91d16df9a div.sk-parallel-item:only-child::after {width: 0;}#sk-ca5a7bf6-e361-4138-9655-06d91d16df9a div.sk-dashed-wrapped {border: 1px dashed gray;margin: 0 0.4em 0.5em 0.4em;box-sizing: border-box;padding-bottom: 0.4em;background-color: white;position: relative;}#sk-ca5a7bf6-e361-4138-9655-06d91d16df9a div.sk-label label {font-family: monospace;font-weight: bold;background-color: white;display: inline-block;line-height: 1.2em;}#sk-ca5a7bf6-e361-4138-9655-06d91d16df9a div.sk-label-container {position: relative;z-index: 2;text-align: center;}#sk-ca5a7bf6-e361-4138-9655-06d91d16df9a div.sk-container {/* jupyter's `normalize.less` sets `[hidden] { display: none; }` but bootstrap.min.css set `[hidden] { display: none !important; }` so we also need the `!important` here to be able to override the default hidden behavior on the sphinx rendered scikit-learn.org. See: https://github.com/scikit-learn/scikit-learn/issues/21755 */display: inline-block !important;position: relative;}#sk-ca5a7bf6-e361-4138-9655-06d91d16df9a div.sk-text-repr-fallback {display: none;}</style><div id=\"sk-ca5a7bf6-e361-4138-9655-06d91d16df9a\" class=\"sk-top-container\"><div class=\"sk-text-repr-fallback\"><pre>KNeighborsClassifier(n_neighbors=31)</pre><b>Please rerun this cell to show the HTML repr or trust the notebook.</b></div><div class=\"sk-container\" hidden><div class=\"sk-item\"><div class=\"sk-estimator sk-toggleable\"><input class=\"sk-toggleable__control sk-hidden--visually\" id=\"32a77b33-8cd9-43d8-807f-bb4d50eb1acd\" type=\"checkbox\" checked><label for=\"32a77b33-8cd9-43d8-807f-bb4d50eb1acd\" class=\"sk-toggleable__label sk-toggleable__label-arrow\">KNeighborsClassifier</label><div class=\"sk-toggleable__content\"><pre>KNeighborsClassifier(n_neighbors=31)</pre></div></div></div></div></div>"
      ],
      "text/plain": [
       "KNeighborsClassifier(n_neighbors=31)"
      ]
     },
     "execution_count": 49,
     "metadata": {},
     "output_type": "execute_result"
    }
   ],
   "source": [
    "knn = KNeighborsClassifier(n_neighbors=31)\n",
    "knn.fit(X_train,y_train)"
   ]
  },
  {
   "cell_type": "code",
   "execution_count": 50,
   "id": "e92307a2",
   "metadata": {},
   "outputs": [
    {
     "data": {
      "text/plain": [
       "0.6707462686567164"
      ]
     },
     "execution_count": 50,
     "metadata": {},
     "output_type": "execute_result"
    }
   ],
   "source": [
    "knn = KNeighborsClassifier()\n",
    "cross_val_score(knn, X_train, y_train, cv = 5 , scoring= 'accuracy').mean()"
   ]
  },
  {
   "cell_type": "code",
   "execution_count": 63,
   "id": "8c10fe86",
   "metadata": {},
   "outputs": [
    {
     "data": {
      "text/plain": [
       "0.7014925373134329"
      ]
     },
     "execution_count": 63,
     "metadata": {},
     "output_type": "execute_result"
    }
   ],
   "source": [
    "from sklearn.ensemble import VotingClassifier\n",
    "from sklearn.linear_model import LogisticRegression\n",
    "from sklearn.ensemble import RandomForestClassifier\n",
    "\n",
    "forest = RandomForestClassifier()\n",
    "logreg = LogisticRegression()\n",
    "\n",
    "ensemble = VotingClassifier(\n",
    "    estimators = [(\"rf\", forest),(\"lr\", logreg)],\n",
    "    voting = 'soft', # to use predict_proba of each classifier before voting\n",
    "    weights = [1,1] # to equally weight forest and logreg in the vote\n",
    ")\n",
    "ensemble.fit(X_train, y_train)\n",
    "cross_val_score(ensemble, X_train, y_train, cv = 5 , scoring= 'accuracy').mean()"
   ]
  },
  {
   "cell_type": "code",
   "execution_count": 73,
   "id": "14786278",
   "metadata": {},
   "outputs": [
    {
     "name": "stdout",
     "output_type": "stream",
     "text": [
      "[16:58:36] WARNING: /Users/runner/work/xgboost/xgboost/src/learner.cc:1115: Starting in XGBoost 1.3.0, the default evaluation metric used with the objective 'binary:logistic' was changed from 'error' to 'logloss'. Explicitly set eval_metric if you'd like to restore the old behavior.\n",
      "[16:58:36] WARNING: /Users/runner/work/xgboost/xgboost/src/learner.cc:1115: Starting in XGBoost 1.3.0, the default evaluation metric used with the objective 'binary:logistic' was changed from 'error' to 'logloss'. Explicitly set eval_metric if you'd like to restore the old behavior.\n",
      "[16:58:37] WARNING: /Users/runner/work/xgboost/xgboost/src/learner.cc:1115: Starting in XGBoost 1.3.0, the default evaluation metric used with the objective 'binary:logistic' was changed from 'error' to 'logloss'. Explicitly set eval_metric if you'd like to restore the old behavior.\n",
      "[16:58:38] WARNING: /Users/runner/work/xgboost/xgboost/src/learner.cc:1115: Starting in XGBoost 1.3.0, the default evaluation metric used with the objective 'binary:logistic' was changed from 'error' to 'logloss'. Explicitly set eval_metric if you'd like to restore the old behavior.\n",
      "[16:58:38] WARNING: /Users/runner/work/xgboost/xgboost/src/learner.cc:1115: Starting in XGBoost 1.3.0, the default evaluation metric used with the objective 'binary:logistic' was changed from 'error' to 'logloss'. Explicitly set eval_metric if you'd like to restore the old behavior.\n",
      "[16:58:39] WARNING: /Users/runner/work/xgboost/xgboost/src/learner.cc:1115: Starting in XGBoost 1.3.0, the default evaluation metric used with the objective 'binary:logistic' was changed from 'error' to 'logloss'. Explicitly set eval_metric if you'd like to restore the old behavior.\n"
     ]
    },
    {
     "data": {
      "text/plain": [
       "0.7017910447761194"
      ]
     },
     "execution_count": 73,
     "metadata": {},
     "output_type": "execute_result"
    }
   ],
   "source": [
    "ensemble = VotingClassifier(\n",
    "    estimators = [(\"rf\", forest),(\"knn\", knn), (\"xgbc_model\", xgbc_model), (\"gbc_model\", gbc_model)],\n",
    "    voting = 'soft', # to use predict_proba of each classifier before voting\n",
    "    weights = [1,1, 1, 1] # to equally weight forest and logreg in the vote\n",
    ")\n",
    "ensemble.fit(X_train, y_train)\n",
    "cross_val_score(ensemble, X_train, y_train, cv = 5 , scoring= 'accuracy').mean()"
   ]
  },
  {
   "cell_type": "markdown",
   "id": "c88b1ef1",
   "metadata": {},
   "source": [
    "## GradientBoostingClassifier"
   ]
  },
  {
   "cell_type": "code",
   "execution_count": 55,
   "id": "5a172c89",
   "metadata": {},
   "outputs": [
    {
     "data": {
      "text/html": [
       "<style>#sk-a807bfe5-a19b-4e4c-a345-72d1fcce26d2 {color: black;background-color: white;}#sk-a807bfe5-a19b-4e4c-a345-72d1fcce26d2 pre{padding: 0;}#sk-a807bfe5-a19b-4e4c-a345-72d1fcce26d2 div.sk-toggleable {background-color: white;}#sk-a807bfe5-a19b-4e4c-a345-72d1fcce26d2 label.sk-toggleable__label {cursor: pointer;display: block;width: 100%;margin-bottom: 0;padding: 0.3em;box-sizing: border-box;text-align: center;}#sk-a807bfe5-a19b-4e4c-a345-72d1fcce26d2 label.sk-toggleable__label-arrow:before {content: \"▸\";float: left;margin-right: 0.25em;color: #696969;}#sk-a807bfe5-a19b-4e4c-a345-72d1fcce26d2 label.sk-toggleable__label-arrow:hover:before {color: black;}#sk-a807bfe5-a19b-4e4c-a345-72d1fcce26d2 div.sk-estimator:hover label.sk-toggleable__label-arrow:before {color: black;}#sk-a807bfe5-a19b-4e4c-a345-72d1fcce26d2 div.sk-toggleable__content {max-height: 0;max-width: 0;overflow: hidden;text-align: left;background-color: #f0f8ff;}#sk-a807bfe5-a19b-4e4c-a345-72d1fcce26d2 div.sk-toggleable__content pre {margin: 0.2em;color: black;border-radius: 0.25em;background-color: #f0f8ff;}#sk-a807bfe5-a19b-4e4c-a345-72d1fcce26d2 input.sk-toggleable__control:checked~div.sk-toggleable__content {max-height: 200px;max-width: 100%;overflow: auto;}#sk-a807bfe5-a19b-4e4c-a345-72d1fcce26d2 input.sk-toggleable__control:checked~label.sk-toggleable__label-arrow:before {content: \"▾\";}#sk-a807bfe5-a19b-4e4c-a345-72d1fcce26d2 div.sk-estimator input.sk-toggleable__control:checked~label.sk-toggleable__label {background-color: #d4ebff;}#sk-a807bfe5-a19b-4e4c-a345-72d1fcce26d2 div.sk-label input.sk-toggleable__control:checked~label.sk-toggleable__label {background-color: #d4ebff;}#sk-a807bfe5-a19b-4e4c-a345-72d1fcce26d2 input.sk-hidden--visually {border: 0;clip: rect(1px 1px 1px 1px);clip: rect(1px, 1px, 1px, 1px);height: 1px;margin: -1px;overflow: hidden;padding: 0;position: absolute;width: 1px;}#sk-a807bfe5-a19b-4e4c-a345-72d1fcce26d2 div.sk-estimator {font-family: monospace;background-color: #f0f8ff;border: 1px dotted black;border-radius: 0.25em;box-sizing: border-box;margin-bottom: 0.5em;}#sk-a807bfe5-a19b-4e4c-a345-72d1fcce26d2 div.sk-estimator:hover {background-color: #d4ebff;}#sk-a807bfe5-a19b-4e4c-a345-72d1fcce26d2 div.sk-parallel-item::after {content: \"\";width: 100%;border-bottom: 1px solid gray;flex-grow: 1;}#sk-a807bfe5-a19b-4e4c-a345-72d1fcce26d2 div.sk-label:hover label.sk-toggleable__label {background-color: #d4ebff;}#sk-a807bfe5-a19b-4e4c-a345-72d1fcce26d2 div.sk-serial::before {content: \"\";position: absolute;border-left: 1px solid gray;box-sizing: border-box;top: 2em;bottom: 0;left: 50%;}#sk-a807bfe5-a19b-4e4c-a345-72d1fcce26d2 div.sk-serial {display: flex;flex-direction: column;align-items: center;background-color: white;padding-right: 0.2em;padding-left: 0.2em;}#sk-a807bfe5-a19b-4e4c-a345-72d1fcce26d2 div.sk-item {z-index: 1;}#sk-a807bfe5-a19b-4e4c-a345-72d1fcce26d2 div.sk-parallel {display: flex;align-items: stretch;justify-content: center;background-color: white;}#sk-a807bfe5-a19b-4e4c-a345-72d1fcce26d2 div.sk-parallel::before {content: \"\";position: absolute;border-left: 1px solid gray;box-sizing: border-box;top: 2em;bottom: 0;left: 50%;}#sk-a807bfe5-a19b-4e4c-a345-72d1fcce26d2 div.sk-parallel-item {display: flex;flex-direction: column;position: relative;background-color: white;}#sk-a807bfe5-a19b-4e4c-a345-72d1fcce26d2 div.sk-parallel-item:first-child::after {align-self: flex-end;width: 50%;}#sk-a807bfe5-a19b-4e4c-a345-72d1fcce26d2 div.sk-parallel-item:last-child::after {align-self: flex-start;width: 50%;}#sk-a807bfe5-a19b-4e4c-a345-72d1fcce26d2 div.sk-parallel-item:only-child::after {width: 0;}#sk-a807bfe5-a19b-4e4c-a345-72d1fcce26d2 div.sk-dashed-wrapped {border: 1px dashed gray;margin: 0 0.4em 0.5em 0.4em;box-sizing: border-box;padding-bottom: 0.4em;background-color: white;position: relative;}#sk-a807bfe5-a19b-4e4c-a345-72d1fcce26d2 div.sk-label label {font-family: monospace;font-weight: bold;background-color: white;display: inline-block;line-height: 1.2em;}#sk-a807bfe5-a19b-4e4c-a345-72d1fcce26d2 div.sk-label-container {position: relative;z-index: 2;text-align: center;}#sk-a807bfe5-a19b-4e4c-a345-72d1fcce26d2 div.sk-container {/* jupyter's `normalize.less` sets `[hidden] { display: none; }` but bootstrap.min.css set `[hidden] { display: none !important; }` so we also need the `!important` here to be able to override the default hidden behavior on the sphinx rendered scikit-learn.org. See: https://github.com/scikit-learn/scikit-learn/issues/21755 */display: inline-block !important;position: relative;}#sk-a807bfe5-a19b-4e4c-a345-72d1fcce26d2 div.sk-text-repr-fallback {display: none;}</style><div id=\"sk-a807bfe5-a19b-4e4c-a345-72d1fcce26d2\" class=\"sk-top-container\"><div class=\"sk-text-repr-fallback\"><pre>GradientBoostingClassifier()</pre><b>Please rerun this cell to show the HTML repr or trust the notebook.</b></div><div class=\"sk-container\" hidden><div class=\"sk-item\"><div class=\"sk-estimator sk-toggleable\"><input class=\"sk-toggleable__control sk-hidden--visually\" id=\"81ac33e4-8631-464e-9a2d-baa910b07141\" type=\"checkbox\" checked><label for=\"81ac33e4-8631-464e-9a2d-baa910b07141\" class=\"sk-toggleable__label sk-toggleable__label-arrow\">GradientBoostingClassifier</label><div class=\"sk-toggleable__content\"><pre>GradientBoostingClassifier()</pre></div></div></div></div></div>"
      ],
      "text/plain": [
       "GradientBoostingClassifier()"
      ]
     },
     "execution_count": 55,
     "metadata": {},
     "output_type": "execute_result"
    }
   ],
   "source": [
    "from sklearn.ensemble import GradientBoostingClassifier\n",
    "from sklearn.model_selection import cross_val_score\n",
    "\n",
    "gbc_model = GradientBoostingClassifier()\n",
    "\n",
    "gbc_model.fit(X_train, y_train)"
   ]
  },
  {
   "cell_type": "code",
   "execution_count": 56,
   "id": "77315e0c",
   "metadata": {},
   "outputs": [
    {
     "data": {
      "text/plain": [
       "0.7170149253731343"
      ]
     },
     "execution_count": 56,
     "metadata": {},
     "output_type": "execute_result"
    }
   ],
   "source": [
    "cross_val_score(gbc_model, X_train, y_train, cv = 5 , scoring= 'accuracy').mean()"
   ]
  },
  {
   "cell_type": "code",
   "execution_count": null,
   "id": "bebccf08",
   "metadata": {},
   "outputs": [],
   "source": []
  }
 ],
 "metadata": {
  "kernelspec": {
   "display_name": "Python 3 (ipykernel)",
   "language": "python",
   "name": "python3"
  },
  "language_info": {
   "codemirror_mode": {
    "name": "ipython",
    "version": 3
   },
   "file_extension": ".py",
   "mimetype": "text/x-python",
   "name": "python",
   "nbconvert_exporter": "python",
   "pygments_lexer": "ipython3",
   "version": "3.8.12"
  },
  "toc": {
   "base_numbering": 1,
   "nav_menu": {},
   "number_sections": true,
   "sideBar": true,
   "skip_h1_title": false,
   "title_cell": "Table of Contents",
   "title_sidebar": "Contents",
   "toc_cell": false,
   "toc_position": {},
   "toc_section_display": true,
   "toc_window_display": false
  }
 },
 "nbformat": 4,
 "nbformat_minor": 5
}
