{
 "cells": [
  {
   "cell_type": "code",
   "execution_count": 1,
   "metadata": {
    "executionInfo": {
     "elapsed": 519,
     "status": "ok",
     "timestamp": 1646255142247,
     "user": {
      "displayName": "Shilpa Madhuri G",
      "photoUrl": "https://lh3.googleusercontent.com/a-/AOh14Gg12I7ZaKq3iW7eFXO8D9_j_4xhtG6TaDX6HJRv=s64",
      "userId": "10862127389095438079"
     },
     "user_tz": -60
    },
    "id": "ffcZ8MMHJ9QT"
   },
   "outputs": [],
   "source": [
    "import pandas as pd\n",
    "import numpy as np\n",
    "import seaborn as sns\n",
    "import matplotlib.pyplot as plt"
   ]
  },
  {
   "cell_type": "code",
   "execution_count": null,
   "metadata": {
    "id": "xzzm5D3YKQ8Y"
   },
   "outputs": [],
   "source": [
    "#df = pd.read_csv('/content/drive/MyDrive/changeDEEPly/data/train.csv')\n",
    "#df_course = pd.read_csv('/content/drive/MyDrive/changeDEEPly/data/course_info.csv')\n",
    "#df_course.shape\n",
    "#df_user = pd.read_csv('/content/drive/MyDrive/changeDEEPly/data/user_info.csv')\n",
    "#df_user.shape\n",
    "#df = df.drop(['Unnamed: 0','enroll_id','object'],axis =1)\n",
    "#df_merged = df.merge(df_course,on = 'course_id')\n",
    "#df_merged.shape\n",
    "#df_merged = df_merged.drop(['course_id','course_type'],axis = 1)\n",
    "#df_merged.shape\n",
    "#df_merged.shape\n",
    "#df_user = df_user.rename(columns = {'user_id':'username'})\n",
    "#df_final = df_merged.merge(df_user,on = 'username', how= 'left')\n",
    "#df_final.shape"
   ]
  },
  {
   "cell_type": "code",
   "execution_count": null,
   "metadata": {
    "id": "RPGB6LosXPp0"
   },
   "outputs": [],
   "source": [
    "#saved the dataframe on the drive\n",
    "#df_final.to_csv('/content/drive/MyDrive/changeDEEPly/data/df_final.csv')"
   ]
  },
  {
   "cell_type": "code",
   "execution_count": 3,
   "metadata": {
    "colab": {
     "base_uri": "https://localhost:8080/"
    },
    "executionInfo": {
     "elapsed": 121916,
     "status": "ok",
     "timestamp": 1646255277949,
     "user": {
      "displayName": "Shilpa Madhuri G",
      "photoUrl": "https://lh3.googleusercontent.com/a-/AOh14Gg12I7ZaKq3iW7eFXO8D9_j_4xhtG6TaDX6HJRv=s64",
      "userId": "10862127389095438079"
     },
     "user_tz": -60
    },
    "id": "dad8-AU8awBC",
    "outputId": "a1232ba2-58dd-401c-b3d0-790dca57463a"
   },
   "outputs": [
    {
     "name": "stderr",
     "output_type": "stream",
     "text": [
      "/usr/local/lib/python3.7/dist-packages/IPython/core/interactiveshell.py:2882: DtypeWarning: Columns (10,11) have mixed types.Specify dtype option on import or set low_memory=False.\n",
      "  exec(code_obj, self.user_global_ns, self.user_ns)\n"
     ]
    }
   ],
   "source": [
    "#load the dataframe\n",
    "df = pd.read_csv('/content/drive/MyDrive/changeDEEPly/data/df_final.csv')"
   ]
  },
  {
   "cell_type": "code",
   "execution_count": 4,
   "metadata": {
    "executionInfo": {
     "elapsed": 2550,
     "status": "ok",
     "timestamp": 1646255310163,
     "user": {
      "displayName": "Shilpa Madhuri G",
      "photoUrl": "https://lh3.googleusercontent.com/a-/AOh14Gg12I7ZaKq3iW7eFXO8D9_j_4xhtG6TaDX6HJRv=s64",
      "userId": "10862127389095438079"
     },
     "user_tz": -60
    },
    "id": "LkMFc75MK64L"
   },
   "outputs": [],
   "source": [
    "df = df.drop(['Unnamed: 0'],axis=1)"
   ]
  },
  {
   "cell_type": "code",
   "execution_count": 5,
   "metadata": {
    "executionInfo": {
     "elapsed": 17448,
     "status": "ok",
     "timestamp": 1646255332954,
     "user": {
      "displayName": "Shilpa Madhuri G",
      "photoUrl": "https://lh3.googleusercontent.com/a-/AOh14Gg12I7ZaKq3iW7eFXO8D9_j_4xhtG6TaDX6HJRv=s64",
      "userId": "10862127389095438079"
     },
     "user_tz": -60
    },
    "id": "L71YcXK8dNM1"
   },
   "outputs": [],
   "source": [
    "df = df.dropna()"
   ]
  },
  {
   "cell_type": "code",
   "execution_count": 6,
   "metadata": {
    "colab": {
     "base_uri": "https://localhost:8080/"
    },
    "executionInfo": {
     "elapsed": 438,
     "status": "ok",
     "timestamp": 1646255334989,
     "user": {
      "displayName": "Shilpa Madhuri G",
      "photoUrl": "https://lh3.googleusercontent.com/a-/AOh14Gg12I7ZaKq3iW7eFXO8D9_j_4xhtG6TaDX6HJRv=s64",
      "userId": "10862127389095438079"
     },
     "user_tz": -60
    },
    "id": "jqi3vlWWdq54",
    "outputId": "1a6028f3-2ab2-43db-bb1b-1bba00b21d33"
   },
   "outputs": [
    {
     "data": {
      "text/plain": [
       "(8322174, 12)"
      ]
     },
     "execution_count": 6,
     "metadata": {},
     "output_type": "execute_result"
    }
   ],
   "source": [
    "df.shape"
   ]
  },
  {
   "cell_type": "code",
   "execution_count": null,
   "metadata": {
    "id": "f3dej2HLdz4G"
   },
   "outputs": [],
   "source": []
  },
  {
   "cell_type": "code",
   "execution_count": 7,
   "metadata": {
    "colab": {
     "base_uri": "https://localhost:8080/"
    },
    "executionInfo": {
     "elapsed": 4650,
     "status": "ok",
     "timestamp": 1646255361357,
     "user": {
      "displayName": "Shilpa Madhuri G",
      "photoUrl": "https://lh3.googleusercontent.com/a-/AOh14Gg12I7ZaKq3iW7eFXO8D9_j_4xhtG6TaDX6HJRv=s64",
      "userId": "10862127389095438079"
     },
     "user_tz": -60
    },
    "id": "OmkHexIWdwXh",
    "outputId": "6e48648b-2f2c-4854-91c1-97aec6545710"
   },
   "outputs": [
    {
     "data": {
      "text/plain": [
       "username      0\n",
       "session_id    0\n",
       "action        0\n",
       "time          0\n",
       "truth         0\n",
       "id            0\n",
       "start         0\n",
       "end           0\n",
       "category      0\n",
       "gender        0\n",
       "education     0\n",
       "birth         0\n",
       "dtype: int64"
      ]
     },
     "execution_count": 7,
     "metadata": {},
     "output_type": "execute_result"
    }
   ],
   "source": [
    "df.isnull().sum()"
   ]
  },
  {
   "cell_type": "code",
   "execution_count": 8,
   "metadata": {
    "executionInfo": {
     "elapsed": 59197,
     "status": "ok",
     "timestamp": 1646255439870,
     "user": {
      "displayName": "Shilpa Madhuri G",
      "photoUrl": "https://lh3.googleusercontent.com/a-/AOh14Gg12I7ZaKq3iW7eFXO8D9_j_4xhtG6TaDX6HJRv=s64",
      "userId": "10862127389095438079"
     },
     "user_tz": -60
    },
    "id": "miagDQDCdZxK"
   },
   "outputs": [],
   "source": [
    "df.to_csv('/content/drive/MyDrive/changeDEEPly/data/df_full.csv')"
   ]
  },
  {
   "cell_type": "code",
   "execution_count": 9,
   "metadata": {
    "colab": {
     "base_uri": "https://localhost:8080/"
    },
    "executionInfo": {
     "elapsed": 400,
     "status": "ok",
     "timestamp": 1646255478402,
     "user": {
      "displayName": "Shilpa Madhuri G",
      "photoUrl": "https://lh3.googleusercontent.com/a-/AOh14Gg12I7ZaKq3iW7eFXO8D9_j_4xhtG6TaDX6HJRv=s64",
      "userId": "10862127389095438079"
     },
     "user_tz": -60
    },
    "id": "AYI7txvCbuw5",
    "outputId": "0170ef52-51c7-4a96-920c-0fcba3e5dc83"
   },
   "outputs": [
    {
     "data": {
      "text/plain": [
       "(8322174, 12)"
      ]
     },
     "execution_count": 9,
     "metadata": {},
     "output_type": "execute_result"
    }
   ],
   "source": [
    "df.shape"
   ]
  },
  {
   "cell_type": "code",
   "execution_count": 10,
   "metadata": {
    "colab": {
     "base_uri": "https://localhost:8080/"
    },
    "executionInfo": {
     "elapsed": 8644,
     "status": "ok",
     "timestamp": 1646255509903,
     "user": {
      "displayName": "Shilpa Madhuri G",
      "photoUrl": "https://lh3.googleusercontent.com/a-/AOh14Gg12I7ZaKq3iW7eFXO8D9_j_4xhtG6TaDX6HJRv=s64",
      "userId": "10862127389095438079"
     },
     "user_tz": -60
    },
    "id": "I6sQXu3wN28-",
    "outputId": "e6994703-7628-4df3-84d0-abfeece8b902"
   },
   "outputs": [
    {
     "data": {
      "text/plain": [
       "username        14297\n",
       "session_id      81687\n",
       "action             22\n",
       "time          5453013\n",
       "truth               2\n",
       "id                245\n",
       "start             140\n",
       "end               175\n",
       "category           17\n",
       "gender              2\n",
       "education           7\n",
       "birth              79\n",
       "dtype: int64"
      ]
     },
     "execution_count": 10,
     "metadata": {},
     "output_type": "execute_result"
    }
   ],
   "source": [
    "#find unique values\n",
    "df.nunique()"
   ]
  },
  {
   "cell_type": "code",
   "execution_count": null,
   "metadata": {
    "id": "gztrA7n3afY-"
   },
   "outputs": [],
   "source": []
  },
  {
   "cell_type": "code",
   "execution_count": null,
   "metadata": {
    "colab": {
     "base_uri": "https://localhost:8080/"
    },
    "executionInfo": {
     "elapsed": 1474,
     "status": "ok",
     "timestamp": 1646236292736,
     "user": {
      "displayName": "Shilpa Madhuri G",
      "photoUrl": "https://lh3.googleusercontent.com/a-/AOh14Gg12I7ZaKq3iW7eFXO8D9_j_4xhtG6TaDX6HJRv=s64",
      "userId": "10862127389095438079"
     },
     "user_tz": -60
    },
    "id": "ySwP3okSPTd4",
    "outputId": "c8fa410e-99f9-4e14-9ee2-a9251f07461b"
   },
   "outputs": [
    {
     "data": {
      "text/plain": [
       "array([\"Master's\", nan, 'Associate', 'High', \"Bachelor's\", 'Middle',\n",
       "       'Doctorate', 'Primary'], dtype=object)"
      ]
     },
     "execution_count": 15,
     "metadata": {},
     "output_type": "execute_result"
    }
   ],
   "source": [
    "#explore different values of birth and education\n",
    "df.education.unique()"
   ]
  },
  {
   "cell_type": "code",
   "execution_count": null,
   "metadata": {
    "colab": {
     "base_uri": "https://localhost:8080/"
    },
    "executionInfo": {
     "elapsed": 18,
     "status": "ok",
     "timestamp": 1646236292739,
     "user": {
      "displayName": "Shilpa Madhuri G",
      "photoUrl": "https://lh3.googleusercontent.com/a-/AOh14Gg12I7ZaKq3iW7eFXO8D9_j_4xhtG6TaDX6HJRv=s64",
      "userId": "10862127389095438079"
     },
     "user_tz": -60
    },
    "id": "nY5_cfeBP22j",
    "outputId": "a07ac1ff-c109-4ad1-a795-df42c3cc5ec5"
   },
   "outputs": [
    {
     "data": {
      "text/plain": [
       "array([1989.,   nan, 1981., 1992., 1983., 1994., 1993., 1972., 1995.,\n",
       "       1991., 1988., 1986., 1990., 1996., 1966., 1984., 1975., 1985.,\n",
       "       1977., 1987., 1982., 1998., 1973., 1976., 1978., 2014., 1997.,\n",
       "       1980., 1979., 1971., 2000., 1968., 1965., 1897., 1974., 1896.,\n",
       "       2013., 1964., 2016., 1969., 1950., 2001., 1948., 1999., 1957.,\n",
       "       1963., 1960., 2005., 1956., 1944., 1958., 1961., 1970., 1967.,\n",
       "       1955., 1898., 1962., 1959., 2002., 2012., 2015., 1952., 1954.,\n",
       "       2004., 2007., 2017., 1940., 2003., 2006., 1946., 2010., 1953.,\n",
       "       1935., 1938., 1945., 1894., 2011., 1939., 2008., 2018., 1899.,\n",
       "       2009., 1895.])"
      ]
     },
     "execution_count": 16,
     "metadata": {},
     "output_type": "execute_result"
    }
   ],
   "source": [
    "#plot the users based on year of birth\n",
    "df.birth.unique()"
   ]
  },
  {
   "cell_type": "code",
   "execution_count": null,
   "metadata": {
    "colab": {
     "base_uri": "https://localhost:8080/",
     "height": 308
    },
    "executionInfo": {
     "elapsed": 10447,
     "status": "ok",
     "timestamp": 1646236303175,
     "user": {
      "displayName": "Shilpa Madhuri G",
      "photoUrl": "https://lh3.googleusercontent.com/a-/AOh14Gg12I7ZaKq3iW7eFXO8D9_j_4xhtG6TaDX6HJRv=s64",
      "userId": "10862127389095438079"
     },
     "user_tz": -60
    },
    "id": "7rlPWpZNRNDS",
    "outputId": "a9a64af7-076c-494e-94a5-714f5d497833"
   },
   "outputs": [
    {
     "data": {
      "text/plain": [
       "<matplotlib.axes._subplots.AxesSubplot at 0x7f3cbfb61d90>"
      ]
     },
     "execution_count": 17,
     "metadata": {},
     "output_type": "execute_result"
    },
    {
     "data": {
      "image/png": "[encoded data removed]",
      "text/plain": [
       "<Figure size 432x288 with 1 Axes>"
      ]
     },
     "metadata": {
      "needs_background": "light"
     },
     "output_type": "display_data"
    }
   ],
   "source": [
    "fig, ax = plt.subplots()\n",
    "ax.set_xlim(1895.,2020.)\n",
    "sns.histplot(df.birth.dropna(),ax=ax)"
   ]
  },
  {
   "cell_type": "code",
   "execution_count": 11,
   "metadata": {
    "colab": {
     "base_uri": "https://localhost:8080/",
     "height": 308
    },
    "executionInfo": {
     "elapsed": 17521,
     "status": "ok",
     "timestamp": 1646255610256,
     "user": {
      "displayName": "Shilpa Madhuri G",
      "photoUrl": "https://lh3.googleusercontent.com/a-/AOh14Gg12I7ZaKq3iW7eFXO8D9_j_4xhtG6TaDX6HJRv=s64",
      "userId": "10862127389095438079"
     },
     "user_tz": -60
    },
    "id": "7SmwUcSHRaig",
    "outputId": "4aafadeb-726a-487c-9a9d-046f20b6a440"
   },
   "outputs": [
    {
     "data": {
      "text/plain": [
       "<matplotlib.axes._subplots.AxesSubplot at 0x7f3cc1ee8a10>"
      ]
     },
     "execution_count": 11,
     "metadata": {},
     "output_type": "execute_result"
    },
    {
     "data": {
      "image/png": "[encoded data removed]",
      "text/plain": [
       "<Figure size 432x288 with 1 Axes>"
      ]
     },
     "metadata": {
      "needs_background": "light"
     },
     "output_type": "display_data"
    }
   ],
   "source": [
    "#plot education\n",
    "sns.histplot(df.education.dropna())"
   ]
  },
  {
   "cell_type": "code",
   "execution_count": 15,
   "metadata": {
    "colab": {
     "base_uri": "https://localhost:8080/",
     "height": 383
    },
    "executionInfo": {
     "elapsed": 11775,
     "status": "ok",
     "timestamp": 1646255810375,
     "user": {
      "displayName": "Shilpa Madhuri G",
      "photoUrl": "https://lh3.googleusercontent.com/a-/AOh14Gg12I7ZaKq3iW7eFXO8D9_j_4xhtG6TaDX6HJRv=s64",
      "userId": "10862127389095438079"
     },
     "user_tz": -60
    },
    "id": "jXutlGQ6SzDH",
    "outputId": "7ae38790-d9e1-47fa-db2b-1201cd3b206f"
   },
   "outputs": [
    {
     "data": {
      "text/plain": [
       "<matplotlib.axes._subplots.AxesSubplot at 0x7f3cb35aa390>"
      ]
     },
     "execution_count": 15,
     "metadata": {},
     "output_type": "execute_result"
    },
    {
     "data": {
      "image/png": "[encoded data removed]",
      "text/plain": [
       "<Figure size 432x288 with 1 Axes>"
      ]
     },
     "metadata": {
      "needs_background": "light"
     },
     "output_type": "display_data"
    }
   ],
   "source": [
    "#plot category available\n",
    "plt.xticks(rotation = 90)\n",
    "sns.histplot(df.category)"
   ]
  },
  {
   "cell_type": "code",
   "execution_count": 16,
   "metadata": {
    "executionInfo": {
     "elapsed": 900,
     "status": "ok",
     "timestamp": 1646255959663,
     "user": {
      "displayName": "Shilpa Madhuri G",
      "photoUrl": "https://lh3.googleusercontent.com/a-/AOh14Gg12I7ZaKq3iW7eFXO8D9_j_4xhtG6TaDX6HJRv=s64",
      "userId": "10862127389095438079"
     },
     "user_tz": -60
    },
    "id": "MpQwPr0cacde"
   },
   "outputs": [],
   "source": [
    "\n",
    "# find the completed courses as per the category\n",
    "t = df[df['truth'] == 0]\n"
   ]
  },
  {
   "cell_type": "code",
   "execution_count": 20,
   "metadata": {
    "executionInfo": {
     "elapsed": 992,
     "status": "ok",
     "timestamp": 1646256275667,
     "user": {
      "displayName": "Shilpa Madhuri G",
      "photoUrl": "https://lh3.googleusercontent.com/a-/AOh14Gg12I7ZaKq3iW7eFXO8D9_j_4xhtG6TaDX6HJRv=s64",
      "userId": "10862127389095438079"
     },
     "user_tz": -60
    },
    "id": "1B03VMBVhKsO"
   },
   "outputs": [],
   "source": [
    "# find the dropout courses as per the category\n",
    "t_1 = df[df['truth'] == 1]"
   ]
  },
  {
   "cell_type": "code",
   "execution_count": 17,
   "metadata": {
    "colab": {
     "base_uri": "https://localhost:8080/",
     "height": 372
    },
    "executionInfo": {
     "elapsed": 9224,
     "status": "ok",
     "timestamp": 1646255993271,
     "user": {
      "displayName": "Shilpa Madhuri G",
      "photoUrl": "https://lh3.googleusercontent.com/a-/AOh14Gg12I7ZaKq3iW7eFXO8D9_j_4xhtG6TaDX6HJRv=s64",
      "userId": "10862127389095438079"
     },
     "user_tz": -60
    },
    "id": "dblizS0rgHDn",
    "outputId": "75e7bd55-6598-45dc-ab8c-27e8caaffbe0"
   },
   "outputs": [
    {
     "data": {
      "text/plain": [
       "<matplotlib.axes._subplots.AxesSubplot at 0x7f3ca0ce2190>"
      ]
     },
     "execution_count": 17,
     "metadata": {},
     "output_type": "execute_result"
    },
    {
     "data": {
      "image/png": "[encoded data removed]",
      "text/plain": [
       "<Figure size 432x288 with 1 Axes>"
      ]
     },
     "metadata": {
      "needs_background": "light"
     },
     "output_type": "display_data"
    }
   ],
   "source": [
    "#plot category availablefor all completed courses\n",
    "plt.xticks(rotation = 90)\n",
    "sns.histplot(t.category)"
   ]
  },
  {
   "cell_type": "code",
   "execution_count": 13,
   "metadata": {
    "colab": {
     "base_uri": "https://localhost:8080/",
     "height": 308
    },
    "executionInfo": {
     "elapsed": 11523,
     "status": "ok",
     "timestamp": 1646255667920,
     "user": {
      "displayName": "Shilpa Madhuri G",
      "photoUrl": "https://lh3.googleusercontent.com/a-/AOh14Gg12I7ZaKq3iW7eFXO8D9_j_4xhtG6TaDX6HJRv=s64",
      "userId": "10862127389095438079"
     },
     "user_tz": -60
    },
    "id": "yipoAndNTy2k",
    "outputId": "6e7b319f-3006-4891-b5e3-bf192cda1cb8"
   },
   "outputs": [
    {
     "data": {
      "text/plain": [
       "<matplotlib.axes._subplots.AxesSubplot at 0x7f3ccb977590>"
      ]
     },
     "execution_count": 13,
     "metadata": {},
     "output_type": "execute_result"
    },
    {
     "data": {
      "image/png": "[encoded data removed]",
      "text/plain": [
       "<Figure size 432x288 with 1 Axes>"
      ]
     },
     "metadata": {
      "needs_background": "light"
     },
     "output_type": "display_data"
    }
   ],
   "source": [
    "#plot gender who enrolled into course\n",
    "sns.histplot(df.gender)"
   ]
  },
  {
   "cell_type": "code",
   "execution_count": 19,
   "metadata": {
    "colab": {
     "base_uri": "https://localhost:8080/"
    },
    "executionInfo": {
     "elapsed": 394,
     "status": "ok",
     "timestamp": 1646256160552,
     "user": {
      "displayName": "Shilpa Madhuri G",
      "photoUrl": "https://lh3.googleusercontent.com/a-/AOh14Gg12I7ZaKq3iW7eFXO8D9_j_4xhtG6TaDX6HJRv=s64",
      "userId": "10862127389095438079"
     },
     "user_tz": -60
    },
    "id": "Y0P5uhFuciqi",
    "outputId": "146801d7-b10e-4bae-e121-5249ce707f65"
   },
   "outputs": [
    {
     "data": {
      "text/plain": [
       "0.6204824604724679"
      ]
     },
     "execution_count": 19,
     "metadata": {},
     "output_type": "execute_result"
    }
   ],
   "source": [
    "# percentage of completion wrt number of users enrolled for all courses\n",
    "p_Completion_courses = len(t)/len(df)\n",
    "p_Completion_courses\n"
   ]
  },
  {
   "cell_type": "code",
   "execution_count": 22,
   "metadata": {
    "colab": {
     "base_uri": "https://localhost:8080/"
    },
    "executionInfo": {
     "elapsed": 373,
     "status": "ok",
     "timestamp": 1646256446048,
     "user": {
      "displayName": "Shilpa Madhuri G",
      "photoUrl": "https://lh3.googleusercontent.com/a-/AOh14Gg12I7ZaKq3iW7eFXO8D9_j_4xhtG6TaDX6HJRv=s64",
      "userId": "10862127389095438079"
     },
     "user_tz": -60
    },
    "id": "OqF4acLmhy3B",
    "outputId": "112ba81e-c319-4200-f63d-b87706ceb2da"
   },
   "outputs": [
    {
     "data": {
      "text/plain": [
       "0.3795175395275321"
      ]
     },
     "execution_count": 22,
     "metadata": {},
     "output_type": "execute_result"
    }
   ],
   "source": [
    "# percentage of drouputs wrt number of users enrolled for all courses\n",
    "p_dropout_courses = len(t_1)/len(df)\n",
    "p_dropout_courses\n"
   ]
  },
  {
   "cell_type": "code",
   "execution_count": 21,
   "metadata": {
    "colab": {
     "base_uri": "https://localhost:8080/",
     "height": 373
    },
    "executionInfo": {
     "elapsed": 6653,
     "status": "ok",
     "timestamp": 1646256333547,
     "user": {
      "displayName": "Shilpa Madhuri G",
      "photoUrl": "https://lh3.googleusercontent.com/a-/AOh14Gg12I7ZaKq3iW7eFXO8D9_j_4xhtG6TaDX6HJRv=s64",
      "userId": "10862127389095438079"
     },
     "user_tz": -60
    },
    "id": "lGcR0ewfdVwZ",
    "outputId": "3b6e88fc-df62-49de-9764-8de09c600cb8"
   },
   "outputs": [
    {
     "data": {
      "text/plain": [
       "<matplotlib.axes._subplots.AxesSubplot at 0x7f3cb8c2a350>"
      ]
     },
     "execution_count": 21,
     "metadata": {},
     "output_type": "execute_result"
    },
    {
     "data": {
      "image/png": "[encoded data removed]",
      "text/plain": [
       "<Figure size 432x288 with 1 Axes>"
      ]
     },
     "metadata": {
      "needs_background": "light"
     },
     "output_type": "display_data"
    }
   ],
   "source": [
    "#plot category where there were dropouts\n",
    "plt.xticks(rotation = 90)\n",
    "sns.histplot(t_1.category)"
   ]
  },
  {
   "cell_type": "code",
   "execution_count": 24,
   "metadata": {
    "colab": {
     "base_uri": "https://localhost:8080/"
    },
    "executionInfo": {
     "elapsed": 9,
     "status": "ok",
     "timestamp": 1646257088645,
     "user": {
      "displayName": "Shilpa Madhuri G",
      "photoUrl": "https://lh3.googleusercontent.com/a-/AOh14Gg12I7ZaKq3iW7eFXO8D9_j_4xhtG6TaDX6HJRv=s64",
      "userId": "10862127389095438079"
     },
     "user_tz": -60
    },
    "id": "Acwyzqj8hgSi",
    "outputId": "c041ed42-9330-475d-f752-ad487d847e63"
   },
   "outputs": [
    {
     "data": {
      "text/plain": [
       "username        int64\n",
       "session_id     object\n",
       "action         object\n",
       "time           object\n",
       "truth           int64\n",
       "id              int64\n",
       "start          object\n",
       "end            object\n",
       "category       object\n",
       "gender         object\n",
       "education      object\n",
       "birth         float64\n",
       "dtype: object"
      ]
     },
     "execution_count": 24,
     "metadata": {},
     "output_type": "execute_result"
    }
   ],
   "source": [
    "df.dtypes"
   ]
  },
  {
   "cell_type": "code",
   "execution_count": 26,
   "metadata": {
    "executionInfo": {
     "elapsed": 420,
     "status": "ok",
     "timestamp": 1646257124577,
     "user": {
      "displayName": "Shilpa Madhuri G",
      "photoUrl": "https://lh3.googleusercontent.com/a-/AOh14Gg12I7ZaKq3iW7eFXO8D9_j_4xhtG6TaDX6HJRv=s64",
      "userId": "10862127389095438079"
     },
     "user_tz": -60
    },
    "id": "YeXhKOnWkY0d"
   },
   "outputs": [],
   "source": [
    "df['Datetime'] = pd.to_datetime(df['time'])"
   ]
  },
  {
   "cell_type": "code",
   "execution_count": 27,
   "metadata": {
    "executionInfo": {
     "elapsed": 1949,
     "status": "ok",
     "timestamp": 1646257152254,
     "user": {
      "displayName": "Shilpa Madhuri G",
      "photoUrl": "https://lh3.googleusercontent.com/a-/AOh14Gg12I7ZaKq3iW7eFXO8D9_j_4xhtG6TaDX6HJRv=s64",
      "userId": "10862127389095438079"
     },
     "user_tz": -60
    },
    "id": "FpB3UHrukevk"
   },
   "outputs": [],
   "source": [
    "df = df.drop(['time'], axis = 1)"
   ]
  },
  {
   "cell_type": "code",
   "execution_count": 28,
   "metadata": {
    "executionInfo": {
     "elapsed": 484,
     "status": "ok",
     "timestamp": 1646257197373,
     "user": {
      "displayName": "Shilpa Madhuri G",
      "photoUrl": "https://lh3.googleusercontent.com/a-/AOh14Gg12I7ZaKq3iW7eFXO8D9_j_4xhtG6TaDX6HJRv=s64",
      "userId": "10862127389095438079"
     },
     "user_tz": -60
    },
    "id": "JwMkJwVzkpR5"
   },
   "outputs": [],
   "source": [
    "## try to convert datetime to timestamp \n",
    "df['timestamp'] = df.Datetime.values.astype(np.int64) // 10 ** 9"
   ]
  },
  {
   "cell_type": "code",
   "execution_count": 29,
   "metadata": {
    "executionInfo": {
     "elapsed": 1508,
     "status": "ok",
     "timestamp": 1646257237082,
     "user": {
      "displayName": "Shilpa Madhuri G",
      "photoUrl": "https://lh3.googleusercontent.com/a-/AOh14Gg12I7ZaKq3iW7eFXO8D9_j_4xhtG6TaDX6HJRv=s64",
      "userId": "10862127389095438079"
     },
     "user_tz": -60
    },
    "id": "uUKJBWwGk6go"
   },
   "outputs": [],
   "source": [
    "df = df.drop(['Datetime'], axis = 1)"
   ]
  },
  {
   "cell_type": "code",
   "execution_count": 30,
   "metadata": {
    "executionInfo": {
     "elapsed": 3542,
     "status": "ok",
     "timestamp": 1646257290418,
     "user": {
      "displayName": "Shilpa Madhuri G",
      "photoUrl": "https://lh3.googleusercontent.com/a-/AOh14Gg12I7ZaKq3iW7eFXO8D9_j_4xhtG6TaDX6HJRv=s64",
      "userId": "10862127389095438079"
     },
     "user_tz": -60
    },
    "id": "hnXTbJLclHcN"
   },
   "outputs": [],
   "source": [
    "df = df.sort_values(['timestamp'])"
   ]
  },
  {
   "cell_type": "code",
   "execution_count": 31,
   "metadata": {
    "colab": {
     "base_uri": "https://localhost:8080/",
     "height": 250
    },
    "executionInfo": {
     "elapsed": 11691,
     "status": "ok",
     "timestamp": 1646257402110,
     "user": {
      "displayName": "Shilpa Madhuri G",
      "photoUrl": "https://lh3.googleusercontent.com/a-/AOh14Gg12I7ZaKq3iW7eFXO8D9_j_4xhtG6TaDX6HJRv=s64",
      "userId": "10862127389095438079"
     },
     "user_tz": -60
    },
    "id": "O56-l-V2lKy3",
    "outputId": "60f5d50e-5433-48e0-abfe-5e7f2d585ca3"
   },
   "outputs": [
    {
     "data": {
      "text/html": [
       "\n",
       "  <div id=\"df-4c667a6e-6589-4e97-accd-761185344a02\">\n",
       "    <div class=\"colab-df-container\">\n",
       "      <div>\n",
       "<style scoped>\n",
       "    .dataframe tbody tr th:only-of-type {\n",
       "        vertical-align: middle;\n",
       "    }\n",
       "\n",
       "    .dataframe tbody tr th {\n",
       "        vertical-align: top;\n",
       "    }\n",
       "\n",
       "    .dataframe thead th {\n",
       "        text-align: right;\n",
       "    }\n",
       "</style>\n",
       "<table border=\"1\" class=\"dataframe\">\n",
       "  <thead>\n",
       "    <tr style=\"text-align: right;\">\n",
       "      <th></th>\n",
       "      <th>username</th>\n",
       "      <th>session_id</th>\n",
       "      <th>action</th>\n",
       "      <th>truth</th>\n",
       "      <th>id</th>\n",
       "      <th>start</th>\n",
       "      <th>end</th>\n",
       "      <th>category</th>\n",
       "      <th>gender</th>\n",
       "      <th>education</th>\n",
       "      <th>birth</th>\n",
       "      <th>timestamp</th>\n",
       "      <th>timediff</th>\n",
       "    </tr>\n",
       "  </thead>\n",
       "  <tbody>\n",
       "    <tr>\n",
       "      <th>7084339</th>\n",
       "      <td>24057</td>\n",
       "      <td>df8ec8baa5af2f61e5426307be9a5e75</td>\n",
       "      <td>load_video</td>\n",
       "      <td>1</td>\n",
       "      <td>809</td>\n",
       "      <td>2015-05-11 20:00:00</td>\n",
       "      <td>2015-07-17 00:00:00</td>\n",
       "      <td>economics</td>\n",
       "      <td>male</td>\n",
       "      <td>Master's</td>\n",
       "      <td>1987.0</td>\n",
       "      <td>1433436084</td>\n",
       "      <td>0.0</td>\n",
       "    </tr>\n",
       "    <tr>\n",
       "      <th>7084345</th>\n",
       "      <td>24057</td>\n",
       "      <td>df8ec8baa5af2f61e5426307be9a5e75</td>\n",
       "      <td>play_video</td>\n",
       "      <td>1</td>\n",
       "      <td>809</td>\n",
       "      <td>2015-05-11 20:00:00</td>\n",
       "      <td>2015-07-17 00:00:00</td>\n",
       "      <td>economics</td>\n",
       "      <td>male</td>\n",
       "      <td>Master's</td>\n",
       "      <td>1987.0</td>\n",
       "      <td>1433436087</td>\n",
       "      <td>3.0</td>\n",
       "    </tr>\n",
       "    <tr>\n",
       "      <th>7084340</th>\n",
       "      <td>24057</td>\n",
       "      <td>df8ec8baa5af2f61e5426307be9a5e75</td>\n",
       "      <td>close_courseware</td>\n",
       "      <td>1</td>\n",
       "      <td>809</td>\n",
       "      <td>2015-05-11 20:00:00</td>\n",
       "      <td>2015-07-17 00:00:00</td>\n",
       "      <td>economics</td>\n",
       "      <td>male</td>\n",
       "      <td>Master's</td>\n",
       "      <td>1987.0</td>\n",
       "      <td>1433436102</td>\n",
       "      <td>15.0</td>\n",
       "    </tr>\n",
       "    <tr>\n",
       "      <th>16055144</th>\n",
       "      <td>670347</td>\n",
       "      <td>95925c14aa0a330a541359eb244352e4</td>\n",
       "      <td>stop_video</td>\n",
       "      <td>1</td>\n",
       "      <td>34</td>\n",
       "      <td>2015-05-05 08:00:00</td>\n",
       "      <td>2015-09-10 01:00:00</td>\n",
       "      <td>social science</td>\n",
       "      <td>male</td>\n",
       "      <td>Bachelor's</td>\n",
       "      <td>1993.0</td>\n",
       "      <td>1433436152</td>\n",
       "      <td>0.0</td>\n",
       "    </tr>\n",
       "    <tr>\n",
       "      <th>16055145</th>\n",
       "      <td>670347</td>\n",
       "      <td>95925c14aa0a330a541359eb244352e4</td>\n",
       "      <td>pause_video</td>\n",
       "      <td>1</td>\n",
       "      <td>34</td>\n",
       "      <td>2015-05-05 08:00:00</td>\n",
       "      <td>2015-09-10 01:00:00</td>\n",
       "      <td>social science</td>\n",
       "      <td>male</td>\n",
       "      <td>Bachelor's</td>\n",
       "      <td>1993.0</td>\n",
       "      <td>1433436152</td>\n",
       "      <td>0.0</td>\n",
       "    </tr>\n",
       "  </tbody>\n",
       "</table>\n",
       "</div>\n",
       "      <button class=\"colab-df-convert\" onclick=\"convertToInteractive('df-4c667a6e-6589-4e97-accd-761185344a02')\"\n",
       "              title=\"Convert this dataframe to an interactive table.\"\n",
       "              style=\"display:none;\">\n",
       "        \n",
       "  <svg xmlns=\"http://www.w3.org/2000/svg\" height=\"24px\"viewBox=\"0 0 24 24\"\n",
       "       width=\"24px\">\n",
       "    <path d=\"M0 0h24v24H0V0z\" fill=\"none\"/>\n",
       "    <path d=\"M18.56 5.44l.94 2.06.94-2.06 2.06-.94-2.06-.94-.94-2.06-.94 2.06-2.06.94zm-11 1L8.5 8.5l.94-2.06 2.06-.94-2.06-.94L8.5 2.5l-.94 2.06-2.06.94zm10 10l.94 2.06.94-2.06 2.06-.94-2.06-.94-.94-2.06-.94 2.06-2.06.94z\"/><path d=\"M17.41 7.96l-1.37-1.37c-.4-.4-.92-.59-1.43-.59-.52 0-1.04.2-1.43.59L10.3 9.45l-7.72 7.72c-.78.78-.78 2.05 0 2.83L4 21.41c.39.39.9.59 1.41.59.51 0 1.02-.2 1.41-.59l7.78-7.78 2.81-2.81c.8-.78.8-2.07 0-2.86zM5.41 20L4 18.59l7.72-7.72 1.47 1.35L5.41 20z\"/>\n",
       "  </svg>\n",
       "      </button>\n",
       "      \n",
       "  <style>\n",
       "    .colab-df-container {\n",
       "      display:flex;\n",
       "      flex-wrap:wrap;\n",
       "      gap: 12px;\n",
       "    }\n",
       "\n",
       "    .colab-df-convert {\n",
       "      background-color: #E8F0FE;\n",
       "      border: none;\n",
       "      border-radius: 50%;\n",
       "      cursor: pointer;\n",
       "      display: none;\n",
       "      fill: #1967D2;\n",
       "      height: 32px;\n",
       "      padding: 0 0 0 0;\n",
       "      width: 32px;\n",
       "    }\n",
       "\n",
       "    .colab-df-convert:hover {\n",
       "      background-color: #E2EBFA;\n",
       "      box-shadow: 0px 1px 2px rgba(60, 64, 67, 0.3), 0px 1px 3px 1px rgba(60, 64, 67, 0.15);\n",
       "      fill: #174EA6;\n",
       "    }\n",
       "\n",
       "    [theme=dark] .colab-df-convert {\n",
       "      background-color: #3B4455;\n",
       "      fill: #D2E3FC;\n",
       "    }\n",
       "\n",
       "    [theme=dark] .colab-df-convert:hover {\n",
       "      background-color: #434B5C;\n",
       "      box-shadow: 0px 1px 3px 1px rgba(0, 0, 0, 0.15);\n",
       "      filter: drop-shadow(0px 1px 2px rgba(0, 0, 0, 0.3));\n",
       "      fill: #FFFFFF;\n",
       "    }\n",
       "  </style>\n",
       "\n",
       "      <script>\n",
       "        const buttonEl =\n",
       "          document.querySelector('#df-4c667a6e-6589-4e97-accd-761185344a02 button.colab-df-convert');\n",
       "        buttonEl.style.display =\n",
       "          google.colab.kernel.accessAllowed ? 'block' : 'none';\n",
       "\n",
       "        async function convertToInteractive(key) {\n",
       "          const element = document.querySelector('#df-4c667a6e-6589-4e97-accd-761185344a02');\n",
       "          const dataTable =\n",
       "            await google.colab.kernel.invokeFunction('convertToInteractive',\n",
       "                                                     [key], {});\n",
       "          if (!dataTable) return;\n",
       "\n",
       "          const docLinkHtml = 'Like what you see? Visit the ' +\n",
       "            '<a target=\"_blank\" href=https://colab.research.google.com/notebooks/data_table.ipynb>data table notebook</a>'\n",
       "            + ' to learn more about interactive tables.';\n",
       "          element.innerHTML = '';\n",
       "          dataTable['output_type'] = 'display_data';\n",
       "          await google.colab.output.renderOutput(dataTable, element);\n",
       "          const docLink = document.createElement('div');\n",
       "          docLink.innerHTML = docLinkHtml;\n",
       "          element.appendChild(docLink);\n",
       "        }\n",
       "      </script>\n",
       "    </div>\n",
       "  </div>\n",
       "  "
      ],
      "text/plain": [
       "          username                        session_id  ...   timestamp  timediff\n",
       "7084339      24057  df8ec8baa5af2f61e5426307be9a5e75  ...  1433436084       0.0\n",
       "7084345      24057  df8ec8baa5af2f61e5426307be9a5e75  ...  1433436087       3.0\n",
       "7084340      24057  df8ec8baa5af2f61e5426307be9a5e75  ...  1433436102      15.0\n",
       "16055144    670347  95925c14aa0a330a541359eb244352e4  ...  1433436152       0.0\n",
       "16055145    670347  95925c14aa0a330a541359eb244352e4  ...  1433436152       0.0\n",
       "\n",
       "[5 rows x 13 columns]"
      ]
     },
     "execution_count": 31,
     "metadata": {},
     "output_type": "execute_result"
    }
   ],
   "source": [
    "df['timediff'] = pd.DataFrame(df.groupby('username').timestamp.diff().fillna(0))\n",
    "df.head()"
   ]
  },
  {
   "cell_type": "code",
   "execution_count": 40,
   "metadata": {
    "executionInfo": {
     "elapsed": 65922,
     "status": "ok",
     "timestamp": 1646258624860,
     "user": {
      "displayName": "Shilpa Madhuri G",
      "photoUrl": "https://lh3.googleusercontent.com/a-/AOh14Gg12I7ZaKq3iW7eFXO8D9_j_4xhtG6TaDX6HJRv=s64",
      "userId": "10862127389095438079"
     },
     "user_tz": -60
    },
    "id": "0FExPuyqp0eP"
   },
   "outputs": [],
   "source": [
    "df.to_csv('/content/drive/MyDrive/changeDEEPly/data/df_full_withtime.csv')"
   ]
  },
  {
   "cell_type": "code",
   "execution_count": 39,
   "metadata": {
    "colab": {
     "base_uri": "https://localhost:8080/"
    },
    "executionInfo": {
     "elapsed": 369,
     "status": "ok",
     "timestamp": 1646258501343,
     "user": {
      "displayName": "Shilpa Madhuri G",
      "photoUrl": "https://lh3.googleusercontent.com/a-/AOh14Gg12I7ZaKq3iW7eFXO8D9_j_4xhtG6TaDX6HJRv=s64",
      "userId": "10862127389095438079"
     },
     "user_tz": -60
    },
    "id": "bDPr1Bt9pxoX",
    "outputId": "41a995fa-7b73-4fe9-ebff-bfe739962b28"
   },
   "outputs": [
    {
     "data": {
      "text/plain": [
       "(8322174, 13)"
      ]
     },
     "execution_count": 39,
     "metadata": {},
     "output_type": "execute_result"
    }
   ],
   "source": [
    "df.shape"
   ]
  },
  {
   "cell_type": "code",
   "execution_count": 38,
   "metadata": {
    "colab": {
     "base_uri": "https://localhost:8080/",
     "height": 454
    },
    "executionInfo": {
     "elapsed": 499,
     "status": "error",
     "timestamp": 1646258330218,
     "user": {
      "displayName": "Shilpa Madhuri G",
      "photoUrl": "https://lh3.googleusercontent.com/a-/AOh14Gg12I7ZaKq3iW7eFXO8D9_j_4xhtG6TaDX6HJRv=s64",
      "userId": "10862127389095438079"
     },
     "user_tz": -60
    },
    "id": "8F1wyLE1lz_A",
    "outputId": "b3a55d98-8fe7-4da6-c824-17d5ec695b50"
   },
   "outputs": [
    {
     "ename": "ValueError",
     "evalue": "ignored",
     "output_type": "error",
     "traceback": [
      "\u001b[0;31m---------------------------------------------------------------------------\u001b[0m",
      "\u001b[0;31mKeyError\u001b[0m                                  Traceback (most recent call last)",
      "\u001b[0;32m/usr/local/lib/python3.7/dist-packages/pandas/core/generic.py\u001b[0m in \u001b[0;36m_get_axis_number\u001b[0;34m(cls, axis)\u001b[0m\n\u001b[1;32m    545\u001b[0m         \u001b[0;32mtry\u001b[0m\u001b[0;34m:\u001b[0m\u001b[0;34m\u001b[0m\u001b[0;34m\u001b[0m\u001b[0m\n\u001b[0;32m--> 546\u001b[0;31m             \u001b[0;32mreturn\u001b[0m \u001b[0mcls\u001b[0m\u001b[0;34m.\u001b[0m\u001b[0m_AXIS_TO_AXIS_NUMBER\u001b[0m\u001b[0;34m[\u001b[0m\u001b[0maxis\u001b[0m\u001b[0;34m]\u001b[0m\u001b[0;34m\u001b[0m\u001b[0;34m\u001b[0m\u001b[0m\n\u001b[0m\u001b[1;32m    547\u001b[0m         \u001b[0;32mexcept\u001b[0m \u001b[0mKeyError\u001b[0m\u001b[0;34m:\u001b[0m\u001b[0;34m\u001b[0m\u001b[0;34m\u001b[0m\u001b[0m\n",
      "\u001b[0;31mKeyError\u001b[0m: 'id'",
      "\nDuring handling of the above exception, another exception occurred:\n",
      "\u001b[0;31mValueError\u001b[0m                                Traceback (most recent call last)",
      "\u001b[0;32m<ipython-input-38-221627e31ed6>\u001b[0m in \u001b[0;36m<module>\u001b[0;34m()\u001b[0m\n\u001b[1;32m      1\u001b[0m \u001b[0;31m# to see how much time each user spent including all action they did\u001b[0m\u001b[0;34m\u001b[0m\u001b[0;34m\u001b[0m\u001b[0;34m\u001b[0m\u001b[0m\n\u001b[0;32m----> 2\u001b[0;31m \u001b[0mtime_df\u001b[0m \u001b[0;34m=\u001b[0m \u001b[0mpd\u001b[0m\u001b[0;34m.\u001b[0m\u001b[0mDataFrame\u001b[0m\u001b[0;34m(\u001b[0m\u001b[0mdf\u001b[0m\u001b[0;34m.\u001b[0m\u001b[0mgroupby\u001b[0m\u001b[0;34m(\u001b[0m\u001b[0;34m'username'\u001b[0m\u001b[0;34m,\u001b[0m\u001b[0;34m'id'\u001b[0m\u001b[0;34m)\u001b[0m\u001b[0;34m.\u001b[0m\u001b[0msum\u001b[0m\u001b[0;34m(\u001b[0m\u001b[0;34m)\u001b[0m\u001b[0;34m[\u001b[0m\u001b[0;34m'timediff'\u001b[0m\u001b[0;34m]\u001b[0m\u001b[0;34m)\u001b[0m\u001b[0;34m.\u001b[0m\u001b[0msort_values\u001b[0m\u001b[0;34m(\u001b[0m\u001b[0mby\u001b[0m\u001b[0;34m=\u001b[0m\u001b[0;34m[\u001b[0m\u001b[0;34m'timediff'\u001b[0m\u001b[0;34m]\u001b[0m\u001b[0;34m,\u001b[0m\u001b[0mascending\u001b[0m\u001b[0;34m=\u001b[0m\u001b[0;32mFalse\u001b[0m\u001b[0;34m)\u001b[0m\u001b[0;34m\u001b[0m\u001b[0;34m\u001b[0m\u001b[0m\n\u001b[0m",
      "\u001b[0;32m/usr/local/lib/python3.7/dist-packages/pandas/core/frame.py\u001b[0m in \u001b[0;36mgroupby\u001b[0;34m(self, by, axis, level, as_index, sort, group_keys, squeeze, observed, dropna)\u001b[0m\n\u001b[1;32m   7625\u001b[0m         \u001b[0;32mif\u001b[0m \u001b[0mlevel\u001b[0m \u001b[0;32mis\u001b[0m \u001b[0;32mNone\u001b[0m \u001b[0;32mand\u001b[0m \u001b[0mby\u001b[0m \u001b[0;32mis\u001b[0m \u001b[0;32mNone\u001b[0m\u001b[0;34m:\u001b[0m\u001b[0;34m\u001b[0m\u001b[0;34m\u001b[0m\u001b[0m\n\u001b[1;32m   7626\u001b[0m             \u001b[0;32mraise\u001b[0m \u001b[0mTypeError\u001b[0m\u001b[0;34m(\u001b[0m\u001b[0;34m\"You have to supply one of 'by' and 'level'\"\u001b[0m\u001b[0;34m)\u001b[0m\u001b[0;34m\u001b[0m\u001b[0;34m\u001b[0m\u001b[0m\n\u001b[0;32m-> 7627\u001b[0;31m         \u001b[0maxis\u001b[0m \u001b[0;34m=\u001b[0m \u001b[0mself\u001b[0m\u001b[0;34m.\u001b[0m\u001b[0m_get_axis_number\u001b[0m\u001b[0;34m(\u001b[0m\u001b[0maxis\u001b[0m\u001b[0;34m)\u001b[0m\u001b[0;34m\u001b[0m\u001b[0;34m\u001b[0m\u001b[0m\n\u001b[0m\u001b[1;32m   7628\u001b[0m \u001b[0;34m\u001b[0m\u001b[0m\n\u001b[1;32m   7629\u001b[0m         \u001b[0;31m# error: Argument \"squeeze\" to \"DataFrameGroupBy\" has incompatible type\u001b[0m\u001b[0;34m\u001b[0m\u001b[0;34m\u001b[0m\u001b[0;34m\u001b[0m\u001b[0m\n",
      "\u001b[0;32m/usr/local/lib/python3.7/dist-packages/pandas/core/generic.py\u001b[0m in \u001b[0;36m_get_axis_number\u001b[0;34m(cls, axis)\u001b[0m\n\u001b[1;32m    546\u001b[0m             \u001b[0;32mreturn\u001b[0m \u001b[0mcls\u001b[0m\u001b[0;34m.\u001b[0m\u001b[0m_AXIS_TO_AXIS_NUMBER\u001b[0m\u001b[0;34m[\u001b[0m\u001b[0maxis\u001b[0m\u001b[0;34m]\u001b[0m\u001b[0;34m\u001b[0m\u001b[0;34m\u001b[0m\u001b[0m\n\u001b[1;32m    547\u001b[0m         \u001b[0;32mexcept\u001b[0m \u001b[0mKeyError\u001b[0m\u001b[0;34m:\u001b[0m\u001b[0;34m\u001b[0m\u001b[0;34m\u001b[0m\u001b[0m\n\u001b[0;32m--> 548\u001b[0;31m             \u001b[0;32mraise\u001b[0m \u001b[0mValueError\u001b[0m\u001b[0;34m(\u001b[0m\u001b[0;34mf\"No axis named {axis} for object type {cls.__name__}\"\u001b[0m\u001b[0;34m)\u001b[0m\u001b[0;34m\u001b[0m\u001b[0;34m\u001b[0m\u001b[0m\n\u001b[0m\u001b[1;32m    549\u001b[0m \u001b[0;34m\u001b[0m\u001b[0m\n\u001b[1;32m    550\u001b[0m     \u001b[0;34m@\u001b[0m\u001b[0mfinal\u001b[0m\u001b[0;34m\u001b[0m\u001b[0;34m\u001b[0m\u001b[0m\n",
      "\u001b[0;31mValueError\u001b[0m: No axis named id for object type DataFrame"
     ]
    }
   ],
   "source": [
    "# to see how much time each user spent including all action they did \n",
    "time_df = pd.DataFrame(df.groupby('username').sum()['timediff']).sort_values(by=['timediff'],ascending=False)"
   ]
  },
  {
   "cell_type": "code",
   "execution_count": 37,
   "metadata": {
    "colab": {
     "base_uri": "https://localhost:8080/",
     "height": 454
    },
    "executionInfo": {
     "elapsed": 408,
     "status": "ok",
     "timestamp": 1646257718235,
     "user": {
      "displayName": "Shilpa Madhuri G",
      "photoUrl": "https://lh3.googleusercontent.com/a-/AOh14Gg12I7ZaKq3iW7eFXO8D9_j_4xhtG6TaDX6HJRv=s64",
      "userId": "10862127389095438079"
     },
     "user_tz": -60
    },
    "id": "HPYbp3VGmRae",
    "outputId": "4d90ad13-f329-4243-c41e-79f7bdd8f959"
   },
   "outputs": [
    {
     "data": {
      "text/html": [
       "\n",
       "  <div id=\"df-a7525ad0-95c8-4572-8cba-c42f40b0067b\">\n",
       "    <div class=\"colab-df-container\">\n",
       "      <div>\n",
       "<style scoped>\n",
       "    .dataframe tbody tr th:only-of-type {\n",
       "        vertical-align: middle;\n",
       "    }\n",
       "\n",
       "    .dataframe tbody tr th {\n",
       "        vertical-align: top;\n",
       "    }\n",
       "\n",
       "    .dataframe thead th {\n",
       "        text-align: right;\n",
       "    }\n",
       "</style>\n",
       "<table border=\"1\" class=\"dataframe\">\n",
       "  <thead>\n",
       "    <tr style=\"text-align: right;\">\n",
       "      <th></th>\n",
       "      <th>timediff</th>\n",
       "    </tr>\n",
       "    <tr>\n",
       "      <th>username</th>\n",
       "      <th></th>\n",
       "    </tr>\n",
       "  </thead>\n",
       "  <tbody>\n",
       "    <tr>\n",
       "      <th>321214</th>\n",
       "      <td>62908012.0</td>\n",
       "    </tr>\n",
       "    <tr>\n",
       "      <th>20531</th>\n",
       "      <td>62576499.0</td>\n",
       "    </tr>\n",
       "    <tr>\n",
       "      <th>328771</th>\n",
       "      <td>62508383.0</td>\n",
       "    </tr>\n",
       "    <tr>\n",
       "      <th>12466</th>\n",
       "      <td>61495321.0</td>\n",
       "    </tr>\n",
       "    <tr>\n",
       "      <th>45200</th>\n",
       "      <td>61460239.0</td>\n",
       "    </tr>\n",
       "    <tr>\n",
       "      <th>...</th>\n",
       "      <td>...</td>\n",
       "    </tr>\n",
       "    <tr>\n",
       "      <th>364109</th>\n",
       "      <td>0.0</td>\n",
       "    </tr>\n",
       "    <tr>\n",
       "      <th>95108</th>\n",
       "      <td>0.0</td>\n",
       "    </tr>\n",
       "    <tr>\n",
       "      <th>66654</th>\n",
       "      <td>0.0</td>\n",
       "    </tr>\n",
       "    <tr>\n",
       "      <th>2313190</th>\n",
       "      <td>0.0</td>\n",
       "    </tr>\n",
       "    <tr>\n",
       "      <th>430416</th>\n",
       "      <td>0.0</td>\n",
       "    </tr>\n",
       "  </tbody>\n",
       "</table>\n",
       "<p>14297 rows × 1 columns</p>\n",
       "</div>\n",
       "      <button class=\"colab-df-convert\" onclick=\"convertToInteractive('df-a7525ad0-95c8-4572-8cba-c42f40b0067b')\"\n",
       "              title=\"Convert this dataframe to an interactive table.\"\n",
       "              style=\"display:none;\">\n",
       "        \n",
       "  <svg xmlns=\"http://www.w3.org/2000/svg\" height=\"24px\"viewBox=\"0 0 24 24\"\n",
       "       width=\"24px\">\n",
       "    <path d=\"M0 0h24v24H0V0z\" fill=\"none\"/>\n",
       "    <path d=\"M18.56 5.44l.94 2.06.94-2.06 2.06-.94-2.06-.94-.94-2.06-.94 2.06-2.06.94zm-11 1L8.5 8.5l.94-2.06 2.06-.94-2.06-.94L8.5 2.5l-.94 2.06-2.06.94zm10 10l.94 2.06.94-2.06 2.06-.94-2.06-.94-.94-2.06-.94 2.06-2.06.94z\"/><path d=\"M17.41 7.96l-1.37-1.37c-.4-.4-.92-.59-1.43-.59-.52 0-1.04.2-1.43.59L10.3 9.45l-7.72 7.72c-.78.78-.78 2.05 0 2.83L4 21.41c.39.39.9.59 1.41.59.51 0 1.02-.2 1.41-.59l7.78-7.78 2.81-2.81c.8-.78.8-2.07 0-2.86zM5.41 20L4 18.59l7.72-7.72 1.47 1.35L5.41 20z\"/>\n",
       "  </svg>\n",
       "      </button>\n",
       "      \n",
       "  <style>\n",
       "    .colab-df-container {\n",
       "      display:flex;\n",
       "      flex-wrap:wrap;\n",
       "      gap: 12px;\n",
       "    }\n",
       "\n",
       "    .colab-df-convert {\n",
       "      background-color: #E8F0FE;\n",
       "      border: none;\n",
       "      border-radius: 50%;\n",
       "      cursor: pointer;\n",
       "      display: none;\n",
       "      fill: #1967D2;\n",
       "      height: 32px;\n",
       "      padding: 0 0 0 0;\n",
       "      width: 32px;\n",
       "    }\n",
       "\n",
       "    .colab-df-convert:hover {\n",
       "      background-color: #E2EBFA;\n",
       "      box-shadow: 0px 1px 2px rgba(60, 64, 67, 0.3), 0px 1px 3px 1px rgba(60, 64, 67, 0.15);\n",
       "      fill: #174EA6;\n",
       "    }\n",
       "\n",
       "    [theme=dark] .colab-df-convert {\n",
       "      background-color: #3B4455;\n",
       "      fill: #D2E3FC;\n",
       "    }\n",
       "\n",
       "    [theme=dark] .colab-df-convert:hover {\n",
       "      background-color: #434B5C;\n",
       "      box-shadow: 0px 1px 3px 1px rgba(0, 0, 0, 0.15);\n",
       "      filter: drop-shadow(0px 1px 2px rgba(0, 0, 0, 0.3));\n",
       "      fill: #FFFFFF;\n",
       "    }\n",
       "  </style>\n",
       "\n",
       "      <script>\n",
       "        const buttonEl =\n",
       "          document.querySelector('#df-a7525ad0-95c8-4572-8cba-c42f40b0067b button.colab-df-convert');\n",
       "        buttonEl.style.display =\n",
       "          google.colab.kernel.accessAllowed ? 'block' : 'none';\n",
       "\n",
       "        async function convertToInteractive(key) {\n",
       "          const element = document.querySelector('#df-a7525ad0-95c8-4572-8cba-c42f40b0067b');\n",
       "          const dataTable =\n",
       "            await google.colab.kernel.invokeFunction('convertToInteractive',\n",
       "                                                     [key], {});\n",
       "          if (!dataTable) return;\n",
       "\n",
       "          const docLinkHtml = 'Like what you see? Visit the ' +\n",
       "            '<a target=\"_blank\" href=https://colab.research.google.com/notebooks/data_table.ipynb>data table notebook</a>'\n",
       "            + ' to learn more about interactive tables.';\n",
       "          element.innerHTML = '';\n",
       "          dataTable['output_type'] = 'display_data';\n",
       "          await google.colab.output.renderOutput(dataTable, element);\n",
       "          const docLink = document.createElement('div');\n",
       "          docLink.innerHTML = docLinkHtml;\n",
       "          element.appendChild(docLink);\n",
       "        }\n",
       "      </script>\n",
       "    </div>\n",
       "  </div>\n",
       "  "
      ],
      "text/plain": [
       "            timediff\n",
       "username            \n",
       "321214    62908012.0\n",
       "20531     62576499.0\n",
       "328771    62508383.0\n",
       "12466     61495321.0\n",
       "45200     61460239.0\n",
       "...              ...\n",
       "364109           0.0\n",
       "95108            0.0\n",
       "66654            0.0\n",
       "2313190          0.0\n",
       "430416           0.0\n",
       "\n",
       "[14297 rows x 1 columns]"
      ]
     },
     "execution_count": 37,
     "metadata": {},
     "output_type": "execute_result"
    }
   ],
   "source": [
    "time_df"
   ]
  }
 ],
 "metadata": {
  "colab": {
   "authorship_tag": "ABX9TyNfB6EqPLZGf+oM4wquBrV2",
   "collapsed_sections": [],
   "mount_file_id": "1VKPXQNTEhHiLyDTcO4EWnai3Pr7zS_zl",
   "name": "merged_dataframe.ipynb",
   "provenance": []
  },
  "kernelspec": {
   "display_name": "Python 3 (ipykernel)",
   "language": "python",
   "name": "python3"
  },
  "language_info": {
   "codemirror_mode": {
    "name": "ipython",
    "version": 3
   },
   "file_extension": ".py",
   "mimetype": "text/x-python",
   "name": "python",
   "nbconvert_exporter": "python",
   "pygments_lexer": "ipython3",
   "version": "3.8.12"
  },
  "toc": {
   "base_numbering": 1,
   "nav_menu": {},
   "number_sections": true,
   "sideBar": true,
   "skip_h1_title": false,
   "title_cell": "Table of Contents",
   "title_sidebar": "Contents",
   "toc_cell": false,
   "toc_position": {},
   "toc_section_display": true,
   "toc_window_display": false
  }
 },
 "nbformat": 4,
 "nbformat_minor": 1
}
