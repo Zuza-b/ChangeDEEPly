{
 "cells": [
  {
   "cell_type": "markdown",
   "id": "6ca660af",
   "metadata": {},
   "source": [
    "# Importing libraries"
   ]
  },
  {
   "cell_type": "code",
   "execution_count": 2,
   "id": "305470ed",
   "metadata": {},
   "outputs": [],
   "source": [
    "import pandas as pd # used for dataframes\n",
    "import numpy as np \n",
    "import xgboost as xgb # Gradient Boosting Algorithm\n",
    "import matplotlib.pyplot as plt\n",
    "import seaborn as sns\n",
    "import gc # Garbage Collector required to extract unused and residual data and variables from memory\n",
    "from sklearn.metrics import mean_squared_error as mse\n",
    "from sklearn.model_selection import train_test_split\n",
    "from sklearn.metrics import accuracy_score"
   ]
  },
  {
   "cell_type": "markdown",
   "id": "dbce5a8b",
   "metadata": {},
   "source": [
    "# Importing part of train_dataset (all models are based on the original dataset)"
   ]
  },
  {
   "cell_type": "code",
   "execution_count": 13,
   "id": "b7ff616a",
   "metadata": {},
   "outputs": [],
   "source": [
    "train_df = pd.read_csv('/Users/azin/code/azinmjalali/ChangeDEEPly/raw_data/test/test.csv', nrows = 1894486)"
   ]
  },
  {
   "cell_type": "code",
   "execution_count": 14,
   "id": "6d04bad2",
   "metadata": {},
   "outputs": [
    {
     "data": {
      "text/html": [
       "<div>\n",
       "<style scoped>\n",
       "    .dataframe tbody tr th:only-of-type {\n",
       "        vertical-align: middle;\n",
       "    }\n",
       "\n",
       "    .dataframe tbody tr th {\n",
       "        vertical-align: top;\n",
       "    }\n",
       "\n",
       "    .dataframe thead th {\n",
       "        text-align: right;\n",
       "    }\n",
       "</style>\n",
       "<table border=\"1\" class=\"dataframe\">\n",
       "  <thead>\n",
       "    <tr style=\"text-align: right;\">\n",
       "      <th></th>\n",
       "      <th>enroll_id</th>\n",
       "      <th>username</th>\n",
       "      <th>course_id</th>\n",
       "      <th>session_id</th>\n",
       "      <th>action</th>\n",
       "      <th>object</th>\n",
       "      <th>time</th>\n",
       "      <th>truth</th>\n",
       "    </tr>\n",
       "  </thead>\n",
       "  <tbody>\n",
       "    <tr>\n",
       "      <th>0</th>\n",
       "      <td>775</td>\n",
       "      <td>1520977</td>\n",
       "      <td>course-v1:TsinghuaX+70800232X+2015_T2</td>\n",
       "      <td>5f421f644193c2d48c84df42aaf7e48b</td>\n",
       "      <td>load_video</td>\n",
       "      <td>3dac5590435e43b3a65a9ae7426c16db</td>\n",
       "      <td>2015-10-15T22:14:11</td>\n",
       "      <td>1</td>\n",
       "    </tr>\n",
       "    <tr>\n",
       "      <th>1</th>\n",
       "      <td>775</td>\n",
       "      <td>1520977</td>\n",
       "      <td>course-v1:TsinghuaX+70800232X+2015_T2</td>\n",
       "      <td>5f421f644193c2d48c84df42aaf7e48b</td>\n",
       "      <td>load_video</td>\n",
       "      <td>3169d758ee2d4262b07f0113df743c42</td>\n",
       "      <td>2015-10-15T22:43:35</td>\n",
       "      <td>1</td>\n",
       "    </tr>\n",
       "  </tbody>\n",
       "</table>\n",
       "</div>"
      ],
      "text/plain": [
       "   enroll_id  username                              course_id  \\\n",
       "0        775   1520977  course-v1:TsinghuaX+70800232X+2015_T2   \n",
       "1        775   1520977  course-v1:TsinghuaX+70800232X+2015_T2   \n",
       "\n",
       "                         session_id      action  \\\n",
       "0  5f421f644193c2d48c84df42aaf7e48b  load_video   \n",
       "1  5f421f644193c2d48c84df42aaf7e48b  load_video   \n",
       "\n",
       "                             object                 time  truth  \n",
       "0  3dac5590435e43b3a65a9ae7426c16db  2015-10-15T22:14:11      1  \n",
       "1  3169d758ee2d4262b07f0113df743c42  2015-10-15T22:43:35      1  "
      ]
     },
     "execution_count": 14,
     "metadata": {},
     "output_type": "execute_result"
    }
   ],
   "source": [
    "train_df.head(2)"
   ]
  },
  {
   "cell_type": "markdown",
   "id": "b42bb42c",
   "metadata": {},
   "source": [
    "# Data cleaning "
   ]
  },
  {
   "cell_type": "code",
   "execution_count": 15,
   "id": "748c539e",
   "metadata": {},
   "outputs": [],
   "source": [
    "train_df = train_df.drop(['enroll_id','object'],axis =1)"
   ]
  },
  {
   "cell_type": "code",
   "execution_count": 16,
   "id": "1cf5aeb3",
   "metadata": {},
   "outputs": [
    {
     "data": {
      "text/html": [
       "<div>\n",
       "<style scoped>\n",
       "    .dataframe tbody tr th:only-of-type {\n",
       "        vertical-align: middle;\n",
       "    }\n",
       "\n",
       "    .dataframe tbody tr th {\n",
       "        vertical-align: top;\n",
       "    }\n",
       "\n",
       "    .dataframe thead th {\n",
       "        text-align: right;\n",
       "    }\n",
       "</style>\n",
       "<table border=\"1\" class=\"dataframe\">\n",
       "  <thead>\n",
       "    <tr style=\"text-align: right;\">\n",
       "      <th></th>\n",
       "      <th>username</th>\n",
       "      <th>course_id</th>\n",
       "      <th>session_id</th>\n",
       "      <th>action</th>\n",
       "      <th>time</th>\n",
       "      <th>truth</th>\n",
       "    </tr>\n",
       "  </thead>\n",
       "  <tbody>\n",
       "    <tr>\n",
       "      <th>0</th>\n",
       "      <td>1520977</td>\n",
       "      <td>course-v1:TsinghuaX+70800232X+2015_T2</td>\n",
       "      <td>5f421f644193c2d48c84df42aaf7e48b</td>\n",
       "      <td>load_video</td>\n",
       "      <td>2015-10-15T22:14:11</td>\n",
       "      <td>1</td>\n",
       "    </tr>\n",
       "    <tr>\n",
       "      <th>1</th>\n",
       "      <td>1520977</td>\n",
       "      <td>course-v1:TsinghuaX+70800232X+2015_T2</td>\n",
       "      <td>5f421f644193c2d48c84df42aaf7e48b</td>\n",
       "      <td>load_video</td>\n",
       "      <td>2015-10-15T22:43:35</td>\n",
       "      <td>1</td>\n",
       "    </tr>\n",
       "  </tbody>\n",
       "</table>\n",
       "</div>"
      ],
      "text/plain": [
       "   username                              course_id  \\\n",
       "0   1520977  course-v1:TsinghuaX+70800232X+2015_T2   \n",
       "1   1520977  course-v1:TsinghuaX+70800232X+2015_T2   \n",
       "\n",
       "                         session_id      action                 time  truth  \n",
       "0  5f421f644193c2d48c84df42aaf7e48b  load_video  2015-10-15T22:14:11      1  \n",
       "1  5f421f644193c2d48c84df42aaf7e48b  load_video  2015-10-15T22:43:35      1  "
      ]
     },
     "execution_count": 16,
     "metadata": {},
     "output_type": "execute_result"
    }
   ],
   "source": [
    "train_df.head(2)"
   ]
  },
  {
   "cell_type": "markdown",
   "id": "005d79b9",
   "metadata": {},
   "source": [
    "# Feature engineering "
   ]
  },
  {
   "cell_type": "markdown",
   "id": "0fc1355d",
   "metadata": {},
   "source": [
    "## Creating time_diff columns based on the time spent by users per each activity"
   ]
  },
  {
   "cell_type": "code",
   "execution_count": 17,
   "id": "44d57c36",
   "metadata": {},
   "outputs": [],
   "source": [
    "train_df['Datetime'] = pd.to_datetime(train_df['time'])\n",
    "train_df = train_df.drop(['time'], axis = 1)"
   ]
  },
  {
   "cell_type": "code",
   "execution_count": 18,
   "id": "98537cd4",
   "metadata": {},
   "outputs": [],
   "source": [
    "# convert datetime to timestamp \n",
    "train_df['timestamp'] = train_df.Datetime.values.astype(np.int64) // 10 ** 9\n",
    "train_df = train_df.drop(['Datetime'], axis = 1)"
   ]
  },
  {
   "cell_type": "code",
   "execution_count": 19,
   "id": "fe011bd7",
   "metadata": {},
   "outputs": [],
   "source": [
    "train_df = train_df.sort_values(['username', 'session_id','timestamp'])\n",
    "train_df['timediff'] = pd.DataFrame(train_df.groupby('username').timestamp.diff().fillna(0))"
   ]
  },
  {
   "cell_type": "markdown",
   "id": "501fe1b7",
   "metadata": {},
   "source": [
    "## converting action column to numerical columns (OneHot encoding)"
   ]
  },
  {
   "cell_type": "code",
   "execution_count": 20,
   "id": "a2e4b69a",
   "metadata": {},
   "outputs": [
    {
     "data": {
      "text/plain": [
       "array(['click_info', 'click_courseware', 'close_courseware',\n",
       "       'click_about', 'load_video', 'pause_video', 'play_video',\n",
       "       'problem_get', 'problem_check', 'problem_check_incorrect',\n",
       "       'problem_check_correct', 'stop_video', 'seek_video', 'click_forum',\n",
       "       'create_comment', 'reset_problem', 'click_progress',\n",
       "       'problem_save', 'delete_comment', 'create_thread', 'delete_thread'],\n",
       "      dtype=object)"
      ]
     },
     "execution_count": 20,
     "metadata": {},
     "output_type": "execute_result"
    }
   ],
   "source": [
    "train_df['action'].unique()"
   ]
  },
  {
   "cell_type": "code",
   "execution_count": 21,
   "id": "18f671c0",
   "metadata": {},
   "outputs": [],
   "source": [
    "from sklearn.preprocessing import OneHotEncoder\n",
    "\n",
    "ohe = OneHotEncoder(sparse = False) \n",
    "\n",
    "ohe.fit(train_df[['action']]) \n",
    "\n",
    "action_encoded = ohe.transform(train_df[['action']]) \n",
    "\n",
    "train_df['click_info'], train_df['click_courseware'], train_df['close_courseware'], train_df['click_about'],train_df['load_video'],\\\n",
    "train_df['pause_video'], train_df['play_video'], train_df['problem_get'], train_df['problem_check'], train_df['problem_check_incorrect'], train_df['problem_check_correct'],\\\n",
    "train_df['stop_video'], train_df['seek_video'], train_df['click_forum'], train_df['create_comment'],\\\n",
    "train_df['reset_problem'], train_df['click_progress'], train_df['problem_save'],\\\n",
    "train_df['delete_comment'], train_df['create_thread'], train_df['delete_thread'] = action_encoded.T\n"
   ]
  },
  {
   "cell_type": "code",
   "execution_count": 22,
   "id": "5ca2c3cc",
   "metadata": {},
   "outputs": [
    {
     "data": {
      "text/html": [
       "<div>\n",
       "<style scoped>\n",
       "    .dataframe tbody tr th:only-of-type {\n",
       "        vertical-align: middle;\n",
       "    }\n",
       "\n",
       "    .dataframe tbody tr th {\n",
       "        vertical-align: top;\n",
       "    }\n",
       "\n",
       "    .dataframe thead th {\n",
       "        text-align: right;\n",
       "    }\n",
       "</style>\n",
       "<table border=\"1\" class=\"dataframe\">\n",
       "  <thead>\n",
       "    <tr style=\"text-align: right;\">\n",
       "      <th></th>\n",
       "      <th>username</th>\n",
       "      <th>course_id</th>\n",
       "      <th>session_id</th>\n",
       "      <th>action</th>\n",
       "      <th>truth</th>\n",
       "      <th>timestamp</th>\n",
       "      <th>timediff</th>\n",
       "      <th>click_info</th>\n",
       "      <th>click_courseware</th>\n",
       "      <th>close_courseware</th>\n",
       "      <th>...</th>\n",
       "      <th>stop_video</th>\n",
       "      <th>seek_video</th>\n",
       "      <th>click_forum</th>\n",
       "      <th>create_comment</th>\n",
       "      <th>reset_problem</th>\n",
       "      <th>click_progress</th>\n",
       "      <th>problem_save</th>\n",
       "      <th>delete_comment</th>\n",
       "      <th>create_thread</th>\n",
       "      <th>delete_thread</th>\n",
       "    </tr>\n",
       "  </thead>\n",
       "  <tbody>\n",
       "    <tr>\n",
       "      <th>1822396</th>\n",
       "      <td>5</td>\n",
       "      <td>course-v1:UQx+Crime101x+_</td>\n",
       "      <td>0acd40efd56d6ef6de638a50184b1910</td>\n",
       "      <td>click_info</td>\n",
       "      <td>1</td>\n",
       "      <td>1458657513</td>\n",
       "      <td>0.0</td>\n",
       "      <td>0.0</td>\n",
       "      <td>0.0</td>\n",
       "      <td>0.0</td>\n",
       "      <td>...</td>\n",
       "      <td>0.0</td>\n",
       "      <td>0.0</td>\n",
       "      <td>0.0</td>\n",
       "      <td>0.0</td>\n",
       "      <td>0.0</td>\n",
       "      <td>0.0</td>\n",
       "      <td>0.0</td>\n",
       "      <td>0.0</td>\n",
       "      <td>0.0</td>\n",
       "      <td>0.0</td>\n",
       "    </tr>\n",
       "    <tr>\n",
       "      <th>1822397</th>\n",
       "      <td>5</td>\n",
       "      <td>course-v1:UQx+Crime101x+_</td>\n",
       "      <td>0acd40efd56d6ef6de638a50184b1910</td>\n",
       "      <td>click_info</td>\n",
       "      <td>1</td>\n",
       "      <td>1458657515</td>\n",
       "      <td>2.0</td>\n",
       "      <td>0.0</td>\n",
       "      <td>0.0</td>\n",
       "      <td>0.0</td>\n",
       "      <td>...</td>\n",
       "      <td>0.0</td>\n",
       "      <td>0.0</td>\n",
       "      <td>0.0</td>\n",
       "      <td>0.0</td>\n",
       "      <td>0.0</td>\n",
       "      <td>0.0</td>\n",
       "      <td>0.0</td>\n",
       "      <td>0.0</td>\n",
       "      <td>0.0</td>\n",
       "      <td>0.0</td>\n",
       "    </tr>\n",
       "    <tr>\n",
       "      <th>1822398</th>\n",
       "      <td>5</td>\n",
       "      <td>course-v1:UQx+Crime101x+_</td>\n",
       "      <td>0acd40efd56d6ef6de638a50184b1910</td>\n",
       "      <td>click_courseware</td>\n",
       "      <td>1</td>\n",
       "      <td>1458657517</td>\n",
       "      <td>2.0</td>\n",
       "      <td>0.0</td>\n",
       "      <td>1.0</td>\n",
       "      <td>0.0</td>\n",
       "      <td>...</td>\n",
       "      <td>0.0</td>\n",
       "      <td>0.0</td>\n",
       "      <td>0.0</td>\n",
       "      <td>0.0</td>\n",
       "      <td>0.0</td>\n",
       "      <td>0.0</td>\n",
       "      <td>0.0</td>\n",
       "      <td>0.0</td>\n",
       "      <td>0.0</td>\n",
       "      <td>0.0</td>\n",
       "    </tr>\n",
       "    <tr>\n",
       "      <th>1822399</th>\n",
       "      <td>5</td>\n",
       "      <td>course-v1:UQx+Crime101x+_</td>\n",
       "      <td>0acd40efd56d6ef6de638a50184b1910</td>\n",
       "      <td>click_courseware</td>\n",
       "      <td>1</td>\n",
       "      <td>1458658238</td>\n",
       "      <td>721.0</td>\n",
       "      <td>0.0</td>\n",
       "      <td>1.0</td>\n",
       "      <td>0.0</td>\n",
       "      <td>...</td>\n",
       "      <td>0.0</td>\n",
       "      <td>0.0</td>\n",
       "      <td>0.0</td>\n",
       "      <td>0.0</td>\n",
       "      <td>0.0</td>\n",
       "      <td>0.0</td>\n",
       "      <td>0.0</td>\n",
       "      <td>0.0</td>\n",
       "      <td>0.0</td>\n",
       "      <td>0.0</td>\n",
       "    </tr>\n",
       "    <tr>\n",
       "      <th>1822400</th>\n",
       "      <td>5</td>\n",
       "      <td>course-v1:UQx+Crime101x+_</td>\n",
       "      <td>0acd40efd56d6ef6de638a50184b1910</td>\n",
       "      <td>click_courseware</td>\n",
       "      <td>1</td>\n",
       "      <td>1458658239</td>\n",
       "      <td>1.0</td>\n",
       "      <td>0.0</td>\n",
       "      <td>1.0</td>\n",
       "      <td>0.0</td>\n",
       "      <td>...</td>\n",
       "      <td>0.0</td>\n",
       "      <td>0.0</td>\n",
       "      <td>0.0</td>\n",
       "      <td>0.0</td>\n",
       "      <td>0.0</td>\n",
       "      <td>0.0</td>\n",
       "      <td>0.0</td>\n",
       "      <td>0.0</td>\n",
       "      <td>0.0</td>\n",
       "      <td>0.0</td>\n",
       "    </tr>\n",
       "  </tbody>\n",
       "</table>\n",
       "<p>5 rows × 28 columns</p>\n",
       "</div>"
      ],
      "text/plain": [
       "         username                  course_id  \\\n",
       "1822396         5  course-v1:UQx+Crime101x+_   \n",
       "1822397         5  course-v1:UQx+Crime101x+_   \n",
       "1822398         5  course-v1:UQx+Crime101x+_   \n",
       "1822399         5  course-v1:UQx+Crime101x+_   \n",
       "1822400         5  course-v1:UQx+Crime101x+_   \n",
       "\n",
       "                               session_id            action  truth  \\\n",
       "1822396  0acd40efd56d6ef6de638a50184b1910        click_info      1   \n",
       "1822397  0acd40efd56d6ef6de638a50184b1910        click_info      1   \n",
       "1822398  0acd40efd56d6ef6de638a50184b1910  click_courseware      1   \n",
       "1822399  0acd40efd56d6ef6de638a50184b1910  click_courseware      1   \n",
       "1822400  0acd40efd56d6ef6de638a50184b1910  click_courseware      1   \n",
       "\n",
       "          timestamp  timediff  click_info  click_courseware  close_courseware  \\\n",
       "1822396  1458657513       0.0         0.0               0.0               0.0   \n",
       "1822397  1458657515       2.0         0.0               0.0               0.0   \n",
       "1822398  1458657517       2.0         0.0               1.0               0.0   \n",
       "1822399  1458658238     721.0         0.0               1.0               0.0   \n",
       "1822400  1458658239       1.0         0.0               1.0               0.0   \n",
       "\n",
       "         ...  stop_video  seek_video  click_forum  create_comment  \\\n",
       "1822396  ...         0.0         0.0          0.0             0.0   \n",
       "1822397  ...         0.0         0.0          0.0             0.0   \n",
       "1822398  ...         0.0         0.0          0.0             0.0   \n",
       "1822399  ...         0.0         0.0          0.0             0.0   \n",
       "1822400  ...         0.0         0.0          0.0             0.0   \n",
       "\n",
       "         reset_problem  click_progress  problem_save  delete_comment  \\\n",
       "1822396            0.0             0.0           0.0             0.0   \n",
       "1822397            0.0             0.0           0.0             0.0   \n",
       "1822398            0.0             0.0           0.0             0.0   \n",
       "1822399            0.0             0.0           0.0             0.0   \n",
       "1822400            0.0             0.0           0.0             0.0   \n",
       "\n",
       "         create_thread  delete_thread  \n",
       "1822396            0.0            0.0  \n",
       "1822397            0.0            0.0  \n",
       "1822398            0.0            0.0  \n",
       "1822399            0.0            0.0  \n",
       "1822400            0.0            0.0  \n",
       "\n",
       "[5 rows x 28 columns]"
      ]
     },
     "execution_count": 22,
     "metadata": {},
     "output_type": "execute_result"
    }
   ],
   "source": [
    "train_df.head()"
   ]
  },
  {
   "cell_type": "markdown",
   "id": "22133176",
   "metadata": {},
   "source": [
    "# Preprocessing "
   ]
  },
  {
   "cell_type": "markdown",
   "id": "0125109b",
   "metadata": {},
   "source": [
    "## Scaling "
   ]
  },
  {
   "cell_type": "code",
   "execution_count": 23,
   "id": "4c7c2ff7",
   "metadata": {},
   "outputs": [],
   "source": [
    "from sklearn.ensemble import GradientBoostingClassifier"
   ]
  },
  {
   "cell_type": "code",
   "execution_count": 24,
   "id": "499dc5b0",
   "metadata": {},
   "outputs": [
    {
     "data": {
      "text/html": [
       "<div>\n",
       "<style scoped>\n",
       "    .dataframe tbody tr th:only-of-type {\n",
       "        vertical-align: middle;\n",
       "    }\n",
       "\n",
       "    .dataframe tbody tr th {\n",
       "        vertical-align: top;\n",
       "    }\n",
       "\n",
       "    .dataframe thead th {\n",
       "        text-align: right;\n",
       "    }\n",
       "</style>\n",
       "<table border=\"1\" class=\"dataframe\">\n",
       "  <thead>\n",
       "    <tr style=\"text-align: right;\">\n",
       "      <th></th>\n",
       "      <th>username</th>\n",
       "      <th>course_id</th>\n",
       "      <th>session_id</th>\n",
       "      <th>action</th>\n",
       "      <th>truth</th>\n",
       "      <th>timestamp</th>\n",
       "      <th>timediff</th>\n",
       "      <th>click_info</th>\n",
       "      <th>click_courseware</th>\n",
       "      <th>close_courseware</th>\n",
       "      <th>...</th>\n",
       "      <th>stop_video</th>\n",
       "      <th>seek_video</th>\n",
       "      <th>click_forum</th>\n",
       "      <th>create_comment</th>\n",
       "      <th>reset_problem</th>\n",
       "      <th>click_progress</th>\n",
       "      <th>problem_save</th>\n",
       "      <th>delete_comment</th>\n",
       "      <th>create_thread</th>\n",
       "      <th>delete_thread</th>\n",
       "    </tr>\n",
       "  </thead>\n",
       "  <tbody>\n",
       "    <tr>\n",
       "      <th>1822396</th>\n",
       "      <td>5</td>\n",
       "      <td>course-v1:UQx+Crime101x+_</td>\n",
       "      <td>0acd40efd56d6ef6de638a50184b1910</td>\n",
       "      <td>click_info</td>\n",
       "      <td>1</td>\n",
       "      <td>1458657513</td>\n",
       "      <td>0.0</td>\n",
       "      <td>0.0</td>\n",
       "      <td>0.0</td>\n",
       "      <td>0.0</td>\n",
       "      <td>...</td>\n",
       "      <td>0.0</td>\n",
       "      <td>0.0</td>\n",
       "      <td>0.0</td>\n",
       "      <td>0.0</td>\n",
       "      <td>0.0</td>\n",
       "      <td>0.0</td>\n",
       "      <td>0.0</td>\n",
       "      <td>0.0</td>\n",
       "      <td>0.0</td>\n",
       "      <td>0.0</td>\n",
       "    </tr>\n",
       "    <tr>\n",
       "      <th>1822397</th>\n",
       "      <td>5</td>\n",
       "      <td>course-v1:UQx+Crime101x+_</td>\n",
       "      <td>0acd40efd56d6ef6de638a50184b1910</td>\n",
       "      <td>click_info</td>\n",
       "      <td>1</td>\n",
       "      <td>1458657515</td>\n",
       "      <td>2.0</td>\n",
       "      <td>0.0</td>\n",
       "      <td>0.0</td>\n",
       "      <td>0.0</td>\n",
       "      <td>...</td>\n",
       "      <td>0.0</td>\n",
       "      <td>0.0</td>\n",
       "      <td>0.0</td>\n",
       "      <td>0.0</td>\n",
       "      <td>0.0</td>\n",
       "      <td>0.0</td>\n",
       "      <td>0.0</td>\n",
       "      <td>0.0</td>\n",
       "      <td>0.0</td>\n",
       "      <td>0.0</td>\n",
       "    </tr>\n",
       "  </tbody>\n",
       "</table>\n",
       "<p>2 rows × 28 columns</p>\n",
       "</div>"
      ],
      "text/plain": [
       "         username                  course_id  \\\n",
       "1822396         5  course-v1:UQx+Crime101x+_   \n",
       "1822397         5  course-v1:UQx+Crime101x+_   \n",
       "\n",
       "                               session_id      action  truth   timestamp  \\\n",
       "1822396  0acd40efd56d6ef6de638a50184b1910  click_info      1  1458657513   \n",
       "1822397  0acd40efd56d6ef6de638a50184b1910  click_info      1  1458657515   \n",
       "\n",
       "         timediff  click_info  click_courseware  close_courseware  ...  \\\n",
       "1822396       0.0         0.0               0.0               0.0  ...   \n",
       "1822397       2.0         0.0               0.0               0.0  ...   \n",
       "\n",
       "         stop_video  seek_video  click_forum  create_comment  reset_problem  \\\n",
       "1822396         0.0         0.0          0.0             0.0            0.0   \n",
       "1822397         0.0         0.0          0.0             0.0            0.0   \n",
       "\n",
       "         click_progress  problem_save  delete_comment  create_thread  \\\n",
       "1822396             0.0           0.0             0.0            0.0   \n",
       "1822397             0.0           0.0             0.0            0.0   \n",
       "\n",
       "         delete_thread  \n",
       "1822396            0.0  \n",
       "1822397            0.0  \n",
       "\n",
       "[2 rows x 28 columns]"
      ]
     },
     "execution_count": 24,
     "metadata": {},
     "output_type": "execute_result"
    }
   ],
   "source": [
    "train_df.head(2)"
   ]
  },
  {
   "cell_type": "markdown",
   "id": "4feca1ce",
   "metadata": {},
   "source": [
    "# Modeling"
   ]
  },
  {
   "cell_type": "code",
   "execution_count": 25,
   "id": "0a3d5d08",
   "metadata": {},
   "outputs": [],
   "source": [
    "train_df = train_df.set_index(['username', 'course_id'])"
   ]
  },
  {
   "cell_type": "code",
   "execution_count": 26,
   "id": "18fc42a5",
   "metadata": {},
   "outputs": [],
   "source": [
    "X = train_df.drop(columns = ['session_id',  'action', 'truth', \"timestamp\"])"
   ]
  },
  {
   "cell_type": "code",
   "execution_count": 27,
   "id": "0b3a9899",
   "metadata": {},
   "outputs": [],
   "source": [
    "y = train_df['truth']"
   ]
  },
  {
   "cell_type": "code",
   "execution_count": 28,
   "id": "470d21ab",
   "metadata": {},
   "outputs": [],
   "source": [
    "from sklearn.preprocessing import StandardScaler\n",
    "std_scaler = StandardScaler()\n",
    "X_scaled = std_scaler.fit_transform(X)"
   ]
  },
  {
   "cell_type": "markdown",
   "id": "1ac87ed9",
   "metadata": {},
   "source": [
    "## GradientBoostingClassifier"
   ]
  },
  {
   "cell_type": "code",
   "execution_count": 29,
   "id": "f98b673d",
   "metadata": {},
   "outputs": [
    {
     "data": {
      "text/plain": [
       "GradientBoostingClassifier(ccp_alpha=0.0, criterion='friedman_mse', init=None,\n",
       "                           learning_rate=0.1, loss='deviance', max_depth=3,\n",
       "                           max_features=None, max_leaf_nodes=None,\n",
       "                           min_impurity_decrease=0.0, min_impurity_split=None,\n",
       "                           min_samples_leaf=1, min_samples_split=2,\n",
       "                           min_weight_fraction_leaf=0.0, n_estimators=100,\n",
       "                           n_iter_no_change=None, presort='deprecated',\n",
       "                           random_state=None, subsample=1.0, tol=0.0001,\n",
       "                           validation_fraction=0.1, verbose=0,\n",
       "                           warm_start=False)"
      ]
     },
     "execution_count": 29,
     "metadata": {},
     "output_type": "execute_result"
    }
   ],
   "source": [
    "from sklearn.ensemble import GradientBoostingClassifier\n",
    "gbc_model = GradientBoostingClassifier()\n",
    "gbc_model.fit(X_scaled, y)"
   ]
  },
  {
   "cell_type": "markdown",
   "id": "3f2030e6",
   "metadata": {},
   "source": [
    "## XGBClassifier"
   ]
  },
  {
   "cell_type": "code",
   "execution_count": 31,
   "id": "31a8519c",
   "metadata": {
    "scrolled": true
   },
   "outputs": [
    {
     "name": "stderr",
     "output_type": "stream",
     "text": [
      "/Users/azin/.pyenv/versions/3.8.12/envs/lewagon/lib/python3.8/site-packages/xgboost/sklearn.py:1224: UserWarning: The use of label encoder in XGBClassifier is deprecated and will be removed in a future release. To remove this warning, do the following: 1) Pass option use_label_encoder=False when constructing XGBClassifier object; and 2) Encode your labels (y) as integers starting with 0, i.e. 0, 1, 2, ..., [num_class - 1].\n",
      "  warnings.warn(label_encoder_deprecation_msg, UserWarning)\n"
     ]
    },
    {
     "name": "stdout",
     "output_type": "stream",
     "text": [
      "[21:36:58] WARNING: /Users/runner/work/xgboost/xgboost/src/learner.cc:1115: Starting in XGBoost 1.3.0, the default evaluation metric used with the objective 'binary:logistic' was changed from 'error' to 'logloss'. Explicitly set eval_metric if you'd like to restore the old behavior.\n"
     ]
    },
    {
     "data": {
      "text/plain": [
       "XGBClassifier(base_score=0.5, booster='gbtree', colsample_bylevel=1,\n",
       "              colsample_bynode=1, colsample_bytree=1, enable_categorical=False,\n",
       "              gamma=0, gpu_id=-1, importance_type=None,\n",
       "              interaction_constraints='', learning_rate=0.300000012,\n",
       "              max_delta_step=0, max_depth=6, min_child_weight=1, missing=nan,\n",
       "              monotone_constraints='()', n_estimators=100, n_jobs=8,\n",
       "              num_parallel_tree=1, objective='binary:logistic',\n",
       "              predictor='auto', random_state=0, reg_alpha=0, reg_lambda=1,\n",
       "              scale_pos_weight=1, subsample=1, tree_method='exact',\n",
       "              use_label_encoder=True, validate_parameters=1, verbosity=None)"
      ]
     },
     "execution_count": 31,
     "metadata": {},
     "output_type": "execute_result"
    }
   ],
   "source": [
    "from xgboost import XGBClassifier\n",
    "from sklearn.metrics import accuracy_score\n",
    "xgbc_model = XGBClassifier(tree_method = 'gpu_hist'  # THE MAGICAL PARAMETER THAT INTEGRATES KAGGLE'S GPU ACCELERATED KERNEL\n",
    ")\n",
    "xgbc_model.fit(X_scaled, y)"
   ]
  },
  {
   "cell_type": "markdown",
   "id": "903fa71c",
   "metadata": {},
   "source": [
    "## KNN"
   ]
  },
  {
   "cell_type": "code",
   "execution_count": 35,
   "id": "6325b331",
   "metadata": {},
   "outputs": [],
   "source": [
    "X_train, X_test, y_train, y_test = train_test_split(X_scaled,y,\n",
    "                                                    test_size=0.30)"
   ]
  },
  {
   "cell_type": "code",
   "execution_count": null,
   "id": "61419e91",
   "metadata": {},
   "outputs": [],
   "source": [
    "from sklearn.neighbors import KNeighborsClassifier"
   ]
  },
  {
   "cell_type": "code",
   "execution_count": null,
   "id": "df6dd21b",
   "metadata": {},
   "outputs": [],
   "source": [
    "### To check which number is the best for neighbors !"
   ]
  },
  {
   "cell_type": "code",
   "execution_count": null,
   "id": "65359b63",
   "metadata": {},
   "outputs": [],
   "source": [
    "error_rate = []\n",
    "\n",
    "# Will take some time\n",
    "for i in range(1,40):\n",
    "    \n",
    "    knn = KNeighborsClassifier(n_neighbors=i)\n",
    "    knn.fit(X_train,y_train)\n",
    "    pred_i = knn.predict(X_test)\n",
    "    error_rate.append(np.mean(pred_i != y_test))"
   ]
  },
  {
   "cell_type": "code",
   "execution_count": null,
   "id": "015157f6",
   "metadata": {},
   "outputs": [],
   "source": [
    "plt.figure(figsize=(10,6))\n",
    "plt.plot(range(1,40),error_rate,color='blue', linestyle='dashed', marker='o',\n",
    "         markerfacecolor='red', markersize=10)\n",
    "plt.title('Error Rate vs. K Value')\n",
    "plt.xlabel('K')\n",
    "plt.ylabel('Error Rate')"
   ]
  },
  {
   "cell_type": "markdown",
   "id": "e4a29a2b",
   "metadata": {},
   "source": [
    "# Setting up pipeline"
   ]
  },
  {
   "cell_type": "code",
   "execution_count": null,
   "id": "c6313732",
   "metadata": {},
   "outputs": [],
   "source": [
    "from sklearn.pipeline import Pipeline\n",
    "models = [gbc_model, xgbc_model, knn]\n",
    "\n",
    "def set_pipeline(self):\n",
    "    \"\"\"defines the pipeline as a class attribute\"\"\"\n",
    "    for model in models:\n",
    "        \n",
    "        self.pipeline = Pipeline([\n",
    "            ('preproc', preproc_pipe),\n",
    "            ('f{model}', model)\n",
    "            ])"
   ]
  },
  {
   "cell_type": "markdown",
   "id": "f3611684",
   "metadata": {
    "heading_collapsed": true
   },
   "source": [
    "# Checking the accuracy of the model by evaluating on test dataset"
   ]
  },
  {
   "cell_type": "markdown",
   "id": "42427329",
   "metadata": {
    "hidden": true
   },
   "source": [
    "## Importing test dataset"
   ]
  },
  {
   "cell_type": "markdown",
   "id": "c0e703ae",
   "metadata": {
    "hidden": true
   },
   "source": [
    "## Data cleaning"
   ]
  },
  {
   "cell_type": "markdown",
   "id": "f5e5008b",
   "metadata": {
    "hidden": true
   },
   "source": [
    "## New features"
   ]
  },
  {
   "cell_type": "markdown",
   "id": "c0a689e1",
   "metadata": {
    "hidden": true
   },
   "source": [
    "## Preprocessing"
   ]
  },
  {
   "cell_type": "markdown",
   "id": "3a5a6dfe",
   "metadata": {
    "hidden": true
   },
   "source": [
    "## Defining X_test and y_test"
   ]
  },
  {
   "cell_type": "markdown",
   "id": "1ad1d311",
   "metadata": {
    "hidden": true
   },
   "source": [
    "## Modeling"
   ]
  },
  {
   "cell_type": "markdown",
   "id": "60c5c745",
   "metadata": {
    "hidden": true
   },
   "source": [
    "## Checking the performance metrics"
   ]
  },
  {
   "cell_type": "code",
   "execution_count": null,
   "id": "ca1b3c3a",
   "metadata": {
    "hidden": true
   },
   "outputs": [],
   "source": []
  }
 ],
 "metadata": {
  "kernelspec": {
   "display_name": "Python 3 (ipykernel)",
   "language": "python",
   "name": "python3"
  },
  "language_info": {
   "codemirror_mode": {
    "name": "ipython",
    "version": 3
   },
   "file_extension": ".py",
   "mimetype": "text/x-python",
   "name": "python",
   "nbconvert_exporter": "python",
   "pygments_lexer": "ipython3",
   "version": "3.8.12"
  },
  "toc": {
   "base_numbering": 1,
   "nav_menu": {},
   "number_sections": true,
   "sideBar": true,
   "skip_h1_title": false,
   "title_cell": "Table of Contents",
   "title_sidebar": "Contents",
   "toc_cell": false,
   "toc_position": {},
   "toc_section_display": true,
   "toc_window_display": true
  }
 },
 "nbformat": 4,
 "nbformat_minor": 5
}
