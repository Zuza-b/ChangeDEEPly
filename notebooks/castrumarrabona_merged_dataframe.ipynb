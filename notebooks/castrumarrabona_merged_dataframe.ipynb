{
 "cells": [
  {
   "cell_type": "code",
   "execution_count": 1,
   "metadata": {
    "executionInfo": {
     "elapsed": 519,
     "status": "ok",
     "timestamp": 1646255142247,
     "user": {
      "displayName": "Shilpa Madhuri G",
      "photoUrl": "https://lh3.googleusercontent.com/a-/AOh14Gg12I7ZaKq3iW7eFXO8D9_j_4xhtG6TaDX6HJRv=s64",
      "userId": "10862127389095438079"
     },
     "user_tz": -60
    },
    "id": "ffcZ8MMHJ9QT"
   },
   "outputs": [],
   "source": [
    "# DATA PREPARATING\n",
    "import pandas as pd\n",
    "import numpy as np\n",
    "\n",
    "# VIZUALISATION\n",
    "import seaborn as sns\n",
    "import matplotlib.pyplot as plt\n",
    "\n",
    "# MACHINE LEARNING\n"
   ]
  },
  {
   "cell_type": "code",
   "execution_count": 2,
   "metadata": {
    "id": "xzzm5D3YKQ8Y"
   },
   "outputs": [],
   "source": [
    "#df = pd.read_csv('/content/drive/MyDrive/changeDEEPly/data/train.csv')\n",
    "#df_course = pd.read_csv('/content/drive/MyDrive/changeDEEPly/data/course_info.csv')\n",
    "#df_course.shape\n",
    "#df_user = pd.read_csv('/content/drive/MyDrive/changeDEEPly/data/user_info.csv')\n",
    "#df_user.shape\n",
    "#df = df.drop(['Unnamed: 0','enroll_id','object'],axis =1)\n",
    "#df_merged = df.merge(df_course,on = 'course_id')\n",
    "#df_merged.shape\n",
    "#df_merged = df_merged.drop(['course_id','course_type'],axis = 1)\n",
    "#df_merged.shape\n",
    "#df_merged.shape\n",
    "#df_user = df_user.rename(columns = {'user_id':'username'})\n",
    "#df_final = df_merged.merge(df_user,on = 'username', how= 'left')\n",
    "#df_final.shape"
   ]
  },
  {
   "cell_type": "code",
   "execution_count": 3,
   "metadata": {
    "id": "RPGB6LosXPp0"
   },
   "outputs": [],
   "source": [
    "#saved the dataframe on the drive\n",
    "#df_final.to_csv('/content/drive/MyDrive/changeDEEPly/data/df_final.csv')"
   ]
  },
  {
   "cell_type": "markdown",
   "metadata": {},
   "source": [
    "# Loading the data"
   ]
  },
  {
   "cell_type": "code",
   "execution_count": 4,
   "metadata": {
    "colab": {
     "base_uri": "https://localhost:8080/"
    },
    "executionInfo": {
     "elapsed": 121916,
     "status": "ok",
     "timestamp": 1646255277949,
     "user": {
      "displayName": "Shilpa Madhuri G",
      "photoUrl": "https://lh3.googleusercontent.com/a-/AOh14Gg12I7ZaKq3iW7eFXO8D9_j_4xhtG6TaDX6HJRv=s64",
      "userId": "10862127389095438079"
     },
     "user_tz": -60
    },
    "id": "dad8-AU8awBC",
    "outputId": "a1232ba2-58dd-401c-b3d0-790dca57463a"
   },
   "outputs": [
    {
     "name": "stderr",
     "output_type": "stream",
     "text": [
      "/Users/david/.pyenv/versions/3.8.12/envs/lewagon/lib/python3.8/site-packages/IPython/core/interactiveshell.py:3457: DtypeWarning: Columns (10,11) have mixed types.Specify dtype option on import or set low_memory=False.\n",
      "  exec(code_obj, self.user_global_ns, self.user_ns)\n"
     ]
    }
   ],
   "source": [
    "#load the dataframe from a local direcrory\n",
    "df = pd.read_csv('../raw_data/df_final.csv')"
   ]
  },
  {
   "cell_type": "markdown",
   "metadata": {},
   "source": [
    "# Discovering the data"
   ]
  },
  {
   "cell_type": "markdown",
   "metadata": {},
   "source": [
    "## Feature engineering"
   ]
  },
  {
   "cell_type": "code",
   "execution_count": 5,
   "metadata": {
    "executionInfo": {
     "elapsed": 2550,
     "status": "ok",
     "timestamp": 1646255310163,
     "user": {
      "displayName": "Shilpa Madhuri G",
      "photoUrl": "https://lh3.googleusercontent.com/a-/AOh14Gg12I7ZaKq3iW7eFXO8D9_j_4xhtG6TaDX6HJRv=s64",
      "userId": "10862127389095438079"
     },
     "user_tz": -60
    },
    "id": "LkMFc75MK64L"
   },
   "outputs": [],
   "source": [
    "df = df.drop(['Unnamed: 0'],axis=1)"
   ]
  },
  {
   "cell_type": "code",
   "execution_count": 6,
   "metadata": {
    "executionInfo": {
     "elapsed": 17448,
     "status": "ok",
     "timestamp": 1646255332954,
     "user": {
      "displayName": "Shilpa Madhuri G",
      "photoUrl": "https://lh3.googleusercontent.com/a-/AOh14Gg12I7ZaKq3iW7eFXO8D9_j_4xhtG6TaDX6HJRv=s64",
      "userId": "10862127389095438079"
     },
     "user_tz": -60
    },
    "id": "L71YcXK8dNM1"
   },
   "outputs": [],
   "source": [
    "df = df.dropna()"
   ]
  },
  {
   "cell_type": "code",
   "execution_count": 7,
   "metadata": {
    "colab": {
     "base_uri": "https://localhost:8080/"
    },
    "executionInfo": {
     "elapsed": 438,
     "status": "ok",
     "timestamp": 1646255334989,
     "user": {
      "displayName": "Shilpa Madhuri G",
      "photoUrl": "https://lh3.googleusercontent.com/a-/AOh14Gg12I7ZaKq3iW7eFXO8D9_j_4xhtG6TaDX6HJRv=s64",
      "userId": "10862127389095438079"
     },
     "user_tz": -60
    },
    "id": "jqi3vlWWdq54",
    "outputId": "1a6028f3-2ab2-43db-bb1b-1bba00b21d33"
   },
   "outputs": [
    {
     "data": {
      "text/plain": [
       "(8322174, 12)"
      ]
     },
     "execution_count": 7,
     "metadata": {},
     "output_type": "execute_result"
    }
   ],
   "source": [
    "df.shape"
   ]
  },
  {
   "cell_type": "code",
   "execution_count": 8,
   "metadata": {
    "colab": {
     "base_uri": "https://localhost:8080/"
    },
    "executionInfo": {
     "elapsed": 4650,
     "status": "ok",
     "timestamp": 1646255361357,
     "user": {
      "displayName": "Shilpa Madhuri G",
      "photoUrl": "https://lh3.googleusercontent.com/a-/AOh14Gg12I7ZaKq3iW7eFXO8D9_j_4xhtG6TaDX6HJRv=s64",
      "userId": "10862127389095438079"
     },
     "user_tz": -60
    },
    "id": "OmkHexIWdwXh",
    "outputId": "6e48648b-2f2c-4854-91c1-97aec6545710"
   },
   "outputs": [
    {
     "data": {
      "text/plain": [
       "username      0\n",
       "session_id    0\n",
       "action        0\n",
       "time          0\n",
       "truth         0\n",
       "id            0\n",
       "start         0\n",
       "end           0\n",
       "category      0\n",
       "gender        0\n",
       "education     0\n",
       "birth         0\n",
       "dtype: int64"
      ]
     },
     "execution_count": 8,
     "metadata": {},
     "output_type": "execute_result"
    }
   ],
   "source": [
    "df.isnull().sum()"
   ]
  },
  {
   "cell_type": "code",
   "execution_count": 9,
   "metadata": {},
   "outputs": [
    {
     "data": {
      "text/html": [
       "<div>\n",
       "<style scoped>\n",
       "    .dataframe tbody tr th:only-of-type {\n",
       "        vertical-align: middle;\n",
       "    }\n",
       "\n",
       "    .dataframe tbody tr th {\n",
       "        vertical-align: top;\n",
       "    }\n",
       "\n",
       "    .dataframe thead th {\n",
       "        text-align: right;\n",
       "    }\n",
       "</style>\n",
       "<table border=\"1\" class=\"dataframe\">\n",
       "  <thead>\n",
       "    <tr style=\"text-align: right;\">\n",
       "      <th></th>\n",
       "      <th>username</th>\n",
       "      <th>session_id</th>\n",
       "      <th>action</th>\n",
       "      <th>time</th>\n",
       "      <th>truth</th>\n",
       "      <th>id</th>\n",
       "      <th>start</th>\n",
       "      <th>end</th>\n",
       "      <th>category</th>\n",
       "      <th>gender</th>\n",
       "      <th>education</th>\n",
       "      <th>birth</th>\n",
       "    </tr>\n",
       "  </thead>\n",
       "  <tbody>\n",
       "    <tr>\n",
       "      <th>0</th>\n",
       "      <td>5981</td>\n",
       "      <td>d8a9b787fa69063c34c73b9c29190b1c</td>\n",
       "      <td>click_about</td>\n",
       "      <td>2015-09-27T15:42:59</td>\n",
       "      <td>1</td>\n",
       "      <td>1822</td>\n",
       "      <td>2015-09-25 08:00:00</td>\n",
       "      <td>2016-01-06 08:00:00</td>\n",
       "      <td>art</td>\n",
       "      <td>male</td>\n",
       "      <td>Master's</td>\n",
       "      <td>1989.0</td>\n",
       "    </tr>\n",
       "    <tr>\n",
       "      <th>1</th>\n",
       "      <td>5981</td>\n",
       "      <td>d8a9b787fa69063c34c73b9c29190b1c</td>\n",
       "      <td>click_info</td>\n",
       "      <td>2015-09-27T15:43:12</td>\n",
       "      <td>1</td>\n",
       "      <td>1822</td>\n",
       "      <td>2015-09-25 08:00:00</td>\n",
       "      <td>2016-01-06 08:00:00</td>\n",
       "      <td>art</td>\n",
       "      <td>male</td>\n",
       "      <td>Master's</td>\n",
       "      <td>1989.0</td>\n",
       "    </tr>\n",
       "    <tr>\n",
       "      <th>97</th>\n",
       "      <td>561867</td>\n",
       "      <td>9f5afae301f874248f02423d80a89b28</td>\n",
       "      <td>click_about</td>\n",
       "      <td>2015-10-25T10:50:44</td>\n",
       "      <td>0</td>\n",
       "      <td>1822</td>\n",
       "      <td>2015-09-25 08:00:00</td>\n",
       "      <td>2016-01-06 08:00:00</td>\n",
       "      <td>art</td>\n",
       "      <td>female</td>\n",
       "      <td>Associate</td>\n",
       "      <td>1981.0</td>\n",
       "    </tr>\n",
       "    <tr>\n",
       "      <th>98</th>\n",
       "      <td>561867</td>\n",
       "      <td>9f5afae301f874248f02423d80a89b28</td>\n",
       "      <td>click_courseware</td>\n",
       "      <td>2015-10-25T10:51:09</td>\n",
       "      <td>0</td>\n",
       "      <td>1822</td>\n",
       "      <td>2015-09-25 08:00:00</td>\n",
       "      <td>2016-01-06 08:00:00</td>\n",
       "      <td>art</td>\n",
       "      <td>female</td>\n",
       "      <td>Associate</td>\n",
       "      <td>1981.0</td>\n",
       "    </tr>\n",
       "    <tr>\n",
       "      <th>99</th>\n",
       "      <td>561867</td>\n",
       "      <td>9f5afae301f874248f02423d80a89b28</td>\n",
       "      <td>click_about</td>\n",
       "      <td>2015-10-25T10:50:39</td>\n",
       "      <td>0</td>\n",
       "      <td>1822</td>\n",
       "      <td>2015-09-25 08:00:00</td>\n",
       "      <td>2016-01-06 08:00:00</td>\n",
       "      <td>art</td>\n",
       "      <td>female</td>\n",
       "      <td>Associate</td>\n",
       "      <td>1981.0</td>\n",
       "    </tr>\n",
       "  </tbody>\n",
       "</table>\n",
       "</div>"
      ],
      "text/plain": [
       "    username                        session_id            action  \\\n",
       "0       5981  d8a9b787fa69063c34c73b9c29190b1c       click_about   \n",
       "1       5981  d8a9b787fa69063c34c73b9c29190b1c        click_info   \n",
       "97    561867  9f5afae301f874248f02423d80a89b28       click_about   \n",
       "98    561867  9f5afae301f874248f02423d80a89b28  click_courseware   \n",
       "99    561867  9f5afae301f874248f02423d80a89b28       click_about   \n",
       "\n",
       "                   time  truth    id                start  \\\n",
       "0   2015-09-27T15:42:59      1  1822  2015-09-25 08:00:00   \n",
       "1   2015-09-27T15:43:12      1  1822  2015-09-25 08:00:00   \n",
       "97  2015-10-25T10:50:44      0  1822  2015-09-25 08:00:00   \n",
       "98  2015-10-25T10:51:09      0  1822  2015-09-25 08:00:00   \n",
       "99  2015-10-25T10:50:39      0  1822  2015-09-25 08:00:00   \n",
       "\n",
       "                    end category  gender  education   birth  \n",
       "0   2016-01-06 08:00:00      art    male   Master's  1989.0  \n",
       "1   2016-01-06 08:00:00      art    male   Master's  1989.0  \n",
       "97  2016-01-06 08:00:00      art  female  Associate  1981.0  \n",
       "98  2016-01-06 08:00:00      art  female  Associate  1981.0  \n",
       "99  2016-01-06 08:00:00      art  female  Associate  1981.0  "
      ]
     },
     "execution_count": 9,
     "metadata": {},
     "output_type": "execute_result"
    }
   ],
   "source": [
    "df.head()"
   ]
  },
  {
   "cell_type": "code",
   "execution_count": 10,
   "metadata": {
    "executionInfo": {
     "elapsed": 59197,
     "status": "ok",
     "timestamp": 1646255439870,
     "user": {
      "displayName": "Shilpa Madhuri G",
      "photoUrl": "https://lh3.googleusercontent.com/a-/AOh14Gg12I7ZaKq3iW7eFXO8D9_j_4xhtG6TaDX6HJRv=s64",
      "userId": "10862127389095438079"
     },
     "user_tz": -60
    },
    "id": "miagDQDCdZxK"
   },
   "outputs": [],
   "source": [
    "#df.to_csv('/content/drive/MyDrive/changeDEEPly/data/df_full.csv')"
   ]
  },
  {
   "cell_type": "code",
   "execution_count": 11,
   "metadata": {
    "colab": {
     "base_uri": "https://localhost:8080/"
    },
    "executionInfo": {
     "elapsed": 400,
     "status": "ok",
     "timestamp": 1646255478402,
     "user": {
      "displayName": "Shilpa Madhuri G",
      "photoUrl": "https://lh3.googleusercontent.com/a-/AOh14Gg12I7ZaKq3iW7eFXO8D9_j_4xhtG6TaDX6HJRv=s64",
      "userId": "10862127389095438079"
     },
     "user_tz": -60
    },
    "id": "AYI7txvCbuw5",
    "outputId": "0170ef52-51c7-4a96-920c-0fcba3e5dc83"
   },
   "outputs": [
    {
     "data": {
      "text/plain": [
       "(8322174, 12)"
      ]
     },
     "execution_count": 11,
     "metadata": {},
     "output_type": "execute_result"
    }
   ],
   "source": [
    "df.shape"
   ]
  },
  {
   "cell_type": "code",
   "execution_count": 12,
   "metadata": {
    "colab": {
     "base_uri": "https://localhost:8080/"
    },
    "executionInfo": {
     "elapsed": 8644,
     "status": "ok",
     "timestamp": 1646255509903,
     "user": {
      "displayName": "Shilpa Madhuri G",
      "photoUrl": "https://lh3.googleusercontent.com/a-/AOh14Gg12I7ZaKq3iW7eFXO8D9_j_4xhtG6TaDX6HJRv=s64",
      "userId": "10862127389095438079"
     },
     "user_tz": -60
    },
    "id": "I6sQXu3wN28-",
    "outputId": "e6994703-7628-4df3-84d0-abfeece8b902"
   },
   "outputs": [
    {
     "data": {
      "text/plain": [
       "username        14297\n",
       "session_id      81687\n",
       "action             22\n",
       "time          5453013\n",
       "truth               2\n",
       "id                245\n",
       "start             140\n",
       "end               175\n",
       "category           17\n",
       "gender              2\n",
       "education           7\n",
       "birth              79\n",
       "dtype: int64"
      ]
     },
     "execution_count": 12,
     "metadata": {},
     "output_type": "execute_result"
    }
   ],
   "source": [
    "#find unique values\n",
    "df.nunique()"
   ]
  },
  {
   "cell_type": "code",
   "execution_count": 13,
   "metadata": {
    "colab": {
     "base_uri": "https://localhost:8080/"
    },
    "executionInfo": {
     "elapsed": 1474,
     "status": "ok",
     "timestamp": 1646236292736,
     "user": {
      "displayName": "Shilpa Madhuri G",
      "photoUrl": "https://lh3.googleusercontent.com/a-/AOh14Gg12I7ZaKq3iW7eFXO8D9_j_4xhtG6TaDX6HJRv=s64",
      "userId": "10862127389095438079"
     },
     "user_tz": -60
    },
    "id": "ySwP3okSPTd4",
    "outputId": "c8fa410e-99f9-4e14-9ee2-a9251f07461b"
   },
   "outputs": [
    {
     "data": {
      "text/plain": [
       "array([\"Master's\", 'Associate', 'High', \"Bachelor's\", 'Middle',\n",
       "       'Doctorate', 'Primary'], dtype=object)"
      ]
     },
     "execution_count": 13,
     "metadata": {},
     "output_type": "execute_result"
    }
   ],
   "source": [
    "#explore different values of birth and education\n",
    "df.education.unique()"
   ]
  },
  {
   "cell_type": "code",
   "execution_count": 14,
   "metadata": {
    "colab": {
     "base_uri": "https://localhost:8080/"
    },
    "executionInfo": {
     "elapsed": 18,
     "status": "ok",
     "timestamp": 1646236292739,
     "user": {
      "displayName": "Shilpa Madhuri G",
      "photoUrl": "https://lh3.googleusercontent.com/a-/AOh14Gg12I7ZaKq3iW7eFXO8D9_j_4xhtG6TaDX6HJRv=s64",
      "userId": "10862127389095438079"
     },
     "user_tz": -60
    },
    "id": "nY5_cfeBP22j",
    "outputId": "a07ac1ff-c109-4ad1-a795-df42c3cc5ec5"
   },
   "outputs": [
    {
     "data": {
      "text/plain": [
       "array([1989., 1981., 1992., 1983., 1994., 1993., 1972., 1995., 1991.,\n",
       "       1988., 1986., 1990., 1996., 1966., 1984., 1975., 1985., 1977.,\n",
       "       1987., 1982., 1998., 1973., 1976., 1978., 1997., 1980., 1979.,\n",
       "       1971., 2000., 1968., 1965., 1897., 1974., 2013., 1964., 1969.,\n",
       "       1950., 2001., 1948., 1999., 1957., 1963., 1960., 2005., 1956.,\n",
       "       1944., 1958., 1961., 1970., 1967., 1955., 1898., 1962., 2016.,\n",
       "       2014., 1959., 2002., 2012., 2015., 1952., 1954., 2004., 2007.,\n",
       "       2017., 1896., 1946., 2010., 2003., 1953., 1935., 1938., 1945.,\n",
       "       2011., 1939., 2006., 2018., 1899., 2009., 1895.])"
      ]
     },
     "execution_count": 14,
     "metadata": {},
     "output_type": "execute_result"
    }
   ],
   "source": [
    "#plot the users based on year of birth\n",
    "df.birth.unique()"
   ]
  },
  {
   "cell_type": "code",
   "execution_count": 15,
   "metadata": {},
   "outputs": [
    {
     "data": {
      "text/plain": [
       "1895.0"
      ]
     },
     "execution_count": 15,
     "metadata": {},
     "output_type": "execute_result"
    }
   ],
   "source": [
    "df.birth.min()"
   ]
  },
  {
   "cell_type": "code",
   "execution_count": 16,
   "metadata": {},
   "outputs": [
    {
     "data": {
      "text/plain": [
       "2018.0"
      ]
     },
     "execution_count": 16,
     "metadata": {},
     "output_type": "execute_result"
    }
   ],
   "source": [
    "df.birth.max()"
   ]
  },
  {
   "cell_type": "code",
   "execution_count": 17,
   "metadata": {
    "colab": {
     "base_uri": "https://localhost:8080/",
     "height": 308
    },
    "executionInfo": {
     "elapsed": 10447,
     "status": "ok",
     "timestamp": 1646236303175,
     "user": {
      "displayName": "Shilpa Madhuri G",
      "photoUrl": "https://lh3.googleusercontent.com/a-/AOh14Gg12I7ZaKq3iW7eFXO8D9_j_4xhtG6TaDX6HJRv=s64",
      "userId": "10862127389095438079"
     },
     "user_tz": -60
    },
    "id": "7rlPWpZNRNDS",
    "outputId": "a9a64af7-076c-494e-94a5-714f5d497833"
   },
   "outputs": [
    {
     "data": {
      "text/plain": [
       "<AxesSubplot:xlabel='birth', ylabel='Count'>"
      ]
     },
     "execution_count": 17,
     "metadata": {},
     "output_type": "execute_result"
    },
    {
     "data": {
      "image/png": "[encoded data removed]",
      "text/plain": [
       "<Figure size 432x288 with 1 Axes>"
      ]
     },
     "metadata": {
      "needs_background": "light"
     },
     "output_type": "display_data"
    }
   ],
   "source": [
    "fig, ax = plt.subplots()\n",
    "ax.set_xlim(1895.,2020.)\n",
    "sns.histplot(df.birth.dropna(),ax=ax)"
   ]
  },
  {
   "cell_type": "code",
   "execution_count": 18,
   "metadata": {
    "colab": {
     "base_uri": "https://localhost:8080/",
     "height": 308
    },
    "executionInfo": {
     "elapsed": 17521,
     "status": "ok",
     "timestamp": 1646255610256,
     "user": {
      "displayName": "Shilpa Madhuri G",
      "photoUrl": "https://lh3.googleusercontent.com/a-/AOh14Gg12I7ZaKq3iW7eFXO8D9_j_4xhtG6TaDX6HJRv=s64",
      "userId": "10862127389095438079"
     },
     "user_tz": -60
    },
    "id": "7SmwUcSHRaig",
    "outputId": "4aafadeb-726a-487c-9a9d-046f20b6a440"
   },
   "outputs": [
    {
     "data": {
      "text/plain": [
       "<AxesSubplot:xlabel='education', ylabel='Count'>"
      ]
     },
     "execution_count": 18,
     "metadata": {},
     "output_type": "execute_result"
    },
    {
     "data": {
      "image/png": "[encoded data removed]",
      "text/plain": [
       "<Figure size 432x288 with 1 Axes>"
      ]
     },
     "metadata": {
      "needs_background": "light"
     },
     "output_type": "display_data"
    }
   ],
   "source": [
    "#plot education\n",
    "sns.histplot(df.education.dropna())"
   ]
  },
  {
   "cell_type": "code",
   "execution_count": 19,
   "metadata": {
    "colab": {
     "base_uri": "https://localhost:8080/",
     "height": 383
    },
    "executionInfo": {
     "elapsed": 11775,
     "status": "ok",
     "timestamp": 1646255810375,
     "user": {
      "displayName": "Shilpa Madhuri G",
      "photoUrl": "https://lh3.googleusercontent.com/a-/AOh14Gg12I7ZaKq3iW7eFXO8D9_j_4xhtG6TaDX6HJRv=s64",
      "userId": "10862127389095438079"
     },
     "user_tz": -60
    },
    "id": "jXutlGQ6SzDH",
    "outputId": "7ae38790-d9e1-47fa-db2b-1201cd3b206f"
   },
   "outputs": [
    {
     "data": {
      "text/plain": [
       "<AxesSubplot:xlabel='category', ylabel='Count'>"
      ]
     },
     "execution_count": 19,
     "metadata": {},
     "output_type": "execute_result"
    },
    {
     "data": {
      "image/png": "[encoded data removed]",
      "text/plain": [
       "<Figure size 432x288 with 1 Axes>"
      ]
     },
     "metadata": {
      "needs_background": "light"
     },
     "output_type": "display_data"
    }
   ],
   "source": [
    "#plot category available\n",
    "plt.xticks(rotation = 90)\n",
    "sns.histplot(df.category)"
   ]
  },
  {
   "cell_type": "code",
   "execution_count": 20,
   "metadata": {
    "executionInfo": {
     "elapsed": 900,
     "status": "ok",
     "timestamp": 1646255959663,
     "user": {
      "displayName": "Shilpa Madhuri G",
      "photoUrl": "https://lh3.googleusercontent.com/a-/AOh14Gg12I7ZaKq3iW7eFXO8D9_j_4xhtG6TaDX6HJRv=s64",
      "userId": "10862127389095438079"
     },
     "user_tz": -60
    },
    "id": "MpQwPr0cacde"
   },
   "outputs": [],
   "source": [
    "# find the completed courses as per the category\n",
    "t = df[df['truth'] == 0]"
   ]
  },
  {
   "cell_type": "code",
   "execution_count": 21,
   "metadata": {
    "executionInfo": {
     "elapsed": 992,
     "status": "ok",
     "timestamp": 1646256275667,
     "user": {
      "displayName": "Shilpa Madhuri G",
      "photoUrl": "https://lh3.googleusercontent.com/a-/AOh14Gg12I7ZaKq3iW7eFXO8D9_j_4xhtG6TaDX6HJRv=s64",
      "userId": "10862127389095438079"
     },
     "user_tz": -60
    },
    "id": "1B03VMBVhKsO"
   },
   "outputs": [],
   "source": [
    "# find the dropout courses as per the category\n",
    "t_1 = df[df['truth'] == 1]"
   ]
  },
  {
   "cell_type": "code",
   "execution_count": 22,
   "metadata": {
    "colab": {
     "base_uri": "https://localhost:8080/",
     "height": 372
    },
    "executionInfo": {
     "elapsed": 9224,
     "status": "ok",
     "timestamp": 1646255993271,
     "user": {
      "displayName": "Shilpa Madhuri G",
      "photoUrl": "https://lh3.googleusercontent.com/a-/AOh14Gg12I7ZaKq3iW7eFXO8D9_j_4xhtG6TaDX6HJRv=s64",
      "userId": "10862127389095438079"
     },
     "user_tz": -60
    },
    "id": "dblizS0rgHDn",
    "outputId": "75e7bd55-6598-45dc-ab8c-27e8caaffbe0",
    "scrolled": true
   },
   "outputs": [
    {
     "data": {
      "text/plain": [
       "<AxesSubplot:xlabel='category', ylabel='Count'>"
      ]
     },
     "execution_count": 22,
     "metadata": {},
     "output_type": "execute_result"
    },
    {
     "data": {
      "image/png": "[encoded data removed]",
      "text/plain": [
       "<Figure size 432x288 with 1 Axes>"
      ]
     },
     "metadata": {
      "needs_background": "light"
     },
     "output_type": "display_data"
    }
   ],
   "source": [
    "#plot category available for all completed courses\n",
    "plt.xticks(rotation = 90)\n",
    "sns.histplot(t.category)"
   ]
  },
  {
   "cell_type": "code",
   "execution_count": 23,
   "metadata": {},
   "outputs": [
    {
     "data": {
      "text/plain": [
       "<AxesSubplot:xlabel='category', ylabel='Count'>"
      ]
     },
     "execution_count": 23,
     "metadata": {},
     "output_type": "execute_result"
    },
    {
     "data": {
      "image/png": "[encoded data removed]",
      "text/plain": [
       "<Figure size 432x288 with 1 Axes>"
      ]
     },
     "metadata": {
      "needs_background": "light"
     },
     "output_type": "display_data"
    }
   ],
   "source": [
    "#plot category available for all dropped out courses\n",
    "plt.xticks(rotation = 90)\n",
    "sns.histplot(t_1.category)"
   ]
  },
  {
   "cell_type": "code",
   "execution_count": 24,
   "metadata": {
    "colab": {
     "base_uri": "https://localhost:8080/",
     "height": 308
    },
    "executionInfo": {
     "elapsed": 11523,
     "status": "ok",
     "timestamp": 1646255667920,
     "user": {
      "displayName": "Shilpa Madhuri G",
      "photoUrl": "https://lh3.googleusercontent.com/a-/AOh14Gg12I7ZaKq3iW7eFXO8D9_j_4xhtG6TaDX6HJRv=s64",
      "userId": "10862127389095438079"
     },
     "user_tz": -60
    },
    "id": "yipoAndNTy2k",
    "outputId": "6e7b319f-3006-4891-b5e3-bf192cda1cb8"
   },
   "outputs": [
    {
     "data": {
      "text/plain": [
       "<AxesSubplot:xlabel='gender', ylabel='Count'>"
      ]
     },
     "execution_count": 24,
     "metadata": {},
     "output_type": "execute_result"
    },
    {
     "data": {
      "image/png": "[encoded data removed]",
      "text/plain": [
       "<Figure size 432x288 with 1 Axes>"
      ]
     },
     "metadata": {
      "needs_background": "light"
     },
     "output_type": "display_data"
    }
   ],
   "source": [
    "#plot gender who enrolled into course\n",
    "sns.histplot(df.gender)"
   ]
  },
  {
   "cell_type": "code",
   "execution_count": 25,
   "metadata": {
    "colab": {
     "base_uri": "https://localhost:8080/"
    },
    "executionInfo": {
     "elapsed": 394,
     "status": "ok",
     "timestamp": 1646256160552,
     "user": {
      "displayName": "Shilpa Madhuri G",
      "photoUrl": "https://lh3.googleusercontent.com/a-/AOh14Gg12I7ZaKq3iW7eFXO8D9_j_4xhtG6TaDX6HJRv=s64",
      "userId": "10862127389095438079"
     },
     "user_tz": -60
    },
    "id": "Y0P5uhFuciqi",
    "outputId": "146801d7-b10e-4bae-e121-5249ce707f65"
   },
   "outputs": [
    {
     "data": {
      "text/plain": [
       "0.6204824604724679"
      ]
     },
     "execution_count": 25,
     "metadata": {},
     "output_type": "execute_result"
    }
   ],
   "source": [
    "# percentage of completion wrt number of users enrolled for all courses\n",
    "p_Completion_courses = len(t)/len(df)\n",
    "p_Completion_courses\n"
   ]
  },
  {
   "cell_type": "code",
   "execution_count": 26,
   "metadata": {
    "colab": {
     "base_uri": "https://localhost:8080/"
    },
    "executionInfo": {
     "elapsed": 373,
     "status": "ok",
     "timestamp": 1646256446048,
     "user": {
      "displayName": "Shilpa Madhuri G",
      "photoUrl": "https://lh3.googleusercontent.com/a-/AOh14Gg12I7ZaKq3iW7eFXO8D9_j_4xhtG6TaDX6HJRv=s64",
      "userId": "10862127389095438079"
     },
     "user_tz": -60
    },
    "id": "OqF4acLmhy3B",
    "outputId": "112ba81e-c319-4200-f63d-b87706ceb2da"
   },
   "outputs": [
    {
     "data": {
      "text/plain": [
       "0.3795175395275321"
      ]
     },
     "execution_count": 26,
     "metadata": {},
     "output_type": "execute_result"
    }
   ],
   "source": [
    "# percentage of drouputs wrt number of users enrolled for all courses\n",
    "p_dropout_courses = len(t_1)/len(df)\n",
    "p_dropout_courses\n"
   ]
  },
  {
   "cell_type": "code",
   "execution_count": 27,
   "metadata": {
    "colab": {
     "base_uri": "https://localhost:8080/",
     "height": 373
    },
    "executionInfo": {
     "elapsed": 6653,
     "status": "ok",
     "timestamp": 1646256333547,
     "user": {
      "displayName": "Shilpa Madhuri G",
      "photoUrl": "https://lh3.googleusercontent.com/a-/AOh14Gg12I7ZaKq3iW7eFXO8D9_j_4xhtG6TaDX6HJRv=s64",
      "userId": "10862127389095438079"
     },
     "user_tz": -60
    },
    "id": "lGcR0ewfdVwZ",
    "outputId": "3b6e88fc-df62-49de-9764-8de09c600cb8"
   },
   "outputs": [
    {
     "data": {
      "text/plain": [
       "<AxesSubplot:xlabel='category', ylabel='Count'>"
      ]
     },
     "execution_count": 27,
     "metadata": {},
     "output_type": "execute_result"
    },
    {
     "data": {
      "image/png": "[encoded data removed]",
      "text/plain": [
       "<Figure size 432x288 with 1 Axes>"
      ]
     },
     "metadata": {
      "needs_background": "light"
     },
     "output_type": "display_data"
    }
   ],
   "source": [
    "#plot category where there were dropouts\n",
    "plt.xticks(rotation = 90)\n",
    "sns.histplot(t_1.category)"
   ]
  },
  {
   "cell_type": "code",
   "execution_count": 28,
   "metadata": {
    "colab": {
     "base_uri": "https://localhost:8080/"
    },
    "executionInfo": {
     "elapsed": 9,
     "status": "ok",
     "timestamp": 1646257088645,
     "user": {
      "displayName": "Shilpa Madhuri G",
      "photoUrl": "https://lh3.googleusercontent.com/a-/AOh14Gg12I7ZaKq3iW7eFXO8D9_j_4xhtG6TaDX6HJRv=s64",
      "userId": "10862127389095438079"
     },
     "user_tz": -60
    },
    "id": "Acwyzqj8hgSi",
    "outputId": "c041ed42-9330-475d-f752-ad487d847e63"
   },
   "outputs": [
    {
     "data": {
      "text/plain": [
       "username        int64\n",
       "session_id     object\n",
       "action         object\n",
       "time           object\n",
       "truth           int64\n",
       "id              int64\n",
       "start          object\n",
       "end            object\n",
       "category       object\n",
       "gender         object\n",
       "education      object\n",
       "birth         float64\n",
       "dtype: object"
      ]
     },
     "execution_count": 28,
     "metadata": {},
     "output_type": "execute_result"
    }
   ],
   "source": [
    "df.dtypes"
   ]
  },
  {
   "cell_type": "code",
   "execution_count": 29,
   "metadata": {
    "executionInfo": {
     "elapsed": 420,
     "status": "ok",
     "timestamp": 1646257124577,
     "user": {
      "displayName": "Shilpa Madhuri G",
      "photoUrl": "https://lh3.googleusercontent.com/a-/AOh14Gg12I7ZaKq3iW7eFXO8D9_j_4xhtG6TaDX6HJRv=s64",
      "userId": "10862127389095438079"
     },
     "user_tz": -60
    },
    "id": "YeXhKOnWkY0d"
   },
   "outputs": [],
   "source": [
    "df['Datetime'] = pd.to_datetime(df['time'])"
   ]
  },
  {
   "cell_type": "code",
   "execution_count": 30,
   "metadata": {
    "executionInfo": {
     "elapsed": 1949,
     "status": "ok",
     "timestamp": 1646257152254,
     "user": {
      "displayName": "Shilpa Madhuri G",
      "photoUrl": "https://lh3.googleusercontent.com/a-/AOh14Gg12I7ZaKq3iW7eFXO8D9_j_4xhtG6TaDX6HJRv=s64",
      "userId": "10862127389095438079"
     },
     "user_tz": -60
    },
    "id": "FpB3UHrukevk"
   },
   "outputs": [],
   "source": [
    "df = df.drop(['time'], axis = 1)"
   ]
  },
  {
   "cell_type": "code",
   "execution_count": 31,
   "metadata": {
    "executionInfo": {
     "elapsed": 484,
     "status": "ok",
     "timestamp": 1646257197373,
     "user": {
      "displayName": "Shilpa Madhuri G",
      "photoUrl": "https://lh3.googleusercontent.com/a-/AOh14Gg12I7ZaKq3iW7eFXO8D9_j_4xhtG6TaDX6HJRv=s64",
      "userId": "10862127389095438079"
     },
     "user_tz": -60
    },
    "id": "JwMkJwVzkpR5"
   },
   "outputs": [],
   "source": [
    "## try to convert datetime to timestamp \n",
    "df['timestamp'] = df.Datetime.values.astype(np.int64) // 10 ** 9"
   ]
  },
  {
   "cell_type": "code",
   "execution_count": 32,
   "metadata": {
    "executionInfo": {
     "elapsed": 1508,
     "status": "ok",
     "timestamp": 1646257237082,
     "user": {
      "displayName": "Shilpa Madhuri G",
      "photoUrl": "https://lh3.googleusercontent.com/a-/AOh14Gg12I7ZaKq3iW7eFXO8D9_j_4xhtG6TaDX6HJRv=s64",
      "userId": "10862127389095438079"
     },
     "user_tz": -60
    },
    "id": "uUKJBWwGk6go"
   },
   "outputs": [],
   "source": [
    "df = df.drop(['Datetime'], axis = 1)"
   ]
  },
  {
   "cell_type": "code",
   "execution_count": 33,
   "metadata": {
    "executionInfo": {
     "elapsed": 3542,
     "status": "ok",
     "timestamp": 1646257290418,
     "user": {
      "displayName": "Shilpa Madhuri G",
      "photoUrl": "https://lh3.googleusercontent.com/a-/AOh14Gg12I7ZaKq3iW7eFXO8D9_j_4xhtG6TaDX6HJRv=s64",
      "userId": "10862127389095438079"
     },
     "user_tz": -60
    },
    "id": "hnXTbJLclHcN"
   },
   "outputs": [],
   "source": [
    "df = df.sort_values(['username','timestamp'])"
   ]
  },
  {
   "cell_type": "code",
   "execution_count": 34,
   "metadata": {
    "colab": {
     "base_uri": "https://localhost:8080/",
     "height": 250
    },
    "executionInfo": {
     "elapsed": 11691,
     "status": "ok",
     "timestamp": 1646257402110,
     "user": {
      "displayName": "Shilpa Madhuri G",
      "photoUrl": "https://lh3.googleusercontent.com/a-/AOh14Gg12I7ZaKq3iW7eFXO8D9_j_4xhtG6TaDX6HJRv=s64",
      "userId": "10862127389095438079"
     },
     "user_tz": -60
    },
    "id": "O56-l-V2lKy3",
    "outputId": "60f5d50e-5433-48e0-abfe-5e7f2d585ca3"
   },
   "outputs": [
    {
     "data": {
      "text/html": [
       "<div>\n",
       "<style scoped>\n",
       "    .dataframe tbody tr th:only-of-type {\n",
       "        vertical-align: middle;\n",
       "    }\n",
       "\n",
       "    .dataframe tbody tr th {\n",
       "        vertical-align: top;\n",
       "    }\n",
       "\n",
       "    .dataframe thead th {\n",
       "        text-align: right;\n",
       "    }\n",
       "</style>\n",
       "<table border=\"1\" class=\"dataframe\">\n",
       "  <thead>\n",
       "    <tr style=\"text-align: right;\">\n",
       "      <th></th>\n",
       "      <th>username</th>\n",
       "      <th>session_id</th>\n",
       "      <th>action</th>\n",
       "      <th>truth</th>\n",
       "      <th>id</th>\n",
       "      <th>start</th>\n",
       "      <th>end</th>\n",
       "      <th>category</th>\n",
       "      <th>gender</th>\n",
       "      <th>education</th>\n",
       "      <th>birth</th>\n",
       "      <th>timestamp</th>\n",
       "      <th>timediff</th>\n",
       "    </tr>\n",
       "  </thead>\n",
       "  <tbody>\n",
       "    <tr>\n",
       "      <th>865516</th>\n",
       "      <td>5</td>\n",
       "      <td>6ff66b03510e0dc515ea4637216f1ad3</td>\n",
       "      <td>load_video</td>\n",
       "      <td>1</td>\n",
       "      <td>802</td>\n",
       "      <td>2015-09-29 08:00:00</td>\n",
       "      <td>2016-01-15 23:30:00</td>\n",
       "      <td>computer</td>\n",
       "      <td>male</td>\n",
       "      <td>Doctorate</td>\n",
       "      <td>1985.0</td>\n",
       "      <td>1443613884</td>\n",
       "      <td>0.0</td>\n",
       "    </tr>\n",
       "    <tr>\n",
       "      <th>865517</th>\n",
       "      <td>5</td>\n",
       "      <td>6ff66b03510e0dc515ea4637216f1ad3</td>\n",
       "      <td>load_video</td>\n",
       "      <td>1</td>\n",
       "      <td>802</td>\n",
       "      <td>2015-09-29 08:00:00</td>\n",
       "      <td>2016-01-15 23:30:00</td>\n",
       "      <td>computer</td>\n",
       "      <td>male</td>\n",
       "      <td>Doctorate</td>\n",
       "      <td>1985.0</td>\n",
       "      <td>1443613889</td>\n",
       "      <td>5.0</td>\n",
       "    </tr>\n",
       "    <tr>\n",
       "      <th>865520</th>\n",
       "      <td>5</td>\n",
       "      <td>6ff66b03510e0dc515ea4637216f1ad3</td>\n",
       "      <td>close_courseware</td>\n",
       "      <td>1</td>\n",
       "      <td>802</td>\n",
       "      <td>2015-09-29 08:00:00</td>\n",
       "      <td>2016-01-15 23:30:00</td>\n",
       "      <td>computer</td>\n",
       "      <td>male</td>\n",
       "      <td>Doctorate</td>\n",
       "      <td>1985.0</td>\n",
       "      <td>1443613995</td>\n",
       "      <td>106.0</td>\n",
       "    </tr>\n",
       "    <tr>\n",
       "      <th>865529</th>\n",
       "      <td>5</td>\n",
       "      <td>6ff66b03510e0dc515ea4637216f1ad3</td>\n",
       "      <td>load_video</td>\n",
       "      <td>1</td>\n",
       "      <td>802</td>\n",
       "      <td>2015-09-29 08:00:00</td>\n",
       "      <td>2016-01-15 23:30:00</td>\n",
       "      <td>computer</td>\n",
       "      <td>male</td>\n",
       "      <td>Doctorate</td>\n",
       "      <td>1985.0</td>\n",
       "      <td>1443613999</td>\n",
       "      <td>4.0</td>\n",
       "    </tr>\n",
       "    <tr>\n",
       "      <th>865535</th>\n",
       "      <td>5</td>\n",
       "      <td>6ff66b03510e0dc515ea4637216f1ad3</td>\n",
       "      <td>play_video</td>\n",
       "      <td>1</td>\n",
       "      <td>802</td>\n",
       "      <td>2015-09-29 08:00:00</td>\n",
       "      <td>2016-01-15 23:30:00</td>\n",
       "      <td>computer</td>\n",
       "      <td>male</td>\n",
       "      <td>Doctorate</td>\n",
       "      <td>1985.0</td>\n",
       "      <td>1443614005</td>\n",
       "      <td>6.0</td>\n",
       "    </tr>\n",
       "  </tbody>\n",
       "</table>\n",
       "</div>"
      ],
      "text/plain": [
       "        username                        session_id            action  truth  \\\n",
       "865516         5  6ff66b03510e0dc515ea4637216f1ad3        load_video      1   \n",
       "865517         5  6ff66b03510e0dc515ea4637216f1ad3        load_video      1   \n",
       "865520         5  6ff66b03510e0dc515ea4637216f1ad3  close_courseware      1   \n",
       "865529         5  6ff66b03510e0dc515ea4637216f1ad3        load_video      1   \n",
       "865535         5  6ff66b03510e0dc515ea4637216f1ad3        play_video      1   \n",
       "\n",
       "         id                start                  end  category gender  \\\n",
       "865516  802  2015-09-29 08:00:00  2016-01-15 23:30:00  computer   male   \n",
       "865517  802  2015-09-29 08:00:00  2016-01-15 23:30:00  computer   male   \n",
       "865520  802  2015-09-29 08:00:00  2016-01-15 23:30:00  computer   male   \n",
       "865529  802  2015-09-29 08:00:00  2016-01-15 23:30:00  computer   male   \n",
       "865535  802  2015-09-29 08:00:00  2016-01-15 23:30:00  computer   male   \n",
       "\n",
       "        education   birth   timestamp  timediff  \n",
       "865516  Doctorate  1985.0  1443613884       0.0  \n",
       "865517  Doctorate  1985.0  1443613889       5.0  \n",
       "865520  Doctorate  1985.0  1443613995     106.0  \n",
       "865529  Doctorate  1985.0  1443613999       4.0  \n",
       "865535  Doctorate  1985.0  1443614005       6.0  "
      ]
     },
     "execution_count": 34,
     "metadata": {},
     "output_type": "execute_result"
    }
   ],
   "source": [
    "df['timediff'] = pd.DataFrame(df.groupby('username').timestamp.diff().fillna(0))\n",
    "df.head()"
   ]
  },
  {
   "cell_type": "code",
   "execution_count": 35,
   "metadata": {
    "colab": {
     "base_uri": "https://localhost:8080/"
    },
    "executionInfo": {
     "elapsed": 369,
     "status": "ok",
     "timestamp": 1646258501343,
     "user": {
      "displayName": "Shilpa Madhuri G",
      "photoUrl": "https://lh3.googleusercontent.com/a-/AOh14Gg12I7ZaKq3iW7eFXO8D9_j_4xhtG6TaDX6HJRv=s64",
      "userId": "10862127389095438079"
     },
     "user_tz": -60
    },
    "id": "bDPr1Bt9pxoX",
    "outputId": "41a995fa-7b73-4fe9-ebff-bfe739962b28"
   },
   "outputs": [
    {
     "data": {
      "text/plain": [
       "username        14297\n",
       "session_id      81687\n",
       "action             22\n",
       "truth               2\n",
       "id                245\n",
       "start             140\n",
       "end               175\n",
       "category           17\n",
       "gender              2\n",
       "education           7\n",
       "birth              79\n",
       "timestamp     5453013\n",
       "timediff       115424\n",
       "dtype: int64"
      ]
     },
     "execution_count": 35,
     "metadata": {},
     "output_type": "execute_result"
    }
   ],
   "source": [
    "df.nunique()"
   ]
  },
  {
   "cell_type": "code",
   "execution_count": 36,
   "metadata": {
    "colab": {
     "base_uri": "https://localhost:8080/",
     "height": 454
    },
    "executionInfo": {
     "elapsed": 499,
     "status": "error",
     "timestamp": 1646258330218,
     "user": {
      "displayName": "Shilpa Madhuri G",
      "photoUrl": "https://lh3.googleusercontent.com/a-/AOh14Gg12I7ZaKq3iW7eFXO8D9_j_4xhtG6TaDX6HJRv=s64",
      "userId": "10862127389095438079"
     },
     "user_tz": -60
    },
    "id": "8F1wyLE1lz_A",
    "outputId": "b3a55d98-8fe7-4da6-c824-17d5ec695b50"
   },
   "outputs": [],
   "source": [
    "# to see how much time each user spent including all action they did \n",
    "time_df = pd.DataFrame(df.groupby('username').sum()['timediff']).sort_values(by=['timediff'],ascending=False)"
   ]
  },
  {
   "cell_type": "code",
   "execution_count": 37,
   "metadata": {
    "colab": {
     "base_uri": "https://localhost:8080/",
     "height": 454
    },
    "executionInfo": {
     "elapsed": 408,
     "status": "ok",
     "timestamp": 1646257718235,
     "user": {
      "displayName": "Shilpa Madhuri G",
      "photoUrl": "https://lh3.googleusercontent.com/a-/AOh14Gg12I7ZaKq3iW7eFXO8D9_j_4xhtG6TaDX6HJRv=s64",
      "userId": "10862127389095438079"
     },
     "user_tz": -60
    },
    "id": "HPYbp3VGmRae",
    "outputId": "4d90ad13-f329-4243-c41e-79f7bdd8f959"
   },
   "outputs": [
    {
     "data": {
      "text/html": [
       "<div>\n",
       "<style scoped>\n",
       "    .dataframe tbody tr th:only-of-type {\n",
       "        vertical-align: middle;\n",
       "    }\n",
       "\n",
       "    .dataframe tbody tr th {\n",
       "        vertical-align: top;\n",
       "    }\n",
       "\n",
       "    .dataframe thead th {\n",
       "        text-align: right;\n",
       "    }\n",
       "</style>\n",
       "<table border=\"1\" class=\"dataframe\">\n",
       "  <thead>\n",
       "    <tr style=\"text-align: right;\">\n",
       "      <th></th>\n",
       "      <th>timediff</th>\n",
       "    </tr>\n",
       "    <tr>\n",
       "      <th>username</th>\n",
       "      <th></th>\n",
       "    </tr>\n",
       "  </thead>\n",
       "  <tbody>\n",
       "    <tr>\n",
       "      <th>321214</th>\n",
       "      <td>62908012.0</td>\n",
       "    </tr>\n",
       "    <tr>\n",
       "      <th>20531</th>\n",
       "      <td>62576499.0</td>\n",
       "    </tr>\n",
       "    <tr>\n",
       "      <th>328771</th>\n",
       "      <td>62508383.0</td>\n",
       "    </tr>\n",
       "    <tr>\n",
       "      <th>12466</th>\n",
       "      <td>61495321.0</td>\n",
       "    </tr>\n",
       "    <tr>\n",
       "      <th>45200</th>\n",
       "      <td>61460239.0</td>\n",
       "    </tr>\n",
       "    <tr>\n",
       "      <th>...</th>\n",
       "      <td>...</td>\n",
       "    </tr>\n",
       "    <tr>\n",
       "      <th>364109</th>\n",
       "      <td>0.0</td>\n",
       "    </tr>\n",
       "    <tr>\n",
       "      <th>95108</th>\n",
       "      <td>0.0</td>\n",
       "    </tr>\n",
       "    <tr>\n",
       "      <th>66654</th>\n",
       "      <td>0.0</td>\n",
       "    </tr>\n",
       "    <tr>\n",
       "      <th>2313190</th>\n",
       "      <td>0.0</td>\n",
       "    </tr>\n",
       "    <tr>\n",
       "      <th>430416</th>\n",
       "      <td>0.0</td>\n",
       "    </tr>\n",
       "  </tbody>\n",
       "</table>\n",
       "<p>14297 rows × 1 columns</p>\n",
       "</div>"
      ],
      "text/plain": [
       "            timediff\n",
       "username            \n",
       "321214    62908012.0\n",
       "20531     62576499.0\n",
       "328771    62508383.0\n",
       "12466     61495321.0\n",
       "45200     61460239.0\n",
       "...              ...\n",
       "364109           0.0\n",
       "95108            0.0\n",
       "66654            0.0\n",
       "2313190          0.0\n",
       "430416           0.0\n",
       "\n",
       "[14297 rows x 1 columns]"
      ]
     },
     "execution_count": 37,
     "metadata": {},
     "output_type": "execute_result"
    }
   ],
   "source": [
    "time_df"
   ]
  },
  {
   "cell_type": "markdown",
   "metadata": {},
   "source": [
    "## Final Dataframe"
   ]
  },
  {
   "cell_type": "code",
   "execution_count": 38,
   "metadata": {},
   "outputs": [
    {
     "data": {
      "text/html": [
       "<div>\n",
       "<style scoped>\n",
       "    .dataframe tbody tr th:only-of-type {\n",
       "        vertical-align: middle;\n",
       "    }\n",
       "\n",
       "    .dataframe tbody tr th {\n",
       "        vertical-align: top;\n",
       "    }\n",
       "\n",
       "    .dataframe thead th {\n",
       "        text-align: right;\n",
       "    }\n",
       "</style>\n",
       "<table border=\"1\" class=\"dataframe\">\n",
       "  <thead>\n",
       "    <tr style=\"text-align: right;\">\n",
       "      <th></th>\n",
       "      <th>username</th>\n",
       "      <th>session_id</th>\n",
       "      <th>action</th>\n",
       "      <th>truth</th>\n",
       "      <th>id</th>\n",
       "      <th>start</th>\n",
       "      <th>end</th>\n",
       "      <th>category</th>\n",
       "      <th>gender</th>\n",
       "      <th>education</th>\n",
       "      <th>birth</th>\n",
       "      <th>timestamp</th>\n",
       "      <th>timediff</th>\n",
       "    </tr>\n",
       "  </thead>\n",
       "  <tbody>\n",
       "    <tr>\n",
       "      <th>865516</th>\n",
       "      <td>5</td>\n",
       "      <td>6ff66b03510e0dc515ea4637216f1ad3</td>\n",
       "      <td>load_video</td>\n",
       "      <td>1</td>\n",
       "      <td>802</td>\n",
       "      <td>2015-09-29 08:00:00</td>\n",
       "      <td>2016-01-15 23:30:00</td>\n",
       "      <td>computer</td>\n",
       "      <td>male</td>\n",
       "      <td>Doctorate</td>\n",
       "      <td>1985.0</td>\n",
       "      <td>1443613884</td>\n",
       "      <td>0.0</td>\n",
       "    </tr>\n",
       "    <tr>\n",
       "      <th>865517</th>\n",
       "      <td>5</td>\n",
       "      <td>6ff66b03510e0dc515ea4637216f1ad3</td>\n",
       "      <td>load_video</td>\n",
       "      <td>1</td>\n",
       "      <td>802</td>\n",
       "      <td>2015-09-29 08:00:00</td>\n",
       "      <td>2016-01-15 23:30:00</td>\n",
       "      <td>computer</td>\n",
       "      <td>male</td>\n",
       "      <td>Doctorate</td>\n",
       "      <td>1985.0</td>\n",
       "      <td>1443613889</td>\n",
       "      <td>5.0</td>\n",
       "    </tr>\n",
       "    <tr>\n",
       "      <th>865520</th>\n",
       "      <td>5</td>\n",
       "      <td>6ff66b03510e0dc515ea4637216f1ad3</td>\n",
       "      <td>close_courseware</td>\n",
       "      <td>1</td>\n",
       "      <td>802</td>\n",
       "      <td>2015-09-29 08:00:00</td>\n",
       "      <td>2016-01-15 23:30:00</td>\n",
       "      <td>computer</td>\n",
       "      <td>male</td>\n",
       "      <td>Doctorate</td>\n",
       "      <td>1985.0</td>\n",
       "      <td>1443613995</td>\n",
       "      <td>106.0</td>\n",
       "    </tr>\n",
       "    <tr>\n",
       "      <th>865529</th>\n",
       "      <td>5</td>\n",
       "      <td>6ff66b03510e0dc515ea4637216f1ad3</td>\n",
       "      <td>load_video</td>\n",
       "      <td>1</td>\n",
       "      <td>802</td>\n",
       "      <td>2015-09-29 08:00:00</td>\n",
       "      <td>2016-01-15 23:30:00</td>\n",
       "      <td>computer</td>\n",
       "      <td>male</td>\n",
       "      <td>Doctorate</td>\n",
       "      <td>1985.0</td>\n",
       "      <td>1443613999</td>\n",
       "      <td>4.0</td>\n",
       "    </tr>\n",
       "    <tr>\n",
       "      <th>865535</th>\n",
       "      <td>5</td>\n",
       "      <td>6ff66b03510e0dc515ea4637216f1ad3</td>\n",
       "      <td>play_video</td>\n",
       "      <td>1</td>\n",
       "      <td>802</td>\n",
       "      <td>2015-09-29 08:00:00</td>\n",
       "      <td>2016-01-15 23:30:00</td>\n",
       "      <td>computer</td>\n",
       "      <td>male</td>\n",
       "      <td>Doctorate</td>\n",
       "      <td>1985.0</td>\n",
       "      <td>1443614005</td>\n",
       "      <td>6.0</td>\n",
       "    </tr>\n",
       "  </tbody>\n",
       "</table>\n",
       "</div>"
      ],
      "text/plain": [
       "        username                        session_id            action  truth  \\\n",
       "865516         5  6ff66b03510e0dc515ea4637216f1ad3        load_video      1   \n",
       "865517         5  6ff66b03510e0dc515ea4637216f1ad3        load_video      1   \n",
       "865520         5  6ff66b03510e0dc515ea4637216f1ad3  close_courseware      1   \n",
       "865529         5  6ff66b03510e0dc515ea4637216f1ad3        load_video      1   \n",
       "865535         5  6ff66b03510e0dc515ea4637216f1ad3        play_video      1   \n",
       "\n",
       "         id                start                  end  category gender  \\\n",
       "865516  802  2015-09-29 08:00:00  2016-01-15 23:30:00  computer   male   \n",
       "865517  802  2015-09-29 08:00:00  2016-01-15 23:30:00  computer   male   \n",
       "865520  802  2015-09-29 08:00:00  2016-01-15 23:30:00  computer   male   \n",
       "865529  802  2015-09-29 08:00:00  2016-01-15 23:30:00  computer   male   \n",
       "865535  802  2015-09-29 08:00:00  2016-01-15 23:30:00  computer   male   \n",
       "\n",
       "        education   birth   timestamp  timediff  \n",
       "865516  Doctorate  1985.0  1443613884       0.0  \n",
       "865517  Doctorate  1985.0  1443613889       5.0  \n",
       "865520  Doctorate  1985.0  1443613995     106.0  \n",
       "865529  Doctorate  1985.0  1443613999       4.0  \n",
       "865535  Doctorate  1985.0  1443614005       6.0  "
      ]
     },
     "execution_count": 38,
     "metadata": {},
     "output_type": "execute_result"
    }
   ],
   "source": [
    "df.head()"
   ]
  },
  {
   "cell_type": "code",
   "execution_count": 39,
   "metadata": {},
   "outputs": [
    {
     "data": {
      "text/plain": [
       "(8322174, 13)"
      ]
     },
     "execution_count": 39,
     "metadata": {},
     "output_type": "execute_result"
    }
   ],
   "source": [
    "df.shape"
   ]
  },
  {
   "cell_type": "code",
   "execution_count": 40,
   "metadata": {},
   "outputs": [
    {
     "data": {
      "text/plain": [
       "array(['Doctorate', \"Bachelor's\", \"Master's\", 'High', 'Associate',\n",
       "       'Middle', 'Primary'], dtype=object)"
      ]
     },
     "execution_count": 40,
     "metadata": {},
     "output_type": "execute_result"
    }
   ],
   "source": [
    "df.education.unique()"
   ]
  },
  {
   "cell_type": "code",
   "execution_count": null,
   "metadata": {},
   "outputs": [],
   "source": []
  },
  {
   "cell_type": "markdown",
   "metadata": {},
   "source": [
    "# Pipeline for preprocessing"
   ]
  },
  {
   "cell_type": "code",
   "execution_count": 41,
   "metadata": {},
   "outputs": [
    {
     "data": {
      "text/plain": [
       "male      5681900\n",
       "female    2640274\n",
       "Name: gender, dtype: int64"
      ]
     },
     "execution_count": 41,
     "metadata": {},
     "output_type": "execute_result"
    }
   ],
   "source": [
    "df.gender.value_counts()"
   ]
  },
  {
   "cell_type": "code",
   "execution_count": 113,
   "metadata": {},
   "outputs": [],
   "source": [
    "### ALL IMPORTS ----- LATER ADDING AT THE BEGINNING ###\n",
    "\n",
    "# MACHINE LEARNING\n",
    "from sklearn.pipeline import Pipeline\n",
    "from sklearn.preprocessing import StandardScaler\n",
    "from sklearn.compose import ColumnTransformer\n",
    "from sklearn.preprocessing import OneHotEncoder\n",
    "from sklearn import set_config; set_config(display='diagram')\n",
    "from sklearn.pipeline import make_pipeline\n",
    "from sklearn.pipeline import make_union\n",
    "from sklearn.compose import make_column_transformer\n",
    "from sklearn.neighbors import KNeighborsClassifier\n",
    "from sklearn.model_selection import cross_val_score\n",
    "from sklearn.ensemble import RandomForestClassifier\n",
    "import joblib"
   ]
  },
  {
   "cell_type": "code",
   "execution_count": 114,
   "metadata": {},
   "outputs": [
    {
     "data": {
      "text/html": [
       "<div>\n",
       "<style scoped>\n",
       "    .dataframe tbody tr th:only-of-type {\n",
       "        vertical-align: middle;\n",
       "    }\n",
       "\n",
       "    .dataframe tbody tr th {\n",
       "        vertical-align: top;\n",
       "    }\n",
       "\n",
       "    .dataframe thead th {\n",
       "        text-align: right;\n",
       "    }\n",
       "</style>\n",
       "<table border=\"1\" class=\"dataframe\">\n",
       "  <thead>\n",
       "    <tr style=\"text-align: right;\">\n",
       "      <th></th>\n",
       "      <th>username</th>\n",
       "      <th>session_id</th>\n",
       "      <th>action</th>\n",
       "      <th>truth</th>\n",
       "      <th>id</th>\n",
       "      <th>start</th>\n",
       "      <th>end</th>\n",
       "      <th>category</th>\n",
       "      <th>gender</th>\n",
       "      <th>education</th>\n",
       "      <th>birth</th>\n",
       "      <th>timestamp</th>\n",
       "      <th>timediff</th>\n",
       "    </tr>\n",
       "  </thead>\n",
       "  <tbody>\n",
       "    <tr>\n",
       "      <th>865516</th>\n",
       "      <td>5</td>\n",
       "      <td>6ff66b03510e0dc515ea4637216f1ad3</td>\n",
       "      <td>load_video</td>\n",
       "      <td>1</td>\n",
       "      <td>802</td>\n",
       "      <td>2015-09-29 08:00:00</td>\n",
       "      <td>2016-01-15 23:30:00</td>\n",
       "      <td>computer</td>\n",
       "      <td>male</td>\n",
       "      <td>Doctorate</td>\n",
       "      <td>1985.0</td>\n",
       "      <td>1443613884</td>\n",
       "      <td>0.0</td>\n",
       "    </tr>\n",
       "    <tr>\n",
       "      <th>865517</th>\n",
       "      <td>5</td>\n",
       "      <td>6ff66b03510e0dc515ea4637216f1ad3</td>\n",
       "      <td>load_video</td>\n",
       "      <td>1</td>\n",
       "      <td>802</td>\n",
       "      <td>2015-09-29 08:00:00</td>\n",
       "      <td>2016-01-15 23:30:00</td>\n",
       "      <td>computer</td>\n",
       "      <td>male</td>\n",
       "      <td>Doctorate</td>\n",
       "      <td>1985.0</td>\n",
       "      <td>1443613889</td>\n",
       "      <td>5.0</td>\n",
       "    </tr>\n",
       "    <tr>\n",
       "      <th>865520</th>\n",
       "      <td>5</td>\n",
       "      <td>6ff66b03510e0dc515ea4637216f1ad3</td>\n",
       "      <td>close_courseware</td>\n",
       "      <td>1</td>\n",
       "      <td>802</td>\n",
       "      <td>2015-09-29 08:00:00</td>\n",
       "      <td>2016-01-15 23:30:00</td>\n",
       "      <td>computer</td>\n",
       "      <td>male</td>\n",
       "      <td>Doctorate</td>\n",
       "      <td>1985.0</td>\n",
       "      <td>1443613995</td>\n",
       "      <td>106.0</td>\n",
       "    </tr>\n",
       "    <tr>\n",
       "      <th>865529</th>\n",
       "      <td>5</td>\n",
       "      <td>6ff66b03510e0dc515ea4637216f1ad3</td>\n",
       "      <td>load_video</td>\n",
       "      <td>1</td>\n",
       "      <td>802</td>\n",
       "      <td>2015-09-29 08:00:00</td>\n",
       "      <td>2016-01-15 23:30:00</td>\n",
       "      <td>computer</td>\n",
       "      <td>male</td>\n",
       "      <td>Doctorate</td>\n",
       "      <td>1985.0</td>\n",
       "      <td>1443613999</td>\n",
       "      <td>4.0</td>\n",
       "    </tr>\n",
       "    <tr>\n",
       "      <th>865535</th>\n",
       "      <td>5</td>\n",
       "      <td>6ff66b03510e0dc515ea4637216f1ad3</td>\n",
       "      <td>play_video</td>\n",
       "      <td>1</td>\n",
       "      <td>802</td>\n",
       "      <td>2015-09-29 08:00:00</td>\n",
       "      <td>2016-01-15 23:30:00</td>\n",
       "      <td>computer</td>\n",
       "      <td>male</td>\n",
       "      <td>Doctorate</td>\n",
       "      <td>1985.0</td>\n",
       "      <td>1443614005</td>\n",
       "      <td>6.0</td>\n",
       "    </tr>\n",
       "  </tbody>\n",
       "</table>\n",
       "</div>"
      ],
      "text/plain": [
       "        username                        session_id            action  truth  \\\n",
       "865516         5  6ff66b03510e0dc515ea4637216f1ad3        load_video      1   \n",
       "865517         5  6ff66b03510e0dc515ea4637216f1ad3        load_video      1   \n",
       "865520         5  6ff66b03510e0dc515ea4637216f1ad3  close_courseware      1   \n",
       "865529         5  6ff66b03510e0dc515ea4637216f1ad3        load_video      1   \n",
       "865535         5  6ff66b03510e0dc515ea4637216f1ad3        play_video      1   \n",
       "\n",
       "         id                start                  end  category gender  \\\n",
       "865516  802  2015-09-29 08:00:00  2016-01-15 23:30:00  computer   male   \n",
       "865517  802  2015-09-29 08:00:00  2016-01-15 23:30:00  computer   male   \n",
       "865520  802  2015-09-29 08:00:00  2016-01-15 23:30:00  computer   male   \n",
       "865529  802  2015-09-29 08:00:00  2016-01-15 23:30:00  computer   male   \n",
       "865535  802  2015-09-29 08:00:00  2016-01-15 23:30:00  computer   male   \n",
       "\n",
       "        education   birth   timestamp  timediff  \n",
       "865516  Doctorate  1985.0  1443613884       0.0  \n",
       "865517  Doctorate  1985.0  1443613889       5.0  \n",
       "865520  Doctorate  1985.0  1443613995     106.0  \n",
       "865529  Doctorate  1985.0  1443613999       4.0  \n",
       "865535  Doctorate  1985.0  1443614005       6.0  "
      ]
     },
     "execution_count": 114,
     "metadata": {},
     "output_type": "execute_result"
    }
   ],
   "source": [
    "df.head()"
   ]
  },
  {
   "cell_type": "code",
   "execution_count": 115,
   "metadata": {},
   "outputs": [],
   "source": [
    "X_train = df[['birth', 'timediff', 'action', 'category', 'gender', 'education']]"
   ]
  },
  {
   "cell_type": "code",
   "execution_count": 116,
   "metadata": {},
   "outputs": [
    {
     "data": {
      "text/html": [
       "<div>\n",
       "<style scoped>\n",
       "    .dataframe tbody tr th:only-of-type {\n",
       "        vertical-align: middle;\n",
       "    }\n",
       "\n",
       "    .dataframe tbody tr th {\n",
       "        vertical-align: top;\n",
       "    }\n",
       "\n",
       "    .dataframe thead th {\n",
       "        text-align: right;\n",
       "    }\n",
       "</style>\n",
       "<table border=\"1\" class=\"dataframe\">\n",
       "  <thead>\n",
       "    <tr style=\"text-align: right;\">\n",
       "      <th></th>\n",
       "      <th>birth</th>\n",
       "      <th>timediff</th>\n",
       "      <th>action</th>\n",
       "      <th>category</th>\n",
       "      <th>gender</th>\n",
       "      <th>education</th>\n",
       "    </tr>\n",
       "  </thead>\n",
       "  <tbody>\n",
       "    <tr>\n",
       "      <th>865516</th>\n",
       "      <td>1985.0</td>\n",
       "      <td>0.0</td>\n",
       "      <td>load_video</td>\n",
       "      <td>computer</td>\n",
       "      <td>male</td>\n",
       "      <td>Doctorate</td>\n",
       "    </tr>\n",
       "    <tr>\n",
       "      <th>865517</th>\n",
       "      <td>1985.0</td>\n",
       "      <td>5.0</td>\n",
       "      <td>load_video</td>\n",
       "      <td>computer</td>\n",
       "      <td>male</td>\n",
       "      <td>Doctorate</td>\n",
       "    </tr>\n",
       "    <tr>\n",
       "      <th>865520</th>\n",
       "      <td>1985.0</td>\n",
       "      <td>106.0</td>\n",
       "      <td>close_courseware</td>\n",
       "      <td>computer</td>\n",
       "      <td>male</td>\n",
       "      <td>Doctorate</td>\n",
       "    </tr>\n",
       "    <tr>\n",
       "      <th>865529</th>\n",
       "      <td>1985.0</td>\n",
       "      <td>4.0</td>\n",
       "      <td>load_video</td>\n",
       "      <td>computer</td>\n",
       "      <td>male</td>\n",
       "      <td>Doctorate</td>\n",
       "    </tr>\n",
       "    <tr>\n",
       "      <th>865535</th>\n",
       "      <td>1985.0</td>\n",
       "      <td>6.0</td>\n",
       "      <td>play_video</td>\n",
       "      <td>computer</td>\n",
       "      <td>male</td>\n",
       "      <td>Doctorate</td>\n",
       "    </tr>\n",
       "  </tbody>\n",
       "</table>\n",
       "</div>"
      ],
      "text/plain": [
       "         birth  timediff            action  category gender  education\n",
       "865516  1985.0       0.0        load_video  computer   male  Doctorate\n",
       "865517  1985.0       5.0        load_video  computer   male  Doctorate\n",
       "865520  1985.0     106.0  close_courseware  computer   male  Doctorate\n",
       "865529  1985.0       4.0        load_video  computer   male  Doctorate\n",
       "865535  1985.0       6.0        play_video  computer   male  Doctorate"
      ]
     },
     "execution_count": 116,
     "metadata": {},
     "output_type": "execute_result"
    }
   ],
   "source": [
    "X_train.head()"
   ]
  },
  {
   "cell_type": "code",
   "execution_count": 117,
   "metadata": {},
   "outputs": [],
   "source": [
    "y_train = df['truth']"
   ]
  },
  {
   "cell_type": "code",
   "execution_count": 118,
   "metadata": {},
   "outputs": [],
   "source": [
    "X_train = X_train.iloc[:2_000]"
   ]
  },
  {
   "cell_type": "code",
   "execution_count": 119,
   "metadata": {},
   "outputs": [
    {
     "data": {
      "text/html": [
       "<div>\n",
       "<style scoped>\n",
       "    .dataframe tbody tr th:only-of-type {\n",
       "        vertical-align: middle;\n",
       "    }\n",
       "\n",
       "    .dataframe tbody tr th {\n",
       "        vertical-align: top;\n",
       "    }\n",
       "\n",
       "    .dataframe thead th {\n",
       "        text-align: right;\n",
       "    }\n",
       "</style>\n",
       "<table border=\"1\" class=\"dataframe\">\n",
       "  <thead>\n",
       "    <tr style=\"text-align: right;\">\n",
       "      <th></th>\n",
       "      <th>birth</th>\n",
       "      <th>timediff</th>\n",
       "      <th>action</th>\n",
       "      <th>category</th>\n",
       "      <th>gender</th>\n",
       "      <th>education</th>\n",
       "    </tr>\n",
       "  </thead>\n",
       "  <tbody>\n",
       "    <tr>\n",
       "      <th>865516</th>\n",
       "      <td>1985.0</td>\n",
       "      <td>0.0</td>\n",
       "      <td>load_video</td>\n",
       "      <td>computer</td>\n",
       "      <td>male</td>\n",
       "      <td>Doctorate</td>\n",
       "    </tr>\n",
       "    <tr>\n",
       "      <th>865517</th>\n",
       "      <td>1985.0</td>\n",
       "      <td>5.0</td>\n",
       "      <td>load_video</td>\n",
       "      <td>computer</td>\n",
       "      <td>male</td>\n",
       "      <td>Doctorate</td>\n",
       "    </tr>\n",
       "    <tr>\n",
       "      <th>865520</th>\n",
       "      <td>1985.0</td>\n",
       "      <td>106.0</td>\n",
       "      <td>close_courseware</td>\n",
       "      <td>computer</td>\n",
       "      <td>male</td>\n",
       "      <td>Doctorate</td>\n",
       "    </tr>\n",
       "    <tr>\n",
       "      <th>865529</th>\n",
       "      <td>1985.0</td>\n",
       "      <td>4.0</td>\n",
       "      <td>load_video</td>\n",
       "      <td>computer</td>\n",
       "      <td>male</td>\n",
       "      <td>Doctorate</td>\n",
       "    </tr>\n",
       "    <tr>\n",
       "      <th>865535</th>\n",
       "      <td>1985.0</td>\n",
       "      <td>6.0</td>\n",
       "      <td>play_video</td>\n",
       "      <td>computer</td>\n",
       "      <td>male</td>\n",
       "      <td>Doctorate</td>\n",
       "    </tr>\n",
       "  </tbody>\n",
       "</table>\n",
       "</div>"
      ],
      "text/plain": [
       "         birth  timediff            action  category gender  education\n",
       "865516  1985.0       0.0        load_video  computer   male  Doctorate\n",
       "865517  1985.0       5.0        load_video  computer   male  Doctorate\n",
       "865520  1985.0     106.0  close_courseware  computer   male  Doctorate\n",
       "865529  1985.0       4.0        load_video  computer   male  Doctorate\n",
       "865535  1985.0       6.0        play_video  computer   male  Doctorate"
      ]
     },
     "execution_count": 119,
     "metadata": {},
     "output_type": "execute_result"
    }
   ],
   "source": [
    "X_train.head()"
   ]
  },
  {
   "cell_type": "code",
   "execution_count": 120,
   "metadata": {},
   "outputs": [],
   "source": [
    "#X_train2 = df[['birth', 'timediff', 'action', 'category', 'gender', 'education']]"
   ]
  },
  {
   "cell_type": "code",
   "execution_count": 121,
   "metadata": {},
   "outputs": [],
   "source": [
    "#X_train2.education.nunique()"
   ]
  },
  {
   "cell_type": "code",
   "execution_count": 136,
   "metadata": {},
   "outputs": [
    {
     "data": {
      "text/plain": [
       "array(['load_video', 'close_courseware', 'play_video', 'seek_video',\n",
       "       'stop_video', 'pause_video', 'problem_get', 'click_info',\n",
       "       'click_courseware', 'click_forum', 'click_about', 'problem_check',\n",
       "       'problem_check_incorrect', 'problem_check_correct',\n",
       "       'click_progress', 'reset_problem', 'problem_save'], dtype=object)"
      ]
     },
     "execution_count": 136,
     "metadata": {},
     "output_type": "execute_result"
    }
   ],
   "source": [
    "X_train.action.unique()"
   ]
  },
  {
   "cell_type": "code",
   "execution_count": 134,
   "metadata": {},
   "outputs": [
    {
     "data": {
      "text/plain": [
       "dtype('float64')"
      ]
     },
     "execution_count": 134,
     "metadata": {},
     "output_type": "execute_result"
    }
   ],
   "source": [
    "X_train.timediff.dtype"
   ]
  },
  {
   "cell_type": "code",
   "execution_count": 122,
   "metadata": {},
   "outputs": [],
   "source": [
    "X_train = X_train2.iloc[:2_000]"
   ]
  },
  {
   "cell_type": "code",
   "execution_count": 124,
   "metadata": {},
   "outputs": [
    {
     "data": {
      "text/html": [
       "<style>#sk-f33c29fb-3356-489e-9101-24f761d1a188 {color: black;background-color: white;}#sk-f33c29fb-3356-489e-9101-24f761d1a188 pre{padding: 0;}#sk-f33c29fb-3356-489e-9101-24f761d1a188 div.sk-toggleable {background-color: white;}#sk-f33c29fb-3356-489e-9101-24f761d1a188 label.sk-toggleable__label {cursor: pointer;display: block;width: 100%;margin-bottom: 0;padding: 0.3em;box-sizing: border-box;text-align: center;}#sk-f33c29fb-3356-489e-9101-24f761d1a188 label.sk-toggleable__label-arrow:before {content: \"▸\";float: left;margin-right: 0.25em;color: #696969;}#sk-f33c29fb-3356-489e-9101-24f761d1a188 label.sk-toggleable__label-arrow:hover:before {color: black;}#sk-f33c29fb-3356-489e-9101-24f761d1a188 div.sk-estimator:hover label.sk-toggleable__label-arrow:before {color: black;}#sk-f33c29fb-3356-489e-9101-24f761d1a188 div.sk-toggleable__content {max-height: 0;max-width: 0;overflow: hidden;text-align: left;background-color: #f0f8ff;}#sk-f33c29fb-3356-489e-9101-24f761d1a188 div.sk-toggleable__content pre {margin: 0.2em;color: black;border-radius: 0.25em;background-color: #f0f8ff;}#sk-f33c29fb-3356-489e-9101-24f761d1a188 input.sk-toggleable__control:checked~div.sk-toggleable__content {max-height: 200px;max-width: 100%;overflow: auto;}#sk-f33c29fb-3356-489e-9101-24f761d1a188 input.sk-toggleable__control:checked~label.sk-toggleable__label-arrow:before {content: \"▾\";}#sk-f33c29fb-3356-489e-9101-24f761d1a188 div.sk-estimator input.sk-toggleable__control:checked~label.sk-toggleable__label {background-color: #d4ebff;}#sk-f33c29fb-3356-489e-9101-24f761d1a188 div.sk-label input.sk-toggleable__control:checked~label.sk-toggleable__label {background-color: #d4ebff;}#sk-f33c29fb-3356-489e-9101-24f761d1a188 input.sk-hidden--visually {border: 0;clip: rect(1px 1px 1px 1px);clip: rect(1px, 1px, 1px, 1px);height: 1px;margin: -1px;overflow: hidden;padding: 0;position: absolute;width: 1px;}#sk-f33c29fb-3356-489e-9101-24f761d1a188 div.sk-estimator {font-family: monospace;background-color: #f0f8ff;border: 1px dotted black;border-radius: 0.25em;box-sizing: border-box;margin-bottom: 0.5em;}#sk-f33c29fb-3356-489e-9101-24f761d1a188 div.sk-estimator:hover {background-color: #d4ebff;}#sk-f33c29fb-3356-489e-9101-24f761d1a188 div.sk-parallel-item::after {content: \"\";width: 100%;border-bottom: 1px solid gray;flex-grow: 1;}#sk-f33c29fb-3356-489e-9101-24f761d1a188 div.sk-label:hover label.sk-toggleable__label {background-color: #d4ebff;}#sk-f33c29fb-3356-489e-9101-24f761d1a188 div.sk-serial::before {content: \"\";position: absolute;border-left: 1px solid gray;box-sizing: border-box;top: 2em;bottom: 0;left: 50%;}#sk-f33c29fb-3356-489e-9101-24f761d1a188 div.sk-serial {display: flex;flex-direction: column;align-items: center;background-color: white;padding-right: 0.2em;padding-left: 0.2em;}#sk-f33c29fb-3356-489e-9101-24f761d1a188 div.sk-item {z-index: 1;}#sk-f33c29fb-3356-489e-9101-24f761d1a188 div.sk-parallel {display: flex;align-items: stretch;justify-content: center;background-color: white;}#sk-f33c29fb-3356-489e-9101-24f761d1a188 div.sk-parallel::before {content: \"\";position: absolute;border-left: 1px solid gray;box-sizing: border-box;top: 2em;bottom: 0;left: 50%;}#sk-f33c29fb-3356-489e-9101-24f761d1a188 div.sk-parallel-item {display: flex;flex-direction: column;position: relative;background-color: white;}#sk-f33c29fb-3356-489e-9101-24f761d1a188 div.sk-parallel-item:first-child::after {align-self: flex-end;width: 50%;}#sk-f33c29fb-3356-489e-9101-24f761d1a188 div.sk-parallel-item:last-child::after {align-self: flex-start;width: 50%;}#sk-f33c29fb-3356-489e-9101-24f761d1a188 div.sk-parallel-item:only-child::after {width: 0;}#sk-f33c29fb-3356-489e-9101-24f761d1a188 div.sk-dashed-wrapped {border: 1px dashed gray;margin: 0 0.4em 0.5em 0.4em;box-sizing: border-box;padding-bottom: 0.4em;background-color: white;position: relative;}#sk-f33c29fb-3356-489e-9101-24f761d1a188 div.sk-label label {font-family: monospace;font-weight: bold;background-color: white;display: inline-block;line-height: 1.2em;}#sk-f33c29fb-3356-489e-9101-24f761d1a188 div.sk-label-container {position: relative;z-index: 2;text-align: center;}#sk-f33c29fb-3356-489e-9101-24f761d1a188 div.sk-container {/* jupyter's `normalize.less` sets `[hidden] { display: none; }` but bootstrap.min.css set `[hidden] { display: none !important; }` so we also need the `!important` here to be able to override the default hidden behavior on the sphinx rendered scikit-learn.org. See: https://github.com/scikit-learn/scikit-learn/issues/21755 */display: inline-block !important;position: relative;}#sk-f33c29fb-3356-489e-9101-24f761d1a188 div.sk-text-repr-fallback {display: none;}</style><div id=\"sk-f33c29fb-3356-489e-9101-24f761d1a188\" class=\"sk-top-container\"><div class=\"sk-text-repr-fallback\"><pre>ColumnTransformer(transformers=[(&#x27;num_tr&#x27;,\n",
       "                                 Pipeline(steps=[(&#x27;scaler&#x27;, StandardScaler())]),\n",
       "                                 [&#x27;birth&#x27;]),\n",
       "                                (&#x27;cat_tr&#x27;,\n",
       "                                 OneHotEncoder(handle_unknown=&#x27;ignore&#x27;,\n",
       "                                               sparse=False),\n",
       "                                 [&#x27;education&#x27;, &#x27;gender&#x27;, &#x27;category&#x27;])])</pre><b>Please rerun this cell to show the HTML repr or trust the notebook.</b></div><div class=\"sk-container\" hidden><div class=\"sk-item sk-dashed-wrapped\"><div class=\"sk-label-container\"><div class=\"sk-label sk-toggleable\"><input class=\"sk-toggleable__control sk-hidden--visually\" id=\"16ee15f2-f963-4741-9adb-6a6f1049664f\" type=\"checkbox\" ><label for=\"16ee15f2-f963-4741-9adb-6a6f1049664f\" class=\"sk-toggleable__label sk-toggleable__label-arrow\">ColumnTransformer</label><div class=\"sk-toggleable__content\"><pre>ColumnTransformer(transformers=[(&#x27;num_tr&#x27;,\n",
       "                                 Pipeline(steps=[(&#x27;scaler&#x27;, StandardScaler())]),\n",
       "                                 [&#x27;birth&#x27;]),\n",
       "                                (&#x27;cat_tr&#x27;,\n",
       "                                 OneHotEncoder(handle_unknown=&#x27;ignore&#x27;,\n",
       "                                               sparse=False),\n",
       "                                 [&#x27;education&#x27;, &#x27;gender&#x27;, &#x27;category&#x27;])])</pre></div></div></div><div class=\"sk-parallel\"><div class=\"sk-parallel-item\"><div class=\"sk-item\"><div class=\"sk-label-container\"><div class=\"sk-label sk-toggleable\"><input class=\"sk-toggleable__control sk-hidden--visually\" id=\"e853cf41-5464-410e-914e-94d0955f9e53\" type=\"checkbox\" ><label for=\"e853cf41-5464-410e-914e-94d0955f9e53\" class=\"sk-toggleable__label sk-toggleable__label-arrow\">num_tr</label><div class=\"sk-toggleable__content\"><pre>[&#x27;birth&#x27;]</pre></div></div></div><div class=\"sk-serial\"><div class=\"sk-item\"><div class=\"sk-serial\"><div class=\"sk-item\"><div class=\"sk-estimator sk-toggleable\"><input class=\"sk-toggleable__control sk-hidden--visually\" id=\"5f613f60-9da2-491e-a359-00e0941edce8\" type=\"checkbox\" ><label for=\"5f613f60-9da2-491e-a359-00e0941edce8\" class=\"sk-toggleable__label sk-toggleable__label-arrow\">StandardScaler</label><div class=\"sk-toggleable__content\"><pre>StandardScaler()</pre></div></div></div></div></div></div></div></div><div class=\"sk-parallel-item\"><div class=\"sk-item\"><div class=\"sk-label-container\"><div class=\"sk-label sk-toggleable\"><input class=\"sk-toggleable__control sk-hidden--visually\" id=\"6263c554-70dd-48a7-be06-ec89a241a801\" type=\"checkbox\" ><label for=\"6263c554-70dd-48a7-be06-ec89a241a801\" class=\"sk-toggleable__label sk-toggleable__label-arrow\">cat_tr</label><div class=\"sk-toggleable__content\"><pre>[&#x27;education&#x27;, &#x27;gender&#x27;, &#x27;category&#x27;]</pre></div></div></div><div class=\"sk-serial\"><div class=\"sk-item\"><div class=\"sk-estimator sk-toggleable\"><input class=\"sk-toggleable__control sk-hidden--visually\" id=\"9e2fa9dc-b3dc-4f28-9435-6d17ffe7f3e0\" type=\"checkbox\" ><label for=\"9e2fa9dc-b3dc-4f28-9435-6d17ffe7f3e0\" class=\"sk-toggleable__label sk-toggleable__label-arrow\">OneHotEncoder</label><div class=\"sk-toggleable__content\"><pre>OneHotEncoder(handle_unknown=&#x27;ignore&#x27;, sparse=False)</pre></div></div></div></div></div></div></div></div></div></div>"
      ],
      "text/plain": [
       "ColumnTransformer(transformers=[('num_tr',\n",
       "                                 Pipeline(steps=[('scaler', StandardScaler())]),\n",
       "                                 ['birth']),\n",
       "                                ('cat_tr',\n",
       "                                 OneHotEncoder(handle_unknown='ignore',\n",
       "                                               sparse=False),\n",
       "                                 ['education', 'gender', 'category'])])"
      ]
     },
     "execution_count": 124,
     "metadata": {},
     "output_type": "execute_result"
    }
   ],
   "source": [
    "# Impute then Scale for numerical variables: \n",
    "num_transformer = Pipeline([\n",
    "    ('scaler', StandardScaler())])\n",
    "\n",
    "# Encode categorical variables\n",
    "cat_transformer = OneHotEncoder(handle_unknown='ignore', sparse=False)\n",
    "\n",
    "# Paralellize \"num_transformer\" and \"One hot encoder\"\n",
    "preprocessor = ColumnTransformer([\n",
    "    ('num_tr', num_transformer, ['birth']),\n",
    "    ('cat_tr', cat_transformer, ['education', 'gender', 'category'])],\n",
    "    remainder='drop')\n",
    "    \n",
    "preprocessor"
   ]
  },
  {
   "cell_type": "code",
   "execution_count": 125,
   "metadata": {},
   "outputs": [
    {
     "data": {
      "text/html": [
       "<div>\n",
       "<style scoped>\n",
       "    .dataframe tbody tr th:only-of-type {\n",
       "        vertical-align: middle;\n",
       "    }\n",
       "\n",
       "    .dataframe tbody tr th {\n",
       "        vertical-align: top;\n",
       "    }\n",
       "\n",
       "    .dataframe thead th {\n",
       "        text-align: right;\n",
       "    }\n",
       "</style>\n",
       "<table border=\"1\" class=\"dataframe\">\n",
       "  <thead>\n",
       "    <tr style=\"text-align: right;\">\n",
       "      <th></th>\n",
       "      <th>birth</th>\n",
       "      <th>timediff</th>\n",
       "      <th>action</th>\n",
       "      <th>category</th>\n",
       "      <th>gender</th>\n",
       "      <th>education</th>\n",
       "    </tr>\n",
       "  </thead>\n",
       "  <tbody>\n",
       "    <tr>\n",
       "      <th>865516</th>\n",
       "      <td>1985.0</td>\n",
       "      <td>0.0</td>\n",
       "      <td>load_video</td>\n",
       "      <td>computer</td>\n",
       "      <td>male</td>\n",
       "      <td>Doctorate</td>\n",
       "    </tr>\n",
       "    <tr>\n",
       "      <th>865517</th>\n",
       "      <td>1985.0</td>\n",
       "      <td>5.0</td>\n",
       "      <td>load_video</td>\n",
       "      <td>computer</td>\n",
       "      <td>male</td>\n",
       "      <td>Doctorate</td>\n",
       "    </tr>\n",
       "    <tr>\n",
       "      <th>865520</th>\n",
       "      <td>1985.0</td>\n",
       "      <td>106.0</td>\n",
       "      <td>close_courseware</td>\n",
       "      <td>computer</td>\n",
       "      <td>male</td>\n",
       "      <td>Doctorate</td>\n",
       "    </tr>\n",
       "  </tbody>\n",
       "</table>\n",
       "</div>"
      ],
      "text/plain": [
       "         birth  timediff            action  category gender  education\n",
       "865516  1985.0       0.0        load_video  computer   male  Doctorate\n",
       "865517  1985.0       5.0        load_video  computer   male  Doctorate\n",
       "865520  1985.0     106.0  close_courseware  computer   male  Doctorate"
      ]
     },
     "metadata": {},
     "output_type": "display_data"
    },
    {
     "data": {
      "text/html": [
       "<div>\n",
       "<style scoped>\n",
       "    .dataframe tbody tr th:only-of-type {\n",
       "        vertical-align: middle;\n",
       "    }\n",
       "\n",
       "    .dataframe tbody tr th {\n",
       "        vertical-align: top;\n",
       "    }\n",
       "\n",
       "    .dataframe thead th {\n",
       "        text-align: right;\n",
       "    }\n",
       "</style>\n",
       "<table border=\"1\" class=\"dataframe\">\n",
       "  <thead>\n",
       "    <tr style=\"text-align: right;\">\n",
       "      <th></th>\n",
       "      <th>0</th>\n",
       "      <th>1</th>\n",
       "      <th>2</th>\n",
       "      <th>3</th>\n",
       "      <th>4</th>\n",
       "      <th>5</th>\n",
       "      <th>6</th>\n",
       "      <th>7</th>\n",
       "      <th>8</th>\n",
       "      <th>9</th>\n",
       "      <th>10</th>\n",
       "      <th>11</th>\n",
       "      <th>12</th>\n",
       "      <th>13</th>\n",
       "      <th>14</th>\n",
       "      <th>15</th>\n",
       "      <th>16</th>\n",
       "      <th>17</th>\n",
       "      <th>18</th>\n",
       "      <th>19</th>\n",
       "    </tr>\n",
       "  </thead>\n",
       "  <tbody>\n",
       "    <tr>\n",
       "      <th>0</th>\n",
       "      <td>-1.552281</td>\n",
       "      <td>0.0</td>\n",
       "      <td>1.0</td>\n",
       "      <td>0.0</td>\n",
       "      <td>0.0</td>\n",
       "      <td>0.0</td>\n",
       "      <td>1.0</td>\n",
       "      <td>0.0</td>\n",
       "      <td>0.0</td>\n",
       "      <td>0.0</td>\n",
       "      <td>1.0</td>\n",
       "      <td>0.0</td>\n",
       "      <td>0.0</td>\n",
       "      <td>0.0</td>\n",
       "      <td>0.0</td>\n",
       "      <td>0.0</td>\n",
       "      <td>0.0</td>\n",
       "      <td>0.0</td>\n",
       "      <td>0.0</td>\n",
       "      <td>0.0</td>\n",
       "    </tr>\n",
       "    <tr>\n",
       "      <th>1</th>\n",
       "      <td>-1.552281</td>\n",
       "      <td>0.0</td>\n",
       "      <td>1.0</td>\n",
       "      <td>0.0</td>\n",
       "      <td>0.0</td>\n",
       "      <td>0.0</td>\n",
       "      <td>1.0</td>\n",
       "      <td>0.0</td>\n",
       "      <td>0.0</td>\n",
       "      <td>0.0</td>\n",
       "      <td>1.0</td>\n",
       "      <td>0.0</td>\n",
       "      <td>0.0</td>\n",
       "      <td>0.0</td>\n",
       "      <td>0.0</td>\n",
       "      <td>0.0</td>\n",
       "      <td>0.0</td>\n",
       "      <td>0.0</td>\n",
       "      <td>0.0</td>\n",
       "      <td>0.0</td>\n",
       "    </tr>\n",
       "    <tr>\n",
       "      <th>2</th>\n",
       "      <td>-1.552281</td>\n",
       "      <td>0.0</td>\n",
       "      <td>1.0</td>\n",
       "      <td>0.0</td>\n",
       "      <td>0.0</td>\n",
       "      <td>0.0</td>\n",
       "      <td>1.0</td>\n",
       "      <td>0.0</td>\n",
       "      <td>0.0</td>\n",
       "      <td>0.0</td>\n",
       "      <td>1.0</td>\n",
       "      <td>0.0</td>\n",
       "      <td>0.0</td>\n",
       "      <td>0.0</td>\n",
       "      <td>0.0</td>\n",
       "      <td>0.0</td>\n",
       "      <td>0.0</td>\n",
       "      <td>0.0</td>\n",
       "      <td>0.0</td>\n",
       "      <td>0.0</td>\n",
       "    </tr>\n",
       "  </tbody>\n",
       "</table>\n",
       "</div>"
      ],
      "text/plain": [
       "         0    1    2    3    4    5    6    7    8    9    10   11   12   13  \\\n",
       "0 -1.552281  0.0  1.0  0.0  0.0  0.0  1.0  0.0  0.0  0.0  1.0  0.0  0.0  0.0   \n",
       "1 -1.552281  0.0  1.0  0.0  0.0  0.0  1.0  0.0  0.0  0.0  1.0  0.0  0.0  0.0   \n",
       "2 -1.552281  0.0  1.0  0.0  0.0  0.0  1.0  0.0  0.0  0.0  1.0  0.0  0.0  0.0   \n",
       "\n",
       "    14   15   16   17   18   19  \n",
       "0  0.0  0.0  0.0  0.0  0.0  0.0  \n",
       "1  0.0  0.0  0.0  0.0  0.0  0.0  \n",
       "2  0.0  0.0  0.0  0.0  0.0  0.0  "
      ]
     },
     "metadata": {},
     "output_type": "display_data"
    }
   ],
   "source": [
    "X_train_transformed = preprocessor.fit_transform(X_train)\n",
    "\n",
    "display(X_train.head(3))\n",
    "display(pd.DataFrame(X_train_transformed).head(3))"
   ]
  },
  {
   "cell_type": "code",
   "execution_count": 126,
   "metadata": {},
   "outputs": [
    {
     "data": {
      "text/plain": [
       "(2000, 20)"
      ]
     },
     "execution_count": 126,
     "metadata": {},
     "output_type": "execute_result"
    }
   ],
   "source": [
    "X_train_transformed.shape"
   ]
  },
  {
   "cell_type": "code",
   "execution_count": 127,
   "metadata": {},
   "outputs": [],
   "source": [
    "y_train = y_train.iloc[:2_000]"
   ]
  },
  {
   "cell_type": "code",
   "execution_count": 128,
   "metadata": {},
   "outputs": [
    {
     "data": {
      "text/plain": [
       "(2000,)"
      ]
     },
     "execution_count": 128,
     "metadata": {},
     "output_type": "execute_result"
    }
   ],
   "source": [
    "y_train.shape"
   ]
  },
  {
   "cell_type": "code",
   "execution_count": 129,
   "metadata": {},
   "outputs": [
    {
     "data": {
      "text/html": [
       "<style>#sk-1a997029-4869-4ac9-8b20-db33c6934633 {color: black;background-color: white;}#sk-1a997029-4869-4ac9-8b20-db33c6934633 pre{padding: 0;}#sk-1a997029-4869-4ac9-8b20-db33c6934633 div.sk-toggleable {background-color: white;}#sk-1a997029-4869-4ac9-8b20-db33c6934633 label.sk-toggleable__label {cursor: pointer;display: block;width: 100%;margin-bottom: 0;padding: 0.3em;box-sizing: border-box;text-align: center;}#sk-1a997029-4869-4ac9-8b20-db33c6934633 label.sk-toggleable__label-arrow:before {content: \"▸\";float: left;margin-right: 0.25em;color: #696969;}#sk-1a997029-4869-4ac9-8b20-db33c6934633 label.sk-toggleable__label-arrow:hover:before {color: black;}#sk-1a997029-4869-4ac9-8b20-db33c6934633 div.sk-estimator:hover label.sk-toggleable__label-arrow:before {color: black;}#sk-1a997029-4869-4ac9-8b20-db33c6934633 div.sk-toggleable__content {max-height: 0;max-width: 0;overflow: hidden;text-align: left;background-color: #f0f8ff;}#sk-1a997029-4869-4ac9-8b20-db33c6934633 div.sk-toggleable__content pre {margin: 0.2em;color: black;border-radius: 0.25em;background-color: #f0f8ff;}#sk-1a997029-4869-4ac9-8b20-db33c6934633 input.sk-toggleable__control:checked~div.sk-toggleable__content {max-height: 200px;max-width: 100%;overflow: auto;}#sk-1a997029-4869-4ac9-8b20-db33c6934633 input.sk-toggleable__control:checked~label.sk-toggleable__label-arrow:before {content: \"▾\";}#sk-1a997029-4869-4ac9-8b20-db33c6934633 div.sk-estimator input.sk-toggleable__control:checked~label.sk-toggleable__label {background-color: #d4ebff;}#sk-1a997029-4869-4ac9-8b20-db33c6934633 div.sk-label input.sk-toggleable__control:checked~label.sk-toggleable__label {background-color: #d4ebff;}#sk-1a997029-4869-4ac9-8b20-db33c6934633 input.sk-hidden--visually {border: 0;clip: rect(1px 1px 1px 1px);clip: rect(1px, 1px, 1px, 1px);height: 1px;margin: -1px;overflow: hidden;padding: 0;position: absolute;width: 1px;}#sk-1a997029-4869-4ac9-8b20-db33c6934633 div.sk-estimator {font-family: monospace;background-color: #f0f8ff;border: 1px dotted black;border-radius: 0.25em;box-sizing: border-box;margin-bottom: 0.5em;}#sk-1a997029-4869-4ac9-8b20-db33c6934633 div.sk-estimator:hover {background-color: #d4ebff;}#sk-1a997029-4869-4ac9-8b20-db33c6934633 div.sk-parallel-item::after {content: \"\";width: 100%;border-bottom: 1px solid gray;flex-grow: 1;}#sk-1a997029-4869-4ac9-8b20-db33c6934633 div.sk-label:hover label.sk-toggleable__label {background-color: #d4ebff;}#sk-1a997029-4869-4ac9-8b20-db33c6934633 div.sk-serial::before {content: \"\";position: absolute;border-left: 1px solid gray;box-sizing: border-box;top: 2em;bottom: 0;left: 50%;}#sk-1a997029-4869-4ac9-8b20-db33c6934633 div.sk-serial {display: flex;flex-direction: column;align-items: center;background-color: white;padding-right: 0.2em;padding-left: 0.2em;}#sk-1a997029-4869-4ac9-8b20-db33c6934633 div.sk-item {z-index: 1;}#sk-1a997029-4869-4ac9-8b20-db33c6934633 div.sk-parallel {display: flex;align-items: stretch;justify-content: center;background-color: white;}#sk-1a997029-4869-4ac9-8b20-db33c6934633 div.sk-parallel::before {content: \"\";position: absolute;border-left: 1px solid gray;box-sizing: border-box;top: 2em;bottom: 0;left: 50%;}#sk-1a997029-4869-4ac9-8b20-db33c6934633 div.sk-parallel-item {display: flex;flex-direction: column;position: relative;background-color: white;}#sk-1a997029-4869-4ac9-8b20-db33c6934633 div.sk-parallel-item:first-child::after {align-self: flex-end;width: 50%;}#sk-1a997029-4869-4ac9-8b20-db33c6934633 div.sk-parallel-item:last-child::after {align-self: flex-start;width: 50%;}#sk-1a997029-4869-4ac9-8b20-db33c6934633 div.sk-parallel-item:only-child::after {width: 0;}#sk-1a997029-4869-4ac9-8b20-db33c6934633 div.sk-dashed-wrapped {border: 1px dashed gray;margin: 0 0.4em 0.5em 0.4em;box-sizing: border-box;padding-bottom: 0.4em;background-color: white;position: relative;}#sk-1a997029-4869-4ac9-8b20-db33c6934633 div.sk-label label {font-family: monospace;font-weight: bold;background-color: white;display: inline-block;line-height: 1.2em;}#sk-1a997029-4869-4ac9-8b20-db33c6934633 div.sk-label-container {position: relative;z-index: 2;text-align: center;}#sk-1a997029-4869-4ac9-8b20-db33c6934633 div.sk-container {/* jupyter's `normalize.less` sets `[hidden] { display: none; }` but bootstrap.min.css set `[hidden] { display: none !important; }` so we also need the `!important` here to be able to override the default hidden behavior on the sphinx rendered scikit-learn.org. See: https://github.com/scikit-learn/scikit-learn/issues/21755 */display: inline-block !important;position: relative;}#sk-1a997029-4869-4ac9-8b20-db33c6934633 div.sk-text-repr-fallback {display: none;}</style><div id=\"sk-1a997029-4869-4ac9-8b20-db33c6934633\" class=\"sk-top-container\"><div class=\"sk-text-repr-fallback\"><pre>Pipeline(steps=[(&#x27;columntransformer&#x27;,\n",
       "                 ColumnTransformer(transformers=[(&#x27;num_tr&#x27;,\n",
       "                                                  Pipeline(steps=[(&#x27;scaler&#x27;,\n",
       "                                                                   StandardScaler())]),\n",
       "                                                  [&#x27;birth&#x27;]),\n",
       "                                                 (&#x27;cat_tr&#x27;,\n",
       "                                                  OneHotEncoder(handle_unknown=&#x27;ignore&#x27;,\n",
       "                                                                sparse=False),\n",
       "                                                  [&#x27;education&#x27;, &#x27;gender&#x27;,\n",
       "                                                   &#x27;category&#x27;])])),\n",
       "                (&#x27;kneighborsclassifier&#x27;, KNeighborsClassifier())])</pre><b>Please rerun this cell to show the HTML repr or trust the notebook.</b></div><div class=\"sk-container\" hidden><div class=\"sk-item sk-dashed-wrapped\"><div class=\"sk-label-container\"><div class=\"sk-label sk-toggleable\"><input class=\"sk-toggleable__control sk-hidden--visually\" id=\"637b1920-6062-4e8f-b56d-89eb78428d4f\" type=\"checkbox\" ><label for=\"637b1920-6062-4e8f-b56d-89eb78428d4f\" class=\"sk-toggleable__label sk-toggleable__label-arrow\">Pipeline</label><div class=\"sk-toggleable__content\"><pre>Pipeline(steps=[(&#x27;columntransformer&#x27;,\n",
       "                 ColumnTransformer(transformers=[(&#x27;num_tr&#x27;,\n",
       "                                                  Pipeline(steps=[(&#x27;scaler&#x27;,\n",
       "                                                                   StandardScaler())]),\n",
       "                                                  [&#x27;birth&#x27;]),\n",
       "                                                 (&#x27;cat_tr&#x27;,\n",
       "                                                  OneHotEncoder(handle_unknown=&#x27;ignore&#x27;,\n",
       "                                                                sparse=False),\n",
       "                                                  [&#x27;education&#x27;, &#x27;gender&#x27;,\n",
       "                                                   &#x27;category&#x27;])])),\n",
       "                (&#x27;kneighborsclassifier&#x27;, KNeighborsClassifier())])</pre></div></div></div><div class=\"sk-serial\"><div class=\"sk-item sk-dashed-wrapped\"><div class=\"sk-label-container\"><div class=\"sk-label sk-toggleable\"><input class=\"sk-toggleable__control sk-hidden--visually\" id=\"f63bc582-5298-48d7-9813-b07369b58c6b\" type=\"checkbox\" ><label for=\"f63bc582-5298-48d7-9813-b07369b58c6b\" class=\"sk-toggleable__label sk-toggleable__label-arrow\">columntransformer: ColumnTransformer</label><div class=\"sk-toggleable__content\"><pre>ColumnTransformer(transformers=[(&#x27;num_tr&#x27;,\n",
       "                                 Pipeline(steps=[(&#x27;scaler&#x27;, StandardScaler())]),\n",
       "                                 [&#x27;birth&#x27;]),\n",
       "                                (&#x27;cat_tr&#x27;,\n",
       "                                 OneHotEncoder(handle_unknown=&#x27;ignore&#x27;,\n",
       "                                               sparse=False),\n",
       "                                 [&#x27;education&#x27;, &#x27;gender&#x27;, &#x27;category&#x27;])])</pre></div></div></div><div class=\"sk-parallel\"><div class=\"sk-parallel-item\"><div class=\"sk-item\"><div class=\"sk-label-container\"><div class=\"sk-label sk-toggleable\"><input class=\"sk-toggleable__control sk-hidden--visually\" id=\"30ddd04d-44e7-4da5-b01f-02b235972ee3\" type=\"checkbox\" ><label for=\"30ddd04d-44e7-4da5-b01f-02b235972ee3\" class=\"sk-toggleable__label sk-toggleable__label-arrow\">num_tr</label><div class=\"sk-toggleable__content\"><pre>[&#x27;birth&#x27;]</pre></div></div></div><div class=\"sk-serial\"><div class=\"sk-item\"><div class=\"sk-serial\"><div class=\"sk-item\"><div class=\"sk-estimator sk-toggleable\"><input class=\"sk-toggleable__control sk-hidden--visually\" id=\"7d56f3a6-8614-4b63-b604-379bee874b57\" type=\"checkbox\" ><label for=\"7d56f3a6-8614-4b63-b604-379bee874b57\" class=\"sk-toggleable__label sk-toggleable__label-arrow\">StandardScaler</label><div class=\"sk-toggleable__content\"><pre>StandardScaler()</pre></div></div></div></div></div></div></div></div><div class=\"sk-parallel-item\"><div class=\"sk-item\"><div class=\"sk-label-container\"><div class=\"sk-label sk-toggleable\"><input class=\"sk-toggleable__control sk-hidden--visually\" id=\"d02c580a-beb8-4b89-86a2-56a1282004f0\" type=\"checkbox\" ><label for=\"d02c580a-beb8-4b89-86a2-56a1282004f0\" class=\"sk-toggleable__label sk-toggleable__label-arrow\">cat_tr</label><div class=\"sk-toggleable__content\"><pre>[&#x27;education&#x27;, &#x27;gender&#x27;, &#x27;category&#x27;]</pre></div></div></div><div class=\"sk-serial\"><div class=\"sk-item\"><div class=\"sk-estimator sk-toggleable\"><input class=\"sk-toggleable__control sk-hidden--visually\" id=\"6c8ce443-5334-4574-8e45-2125d1cdfa6d\" type=\"checkbox\" ><label for=\"6c8ce443-5334-4574-8e45-2125d1cdfa6d\" class=\"sk-toggleable__label sk-toggleable__label-arrow\">OneHotEncoder</label><div class=\"sk-toggleable__content\"><pre>OneHotEncoder(handle_unknown=&#x27;ignore&#x27;, sparse=False)</pre></div></div></div></div></div></div></div></div><div class=\"sk-item\"><div class=\"sk-estimator sk-toggleable\"><input class=\"sk-toggleable__control sk-hidden--visually\" id=\"2221e0f5-e6da-4cee-8a46-75ed206390d1\" type=\"checkbox\" ><label for=\"2221e0f5-e6da-4cee-8a46-75ed206390d1\" class=\"sk-toggleable__label sk-toggleable__label-arrow\">KNeighborsClassifier</label><div class=\"sk-toggleable__content\"><pre>KNeighborsClassifier()</pre></div></div></div></div></div></div></div>"
      ],
      "text/plain": [
       "Pipeline(steps=[('columntransformer',\n",
       "                 ColumnTransformer(transformers=[('num_tr',\n",
       "                                                  Pipeline(steps=[('scaler',\n",
       "                                                                   StandardScaler())]),\n",
       "                                                  ['birth']),\n",
       "                                                 ('cat_tr',\n",
       "                                                  OneHotEncoder(handle_unknown='ignore',\n",
       "                                                                sparse=False),\n",
       "                                                  ['education', 'gender',\n",
       "                                                   'category'])])),\n",
       "                ('kneighborsclassifier', KNeighborsClassifier())])"
      ]
     },
     "execution_count": 129,
     "metadata": {},
     "output_type": "execute_result"
    }
   ],
   "source": [
    "pipe = make_pipeline(preprocessor, KNeighborsClassifier())\n",
    "pipe"
   ]
  },
  {
   "cell_type": "code",
   "execution_count": 67,
   "metadata": {},
   "outputs": [],
   "source": [
    "#knn = KNeighborsClassifier(n_neighbors = 5)"
   ]
  },
  {
   "cell_type": "code",
   "execution_count": 131,
   "metadata": {},
   "outputs": [
    {
     "data": {
      "text/plain": [
       "0.8819999999999999"
      ]
     },
     "execution_count": 131,
     "metadata": {},
     "output_type": "execute_result"
    }
   ],
   "source": [
    "cross_val_score(pipe, X_train, y_train, cv=5, scoring='accuracy').mean()"
   ]
  },
  {
   "cell_type": "code",
   "execution_count": 132,
   "metadata": {},
   "outputs": [],
   "source": [
    "knn_model = pipe.fit(X_train, y_train)"
   ]
  },
  {
   "cell_type": "code",
   "execution_count": 133,
   "metadata": {},
   "outputs": [
    {
     "data": {
      "text/plain": [
       "['KNN_BaseModel.joblib']"
      ]
     },
     "execution_count": 133,
     "metadata": {},
     "output_type": "execute_result"
    }
   ],
   "source": [
    "filename = \"KNN_BaseModel.joblib\"\n",
    "joblib.dump(knn_model, filename)"
   ]
  },
  {
   "cell_type": "code",
   "execution_count": 152,
   "metadata": {},
   "outputs": [
    {
     "data": {
      "text/html": [
       "<div>\n",
       "<style scoped>\n",
       "    .dataframe tbody tr th:only-of-type {\n",
       "        vertical-align: middle;\n",
       "    }\n",
       "\n",
       "    .dataframe tbody tr th {\n",
       "        vertical-align: top;\n",
       "    }\n",
       "\n",
       "    .dataframe thead th {\n",
       "        text-align: right;\n",
       "    }\n",
       "</style>\n",
       "<table border=\"1\" class=\"dataframe\">\n",
       "  <thead>\n",
       "    <tr style=\"text-align: right;\">\n",
       "      <th></th>\n",
       "      <th>birth</th>\n",
       "      <th>timediff</th>\n",
       "      <th>action</th>\n",
       "      <th>category</th>\n",
       "      <th>gender</th>\n",
       "      <th>education</th>\n",
       "    </tr>\n",
       "  </thead>\n",
       "  <tbody>\n",
       "    <tr>\n",
       "      <th>26006720</th>\n",
       "      <td>1991.0</td>\n",
       "      <td>2.0</td>\n",
       "      <td>load_video</td>\n",
       "      <td>math</td>\n",
       "      <td>female</td>\n",
       "      <td>High</td>\n",
       "    </tr>\n",
       "  </tbody>\n",
       "</table>\n",
       "</div>"
      ],
      "text/plain": [
       "           birth timediff      action category  gender education\n",
       "26006720  1991.0      2.0  load_video     math  female      High"
      ]
     },
     "execution_count": 152,
     "metadata": {},
     "output_type": "execute_result"
    }
   ],
   "source": [
    "Test = X_train.iloc[1_000]\n",
    "Test = pd.DataFrame(Test).T\n",
    "Test"
   ]
  },
  {
   "cell_type": "code",
   "execution_count": 153,
   "metadata": {},
   "outputs": [
    {
     "data": {
      "text/plain": [
       "array([0])"
      ]
     },
     "execution_count": 153,
     "metadata": {},
     "output_type": "execute_result"
    }
   ],
   "source": [
    "knn_model.predict(Test)"
   ]
  },
  {
   "cell_type": "code",
   "execution_count": null,
   "metadata": {},
   "outputs": [],
   "source": []
  }
 ],
 "metadata": {
  "colab": {
   "authorship_tag": "ABX9TyNfB6EqPLZGf+oM4wquBrV2",
   "collapsed_sections": [],
   "mount_file_id": "1VKPXQNTEhHiLyDTcO4EWnai3Pr7zS_zl",
   "name": "merged_dataframe.ipynb",
   "provenance": []
  },
  "kernelspec": {
   "display_name": "Python 3 (ipykernel)",
   "language": "python",
   "name": "python3"
  },
  "language_info": {
   "codemirror_mode": {
    "name": "ipython",
    "version": 3
   },
   "file_extension": ".py",
   "mimetype": "text/x-python",
   "name": "python",
   "nbconvert_exporter": "python",
   "pygments_lexer": "ipython3",
   "version": "3.8.12"
  },
  "toc": {
   "base_numbering": 1,
   "nav_menu": {},
   "number_sections": true,
   "sideBar": true,
   "skip_h1_title": false,
   "title_cell": "Table of Contents",
   "title_sidebar": "Contents",
   "toc_cell": false,
   "toc_position": {},
   "toc_section_display": true,
   "toc_window_display": true
  }
 },
 "nbformat": 4,
 "nbformat_minor": 1
}
