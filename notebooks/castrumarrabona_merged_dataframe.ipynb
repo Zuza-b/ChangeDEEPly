{
 "cells": [
  {
   "cell_type": "code",
   "execution_count": 1,
   "metadata": {
    "executionInfo": {
     "elapsed": 519,
     "status": "ok",
     "timestamp": 1646255142247,
     "user": {
      "displayName": "Shilpa Madhuri G",
      "photoUrl": "https://lh3.googleusercontent.com/a-/AOh14Gg12I7ZaKq3iW7eFXO8D9_j_4xhtG6TaDX6HJRv=s64",
      "userId": "10862127389095438079"
     },
     "user_tz": -60
    },
    "id": "ffcZ8MMHJ9QT"
   },
   "outputs": [],
   "source": [
    "# DATA PREPARATING\n",
    "import pandas as pd\n",
    "import numpy as np\n",
    "\n",
    "# VIZUALISATION\n",
    "import seaborn as sns\n",
    "import matplotlib.pyplot as plt\n",
    "\n",
    "# MACHINE LEARNING\n",
    "from sklearn.pipeline import Pipeline\n",
    "from sklearn.preprocessing import StandardScaler\n",
    "from sklearn.compose import ColumnTransformer\n",
    "from sklearn.preprocessing import OneHotEncoder\n",
    "from sklearn import set_config; set_config(display='diagram')\n",
    "from sklearn.pipeline import make_pipeline\n",
    "from sklearn.pipeline import make_union\n",
    "from sklearn.compose import make_column_transformer\n",
    "from sklearn.neighbors import KNeighborsClassifier\n",
    "from sklearn.model_selection import cross_val_score\n",
    "from sklearn.ensemble import RandomForestClassifier\n",
    "import joblib\n",
    "from sklearn.model_selection import train_test_split\n"
   ]
  },
  {
   "cell_type": "markdown",
   "metadata": {},
   "source": [
    "# Loading the data"
   ]
  },
  {
   "cell_type": "code",
   "execution_count": 2,
   "metadata": {
    "colab": {
     "base_uri": "https://localhost:8080/"
    },
    "executionInfo": {
     "elapsed": 121916,
     "status": "ok",
     "timestamp": 1646255277949,
     "user": {
      "displayName": "Shilpa Madhuri G",
      "photoUrl": "https://lh3.googleusercontent.com/a-/AOh14Gg12I7ZaKq3iW7eFXO8D9_j_4xhtG6TaDX6HJRv=s64",
      "userId": "10862127389095438079"
     },
     "user_tz": -60
    },
    "id": "dad8-AU8awBC",
    "outputId": "a1232ba2-58dd-401c-b3d0-790dca57463a"
   },
   "outputs": [
    {
     "name": "stderr",
     "output_type": "stream",
     "text": [
      "/Users/david/.pyenv/versions/3.8.12/envs/lewagon/lib/python3.8/site-packages/IPython/core/interactiveshell.py:3457: DtypeWarning: Columns (10,11) have mixed types.Specify dtype option on import or set low_memory=False.\n",
      "  exec(code_obj, self.user_global_ns, self.user_ns)\n"
     ]
    }
   ],
   "source": [
    "#load the dataframe from a local direcrory\n",
    "df = pd.read_csv('../raw_data/df_final.csv')"
   ]
  },
  {
   "cell_type": "markdown",
   "metadata": {},
   "source": [
    "# Discovering the data"
   ]
  },
  {
   "cell_type": "markdown",
   "metadata": {},
   "source": [
    "## Feature engineering"
   ]
  },
  {
   "cell_type": "code",
   "execution_count": 3,
   "metadata": {
    "executionInfo": {
     "elapsed": 2550,
     "status": "ok",
     "timestamp": 1646255310163,
     "user": {
      "displayName": "Shilpa Madhuri G",
      "photoUrl": "https://lh3.googleusercontent.com/a-/AOh14Gg12I7ZaKq3iW7eFXO8D9_j_4xhtG6TaDX6HJRv=s64",
      "userId": "10862127389095438079"
     },
     "user_tz": -60
    },
    "id": "LkMFc75MK64L"
   },
   "outputs": [],
   "source": [
    "df = df.drop(['Unnamed: 0'],axis=1)"
   ]
  },
  {
   "cell_type": "code",
   "execution_count": 4,
   "metadata": {
    "executionInfo": {
     "elapsed": 17448,
     "status": "ok",
     "timestamp": 1646255332954,
     "user": {
      "displayName": "Shilpa Madhuri G",
      "photoUrl": "https://lh3.googleusercontent.com/a-/AOh14Gg12I7ZaKq3iW7eFXO8D9_j_4xhtG6TaDX6HJRv=s64",
      "userId": "10862127389095438079"
     },
     "user_tz": -60
    },
    "id": "L71YcXK8dNM1"
   },
   "outputs": [],
   "source": [
    "df = df.dropna()"
   ]
  },
  {
   "cell_type": "code",
   "execution_count": 5,
   "metadata": {
    "colab": {
     "base_uri": "https://localhost:8080/"
    },
    "executionInfo": {
     "elapsed": 438,
     "status": "ok",
     "timestamp": 1646255334989,
     "user": {
      "displayName": "Shilpa Madhuri G",
      "photoUrl": "https://lh3.googleusercontent.com/a-/AOh14Gg12I7ZaKq3iW7eFXO8D9_j_4xhtG6TaDX6HJRv=s64",
      "userId": "10862127389095438079"
     },
     "user_tz": -60
    },
    "id": "jqi3vlWWdq54",
    "outputId": "1a6028f3-2ab2-43db-bb1b-1bba00b21d33"
   },
   "outputs": [
    {
     "data": {
      "text/plain": [
       "(8322174, 12)"
      ]
     },
     "execution_count": 5,
     "metadata": {},
     "output_type": "execute_result"
    }
   ],
   "source": [
    "df.shape"
   ]
  },
  {
   "cell_type": "code",
   "execution_count": 6,
   "metadata": {
    "colab": {
     "base_uri": "https://localhost:8080/"
    },
    "executionInfo": {
     "elapsed": 4650,
     "status": "ok",
     "timestamp": 1646255361357,
     "user": {
      "displayName": "Shilpa Madhuri G",
      "photoUrl": "https://lh3.googleusercontent.com/a-/AOh14Gg12I7ZaKq3iW7eFXO8D9_j_4xhtG6TaDX6HJRv=s64",
      "userId": "10862127389095438079"
     },
     "user_tz": -60
    },
    "id": "OmkHexIWdwXh",
    "outputId": "6e48648b-2f2c-4854-91c1-97aec6545710"
   },
   "outputs": [
    {
     "data": {
      "text/plain": [
       "username      0\n",
       "session_id    0\n",
       "action        0\n",
       "time          0\n",
       "truth         0\n",
       "id            0\n",
       "start         0\n",
       "end           0\n",
       "category      0\n",
       "gender        0\n",
       "education     0\n",
       "birth         0\n",
       "dtype: int64"
      ]
     },
     "execution_count": 6,
     "metadata": {},
     "output_type": "execute_result"
    }
   ],
   "source": [
    "df.isnull().sum()"
   ]
  },
  {
   "cell_type": "code",
   "execution_count": 7,
   "metadata": {},
   "outputs": [
    {
     "data": {
      "text/html": [
       "<div>\n",
       "<style scoped>\n",
       "    .dataframe tbody tr th:only-of-type {\n",
       "        vertical-align: middle;\n",
       "    }\n",
       "\n",
       "    .dataframe tbody tr th {\n",
       "        vertical-align: top;\n",
       "    }\n",
       "\n",
       "    .dataframe thead th {\n",
       "        text-align: right;\n",
       "    }\n",
       "</style>\n",
       "<table border=\"1\" class=\"dataframe\">\n",
       "  <thead>\n",
       "    <tr style=\"text-align: right;\">\n",
       "      <th></th>\n",
       "      <th>username</th>\n",
       "      <th>session_id</th>\n",
       "      <th>action</th>\n",
       "      <th>time</th>\n",
       "      <th>truth</th>\n",
       "      <th>id</th>\n",
       "      <th>start</th>\n",
       "      <th>end</th>\n",
       "      <th>category</th>\n",
       "      <th>gender</th>\n",
       "      <th>education</th>\n",
       "      <th>birth</th>\n",
       "    </tr>\n",
       "  </thead>\n",
       "  <tbody>\n",
       "    <tr>\n",
       "      <th>0</th>\n",
       "      <td>5981</td>\n",
       "      <td>d8a9b787fa69063c34c73b9c29190b1c</td>\n",
       "      <td>click_about</td>\n",
       "      <td>2015-09-27T15:42:59</td>\n",
       "      <td>1</td>\n",
       "      <td>1822</td>\n",
       "      <td>2015-09-25 08:00:00</td>\n",
       "      <td>2016-01-06 08:00:00</td>\n",
       "      <td>art</td>\n",
       "      <td>male</td>\n",
       "      <td>Master's</td>\n",
       "      <td>1989.0</td>\n",
       "    </tr>\n",
       "    <tr>\n",
       "      <th>1</th>\n",
       "      <td>5981</td>\n",
       "      <td>d8a9b787fa69063c34c73b9c29190b1c</td>\n",
       "      <td>click_info</td>\n",
       "      <td>2015-09-27T15:43:12</td>\n",
       "      <td>1</td>\n",
       "      <td>1822</td>\n",
       "      <td>2015-09-25 08:00:00</td>\n",
       "      <td>2016-01-06 08:00:00</td>\n",
       "      <td>art</td>\n",
       "      <td>male</td>\n",
       "      <td>Master's</td>\n",
       "      <td>1989.0</td>\n",
       "    </tr>\n",
       "    <tr>\n",
       "      <th>97</th>\n",
       "      <td>561867</td>\n",
       "      <td>9f5afae301f874248f02423d80a89b28</td>\n",
       "      <td>click_about</td>\n",
       "      <td>2015-10-25T10:50:44</td>\n",
       "      <td>0</td>\n",
       "      <td>1822</td>\n",
       "      <td>2015-09-25 08:00:00</td>\n",
       "      <td>2016-01-06 08:00:00</td>\n",
       "      <td>art</td>\n",
       "      <td>female</td>\n",
       "      <td>Associate</td>\n",
       "      <td>1981.0</td>\n",
       "    </tr>\n",
       "    <tr>\n",
       "      <th>98</th>\n",
       "      <td>561867</td>\n",
       "      <td>9f5afae301f874248f02423d80a89b28</td>\n",
       "      <td>click_courseware</td>\n",
       "      <td>2015-10-25T10:51:09</td>\n",
       "      <td>0</td>\n",
       "      <td>1822</td>\n",
       "      <td>2015-09-25 08:00:00</td>\n",
       "      <td>2016-01-06 08:00:00</td>\n",
       "      <td>art</td>\n",
       "      <td>female</td>\n",
       "      <td>Associate</td>\n",
       "      <td>1981.0</td>\n",
       "    </tr>\n",
       "    <tr>\n",
       "      <th>99</th>\n",
       "      <td>561867</td>\n",
       "      <td>9f5afae301f874248f02423d80a89b28</td>\n",
       "      <td>click_about</td>\n",
       "      <td>2015-10-25T10:50:39</td>\n",
       "      <td>0</td>\n",
       "      <td>1822</td>\n",
       "      <td>2015-09-25 08:00:00</td>\n",
       "      <td>2016-01-06 08:00:00</td>\n",
       "      <td>art</td>\n",
       "      <td>female</td>\n",
       "      <td>Associate</td>\n",
       "      <td>1981.0</td>\n",
       "    </tr>\n",
       "  </tbody>\n",
       "</table>\n",
       "</div>"
      ],
      "text/plain": [
       "    username                        session_id            action  \\\n",
       "0       5981  d8a9b787fa69063c34c73b9c29190b1c       click_about   \n",
       "1       5981  d8a9b787fa69063c34c73b9c29190b1c        click_info   \n",
       "97    561867  9f5afae301f874248f02423d80a89b28       click_about   \n",
       "98    561867  9f5afae301f874248f02423d80a89b28  click_courseware   \n",
       "99    561867  9f5afae301f874248f02423d80a89b28       click_about   \n",
       "\n",
       "                   time  truth    id                start  \\\n",
       "0   2015-09-27T15:42:59      1  1822  2015-09-25 08:00:00   \n",
       "1   2015-09-27T15:43:12      1  1822  2015-09-25 08:00:00   \n",
       "97  2015-10-25T10:50:44      0  1822  2015-09-25 08:00:00   \n",
       "98  2015-10-25T10:51:09      0  1822  2015-09-25 08:00:00   \n",
       "99  2015-10-25T10:50:39      0  1822  2015-09-25 08:00:00   \n",
       "\n",
       "                    end category  gender  education   birth  \n",
       "0   2016-01-06 08:00:00      art    male   Master's  1989.0  \n",
       "1   2016-01-06 08:00:00      art    male   Master's  1989.0  \n",
       "97  2016-01-06 08:00:00      art  female  Associate  1981.0  \n",
       "98  2016-01-06 08:00:00      art  female  Associate  1981.0  \n",
       "99  2016-01-06 08:00:00      art  female  Associate  1981.0  "
      ]
     },
     "execution_count": 7,
     "metadata": {},
     "output_type": "execute_result"
    }
   ],
   "source": [
    "df.head()"
   ]
  },
  {
   "cell_type": "code",
   "execution_count": 8,
   "metadata": {
    "executionInfo": {
     "elapsed": 59197,
     "status": "ok",
     "timestamp": 1646255439870,
     "user": {
      "displayName": "Shilpa Madhuri G",
      "photoUrl": "https://lh3.googleusercontent.com/a-/AOh14Gg12I7ZaKq3iW7eFXO8D9_j_4xhtG6TaDX6HJRv=s64",
      "userId": "10862127389095438079"
     },
     "user_tz": -60
    },
    "id": "miagDQDCdZxK"
   },
   "outputs": [],
   "source": [
    "#df.to_csv('/content/drive/MyDrive/changeDEEPly/data/df_full.csv')"
   ]
  },
  {
   "cell_type": "code",
   "execution_count": 9,
   "metadata": {
    "colab": {
     "base_uri": "https://localhost:8080/"
    },
    "executionInfo": {
     "elapsed": 400,
     "status": "ok",
     "timestamp": 1646255478402,
     "user": {
      "displayName": "Shilpa Madhuri G",
      "photoUrl": "https://lh3.googleusercontent.com/a-/AOh14Gg12I7ZaKq3iW7eFXO8D9_j_4xhtG6TaDX6HJRv=s64",
      "userId": "10862127389095438079"
     },
     "user_tz": -60
    },
    "id": "AYI7txvCbuw5",
    "outputId": "0170ef52-51c7-4a96-920c-0fcba3e5dc83"
   },
   "outputs": [
    {
     "data": {
      "text/plain": [
       "(8322174, 12)"
      ]
     },
     "execution_count": 9,
     "metadata": {},
     "output_type": "execute_result"
    }
   ],
   "source": [
    "df.shape"
   ]
  },
  {
   "cell_type": "code",
   "execution_count": 10,
   "metadata": {
    "colab": {
     "base_uri": "https://localhost:8080/"
    },
    "executionInfo": {
     "elapsed": 8644,
     "status": "ok",
     "timestamp": 1646255509903,
     "user": {
      "displayName": "Shilpa Madhuri G",
      "photoUrl": "https://lh3.googleusercontent.com/a-/AOh14Gg12I7ZaKq3iW7eFXO8D9_j_4xhtG6TaDX6HJRv=s64",
      "userId": "10862127389095438079"
     },
     "user_tz": -60
    },
    "id": "I6sQXu3wN28-",
    "outputId": "e6994703-7628-4df3-84d0-abfeece8b902"
   },
   "outputs": [
    {
     "data": {
      "text/plain": [
       "username        14297\n",
       "session_id      81687\n",
       "action             22\n",
       "time          5453013\n",
       "truth               2\n",
       "id                245\n",
       "start             140\n",
       "end               175\n",
       "category           17\n",
       "gender              2\n",
       "education           7\n",
       "birth              79\n",
       "dtype: int64"
      ]
     },
     "execution_count": 10,
     "metadata": {},
     "output_type": "execute_result"
    }
   ],
   "source": [
    "#find unique values\n",
    "df.nunique()"
   ]
  },
  {
   "cell_type": "code",
   "execution_count": 11,
   "metadata": {
    "colab": {
     "base_uri": "https://localhost:8080/"
    },
    "executionInfo": {
     "elapsed": 1474,
     "status": "ok",
     "timestamp": 1646236292736,
     "user": {
      "displayName": "Shilpa Madhuri G",
      "photoUrl": "https://lh3.googleusercontent.com/a-/AOh14Gg12I7ZaKq3iW7eFXO8D9_j_4xhtG6TaDX6HJRv=s64",
      "userId": "10862127389095438079"
     },
     "user_tz": -60
    },
    "id": "ySwP3okSPTd4",
    "outputId": "c8fa410e-99f9-4e14-9ee2-a9251f07461b"
   },
   "outputs": [
    {
     "data": {
      "text/plain": [
       "array([\"Master's\", 'Associate', 'High', \"Bachelor's\", 'Middle',\n",
       "       'Doctorate', 'Primary'], dtype=object)"
      ]
     },
     "execution_count": 11,
     "metadata": {},
     "output_type": "execute_result"
    }
   ],
   "source": [
    "#explore different values of birth and education\n",
    "df.education.unique()"
   ]
  },
  {
   "cell_type": "code",
   "execution_count": 12,
   "metadata": {
    "colab": {
     "base_uri": "https://localhost:8080/"
    },
    "executionInfo": {
     "elapsed": 18,
     "status": "ok",
     "timestamp": 1646236292739,
     "user": {
      "displayName": "Shilpa Madhuri G",
      "photoUrl": "https://lh3.googleusercontent.com/a-/AOh14Gg12I7ZaKq3iW7eFXO8D9_j_4xhtG6TaDX6HJRv=s64",
      "userId": "10862127389095438079"
     },
     "user_tz": -60
    },
    "id": "nY5_cfeBP22j",
    "outputId": "a07ac1ff-c109-4ad1-a795-df42c3cc5ec5"
   },
   "outputs": [
    {
     "data": {
      "text/plain": [
       "array([1989., 1981., 1992., 1983., 1994., 1993., 1972., 1995., 1991.,\n",
       "       1988., 1986., 1990., 1996., 1966., 1984., 1975., 1985., 1977.,\n",
       "       1987., 1982., 1998., 1973., 1976., 1978., 1997., 1980., 1979.,\n",
       "       1971., 2000., 1968., 1965., 1897., 1974., 2013., 1964., 1969.,\n",
       "       1950., 2001., 1948., 1999., 1957., 1963., 1960., 2005., 1956.,\n",
       "       1944., 1958., 1961., 1970., 1967., 1955., 1898., 1962., 2016.,\n",
       "       2014., 1959., 2002., 2012., 2015., 1952., 1954., 2004., 2007.,\n",
       "       2017., 1896., 1946., 2010., 2003., 1953., 1935., 1938., 1945.,\n",
       "       2011., 1939., 2006., 2018., 1899., 2009., 1895.])"
      ]
     },
     "execution_count": 12,
     "metadata": {},
     "output_type": "execute_result"
    }
   ],
   "source": [
    "#plot the users based on year of birth\n",
    "df.birth.unique()"
   ]
  },
  {
   "cell_type": "code",
   "execution_count": 13,
   "metadata": {},
   "outputs": [
    {
     "data": {
      "text/plain": [
       "1895.0"
      ]
     },
     "execution_count": 13,
     "metadata": {},
     "output_type": "execute_result"
    }
   ],
   "source": [
    "df.birth.min()"
   ]
  },
  {
   "cell_type": "code",
   "execution_count": 14,
   "metadata": {},
   "outputs": [
    {
     "data": {
      "text/plain": [
       "2018.0"
      ]
     },
     "execution_count": 14,
     "metadata": {},
     "output_type": "execute_result"
    }
   ],
   "source": [
    "df.birth.max()"
   ]
  },
  {
   "cell_type": "code",
   "execution_count": 15,
   "metadata": {},
   "outputs": [],
   "source": [
    "# Dropping the users who were born after 2010\n",
    "df = df[df.birth < 2010]"
   ]
  },
  {
   "cell_type": "code",
   "execution_count": 16,
   "metadata": {},
   "outputs": [],
   "source": [
    "def age_constructor(df):\n",
    "    df['age'] = pd.DatetimeIndex(pd.to_datetime(df['start'], format='%Y/%m/%d')).year - pd.DatetimeIndex(pd.to_datetime(df['birth'], format='%Y')).year\n",
    "    return df"
   ]
  },
  {
   "cell_type": "code",
   "execution_count": 17,
   "metadata": {},
   "outputs": [
    {
     "data": {
      "text/html": [
       "<div>\n",
       "<style scoped>\n",
       "    .dataframe tbody tr th:only-of-type {\n",
       "        vertical-align: middle;\n",
       "    }\n",
       "\n",
       "    .dataframe tbody tr th {\n",
       "        vertical-align: top;\n",
       "    }\n",
       "\n",
       "    .dataframe thead th {\n",
       "        text-align: right;\n",
       "    }\n",
       "</style>\n",
       "<table border=\"1\" class=\"dataframe\">\n",
       "  <thead>\n",
       "    <tr style=\"text-align: right;\">\n",
       "      <th></th>\n",
       "      <th>username</th>\n",
       "      <th>session_id</th>\n",
       "      <th>action</th>\n",
       "      <th>time</th>\n",
       "      <th>truth</th>\n",
       "      <th>id</th>\n",
       "      <th>start</th>\n",
       "      <th>end</th>\n",
       "      <th>category</th>\n",
       "      <th>gender</th>\n",
       "      <th>education</th>\n",
       "      <th>birth</th>\n",
       "      <th>age</th>\n",
       "    </tr>\n",
       "  </thead>\n",
       "  <tbody>\n",
       "    <tr>\n",
       "      <th>0</th>\n",
       "      <td>5981</td>\n",
       "      <td>d8a9b787fa69063c34c73b9c29190b1c</td>\n",
       "      <td>click_about</td>\n",
       "      <td>2015-09-27T15:42:59</td>\n",
       "      <td>1</td>\n",
       "      <td>1822</td>\n",
       "      <td>2015-09-25 08:00:00</td>\n",
       "      <td>2016-01-06 08:00:00</td>\n",
       "      <td>art</td>\n",
       "      <td>male</td>\n",
       "      <td>Master's</td>\n",
       "      <td>1989.0</td>\n",
       "      <td>26</td>\n",
       "    </tr>\n",
       "    <tr>\n",
       "      <th>1</th>\n",
       "      <td>5981</td>\n",
       "      <td>d8a9b787fa69063c34c73b9c29190b1c</td>\n",
       "      <td>click_info</td>\n",
       "      <td>2015-09-27T15:43:12</td>\n",
       "      <td>1</td>\n",
       "      <td>1822</td>\n",
       "      <td>2015-09-25 08:00:00</td>\n",
       "      <td>2016-01-06 08:00:00</td>\n",
       "      <td>art</td>\n",
       "      <td>male</td>\n",
       "      <td>Master's</td>\n",
       "      <td>1989.0</td>\n",
       "      <td>26</td>\n",
       "    </tr>\n",
       "    <tr>\n",
       "      <th>97</th>\n",
       "      <td>561867</td>\n",
       "      <td>9f5afae301f874248f02423d80a89b28</td>\n",
       "      <td>click_about</td>\n",
       "      <td>2015-10-25T10:50:44</td>\n",
       "      <td>0</td>\n",
       "      <td>1822</td>\n",
       "      <td>2015-09-25 08:00:00</td>\n",
       "      <td>2016-01-06 08:00:00</td>\n",
       "      <td>art</td>\n",
       "      <td>female</td>\n",
       "      <td>Associate</td>\n",
       "      <td>1981.0</td>\n",
       "      <td>34</td>\n",
       "    </tr>\n",
       "    <tr>\n",
       "      <th>98</th>\n",
       "      <td>561867</td>\n",
       "      <td>9f5afae301f874248f02423d80a89b28</td>\n",
       "      <td>click_courseware</td>\n",
       "      <td>2015-10-25T10:51:09</td>\n",
       "      <td>0</td>\n",
       "      <td>1822</td>\n",
       "      <td>2015-09-25 08:00:00</td>\n",
       "      <td>2016-01-06 08:00:00</td>\n",
       "      <td>art</td>\n",
       "      <td>female</td>\n",
       "      <td>Associate</td>\n",
       "      <td>1981.0</td>\n",
       "      <td>34</td>\n",
       "    </tr>\n",
       "    <tr>\n",
       "      <th>99</th>\n",
       "      <td>561867</td>\n",
       "      <td>9f5afae301f874248f02423d80a89b28</td>\n",
       "      <td>click_about</td>\n",
       "      <td>2015-10-25T10:50:39</td>\n",
       "      <td>0</td>\n",
       "      <td>1822</td>\n",
       "      <td>2015-09-25 08:00:00</td>\n",
       "      <td>2016-01-06 08:00:00</td>\n",
       "      <td>art</td>\n",
       "      <td>female</td>\n",
       "      <td>Associate</td>\n",
       "      <td>1981.0</td>\n",
       "      <td>34</td>\n",
       "    </tr>\n",
       "    <tr>\n",
       "      <th>...</th>\n",
       "      <td>...</td>\n",
       "      <td>...</td>\n",
       "      <td>...</td>\n",
       "      <td>...</td>\n",
       "      <td>...</td>\n",
       "      <td>...</td>\n",
       "      <td>...</td>\n",
       "      <td>...</td>\n",
       "      <td>...</td>\n",
       "      <td>...</td>\n",
       "      <td>...</td>\n",
       "      <td>...</td>\n",
       "      <td>...</td>\n",
       "    </tr>\n",
       "    <tr>\n",
       "      <th>29165370</th>\n",
       "      <td>2588048</td>\n",
       "      <td>7eeca1d2f2d0aa649bfa447dac97606c</td>\n",
       "      <td>click_about</td>\n",
       "      <td>2016-03-19T12:33:47</td>\n",
       "      <td>1</td>\n",
       "      <td>4435</td>\n",
       "      <td>2016-03-01 08:00:00</td>\n",
       "      <td>2016-06-29 00:00:00</td>\n",
       "      <td>chemistry</td>\n",
       "      <td>male</td>\n",
       "      <td>Middle</td>\n",
       "      <td>1999.0</td>\n",
       "      <td>17</td>\n",
       "    </tr>\n",
       "    <tr>\n",
       "      <th>29165371</th>\n",
       "      <td>2588048</td>\n",
       "      <td>7eeca1d2f2d0aa649bfa447dac97606c</td>\n",
       "      <td>click_about</td>\n",
       "      <td>2016-03-19T12:33:52</td>\n",
       "      <td>1</td>\n",
       "      <td>4435</td>\n",
       "      <td>2016-03-01 08:00:00</td>\n",
       "      <td>2016-06-29 00:00:00</td>\n",
       "      <td>chemistry</td>\n",
       "      <td>male</td>\n",
       "      <td>Middle</td>\n",
       "      <td>1999.0</td>\n",
       "      <td>17</td>\n",
       "    </tr>\n",
       "    <tr>\n",
       "      <th>29165372</th>\n",
       "      <td>2588048</td>\n",
       "      <td>7eeca1d2f2d0aa649bfa447dac97606c</td>\n",
       "      <td>click_info</td>\n",
       "      <td>2016-03-19T12:33:53</td>\n",
       "      <td>1</td>\n",
       "      <td>4435</td>\n",
       "      <td>2016-03-01 08:00:00</td>\n",
       "      <td>2016-06-29 00:00:00</td>\n",
       "      <td>chemistry</td>\n",
       "      <td>male</td>\n",
       "      <td>Middle</td>\n",
       "      <td>1999.0</td>\n",
       "      <td>17</td>\n",
       "    </tr>\n",
       "    <tr>\n",
       "      <th>29165373</th>\n",
       "      <td>2588048</td>\n",
       "      <td>7eeca1d2f2d0aa649bfa447dac97606c</td>\n",
       "      <td>click_info</td>\n",
       "      <td>2016-03-19T12:33:54</td>\n",
       "      <td>1</td>\n",
       "      <td>4435</td>\n",
       "      <td>2016-03-01 08:00:00</td>\n",
       "      <td>2016-06-29 00:00:00</td>\n",
       "      <td>chemistry</td>\n",
       "      <td>male</td>\n",
       "      <td>Middle</td>\n",
       "      <td>1999.0</td>\n",
       "      <td>17</td>\n",
       "    </tr>\n",
       "    <tr>\n",
       "      <th>29165374</th>\n",
       "      <td>2588048</td>\n",
       "      <td>7eeca1d2f2d0aa649bfa447dac97606c</td>\n",
       "      <td>click_about</td>\n",
       "      <td>2016-03-19T12:32:59</td>\n",
       "      <td>1</td>\n",
       "      <td>4435</td>\n",
       "      <td>2016-03-01 08:00:00</td>\n",
       "      <td>2016-06-29 00:00:00</td>\n",
       "      <td>chemistry</td>\n",
       "      <td>male</td>\n",
       "      <td>Middle</td>\n",
       "      <td>1999.0</td>\n",
       "      <td>17</td>\n",
       "    </tr>\n",
       "  </tbody>\n",
       "</table>\n",
       "<p>8291326 rows × 13 columns</p>\n",
       "</div>"
      ],
      "text/plain": [
       "          username                        session_id            action  \\\n",
       "0             5981  d8a9b787fa69063c34c73b9c29190b1c       click_about   \n",
       "1             5981  d8a9b787fa69063c34c73b9c29190b1c        click_info   \n",
       "97          561867  9f5afae301f874248f02423d80a89b28       click_about   \n",
       "98          561867  9f5afae301f874248f02423d80a89b28  click_courseware   \n",
       "99          561867  9f5afae301f874248f02423d80a89b28       click_about   \n",
       "...            ...                               ...               ...   \n",
       "29165370   2588048  7eeca1d2f2d0aa649bfa447dac97606c       click_about   \n",
       "29165371   2588048  7eeca1d2f2d0aa649bfa447dac97606c       click_about   \n",
       "29165372   2588048  7eeca1d2f2d0aa649bfa447dac97606c        click_info   \n",
       "29165373   2588048  7eeca1d2f2d0aa649bfa447dac97606c        click_info   \n",
       "29165374   2588048  7eeca1d2f2d0aa649bfa447dac97606c       click_about   \n",
       "\n",
       "                         time  truth    id                start  \\\n",
       "0         2015-09-27T15:42:59      1  1822  2015-09-25 08:00:00   \n",
       "1         2015-09-27T15:43:12      1  1822  2015-09-25 08:00:00   \n",
       "97        2015-10-25T10:50:44      0  1822  2015-09-25 08:00:00   \n",
       "98        2015-10-25T10:51:09      0  1822  2015-09-25 08:00:00   \n",
       "99        2015-10-25T10:50:39      0  1822  2015-09-25 08:00:00   \n",
       "...                       ...    ...   ...                  ...   \n",
       "29165370  2016-03-19T12:33:47      1  4435  2016-03-01 08:00:00   \n",
       "29165371  2016-03-19T12:33:52      1  4435  2016-03-01 08:00:00   \n",
       "29165372  2016-03-19T12:33:53      1  4435  2016-03-01 08:00:00   \n",
       "29165373  2016-03-19T12:33:54      1  4435  2016-03-01 08:00:00   \n",
       "29165374  2016-03-19T12:32:59      1  4435  2016-03-01 08:00:00   \n",
       "\n",
       "                          end   category  gender  education   birth  age  \n",
       "0         2016-01-06 08:00:00        art    male   Master's  1989.0   26  \n",
       "1         2016-01-06 08:00:00        art    male   Master's  1989.0   26  \n",
       "97        2016-01-06 08:00:00        art  female  Associate  1981.0   34  \n",
       "98        2016-01-06 08:00:00        art  female  Associate  1981.0   34  \n",
       "99        2016-01-06 08:00:00        art  female  Associate  1981.0   34  \n",
       "...                       ...        ...     ...        ...     ...  ...  \n",
       "29165370  2016-06-29 00:00:00  chemistry    male     Middle  1999.0   17  \n",
       "29165371  2016-06-29 00:00:00  chemistry    male     Middle  1999.0   17  \n",
       "29165372  2016-06-29 00:00:00  chemistry    male     Middle  1999.0   17  \n",
       "29165373  2016-06-29 00:00:00  chemistry    male     Middle  1999.0   17  \n",
       "29165374  2016-06-29 00:00:00  chemistry    male     Middle  1999.0   17  \n",
       "\n",
       "[8291326 rows x 13 columns]"
      ]
     },
     "execution_count": 17,
     "metadata": {},
     "output_type": "execute_result"
    }
   ],
   "source": [
    "age_constructor(df)"
   ]
  },
  {
   "cell_type": "code",
   "execution_count": 18,
   "metadata": {
    "colab": {
     "base_uri": "https://localhost:8080/",
     "height": 308
    },
    "executionInfo": {
     "elapsed": 10447,
     "status": "ok",
     "timestamp": 1646236303175,
     "user": {
      "displayName": "Shilpa Madhuri G",
      "photoUrl": "https://lh3.googleusercontent.com/a-/AOh14Gg12I7ZaKq3iW7eFXO8D9_j_4xhtG6TaDX6HJRv=s64",
      "userId": "10862127389095438079"
     },
     "user_tz": -60
    },
    "id": "7rlPWpZNRNDS",
    "outputId": "a9a64af7-076c-494e-94a5-714f5d497833"
   },
   "outputs": [
    {
     "data": {
      "text/plain": [
       "<AxesSubplot:xlabel='birth', ylabel='Count'>"
      ]
     },
     "execution_count": 18,
     "metadata": {},
     "output_type": "execute_result"
    },
    {
     "data": {
      "image/png": "[encoded data removed]",
      "text/plain": [
       "<Figure size 432x288 with 1 Axes>"
      ]
     },
     "metadata": {
      "needs_background": "light"
     },
     "output_type": "display_data"
    }
   ],
   "source": [
    "fig, ax = plt.subplots()\n",
    "ax.set_xlim(1895.,2020.)\n",
    "sns.histplot(df.birth.dropna(),ax=ax)"
   ]
  },
  {
   "cell_type": "code",
   "execution_count": 19,
   "metadata": {
    "colab": {
     "base_uri": "https://localhost:8080/",
     "height": 308
    },
    "executionInfo": {
     "elapsed": 17521,
     "status": "ok",
     "timestamp": 1646255610256,
     "user": {
      "displayName": "Shilpa Madhuri G",
      "photoUrl": "https://lh3.googleusercontent.com/a-/AOh14Gg12I7ZaKq3iW7eFXO8D9_j_4xhtG6TaDX6HJRv=s64",
      "userId": "10862127389095438079"
     },
     "user_tz": -60
    },
    "id": "7SmwUcSHRaig",
    "outputId": "4aafadeb-726a-487c-9a9d-046f20b6a440"
   },
   "outputs": [
    {
     "data": {
      "text/plain": [
       "<AxesSubplot:xlabel='education', ylabel='Count'>"
      ]
     },
     "execution_count": 19,
     "metadata": {},
     "output_type": "execute_result"
    },
    {
     "data": {
      "image/png": "[encoded data removed]",
      "text/plain": [
       "<Figure size 432x288 with 1 Axes>"
      ]
     },
     "metadata": {
      "needs_background": "light"
     },
     "output_type": "display_data"
    }
   ],
   "source": [
    "#plot education\n",
    "sns.histplot(df.education.dropna())"
   ]
  },
  {
   "cell_type": "code",
   "execution_count": 20,
   "metadata": {
    "colab": {
     "base_uri": "https://localhost:8080/",
     "height": 383
    },
    "executionInfo": {
     "elapsed": 11775,
     "status": "ok",
     "timestamp": 1646255810375,
     "user": {
      "displayName": "Shilpa Madhuri G",
      "photoUrl": "https://lh3.googleusercontent.com/a-/AOh14Gg12I7ZaKq3iW7eFXO8D9_j_4xhtG6TaDX6HJRv=s64",
      "userId": "10862127389095438079"
     },
     "user_tz": -60
    },
    "id": "jXutlGQ6SzDH",
    "outputId": "7ae38790-d9e1-47fa-db2b-1201cd3b206f"
   },
   "outputs": [
    {
     "data": {
      "text/plain": [
       "<AxesSubplot:xlabel='category', ylabel='Count'>"
      ]
     },
     "execution_count": 20,
     "metadata": {},
     "output_type": "execute_result"
    },
    {
     "data": {
      "image/png": "[encoded data removed]",
      "text/plain": [
       "<Figure size 432x288 with 1 Axes>"
      ]
     },
     "metadata": {
      "needs_background": "light"
     },
     "output_type": "display_data"
    }
   ],
   "source": [
    "#plot category available\n",
    "plt.xticks(rotation = 90)\n",
    "sns.histplot(df.category)"
   ]
  },
  {
   "cell_type": "code",
   "execution_count": 21,
   "metadata": {
    "executionInfo": {
     "elapsed": 900,
     "status": "ok",
     "timestamp": 1646255959663,
     "user": {
      "displayName": "Shilpa Madhuri G",
      "photoUrl": "https://lh3.googleusercontent.com/a-/AOh14Gg12I7ZaKq3iW7eFXO8D9_j_4xhtG6TaDX6HJRv=s64",
      "userId": "10862127389095438079"
     },
     "user_tz": -60
    },
    "id": "MpQwPr0cacde"
   },
   "outputs": [],
   "source": [
    "# find the completed courses as per the category\n",
    "t = df[df['truth'] == 0]"
   ]
  },
  {
   "cell_type": "code",
   "execution_count": 22,
   "metadata": {
    "executionInfo": {
     "elapsed": 992,
     "status": "ok",
     "timestamp": 1646256275667,
     "user": {
      "displayName": "Shilpa Madhuri G",
      "photoUrl": "https://lh3.googleusercontent.com/a-/AOh14Gg12I7ZaKq3iW7eFXO8D9_j_4xhtG6TaDX6HJRv=s64",
      "userId": "10862127389095438079"
     },
     "user_tz": -60
    },
    "id": "1B03VMBVhKsO"
   },
   "outputs": [],
   "source": [
    "# find the dropout courses as per the category\n",
    "t_1 = df[df['truth'] == 1]"
   ]
  },
  {
   "cell_type": "code",
   "execution_count": 23,
   "metadata": {
    "colab": {
     "base_uri": "https://localhost:8080/",
     "height": 372
    },
    "executionInfo": {
     "elapsed": 9224,
     "status": "ok",
     "timestamp": 1646255993271,
     "user": {
      "displayName": "Shilpa Madhuri G",
      "photoUrl": "https://lh3.googleusercontent.com/a-/AOh14Gg12I7ZaKq3iW7eFXO8D9_j_4xhtG6TaDX6HJRv=s64",
      "userId": "10862127389095438079"
     },
     "user_tz": -60
    },
    "id": "dblizS0rgHDn",
    "outputId": "75e7bd55-6598-45dc-ab8c-27e8caaffbe0",
    "scrolled": true
   },
   "outputs": [
    {
     "data": {
      "text/plain": [
       "<AxesSubplot:xlabel='category', ylabel='Count'>"
      ]
     },
     "execution_count": 23,
     "metadata": {},
     "output_type": "execute_result"
    },
    {
     "data": {
      "image/png": "[encoded data removed]",
      "text/plain": [
       "<Figure size 432x288 with 1 Axes>"
      ]
     },
     "metadata": {
      "needs_background": "light"
     },
     "output_type": "display_data"
    }
   ],
   "source": [
    "#plot category available for all completed courses\n",
    "plt.xticks(rotation = 90)\n",
    "sns.histplot(t.category)"
   ]
  },
  {
   "cell_type": "code",
   "execution_count": 24,
   "metadata": {},
   "outputs": [
    {
     "data": {
      "text/plain": [
       "<AxesSubplot:xlabel='category', ylabel='Count'>"
      ]
     },
     "execution_count": 24,
     "metadata": {},
     "output_type": "execute_result"
    },
    {
     "data": {
      "image/png": "[encoded data removed]",
      "text/plain": [
       "<Figure size 432x288 with 1 Axes>"
      ]
     },
     "metadata": {
      "needs_background": "light"
     },
     "output_type": "display_data"
    }
   ],
   "source": [
    "#plot category available for all dropped out courses\n",
    "plt.xticks(rotation = 90)\n",
    "sns.histplot(t_1.category)"
   ]
  },
  {
   "cell_type": "code",
   "execution_count": 25,
   "metadata": {
    "colab": {
     "base_uri": "https://localhost:8080/",
     "height": 308
    },
    "executionInfo": {
     "elapsed": 11523,
     "status": "ok",
     "timestamp": 1646255667920,
     "user": {
      "displayName": "Shilpa Madhuri G",
      "photoUrl": "https://lh3.googleusercontent.com/a-/AOh14Gg12I7ZaKq3iW7eFXO8D9_j_4xhtG6TaDX6HJRv=s64",
      "userId": "10862127389095438079"
     },
     "user_tz": -60
    },
    "id": "yipoAndNTy2k",
    "outputId": "6e7b319f-3006-4891-b5e3-bf192cda1cb8"
   },
   "outputs": [
    {
     "data": {
      "text/plain": [
       "<AxesSubplot:xlabel='gender', ylabel='Count'>"
      ]
     },
     "execution_count": 25,
     "metadata": {},
     "output_type": "execute_result"
    },
    {
     "data": {
      "image/png": "[encoded data removed]",
      "text/plain": [
       "<Figure size 432x288 with 1 Axes>"
      ]
     },
     "metadata": {
      "needs_background": "light"
     },
     "output_type": "display_data"
    }
   ],
   "source": [
    "#plot gender who enrolled into course\n",
    "sns.histplot(df.gender)"
   ]
  },
  {
   "cell_type": "code",
   "execution_count": 26,
   "metadata": {
    "colab": {
     "base_uri": "https://localhost:8080/"
    },
    "executionInfo": {
     "elapsed": 394,
     "status": "ok",
     "timestamp": 1646256160552,
     "user": {
      "displayName": "Shilpa Madhuri G",
      "photoUrl": "https://lh3.googleusercontent.com/a-/AOh14Gg12I7ZaKq3iW7eFXO8D9_j_4xhtG6TaDX6HJRv=s64",
      "userId": "10862127389095438079"
     },
     "user_tz": -60
    },
    "id": "Y0P5uhFuciqi",
    "outputId": "146801d7-b10e-4bae-e121-5249ce707f65"
   },
   "outputs": [
    {
     "data": {
      "text/plain": [
       "0.6201683542535898"
      ]
     },
     "execution_count": 26,
     "metadata": {},
     "output_type": "execute_result"
    }
   ],
   "source": [
    "# percentage of completion wrt number of users enrolled for all courses\n",
    "p_Completion_courses = len(t)/len(df)\n",
    "p_Completion_courses\n"
   ]
  },
  {
   "cell_type": "code",
   "execution_count": 27,
   "metadata": {
    "colab": {
     "base_uri": "https://localhost:8080/"
    },
    "executionInfo": {
     "elapsed": 373,
     "status": "ok",
     "timestamp": 1646256446048,
     "user": {
      "displayName": "Shilpa Madhuri G",
      "photoUrl": "https://lh3.googleusercontent.com/a-/AOh14Gg12I7ZaKq3iW7eFXO8D9_j_4xhtG6TaDX6HJRv=s64",
      "userId": "10862127389095438079"
     },
     "user_tz": -60
    },
    "id": "OqF4acLmhy3B",
    "outputId": "112ba81e-c319-4200-f63d-b87706ceb2da"
   },
   "outputs": [
    {
     "data": {
      "text/plain": [
       "0.37983164574641015"
      ]
     },
     "execution_count": 27,
     "metadata": {},
     "output_type": "execute_result"
    }
   ],
   "source": [
    "# percentage of drouputs wrt number of users enrolled for all courses\n",
    "p_dropout_courses = len(t_1)/len(df)\n",
    "p_dropout_courses\n"
   ]
  },
  {
   "cell_type": "code",
   "execution_count": 28,
   "metadata": {
    "colab": {
     "base_uri": "https://localhost:8080/",
     "height": 373
    },
    "executionInfo": {
     "elapsed": 6653,
     "status": "ok",
     "timestamp": 1646256333547,
     "user": {
      "displayName": "Shilpa Madhuri G",
      "photoUrl": "https://lh3.googleusercontent.com/a-/AOh14Gg12I7ZaKq3iW7eFXO8D9_j_4xhtG6TaDX6HJRv=s64",
      "userId": "10862127389095438079"
     },
     "user_tz": -60
    },
    "id": "lGcR0ewfdVwZ",
    "outputId": "3b6e88fc-df62-49de-9764-8de09c600cb8"
   },
   "outputs": [
    {
     "data": {
      "text/plain": [
       "<AxesSubplot:xlabel='category', ylabel='Count'>"
      ]
     },
     "execution_count": 28,
     "metadata": {},
     "output_type": "execute_result"
    },
    {
     "data": {
      "image/png": "[encoded data removed]",
      "text/plain": [
       "<Figure size 432x288 with 1 Axes>"
      ]
     },
     "metadata": {
      "needs_background": "light"
     },
     "output_type": "display_data"
    }
   ],
   "source": [
    "#plot category where there were dropouts\n",
    "plt.xticks(rotation = 90)\n",
    "sns.histplot(t_1.category)"
   ]
  },
  {
   "cell_type": "code",
   "execution_count": 29,
   "metadata": {
    "colab": {
     "base_uri": "https://localhost:8080/"
    },
    "executionInfo": {
     "elapsed": 9,
     "status": "ok",
     "timestamp": 1646257088645,
     "user": {
      "displayName": "Shilpa Madhuri G",
      "photoUrl": "https://lh3.googleusercontent.com/a-/AOh14Gg12I7ZaKq3iW7eFXO8D9_j_4xhtG6TaDX6HJRv=s64",
      "userId": "10862127389095438079"
     },
     "user_tz": -60
    },
    "id": "Acwyzqj8hgSi",
    "outputId": "c041ed42-9330-475d-f752-ad487d847e63"
   },
   "outputs": [
    {
     "data": {
      "text/plain": [
       "username        int64\n",
       "session_id     object\n",
       "action         object\n",
       "time           object\n",
       "truth           int64\n",
       "id              int64\n",
       "start          object\n",
       "end            object\n",
       "category       object\n",
       "gender         object\n",
       "education      object\n",
       "birth         float64\n",
       "age             int64\n",
       "dtype: object"
      ]
     },
     "execution_count": 29,
     "metadata": {},
     "output_type": "execute_result"
    }
   ],
   "source": [
    "df.dtypes"
   ]
  },
  {
   "cell_type": "code",
   "execution_count": 30,
   "metadata": {
    "executionInfo": {
     "elapsed": 420,
     "status": "ok",
     "timestamp": 1646257124577,
     "user": {
      "displayName": "Shilpa Madhuri G",
      "photoUrl": "https://lh3.googleusercontent.com/a-/AOh14Gg12I7ZaKq3iW7eFXO8D9_j_4xhtG6TaDX6HJRv=s64",
      "userId": "10862127389095438079"
     },
     "user_tz": -60
    },
    "id": "YeXhKOnWkY0d"
   },
   "outputs": [],
   "source": [
    "df['Datetime'] = pd.to_datetime(df['time'])"
   ]
  },
  {
   "cell_type": "code",
   "execution_count": 31,
   "metadata": {
    "executionInfo": {
     "elapsed": 1949,
     "status": "ok",
     "timestamp": 1646257152254,
     "user": {
      "displayName": "Shilpa Madhuri G",
      "photoUrl": "https://lh3.googleusercontent.com/a-/AOh14Gg12I7ZaKq3iW7eFXO8D9_j_4xhtG6TaDX6HJRv=s64",
      "userId": "10862127389095438079"
     },
     "user_tz": -60
    },
    "id": "FpB3UHrukevk"
   },
   "outputs": [],
   "source": [
    "df = df.drop(['time'], axis = 1)"
   ]
  },
  {
   "cell_type": "code",
   "execution_count": 32,
   "metadata": {
    "executionInfo": {
     "elapsed": 484,
     "status": "ok",
     "timestamp": 1646257197373,
     "user": {
      "displayName": "Shilpa Madhuri G",
      "photoUrl": "https://lh3.googleusercontent.com/a-/AOh14Gg12I7ZaKq3iW7eFXO8D9_j_4xhtG6TaDX6HJRv=s64",
      "userId": "10862127389095438079"
     },
     "user_tz": -60
    },
    "id": "JwMkJwVzkpR5"
   },
   "outputs": [],
   "source": [
    "## try to convert datetime to timestamp \n",
    "df['timestamp'] = df.Datetime.values.astype(np.int64) // 10 ** 9"
   ]
  },
  {
   "cell_type": "code",
   "execution_count": 33,
   "metadata": {
    "executionInfo": {
     "elapsed": 1508,
     "status": "ok",
     "timestamp": 1646257237082,
     "user": {
      "displayName": "Shilpa Madhuri G",
      "photoUrl": "https://lh3.googleusercontent.com/a-/AOh14Gg12I7ZaKq3iW7eFXO8D9_j_4xhtG6TaDX6HJRv=s64",
      "userId": "10862127389095438079"
     },
     "user_tz": -60
    },
    "id": "uUKJBWwGk6go"
   },
   "outputs": [],
   "source": [
    "df = df.drop(['Datetime'], axis = 1)"
   ]
  },
  {
   "cell_type": "code",
   "execution_count": 34,
   "metadata": {
    "executionInfo": {
     "elapsed": 3542,
     "status": "ok",
     "timestamp": 1646257290418,
     "user": {
      "displayName": "Shilpa Madhuri G",
      "photoUrl": "https://lh3.googleusercontent.com/a-/AOh14Gg12I7ZaKq3iW7eFXO8D9_j_4xhtG6TaDX6HJRv=s64",
      "userId": "10862127389095438079"
     },
     "user_tz": -60
    },
    "id": "hnXTbJLclHcN"
   },
   "outputs": [],
   "source": [
    "df = df.sort_values(['username','timestamp'])"
   ]
  },
  {
   "cell_type": "code",
   "execution_count": 35,
   "metadata": {
    "colab": {
     "base_uri": "https://localhost:8080/",
     "height": 250
    },
    "executionInfo": {
     "elapsed": 11691,
     "status": "ok",
     "timestamp": 1646257402110,
     "user": {
      "displayName": "Shilpa Madhuri G",
      "photoUrl": "https://lh3.googleusercontent.com/a-/AOh14Gg12I7ZaKq3iW7eFXO8D9_j_4xhtG6TaDX6HJRv=s64",
      "userId": "10862127389095438079"
     },
     "user_tz": -60
    },
    "id": "O56-l-V2lKy3",
    "outputId": "60f5d50e-5433-48e0-abfe-5e7f2d585ca3"
   },
   "outputs": [
    {
     "data": {
      "text/html": [
       "<div>\n",
       "<style scoped>\n",
       "    .dataframe tbody tr th:only-of-type {\n",
       "        vertical-align: middle;\n",
       "    }\n",
       "\n",
       "    .dataframe tbody tr th {\n",
       "        vertical-align: top;\n",
       "    }\n",
       "\n",
       "    .dataframe thead th {\n",
       "        text-align: right;\n",
       "    }\n",
       "</style>\n",
       "<table border=\"1\" class=\"dataframe\">\n",
       "  <thead>\n",
       "    <tr style=\"text-align: right;\">\n",
       "      <th></th>\n",
       "      <th>username</th>\n",
       "      <th>session_id</th>\n",
       "      <th>action</th>\n",
       "      <th>truth</th>\n",
       "      <th>id</th>\n",
       "      <th>start</th>\n",
       "      <th>end</th>\n",
       "      <th>category</th>\n",
       "      <th>gender</th>\n",
       "      <th>education</th>\n",
       "      <th>birth</th>\n",
       "      <th>age</th>\n",
       "      <th>timestamp</th>\n",
       "      <th>timediff</th>\n",
       "    </tr>\n",
       "  </thead>\n",
       "  <tbody>\n",
       "    <tr>\n",
       "      <th>865516</th>\n",
       "      <td>5</td>\n",
       "      <td>6ff66b03510e0dc515ea4637216f1ad3</td>\n",
       "      <td>load_video</td>\n",
       "      <td>1</td>\n",
       "      <td>802</td>\n",
       "      <td>2015-09-29 08:00:00</td>\n",
       "      <td>2016-01-15 23:30:00</td>\n",
       "      <td>computer</td>\n",
       "      <td>male</td>\n",
       "      <td>Doctorate</td>\n",
       "      <td>1985.0</td>\n",
       "      <td>30</td>\n",
       "      <td>1443613884</td>\n",
       "      <td>0.0</td>\n",
       "    </tr>\n",
       "    <tr>\n",
       "      <th>865517</th>\n",
       "      <td>5</td>\n",
       "      <td>6ff66b03510e0dc515ea4637216f1ad3</td>\n",
       "      <td>load_video</td>\n",
       "      <td>1</td>\n",
       "      <td>802</td>\n",
       "      <td>2015-09-29 08:00:00</td>\n",
       "      <td>2016-01-15 23:30:00</td>\n",
       "      <td>computer</td>\n",
       "      <td>male</td>\n",
       "      <td>Doctorate</td>\n",
       "      <td>1985.0</td>\n",
       "      <td>30</td>\n",
       "      <td>1443613889</td>\n",
       "      <td>5.0</td>\n",
       "    </tr>\n",
       "    <tr>\n",
       "      <th>865520</th>\n",
       "      <td>5</td>\n",
       "      <td>6ff66b03510e0dc515ea4637216f1ad3</td>\n",
       "      <td>close_courseware</td>\n",
       "      <td>1</td>\n",
       "      <td>802</td>\n",
       "      <td>2015-09-29 08:00:00</td>\n",
       "      <td>2016-01-15 23:30:00</td>\n",
       "      <td>computer</td>\n",
       "      <td>male</td>\n",
       "      <td>Doctorate</td>\n",
       "      <td>1985.0</td>\n",
       "      <td>30</td>\n",
       "      <td>1443613995</td>\n",
       "      <td>106.0</td>\n",
       "    </tr>\n",
       "    <tr>\n",
       "      <th>865529</th>\n",
       "      <td>5</td>\n",
       "      <td>6ff66b03510e0dc515ea4637216f1ad3</td>\n",
       "      <td>load_video</td>\n",
       "      <td>1</td>\n",
       "      <td>802</td>\n",
       "      <td>2015-09-29 08:00:00</td>\n",
       "      <td>2016-01-15 23:30:00</td>\n",
       "      <td>computer</td>\n",
       "      <td>male</td>\n",
       "      <td>Doctorate</td>\n",
       "      <td>1985.0</td>\n",
       "      <td>30</td>\n",
       "      <td>1443613999</td>\n",
       "      <td>4.0</td>\n",
       "    </tr>\n",
       "    <tr>\n",
       "      <th>865535</th>\n",
       "      <td>5</td>\n",
       "      <td>6ff66b03510e0dc515ea4637216f1ad3</td>\n",
       "      <td>play_video</td>\n",
       "      <td>1</td>\n",
       "      <td>802</td>\n",
       "      <td>2015-09-29 08:00:00</td>\n",
       "      <td>2016-01-15 23:30:00</td>\n",
       "      <td>computer</td>\n",
       "      <td>male</td>\n",
       "      <td>Doctorate</td>\n",
       "      <td>1985.0</td>\n",
       "      <td>30</td>\n",
       "      <td>1443614005</td>\n",
       "      <td>6.0</td>\n",
       "    </tr>\n",
       "  </tbody>\n",
       "</table>\n",
       "</div>"
      ],
      "text/plain": [
       "        username                        session_id            action  truth  \\\n",
       "865516         5  6ff66b03510e0dc515ea4637216f1ad3        load_video      1   \n",
       "865517         5  6ff66b03510e0dc515ea4637216f1ad3        load_video      1   \n",
       "865520         5  6ff66b03510e0dc515ea4637216f1ad3  close_courseware      1   \n",
       "865529         5  6ff66b03510e0dc515ea4637216f1ad3        load_video      1   \n",
       "865535         5  6ff66b03510e0dc515ea4637216f1ad3        play_video      1   \n",
       "\n",
       "         id                start                  end  category gender  \\\n",
       "865516  802  2015-09-29 08:00:00  2016-01-15 23:30:00  computer   male   \n",
       "865517  802  2015-09-29 08:00:00  2016-01-15 23:30:00  computer   male   \n",
       "865520  802  2015-09-29 08:00:00  2016-01-15 23:30:00  computer   male   \n",
       "865529  802  2015-09-29 08:00:00  2016-01-15 23:30:00  computer   male   \n",
       "865535  802  2015-09-29 08:00:00  2016-01-15 23:30:00  computer   male   \n",
       "\n",
       "        education   birth  age   timestamp  timediff  \n",
       "865516  Doctorate  1985.0   30  1443613884       0.0  \n",
       "865517  Doctorate  1985.0   30  1443613889       5.0  \n",
       "865520  Doctorate  1985.0   30  1443613995     106.0  \n",
       "865529  Doctorate  1985.0   30  1443613999       4.0  \n",
       "865535  Doctorate  1985.0   30  1443614005       6.0  "
      ]
     },
     "execution_count": 35,
     "metadata": {},
     "output_type": "execute_result"
    }
   ],
   "source": [
    "df['timediff'] = pd.DataFrame(df.groupby('username').timestamp.diff().fillna(0))\n",
    "df.head()"
   ]
  },
  {
   "cell_type": "code",
   "execution_count": 36,
   "metadata": {
    "colab": {
     "base_uri": "https://localhost:8080/"
    },
    "executionInfo": {
     "elapsed": 369,
     "status": "ok",
     "timestamp": 1646258501343,
     "user": {
      "displayName": "Shilpa Madhuri G",
      "photoUrl": "https://lh3.googleusercontent.com/a-/AOh14Gg12I7ZaKq3iW7eFXO8D9_j_4xhtG6TaDX6HJRv=s64",
      "userId": "10862127389095438079"
     },
     "user_tz": -60
    },
    "id": "bDPr1Bt9pxoX",
    "outputId": "41a995fa-7b73-4fe9-ebff-bfe739962b28"
   },
   "outputs": [
    {
     "data": {
      "text/plain": [
       "username        14243\n",
       "session_id      81240\n",
       "action             22\n",
       "truth               2\n",
       "id                245\n",
       "start             140\n",
       "end               175\n",
       "category           17\n",
       "gender              2\n",
       "education           7\n",
       "birth              70\n",
       "age                75\n",
       "timestamp     5437750\n",
       "timediff       114990\n",
       "dtype: int64"
      ]
     },
     "execution_count": 36,
     "metadata": {},
     "output_type": "execute_result"
    }
   ],
   "source": [
    "df.nunique()"
   ]
  },
  {
   "cell_type": "code",
   "execution_count": 37,
   "metadata": {
    "colab": {
     "base_uri": "https://localhost:8080/",
     "height": 454
    },
    "executionInfo": {
     "elapsed": 499,
     "status": "error",
     "timestamp": 1646258330218,
     "user": {
      "displayName": "Shilpa Madhuri G",
      "photoUrl": "https://lh3.googleusercontent.com/a-/AOh14Gg12I7ZaKq3iW7eFXO8D9_j_4xhtG6TaDX6HJRv=s64",
      "userId": "10862127389095438079"
     },
     "user_tz": -60
    },
    "id": "8F1wyLE1lz_A",
    "outputId": "b3a55d98-8fe7-4da6-c824-17d5ec695b50"
   },
   "outputs": [],
   "source": [
    "# to see how much time each user spent including all action they did \n",
    "time_df = pd.DataFrame(df.groupby('username').sum()['timediff']).sort_values(by=['timediff'],ascending=False)"
   ]
  },
  {
   "cell_type": "code",
   "execution_count": 38,
   "metadata": {
    "colab": {
     "base_uri": "https://localhost:8080/",
     "height": 454
    },
    "executionInfo": {
     "elapsed": 408,
     "status": "ok",
     "timestamp": 1646257718235,
     "user": {
      "displayName": "Shilpa Madhuri G",
      "photoUrl": "https://lh3.googleusercontent.com/a-/AOh14Gg12I7ZaKq3iW7eFXO8D9_j_4xhtG6TaDX6HJRv=s64",
      "userId": "10862127389095438079"
     },
     "user_tz": -60
    },
    "id": "HPYbp3VGmRae",
    "outputId": "4d90ad13-f329-4243-c41e-79f7bdd8f959"
   },
   "outputs": [
    {
     "data": {
      "text/html": [
       "<div>\n",
       "<style scoped>\n",
       "    .dataframe tbody tr th:only-of-type {\n",
       "        vertical-align: middle;\n",
       "    }\n",
       "\n",
       "    .dataframe tbody tr th {\n",
       "        vertical-align: top;\n",
       "    }\n",
       "\n",
       "    .dataframe thead th {\n",
       "        text-align: right;\n",
       "    }\n",
       "</style>\n",
       "<table border=\"1\" class=\"dataframe\">\n",
       "  <thead>\n",
       "    <tr style=\"text-align: right;\">\n",
       "      <th></th>\n",
       "      <th>timediff</th>\n",
       "    </tr>\n",
       "    <tr>\n",
       "      <th>username</th>\n",
       "      <th></th>\n",
       "    </tr>\n",
       "  </thead>\n",
       "  <tbody>\n",
       "    <tr>\n",
       "      <th>321214</th>\n",
       "      <td>62908012.0</td>\n",
       "    </tr>\n",
       "    <tr>\n",
       "      <th>328771</th>\n",
       "      <td>62508383.0</td>\n",
       "    </tr>\n",
       "    <tr>\n",
       "      <th>12466</th>\n",
       "      <td>61495321.0</td>\n",
       "    </tr>\n",
       "    <tr>\n",
       "      <th>45200</th>\n",
       "      <td>61460239.0</td>\n",
       "    </tr>\n",
       "    <tr>\n",
       "      <th>97105</th>\n",
       "      <td>61230810.0</td>\n",
       "    </tr>\n",
       "    <tr>\n",
       "      <th>...</th>\n",
       "      <td>...</td>\n",
       "    </tr>\n",
       "    <tr>\n",
       "      <th>143673</th>\n",
       "      <td>0.0</td>\n",
       "    </tr>\n",
       "    <tr>\n",
       "      <th>85958</th>\n",
       "      <td>0.0</td>\n",
       "    </tr>\n",
       "    <tr>\n",
       "      <th>224043</th>\n",
       "      <td>0.0</td>\n",
       "    </tr>\n",
       "    <tr>\n",
       "      <th>331003</th>\n",
       "      <td>0.0</td>\n",
       "    </tr>\n",
       "    <tr>\n",
       "      <th>146894</th>\n",
       "      <td>0.0</td>\n",
       "    </tr>\n",
       "  </tbody>\n",
       "</table>\n",
       "<p>14243 rows × 1 columns</p>\n",
       "</div>"
      ],
      "text/plain": [
       "            timediff\n",
       "username            \n",
       "321214    62908012.0\n",
       "328771    62508383.0\n",
       "12466     61495321.0\n",
       "45200     61460239.0\n",
       "97105     61230810.0\n",
       "...              ...\n",
       "143673           0.0\n",
       "85958            0.0\n",
       "224043           0.0\n",
       "331003           0.0\n",
       "146894           0.0\n",
       "\n",
       "[14243 rows x 1 columns]"
      ]
     },
     "execution_count": 38,
     "metadata": {},
     "output_type": "execute_result"
    }
   ],
   "source": [
    "time_df"
   ]
  },
  {
   "cell_type": "markdown",
   "metadata": {},
   "source": [
    "## Final Dataframe"
   ]
  },
  {
   "cell_type": "code",
   "execution_count": 39,
   "metadata": {},
   "outputs": [
    {
     "data": {
      "text/html": [
       "<div>\n",
       "<style scoped>\n",
       "    .dataframe tbody tr th:only-of-type {\n",
       "        vertical-align: middle;\n",
       "    }\n",
       "\n",
       "    .dataframe tbody tr th {\n",
       "        vertical-align: top;\n",
       "    }\n",
       "\n",
       "    .dataframe thead th {\n",
       "        text-align: right;\n",
       "    }\n",
       "</style>\n",
       "<table border=\"1\" class=\"dataframe\">\n",
       "  <thead>\n",
       "    <tr style=\"text-align: right;\">\n",
       "      <th></th>\n",
       "      <th>username</th>\n",
       "      <th>session_id</th>\n",
       "      <th>action</th>\n",
       "      <th>truth</th>\n",
       "      <th>id</th>\n",
       "      <th>start</th>\n",
       "      <th>end</th>\n",
       "      <th>category</th>\n",
       "      <th>gender</th>\n",
       "      <th>education</th>\n",
       "      <th>birth</th>\n",
       "      <th>age</th>\n",
       "      <th>timestamp</th>\n",
       "      <th>timediff</th>\n",
       "    </tr>\n",
       "  </thead>\n",
       "  <tbody>\n",
       "    <tr>\n",
       "      <th>865516</th>\n",
       "      <td>5</td>\n",
       "      <td>6ff66b03510e0dc515ea4637216f1ad3</td>\n",
       "      <td>load_video</td>\n",
       "      <td>1</td>\n",
       "      <td>802</td>\n",
       "      <td>2015-09-29 08:00:00</td>\n",
       "      <td>2016-01-15 23:30:00</td>\n",
       "      <td>computer</td>\n",
       "      <td>male</td>\n",
       "      <td>Doctorate</td>\n",
       "      <td>1985.0</td>\n",
       "      <td>30</td>\n",
       "      <td>1443613884</td>\n",
       "      <td>0.0</td>\n",
       "    </tr>\n",
       "    <tr>\n",
       "      <th>865517</th>\n",
       "      <td>5</td>\n",
       "      <td>6ff66b03510e0dc515ea4637216f1ad3</td>\n",
       "      <td>load_video</td>\n",
       "      <td>1</td>\n",
       "      <td>802</td>\n",
       "      <td>2015-09-29 08:00:00</td>\n",
       "      <td>2016-01-15 23:30:00</td>\n",
       "      <td>computer</td>\n",
       "      <td>male</td>\n",
       "      <td>Doctorate</td>\n",
       "      <td>1985.0</td>\n",
       "      <td>30</td>\n",
       "      <td>1443613889</td>\n",
       "      <td>5.0</td>\n",
       "    </tr>\n",
       "    <tr>\n",
       "      <th>865520</th>\n",
       "      <td>5</td>\n",
       "      <td>6ff66b03510e0dc515ea4637216f1ad3</td>\n",
       "      <td>close_courseware</td>\n",
       "      <td>1</td>\n",
       "      <td>802</td>\n",
       "      <td>2015-09-29 08:00:00</td>\n",
       "      <td>2016-01-15 23:30:00</td>\n",
       "      <td>computer</td>\n",
       "      <td>male</td>\n",
       "      <td>Doctorate</td>\n",
       "      <td>1985.0</td>\n",
       "      <td>30</td>\n",
       "      <td>1443613995</td>\n",
       "      <td>106.0</td>\n",
       "    </tr>\n",
       "    <tr>\n",
       "      <th>865529</th>\n",
       "      <td>5</td>\n",
       "      <td>6ff66b03510e0dc515ea4637216f1ad3</td>\n",
       "      <td>load_video</td>\n",
       "      <td>1</td>\n",
       "      <td>802</td>\n",
       "      <td>2015-09-29 08:00:00</td>\n",
       "      <td>2016-01-15 23:30:00</td>\n",
       "      <td>computer</td>\n",
       "      <td>male</td>\n",
       "      <td>Doctorate</td>\n",
       "      <td>1985.0</td>\n",
       "      <td>30</td>\n",
       "      <td>1443613999</td>\n",
       "      <td>4.0</td>\n",
       "    </tr>\n",
       "    <tr>\n",
       "      <th>865535</th>\n",
       "      <td>5</td>\n",
       "      <td>6ff66b03510e0dc515ea4637216f1ad3</td>\n",
       "      <td>play_video</td>\n",
       "      <td>1</td>\n",
       "      <td>802</td>\n",
       "      <td>2015-09-29 08:00:00</td>\n",
       "      <td>2016-01-15 23:30:00</td>\n",
       "      <td>computer</td>\n",
       "      <td>male</td>\n",
       "      <td>Doctorate</td>\n",
       "      <td>1985.0</td>\n",
       "      <td>30</td>\n",
       "      <td>1443614005</td>\n",
       "      <td>6.0</td>\n",
       "    </tr>\n",
       "  </tbody>\n",
       "</table>\n",
       "</div>"
      ],
      "text/plain": [
       "        username                        session_id            action  truth  \\\n",
       "865516         5  6ff66b03510e0dc515ea4637216f1ad3        load_video      1   \n",
       "865517         5  6ff66b03510e0dc515ea4637216f1ad3        load_video      1   \n",
       "865520         5  6ff66b03510e0dc515ea4637216f1ad3  close_courseware      1   \n",
       "865529         5  6ff66b03510e0dc515ea4637216f1ad3        load_video      1   \n",
       "865535         5  6ff66b03510e0dc515ea4637216f1ad3        play_video      1   \n",
       "\n",
       "         id                start                  end  category gender  \\\n",
       "865516  802  2015-09-29 08:00:00  2016-01-15 23:30:00  computer   male   \n",
       "865517  802  2015-09-29 08:00:00  2016-01-15 23:30:00  computer   male   \n",
       "865520  802  2015-09-29 08:00:00  2016-01-15 23:30:00  computer   male   \n",
       "865529  802  2015-09-29 08:00:00  2016-01-15 23:30:00  computer   male   \n",
       "865535  802  2015-09-29 08:00:00  2016-01-15 23:30:00  computer   male   \n",
       "\n",
       "        education   birth  age   timestamp  timediff  \n",
       "865516  Doctorate  1985.0   30  1443613884       0.0  \n",
       "865517  Doctorate  1985.0   30  1443613889       5.0  \n",
       "865520  Doctorate  1985.0   30  1443613995     106.0  \n",
       "865529  Doctorate  1985.0   30  1443613999       4.0  \n",
       "865535  Doctorate  1985.0   30  1443614005       6.0  "
      ]
     },
     "execution_count": 39,
     "metadata": {},
     "output_type": "execute_result"
    }
   ],
   "source": [
    "df.head()"
   ]
  },
  {
   "cell_type": "code",
   "execution_count": 40,
   "metadata": {},
   "outputs": [
    {
     "data": {
      "text/plain": [
       "(8291326, 14)"
      ]
     },
     "execution_count": 40,
     "metadata": {},
     "output_type": "execute_result"
    }
   ],
   "source": [
    "df.shape"
   ]
  },
  {
   "cell_type": "code",
   "execution_count": 41,
   "metadata": {},
   "outputs": [
    {
     "data": {
      "text/plain": [
       "array(['Doctorate', \"Bachelor's\", \"Master's\", 'High', 'Associate',\n",
       "       'Middle', 'Primary'], dtype=object)"
      ]
     },
     "execution_count": 41,
     "metadata": {},
     "output_type": "execute_result"
    }
   ],
   "source": [
    "df.education.unique()"
   ]
  },
  {
   "cell_type": "code",
   "execution_count": null,
   "metadata": {},
   "outputs": [],
   "source": []
  },
  {
   "cell_type": "markdown",
   "metadata": {},
   "source": [
    "# Pipeline for preprocessing + baseline model"
   ]
  },
  {
   "cell_type": "markdown",
   "metadata": {},
   "source": [
    "## Selecting/reducing the data for the baseline model"
   ]
  },
  {
   "cell_type": "code",
   "execution_count": 42,
   "metadata": {},
   "outputs": [
    {
     "data": {
      "text/plain": [
       "male      5654921\n",
       "female    2636405\n",
       "Name: gender, dtype: int64"
      ]
     },
     "execution_count": 42,
     "metadata": {},
     "output_type": "execute_result"
    }
   ],
   "source": [
    "df.gender.value_counts()"
   ]
  },
  {
   "cell_type": "code",
   "execution_count": 43,
   "metadata": {},
   "outputs": [
    {
     "data": {
      "text/html": [
       "<div>\n",
       "<style scoped>\n",
       "    .dataframe tbody tr th:only-of-type {\n",
       "        vertical-align: middle;\n",
       "    }\n",
       "\n",
       "    .dataframe tbody tr th {\n",
       "        vertical-align: top;\n",
       "    }\n",
       "\n",
       "    .dataframe thead th {\n",
       "        text-align: right;\n",
       "    }\n",
       "</style>\n",
       "<table border=\"1\" class=\"dataframe\">\n",
       "  <thead>\n",
       "    <tr style=\"text-align: right;\">\n",
       "      <th></th>\n",
       "      <th>username</th>\n",
       "      <th>session_id</th>\n",
       "      <th>action</th>\n",
       "      <th>truth</th>\n",
       "      <th>id</th>\n",
       "      <th>start</th>\n",
       "      <th>end</th>\n",
       "      <th>category</th>\n",
       "      <th>gender</th>\n",
       "      <th>education</th>\n",
       "      <th>birth</th>\n",
       "      <th>age</th>\n",
       "      <th>timestamp</th>\n",
       "      <th>timediff</th>\n",
       "    </tr>\n",
       "  </thead>\n",
       "  <tbody>\n",
       "    <tr>\n",
       "      <th>865516</th>\n",
       "      <td>5</td>\n",
       "      <td>6ff66b03510e0dc515ea4637216f1ad3</td>\n",
       "      <td>load_video</td>\n",
       "      <td>1</td>\n",
       "      <td>802</td>\n",
       "      <td>2015-09-29 08:00:00</td>\n",
       "      <td>2016-01-15 23:30:00</td>\n",
       "      <td>computer</td>\n",
       "      <td>male</td>\n",
       "      <td>Doctorate</td>\n",
       "      <td>1985.0</td>\n",
       "      <td>30</td>\n",
       "      <td>1443613884</td>\n",
       "      <td>0.0</td>\n",
       "    </tr>\n",
       "    <tr>\n",
       "      <th>865517</th>\n",
       "      <td>5</td>\n",
       "      <td>6ff66b03510e0dc515ea4637216f1ad3</td>\n",
       "      <td>load_video</td>\n",
       "      <td>1</td>\n",
       "      <td>802</td>\n",
       "      <td>2015-09-29 08:00:00</td>\n",
       "      <td>2016-01-15 23:30:00</td>\n",
       "      <td>computer</td>\n",
       "      <td>male</td>\n",
       "      <td>Doctorate</td>\n",
       "      <td>1985.0</td>\n",
       "      <td>30</td>\n",
       "      <td>1443613889</td>\n",
       "      <td>5.0</td>\n",
       "    </tr>\n",
       "    <tr>\n",
       "      <th>865520</th>\n",
       "      <td>5</td>\n",
       "      <td>6ff66b03510e0dc515ea4637216f1ad3</td>\n",
       "      <td>close_courseware</td>\n",
       "      <td>1</td>\n",
       "      <td>802</td>\n",
       "      <td>2015-09-29 08:00:00</td>\n",
       "      <td>2016-01-15 23:30:00</td>\n",
       "      <td>computer</td>\n",
       "      <td>male</td>\n",
       "      <td>Doctorate</td>\n",
       "      <td>1985.0</td>\n",
       "      <td>30</td>\n",
       "      <td>1443613995</td>\n",
       "      <td>106.0</td>\n",
       "    </tr>\n",
       "    <tr>\n",
       "      <th>865529</th>\n",
       "      <td>5</td>\n",
       "      <td>6ff66b03510e0dc515ea4637216f1ad3</td>\n",
       "      <td>load_video</td>\n",
       "      <td>1</td>\n",
       "      <td>802</td>\n",
       "      <td>2015-09-29 08:00:00</td>\n",
       "      <td>2016-01-15 23:30:00</td>\n",
       "      <td>computer</td>\n",
       "      <td>male</td>\n",
       "      <td>Doctorate</td>\n",
       "      <td>1985.0</td>\n",
       "      <td>30</td>\n",
       "      <td>1443613999</td>\n",
       "      <td>4.0</td>\n",
       "    </tr>\n",
       "    <tr>\n",
       "      <th>865535</th>\n",
       "      <td>5</td>\n",
       "      <td>6ff66b03510e0dc515ea4637216f1ad3</td>\n",
       "      <td>play_video</td>\n",
       "      <td>1</td>\n",
       "      <td>802</td>\n",
       "      <td>2015-09-29 08:00:00</td>\n",
       "      <td>2016-01-15 23:30:00</td>\n",
       "      <td>computer</td>\n",
       "      <td>male</td>\n",
       "      <td>Doctorate</td>\n",
       "      <td>1985.0</td>\n",
       "      <td>30</td>\n",
       "      <td>1443614005</td>\n",
       "      <td>6.0</td>\n",
       "    </tr>\n",
       "  </tbody>\n",
       "</table>\n",
       "</div>"
      ],
      "text/plain": [
       "        username                        session_id            action  truth  \\\n",
       "865516         5  6ff66b03510e0dc515ea4637216f1ad3        load_video      1   \n",
       "865517         5  6ff66b03510e0dc515ea4637216f1ad3        load_video      1   \n",
       "865520         5  6ff66b03510e0dc515ea4637216f1ad3  close_courseware      1   \n",
       "865529         5  6ff66b03510e0dc515ea4637216f1ad3        load_video      1   \n",
       "865535         5  6ff66b03510e0dc515ea4637216f1ad3        play_video      1   \n",
       "\n",
       "         id                start                  end  category gender  \\\n",
       "865516  802  2015-09-29 08:00:00  2016-01-15 23:30:00  computer   male   \n",
       "865517  802  2015-09-29 08:00:00  2016-01-15 23:30:00  computer   male   \n",
       "865520  802  2015-09-29 08:00:00  2016-01-15 23:30:00  computer   male   \n",
       "865529  802  2015-09-29 08:00:00  2016-01-15 23:30:00  computer   male   \n",
       "865535  802  2015-09-29 08:00:00  2016-01-15 23:30:00  computer   male   \n",
       "\n",
       "        education   birth  age   timestamp  timediff  \n",
       "865516  Doctorate  1985.0   30  1443613884       0.0  \n",
       "865517  Doctorate  1985.0   30  1443613889       5.0  \n",
       "865520  Doctorate  1985.0   30  1443613995     106.0  \n",
       "865529  Doctorate  1985.0   30  1443613999       4.0  \n",
       "865535  Doctorate  1985.0   30  1443614005       6.0  "
      ]
     },
     "execution_count": 43,
     "metadata": {},
     "output_type": "execute_result"
    }
   ],
   "source": [
    "df.head()"
   ]
  },
  {
   "cell_type": "code",
   "execution_count": 44,
   "metadata": {},
   "outputs": [],
   "source": [
    "#def age_constructor(data):\n",
    "#    return pd.DatetimeIndex(pd.to_datetime(data['start'], format='%Y/%m/%d')).year - pd.DatetimeIndex(pd.to_datetime(data['birth'], format='%Y')).year"
   ]
  },
  {
   "cell_type": "code",
   "execution_count": 45,
   "metadata": {},
   "outputs": [
    {
     "data": {
      "text/plain": [
       "2009.0"
      ]
     },
     "execution_count": 45,
     "metadata": {},
     "output_type": "execute_result"
    }
   ],
   "source": [
    "df.birth.max()"
   ]
  },
  {
   "cell_type": "code",
   "execution_count": 46,
   "metadata": {},
   "outputs": [],
   "source": [
    "#df.loc[df['birth'] == 2018]"
   ]
  },
  {
   "cell_type": "code",
   "execution_count": 47,
   "metadata": {},
   "outputs": [],
   "source": [
    "# Selecting the relevant features for the X\n",
    "X = df[['age', 'category', 'gender', 'education']]"
   ]
  },
  {
   "cell_type": "code",
   "execution_count": 48,
   "metadata": {},
   "outputs": [
    {
     "data": {
      "text/html": [
       "<div>\n",
       "<style scoped>\n",
       "    .dataframe tbody tr th:only-of-type {\n",
       "        vertical-align: middle;\n",
       "    }\n",
       "\n",
       "    .dataframe tbody tr th {\n",
       "        vertical-align: top;\n",
       "    }\n",
       "\n",
       "    .dataframe thead th {\n",
       "        text-align: right;\n",
       "    }\n",
       "</style>\n",
       "<table border=\"1\" class=\"dataframe\">\n",
       "  <thead>\n",
       "    <tr style=\"text-align: right;\">\n",
       "      <th></th>\n",
       "      <th>age</th>\n",
       "      <th>category</th>\n",
       "      <th>gender</th>\n",
       "      <th>education</th>\n",
       "    </tr>\n",
       "  </thead>\n",
       "  <tbody>\n",
       "    <tr>\n",
       "      <th>865516</th>\n",
       "      <td>30</td>\n",
       "      <td>computer</td>\n",
       "      <td>male</td>\n",
       "      <td>Doctorate</td>\n",
       "    </tr>\n",
       "    <tr>\n",
       "      <th>865517</th>\n",
       "      <td>30</td>\n",
       "      <td>computer</td>\n",
       "      <td>male</td>\n",
       "      <td>Doctorate</td>\n",
       "    </tr>\n",
       "    <tr>\n",
       "      <th>865520</th>\n",
       "      <td>30</td>\n",
       "      <td>computer</td>\n",
       "      <td>male</td>\n",
       "      <td>Doctorate</td>\n",
       "    </tr>\n",
       "    <tr>\n",
       "      <th>865529</th>\n",
       "      <td>30</td>\n",
       "      <td>computer</td>\n",
       "      <td>male</td>\n",
       "      <td>Doctorate</td>\n",
       "    </tr>\n",
       "    <tr>\n",
       "      <th>865535</th>\n",
       "      <td>30</td>\n",
       "      <td>computer</td>\n",
       "      <td>male</td>\n",
       "      <td>Doctorate</td>\n",
       "    </tr>\n",
       "  </tbody>\n",
       "</table>\n",
       "</div>"
      ],
      "text/plain": [
       "        age  category gender  education\n",
       "865516   30  computer   male  Doctorate\n",
       "865517   30  computer   male  Doctorate\n",
       "865520   30  computer   male  Doctorate\n",
       "865529   30  computer   male  Doctorate\n",
       "865535   30  computer   male  Doctorate"
      ]
     },
     "execution_count": 48,
     "metadata": {},
     "output_type": "execute_result"
    }
   ],
   "source": [
    "X.head()"
   ]
  },
  {
   "cell_type": "code",
   "execution_count": 49,
   "metadata": {},
   "outputs": [],
   "source": [
    "# Defining the target\n",
    "y = df['truth']"
   ]
  },
  {
   "cell_type": "code",
   "execution_count": 50,
   "metadata": {},
   "outputs": [],
   "source": [
    "# Reducing X only for the first 2_000 rows\n",
    "X = X.iloc[:5_000]"
   ]
  },
  {
   "cell_type": "code",
   "execution_count": 51,
   "metadata": {},
   "outputs": [],
   "source": [
    "# Reducing y only for the first 2_000 rows\n",
    "y = y.iloc[:5_000]"
   ]
  },
  {
   "cell_type": "code",
   "execution_count": 52,
   "metadata": {},
   "outputs": [],
   "source": [
    "# Plitting the data into test and train set\n",
    "X_train, X_test, y_train, y_test = train_test_split(X, y, test_size=0.3, random_state=42)"
   ]
  },
  {
   "cell_type": "markdown",
   "metadata": {},
   "source": [
    "## Preprocessing pipeline"
   ]
  },
  {
   "cell_type": "code",
   "execution_count": 53,
   "metadata": {},
   "outputs": [
    {
     "data": {
      "text/html": [
       "<style>#sk-e2850e20-1b0d-43a4-a1dc-4187f5b17382 {color: black;background-color: white;}#sk-e2850e20-1b0d-43a4-a1dc-4187f5b17382 pre{padding: 0;}#sk-e2850e20-1b0d-43a4-a1dc-4187f5b17382 div.sk-toggleable {background-color: white;}#sk-e2850e20-1b0d-43a4-a1dc-4187f5b17382 label.sk-toggleable__label {cursor: pointer;display: block;width: 100%;margin-bottom: 0;padding: 0.3em;box-sizing: border-box;text-align: center;}#sk-e2850e20-1b0d-43a4-a1dc-4187f5b17382 label.sk-toggleable__label-arrow:before {content: \"▸\";float: left;margin-right: 0.25em;color: #696969;}#sk-e2850e20-1b0d-43a4-a1dc-4187f5b17382 label.sk-toggleable__label-arrow:hover:before {color: black;}#sk-e2850e20-1b0d-43a4-a1dc-4187f5b17382 div.sk-estimator:hover label.sk-toggleable__label-arrow:before {color: black;}#sk-e2850e20-1b0d-43a4-a1dc-4187f5b17382 div.sk-toggleable__content {max-height: 0;max-width: 0;overflow: hidden;text-align: left;background-color: #f0f8ff;}#sk-e2850e20-1b0d-43a4-a1dc-4187f5b17382 div.sk-toggleable__content pre {margin: 0.2em;color: black;border-radius: 0.25em;background-color: #f0f8ff;}#sk-e2850e20-1b0d-43a4-a1dc-4187f5b17382 input.sk-toggleable__control:checked~div.sk-toggleable__content {max-height: 200px;max-width: 100%;overflow: auto;}#sk-e2850e20-1b0d-43a4-a1dc-4187f5b17382 input.sk-toggleable__control:checked~label.sk-toggleable__label-arrow:before {content: \"▾\";}#sk-e2850e20-1b0d-43a4-a1dc-4187f5b17382 div.sk-estimator input.sk-toggleable__control:checked~label.sk-toggleable__label {background-color: #d4ebff;}#sk-e2850e20-1b0d-43a4-a1dc-4187f5b17382 div.sk-label input.sk-toggleable__control:checked~label.sk-toggleable__label {background-color: #d4ebff;}#sk-e2850e20-1b0d-43a4-a1dc-4187f5b17382 input.sk-hidden--visually {border: 0;clip: rect(1px 1px 1px 1px);clip: rect(1px, 1px, 1px, 1px);height: 1px;margin: -1px;overflow: hidden;padding: 0;position: absolute;width: 1px;}#sk-e2850e20-1b0d-43a4-a1dc-4187f5b17382 div.sk-estimator {font-family: monospace;background-color: #f0f8ff;border: 1px dotted black;border-radius: 0.25em;box-sizing: border-box;margin-bottom: 0.5em;}#sk-e2850e20-1b0d-43a4-a1dc-4187f5b17382 div.sk-estimator:hover {background-color: #d4ebff;}#sk-e2850e20-1b0d-43a4-a1dc-4187f5b17382 div.sk-parallel-item::after {content: \"\";width: 100%;border-bottom: 1px solid gray;flex-grow: 1;}#sk-e2850e20-1b0d-43a4-a1dc-4187f5b17382 div.sk-label:hover label.sk-toggleable__label {background-color: #d4ebff;}#sk-e2850e20-1b0d-43a4-a1dc-4187f5b17382 div.sk-serial::before {content: \"\";position: absolute;border-left: 1px solid gray;box-sizing: border-box;top: 2em;bottom: 0;left: 50%;}#sk-e2850e20-1b0d-43a4-a1dc-4187f5b17382 div.sk-serial {display: flex;flex-direction: column;align-items: center;background-color: white;padding-right: 0.2em;padding-left: 0.2em;}#sk-e2850e20-1b0d-43a4-a1dc-4187f5b17382 div.sk-item {z-index: 1;}#sk-e2850e20-1b0d-43a4-a1dc-4187f5b17382 div.sk-parallel {display: flex;align-items: stretch;justify-content: center;background-color: white;}#sk-e2850e20-1b0d-43a4-a1dc-4187f5b17382 div.sk-parallel::before {content: \"\";position: absolute;border-left: 1px solid gray;box-sizing: border-box;top: 2em;bottom: 0;left: 50%;}#sk-e2850e20-1b0d-43a4-a1dc-4187f5b17382 div.sk-parallel-item {display: flex;flex-direction: column;position: relative;background-color: white;}#sk-e2850e20-1b0d-43a4-a1dc-4187f5b17382 div.sk-parallel-item:first-child::after {align-self: flex-end;width: 50%;}#sk-e2850e20-1b0d-43a4-a1dc-4187f5b17382 div.sk-parallel-item:last-child::after {align-self: flex-start;width: 50%;}#sk-e2850e20-1b0d-43a4-a1dc-4187f5b17382 div.sk-parallel-item:only-child::after {width: 0;}#sk-e2850e20-1b0d-43a4-a1dc-4187f5b17382 div.sk-dashed-wrapped {border: 1px dashed gray;margin: 0 0.4em 0.5em 0.4em;box-sizing: border-box;padding-bottom: 0.4em;background-color: white;position: relative;}#sk-e2850e20-1b0d-43a4-a1dc-4187f5b17382 div.sk-label label {font-family: monospace;font-weight: bold;background-color: white;display: inline-block;line-height: 1.2em;}#sk-e2850e20-1b0d-43a4-a1dc-4187f5b17382 div.sk-label-container {position: relative;z-index: 2;text-align: center;}#sk-e2850e20-1b0d-43a4-a1dc-4187f5b17382 div.sk-container {/* jupyter's `normalize.less` sets `[hidden] { display: none; }` but bootstrap.min.css set `[hidden] { display: none !important; }` so we also need the `!important` here to be able to override the default hidden behavior on the sphinx rendered scikit-learn.org. See: https://github.com/scikit-learn/scikit-learn/issues/21755 */display: inline-block !important;position: relative;}#sk-e2850e20-1b0d-43a4-a1dc-4187f5b17382 div.sk-text-repr-fallback {display: none;}</style><div id=\"sk-e2850e20-1b0d-43a4-a1dc-4187f5b17382\" class=\"sk-top-container\"><div class=\"sk-text-repr-fallback\"><pre>ColumnTransformer(transformers=[(&#x27;num_tr&#x27;,\n",
       "                                 Pipeline(steps=[(&#x27;scaler&#x27;, StandardScaler())]),\n",
       "                                 [&#x27;age&#x27;]),\n",
       "                                (&#x27;cat_tr&#x27;,\n",
       "                                 OneHotEncoder(handle_unknown=&#x27;ignore&#x27;,\n",
       "                                               sparse=False),\n",
       "                                 [&#x27;education&#x27;, &#x27;gender&#x27;, &#x27;category&#x27;])])</pre><b>Please rerun this cell to show the HTML repr or trust the notebook.</b></div><div class=\"sk-container\" hidden><div class=\"sk-item sk-dashed-wrapped\"><div class=\"sk-label-container\"><div class=\"sk-label sk-toggleable\"><input class=\"sk-toggleable__control sk-hidden--visually\" id=\"46f7b48a-ab17-4dc9-9b8d-1ab65a75e212\" type=\"checkbox\" ><label for=\"46f7b48a-ab17-4dc9-9b8d-1ab65a75e212\" class=\"sk-toggleable__label sk-toggleable__label-arrow\">ColumnTransformer</label><div class=\"sk-toggleable__content\"><pre>ColumnTransformer(transformers=[(&#x27;num_tr&#x27;,\n",
       "                                 Pipeline(steps=[(&#x27;scaler&#x27;, StandardScaler())]),\n",
       "                                 [&#x27;age&#x27;]),\n",
       "                                (&#x27;cat_tr&#x27;,\n",
       "                                 OneHotEncoder(handle_unknown=&#x27;ignore&#x27;,\n",
       "                                               sparse=False),\n",
       "                                 [&#x27;education&#x27;, &#x27;gender&#x27;, &#x27;category&#x27;])])</pre></div></div></div><div class=\"sk-parallel\"><div class=\"sk-parallel-item\"><div class=\"sk-item\"><div class=\"sk-label-container\"><div class=\"sk-label sk-toggleable\"><input class=\"sk-toggleable__control sk-hidden--visually\" id=\"5ec9bd9f-aad7-4d89-8300-52e18df1661d\" type=\"checkbox\" ><label for=\"5ec9bd9f-aad7-4d89-8300-52e18df1661d\" class=\"sk-toggleable__label sk-toggleable__label-arrow\">num_tr</label><div class=\"sk-toggleable__content\"><pre>[&#x27;age&#x27;]</pre></div></div></div><div class=\"sk-serial\"><div class=\"sk-item\"><div class=\"sk-serial\"><div class=\"sk-item\"><div class=\"sk-estimator sk-toggleable\"><input class=\"sk-toggleable__control sk-hidden--visually\" id=\"4de5a3b4-9944-4f20-a5d0-5fac8b941eb2\" type=\"checkbox\" ><label for=\"4de5a3b4-9944-4f20-a5d0-5fac8b941eb2\" class=\"sk-toggleable__label sk-toggleable__label-arrow\">StandardScaler</label><div class=\"sk-toggleable__content\"><pre>StandardScaler()</pre></div></div></div></div></div></div></div></div><div class=\"sk-parallel-item\"><div class=\"sk-item\"><div class=\"sk-label-container\"><div class=\"sk-label sk-toggleable\"><input class=\"sk-toggleable__control sk-hidden--visually\" id=\"968fc008-841f-42e5-ae38-69c675840cfa\" type=\"checkbox\" ><label for=\"968fc008-841f-42e5-ae38-69c675840cfa\" class=\"sk-toggleable__label sk-toggleable__label-arrow\">cat_tr</label><div class=\"sk-toggleable__content\"><pre>[&#x27;education&#x27;, &#x27;gender&#x27;, &#x27;category&#x27;]</pre></div></div></div><div class=\"sk-serial\"><div class=\"sk-item\"><div class=\"sk-estimator sk-toggleable\"><input class=\"sk-toggleable__control sk-hidden--visually\" id=\"49cdb5a8-6884-442e-9d86-ee2f534245bf\" type=\"checkbox\" ><label for=\"49cdb5a8-6884-442e-9d86-ee2f534245bf\" class=\"sk-toggleable__label sk-toggleable__label-arrow\">OneHotEncoder</label><div class=\"sk-toggleable__content\"><pre>OneHotEncoder(handle_unknown=&#x27;ignore&#x27;, sparse=False)</pre></div></div></div></div></div></div></div></div></div></div>"
      ],
      "text/plain": [
       "ColumnTransformer(transformers=[('num_tr',\n",
       "                                 Pipeline(steps=[('scaler', StandardScaler())]),\n",
       "                                 ['age']),\n",
       "                                ('cat_tr',\n",
       "                                 OneHotEncoder(handle_unknown='ignore',\n",
       "                                               sparse=False),\n",
       "                                 ['education', 'gender', 'category'])])"
      ]
     },
     "execution_count": 53,
     "metadata": {},
     "output_type": "execute_result"
    }
   ],
   "source": [
    "# Scale for numerical variables: \n",
    "num_transformer = Pipeline([\n",
    "    ('scaler', StandardScaler())])\n",
    "\n",
    "# Encode categorical variables with OneHotEncoder\n",
    "cat_transformer = OneHotEncoder(handle_unknown='ignore', sparse=False)\n",
    "\n",
    "# Paralellize \"num_transformer\" and \"One hot encoder\"\n",
    "preprocessor = ColumnTransformer([\n",
    "    ('num_tr', num_transformer, ['age']),\n",
    "    ('cat_tr', cat_transformer, ['education', 'gender', 'category'])],\n",
    "    remainder='drop')\n",
    "    \n",
    "preprocessor"
   ]
  },
  {
   "cell_type": "code",
   "execution_count": 54,
   "metadata": {},
   "outputs": [
    {
     "data": {
      "text/html": [
       "<div>\n",
       "<style scoped>\n",
       "    .dataframe tbody tr th:only-of-type {\n",
       "        vertical-align: middle;\n",
       "    }\n",
       "\n",
       "    .dataframe tbody tr th {\n",
       "        vertical-align: top;\n",
       "    }\n",
       "\n",
       "    .dataframe thead th {\n",
       "        text-align: right;\n",
       "    }\n",
       "</style>\n",
       "<table border=\"1\" class=\"dataframe\">\n",
       "  <thead>\n",
       "    <tr style=\"text-align: right;\">\n",
       "      <th></th>\n",
       "      <th>age</th>\n",
       "      <th>category</th>\n",
       "      <th>gender</th>\n",
       "      <th>education</th>\n",
       "    </tr>\n",
       "  </thead>\n",
       "  <tbody>\n",
       "    <tr>\n",
       "      <th>10896075</th>\n",
       "      <td>26</td>\n",
       "      <td>art</td>\n",
       "      <td>female</td>\n",
       "      <td>Master's</td>\n",
       "    </tr>\n",
       "    <tr>\n",
       "      <th>10896678</th>\n",
       "      <td>26</td>\n",
       "      <td>art</td>\n",
       "      <td>female</td>\n",
       "      <td>Master's</td>\n",
       "    </tr>\n",
       "    <tr>\n",
       "      <th>4346263</th>\n",
       "      <td>21</td>\n",
       "      <td>business</td>\n",
       "      <td>female</td>\n",
       "      <td>Bachelor's</td>\n",
       "    </tr>\n",
       "  </tbody>\n",
       "</table>\n",
       "</div>"
      ],
      "text/plain": [
       "          age  category  gender   education\n",
       "10896075   26       art  female    Master's\n",
       "10896678   26       art  female    Master's\n",
       "4346263    21  business  female  Bachelor's"
      ]
     },
     "metadata": {},
     "output_type": "display_data"
    },
    {
     "data": {
      "text/html": [
       "<div>\n",
       "<style scoped>\n",
       "    .dataframe tbody tr th:only-of-type {\n",
       "        vertical-align: middle;\n",
       "    }\n",
       "\n",
       "    .dataframe tbody tr th {\n",
       "        vertical-align: top;\n",
       "    }\n",
       "\n",
       "    .dataframe thead th {\n",
       "        text-align: right;\n",
       "    }\n",
       "</style>\n",
       "<table border=\"1\" class=\"dataframe\">\n",
       "  <thead>\n",
       "    <tr style=\"text-align: right;\">\n",
       "      <th></th>\n",
       "      <th>0</th>\n",
       "      <th>1</th>\n",
       "      <th>2</th>\n",
       "      <th>3</th>\n",
       "      <th>4</th>\n",
       "      <th>5</th>\n",
       "      <th>6</th>\n",
       "      <th>7</th>\n",
       "      <th>8</th>\n",
       "      <th>9</th>\n",
       "      <th>...</th>\n",
       "      <th>12</th>\n",
       "      <th>13</th>\n",
       "      <th>14</th>\n",
       "      <th>15</th>\n",
       "      <th>16</th>\n",
       "      <th>17</th>\n",
       "      <th>18</th>\n",
       "      <th>19</th>\n",
       "      <th>20</th>\n",
       "      <th>21</th>\n",
       "    </tr>\n",
       "  </thead>\n",
       "  <tbody>\n",
       "    <tr>\n",
       "      <th>0</th>\n",
       "      <td>0.696779</td>\n",
       "      <td>0.0</td>\n",
       "      <td>0.0</td>\n",
       "      <td>0.0</td>\n",
       "      <td>1.0</td>\n",
       "      <td>1.0</td>\n",
       "      <td>0.0</td>\n",
       "      <td>1.0</td>\n",
       "      <td>0.0</td>\n",
       "      <td>0.0</td>\n",
       "      <td>...</td>\n",
       "      <td>0.0</td>\n",
       "      <td>0.0</td>\n",
       "      <td>0.0</td>\n",
       "      <td>0.0</td>\n",
       "      <td>0.0</td>\n",
       "      <td>0.0</td>\n",
       "      <td>0.0</td>\n",
       "      <td>0.0</td>\n",
       "      <td>0.0</td>\n",
       "      <td>0.0</td>\n",
       "    </tr>\n",
       "    <tr>\n",
       "      <th>1</th>\n",
       "      <td>0.696779</td>\n",
       "      <td>0.0</td>\n",
       "      <td>0.0</td>\n",
       "      <td>0.0</td>\n",
       "      <td>1.0</td>\n",
       "      <td>1.0</td>\n",
       "      <td>0.0</td>\n",
       "      <td>1.0</td>\n",
       "      <td>0.0</td>\n",
       "      <td>0.0</td>\n",
       "      <td>...</td>\n",
       "      <td>0.0</td>\n",
       "      <td>0.0</td>\n",
       "      <td>0.0</td>\n",
       "      <td>0.0</td>\n",
       "      <td>0.0</td>\n",
       "      <td>0.0</td>\n",
       "      <td>0.0</td>\n",
       "      <td>0.0</td>\n",
       "      <td>0.0</td>\n",
       "      <td>0.0</td>\n",
       "    </tr>\n",
       "    <tr>\n",
       "      <th>2</th>\n",
       "      <td>-1.023541</td>\n",
       "      <td>1.0</td>\n",
       "      <td>0.0</td>\n",
       "      <td>0.0</td>\n",
       "      <td>0.0</td>\n",
       "      <td>1.0</td>\n",
       "      <td>0.0</td>\n",
       "      <td>0.0</td>\n",
       "      <td>1.0</td>\n",
       "      <td>0.0</td>\n",
       "      <td>...</td>\n",
       "      <td>0.0</td>\n",
       "      <td>0.0</td>\n",
       "      <td>0.0</td>\n",
       "      <td>0.0</td>\n",
       "      <td>0.0</td>\n",
       "      <td>0.0</td>\n",
       "      <td>0.0</td>\n",
       "      <td>0.0</td>\n",
       "      <td>0.0</td>\n",
       "      <td>0.0</td>\n",
       "    </tr>\n",
       "  </tbody>\n",
       "</table>\n",
       "<p>3 rows × 22 columns</p>\n",
       "</div>"
      ],
      "text/plain": [
       "         0    1    2    3    4    5    6    7    8    9   ...   12   13   14  \\\n",
       "0  0.696779  0.0  0.0  0.0  1.0  1.0  0.0  1.0  0.0  0.0  ...  0.0  0.0  0.0   \n",
       "1  0.696779  0.0  0.0  0.0  1.0  1.0  0.0  1.0  0.0  0.0  ...  0.0  0.0  0.0   \n",
       "2 -1.023541  1.0  0.0  0.0  0.0  1.0  0.0  0.0  1.0  0.0  ...  0.0  0.0  0.0   \n",
       "\n",
       "    15   16   17   18   19   20   21  \n",
       "0  0.0  0.0  0.0  0.0  0.0  0.0  0.0  \n",
       "1  0.0  0.0  0.0  0.0  0.0  0.0  0.0  \n",
       "2  0.0  0.0  0.0  0.0  0.0  0.0  0.0  \n",
       "\n",
       "[3 rows x 22 columns]"
      ]
     },
     "metadata": {},
     "output_type": "display_data"
    }
   ],
   "source": [
    "# Controlling the output after the preprocessing\n",
    "X_train_transformed = preprocessor.fit_transform(X_train)\n",
    "\n",
    "display(X_train.head(3))\n",
    "display(pd.DataFrame(X_train_transformed).head(3))"
   ]
  },
  {
   "cell_type": "code",
   "execution_count": 55,
   "metadata": {},
   "outputs": [
    {
     "data": {
      "text/plain": [
       "(3500, 22)"
      ]
     },
     "execution_count": 55,
     "metadata": {},
     "output_type": "execute_result"
    }
   ],
   "source": [
    "# The shape of the preprocessed X\n",
    "X_train_transformed.shape"
   ]
  },
  {
   "cell_type": "markdown",
   "metadata": {},
   "source": [
    "## Merging the preprocessing pipeline with the baseline model KNN"
   ]
  },
  {
   "cell_type": "code",
   "execution_count": 56,
   "metadata": {},
   "outputs": [
    {
     "data": {
      "text/html": [
       "<style>#sk-cdbb8288-8c02-4b09-bec5-0050094e4b98 {color: black;background-color: white;}#sk-cdbb8288-8c02-4b09-bec5-0050094e4b98 pre{padding: 0;}#sk-cdbb8288-8c02-4b09-bec5-0050094e4b98 div.sk-toggleable {background-color: white;}#sk-cdbb8288-8c02-4b09-bec5-0050094e4b98 label.sk-toggleable__label {cursor: pointer;display: block;width: 100%;margin-bottom: 0;padding: 0.3em;box-sizing: border-box;text-align: center;}#sk-cdbb8288-8c02-4b09-bec5-0050094e4b98 label.sk-toggleable__label-arrow:before {content: \"▸\";float: left;margin-right: 0.25em;color: #696969;}#sk-cdbb8288-8c02-4b09-bec5-0050094e4b98 label.sk-toggleable__label-arrow:hover:before {color: black;}#sk-cdbb8288-8c02-4b09-bec5-0050094e4b98 div.sk-estimator:hover label.sk-toggleable__label-arrow:before {color: black;}#sk-cdbb8288-8c02-4b09-bec5-0050094e4b98 div.sk-toggleable__content {max-height: 0;max-width: 0;overflow: hidden;text-align: left;background-color: #f0f8ff;}#sk-cdbb8288-8c02-4b09-bec5-0050094e4b98 div.sk-toggleable__content pre {margin: 0.2em;color: black;border-radius: 0.25em;background-color: #f0f8ff;}#sk-cdbb8288-8c02-4b09-bec5-0050094e4b98 input.sk-toggleable__control:checked~div.sk-toggleable__content {max-height: 200px;max-width: 100%;overflow: auto;}#sk-cdbb8288-8c02-4b09-bec5-0050094e4b98 input.sk-toggleable__control:checked~label.sk-toggleable__label-arrow:before {content: \"▾\";}#sk-cdbb8288-8c02-4b09-bec5-0050094e4b98 div.sk-estimator input.sk-toggleable__control:checked~label.sk-toggleable__label {background-color: #d4ebff;}#sk-cdbb8288-8c02-4b09-bec5-0050094e4b98 div.sk-label input.sk-toggleable__control:checked~label.sk-toggleable__label {background-color: #d4ebff;}#sk-cdbb8288-8c02-4b09-bec5-0050094e4b98 input.sk-hidden--visually {border: 0;clip: rect(1px 1px 1px 1px);clip: rect(1px, 1px, 1px, 1px);height: 1px;margin: -1px;overflow: hidden;padding: 0;position: absolute;width: 1px;}#sk-cdbb8288-8c02-4b09-bec5-0050094e4b98 div.sk-estimator {font-family: monospace;background-color: #f0f8ff;border: 1px dotted black;border-radius: 0.25em;box-sizing: border-box;margin-bottom: 0.5em;}#sk-cdbb8288-8c02-4b09-bec5-0050094e4b98 div.sk-estimator:hover {background-color: #d4ebff;}#sk-cdbb8288-8c02-4b09-bec5-0050094e4b98 div.sk-parallel-item::after {content: \"\";width: 100%;border-bottom: 1px solid gray;flex-grow: 1;}#sk-cdbb8288-8c02-4b09-bec5-0050094e4b98 div.sk-label:hover label.sk-toggleable__label {background-color: #d4ebff;}#sk-cdbb8288-8c02-4b09-bec5-0050094e4b98 div.sk-serial::before {content: \"\";position: absolute;border-left: 1px solid gray;box-sizing: border-box;top: 2em;bottom: 0;left: 50%;}#sk-cdbb8288-8c02-4b09-bec5-0050094e4b98 div.sk-serial {display: flex;flex-direction: column;align-items: center;background-color: white;padding-right: 0.2em;padding-left: 0.2em;}#sk-cdbb8288-8c02-4b09-bec5-0050094e4b98 div.sk-item {z-index: 1;}#sk-cdbb8288-8c02-4b09-bec5-0050094e4b98 div.sk-parallel {display: flex;align-items: stretch;justify-content: center;background-color: white;}#sk-cdbb8288-8c02-4b09-bec5-0050094e4b98 div.sk-parallel::before {content: \"\";position: absolute;border-left: 1px solid gray;box-sizing: border-box;top: 2em;bottom: 0;left: 50%;}#sk-cdbb8288-8c02-4b09-bec5-0050094e4b98 div.sk-parallel-item {display: flex;flex-direction: column;position: relative;background-color: white;}#sk-cdbb8288-8c02-4b09-bec5-0050094e4b98 div.sk-parallel-item:first-child::after {align-self: flex-end;width: 50%;}#sk-cdbb8288-8c02-4b09-bec5-0050094e4b98 div.sk-parallel-item:last-child::after {align-self: flex-start;width: 50%;}#sk-cdbb8288-8c02-4b09-bec5-0050094e4b98 div.sk-parallel-item:only-child::after {width: 0;}#sk-cdbb8288-8c02-4b09-bec5-0050094e4b98 div.sk-dashed-wrapped {border: 1px dashed gray;margin: 0 0.4em 0.5em 0.4em;box-sizing: border-box;padding-bottom: 0.4em;background-color: white;position: relative;}#sk-cdbb8288-8c02-4b09-bec5-0050094e4b98 div.sk-label label {font-family: monospace;font-weight: bold;background-color: white;display: inline-block;line-height: 1.2em;}#sk-cdbb8288-8c02-4b09-bec5-0050094e4b98 div.sk-label-container {position: relative;z-index: 2;text-align: center;}#sk-cdbb8288-8c02-4b09-bec5-0050094e4b98 div.sk-container {/* jupyter's `normalize.less` sets `[hidden] { display: none; }` but bootstrap.min.css set `[hidden] { display: none !important; }` so we also need the `!important` here to be able to override the default hidden behavior on the sphinx rendered scikit-learn.org. See: https://github.com/scikit-learn/scikit-learn/issues/21755 */display: inline-block !important;position: relative;}#sk-cdbb8288-8c02-4b09-bec5-0050094e4b98 div.sk-text-repr-fallback {display: none;}</style><div id=\"sk-cdbb8288-8c02-4b09-bec5-0050094e4b98\" class=\"sk-top-container\"><div class=\"sk-text-repr-fallback\"><pre>Pipeline(steps=[(&#x27;columntransformer&#x27;,\n",
       "                 ColumnTransformer(transformers=[(&#x27;num_tr&#x27;,\n",
       "                                                  Pipeline(steps=[(&#x27;scaler&#x27;,\n",
       "                                                                   StandardScaler())]),\n",
       "                                                  [&#x27;age&#x27;]),\n",
       "                                                 (&#x27;cat_tr&#x27;,\n",
       "                                                  OneHotEncoder(handle_unknown=&#x27;ignore&#x27;,\n",
       "                                                                sparse=False),\n",
       "                                                  [&#x27;education&#x27;, &#x27;gender&#x27;,\n",
       "                                                   &#x27;category&#x27;])])),\n",
       "                (&#x27;kneighborsclassifier&#x27;, KNeighborsClassifier())])</pre><b>Please rerun this cell to show the HTML repr or trust the notebook.</b></div><div class=\"sk-container\" hidden><div class=\"sk-item sk-dashed-wrapped\"><div class=\"sk-label-container\"><div class=\"sk-label sk-toggleable\"><input class=\"sk-toggleable__control sk-hidden--visually\" id=\"9354e920-9735-4d77-b8b0-36a4b4e26f45\" type=\"checkbox\" ><label for=\"9354e920-9735-4d77-b8b0-36a4b4e26f45\" class=\"sk-toggleable__label sk-toggleable__label-arrow\">Pipeline</label><div class=\"sk-toggleable__content\"><pre>Pipeline(steps=[(&#x27;columntransformer&#x27;,\n",
       "                 ColumnTransformer(transformers=[(&#x27;num_tr&#x27;,\n",
       "                                                  Pipeline(steps=[(&#x27;scaler&#x27;,\n",
       "                                                                   StandardScaler())]),\n",
       "                                                  [&#x27;age&#x27;]),\n",
       "                                                 (&#x27;cat_tr&#x27;,\n",
       "                                                  OneHotEncoder(handle_unknown=&#x27;ignore&#x27;,\n",
       "                                                                sparse=False),\n",
       "                                                  [&#x27;education&#x27;, &#x27;gender&#x27;,\n",
       "                                                   &#x27;category&#x27;])])),\n",
       "                (&#x27;kneighborsclassifier&#x27;, KNeighborsClassifier())])</pre></div></div></div><div class=\"sk-serial\"><div class=\"sk-item sk-dashed-wrapped\"><div class=\"sk-label-container\"><div class=\"sk-label sk-toggleable\"><input class=\"sk-toggleable__control sk-hidden--visually\" id=\"bf983859-e85f-4f01-9965-22ab62b99bce\" type=\"checkbox\" ><label for=\"bf983859-e85f-4f01-9965-22ab62b99bce\" class=\"sk-toggleable__label sk-toggleable__label-arrow\">columntransformer: ColumnTransformer</label><div class=\"sk-toggleable__content\"><pre>ColumnTransformer(transformers=[(&#x27;num_tr&#x27;,\n",
       "                                 Pipeline(steps=[(&#x27;scaler&#x27;, StandardScaler())]),\n",
       "                                 [&#x27;age&#x27;]),\n",
       "                                (&#x27;cat_tr&#x27;,\n",
       "                                 OneHotEncoder(handle_unknown=&#x27;ignore&#x27;,\n",
       "                                               sparse=False),\n",
       "                                 [&#x27;education&#x27;, &#x27;gender&#x27;, &#x27;category&#x27;])])</pre></div></div></div><div class=\"sk-parallel\"><div class=\"sk-parallel-item\"><div class=\"sk-item\"><div class=\"sk-label-container\"><div class=\"sk-label sk-toggleable\"><input class=\"sk-toggleable__control sk-hidden--visually\" id=\"e734d89a-5dbe-4ceb-b851-28468b0ddfc4\" type=\"checkbox\" ><label for=\"e734d89a-5dbe-4ceb-b851-28468b0ddfc4\" class=\"sk-toggleable__label sk-toggleable__label-arrow\">num_tr</label><div class=\"sk-toggleable__content\"><pre>[&#x27;age&#x27;]</pre></div></div></div><div class=\"sk-serial\"><div class=\"sk-item\"><div class=\"sk-serial\"><div class=\"sk-item\"><div class=\"sk-estimator sk-toggleable\"><input class=\"sk-toggleable__control sk-hidden--visually\" id=\"70e59a83-45b2-4cdf-84d3-555eca332748\" type=\"checkbox\" ><label for=\"70e59a83-45b2-4cdf-84d3-555eca332748\" class=\"sk-toggleable__label sk-toggleable__label-arrow\">StandardScaler</label><div class=\"sk-toggleable__content\"><pre>StandardScaler()</pre></div></div></div></div></div></div></div></div><div class=\"sk-parallel-item\"><div class=\"sk-item\"><div class=\"sk-label-container\"><div class=\"sk-label sk-toggleable\"><input class=\"sk-toggleable__control sk-hidden--visually\" id=\"3a7154fc-9f0a-418e-a035-ae293ea91197\" type=\"checkbox\" ><label for=\"3a7154fc-9f0a-418e-a035-ae293ea91197\" class=\"sk-toggleable__label sk-toggleable__label-arrow\">cat_tr</label><div class=\"sk-toggleable__content\"><pre>[&#x27;education&#x27;, &#x27;gender&#x27;, &#x27;category&#x27;]</pre></div></div></div><div class=\"sk-serial\"><div class=\"sk-item\"><div class=\"sk-estimator sk-toggleable\"><input class=\"sk-toggleable__control sk-hidden--visually\" id=\"0c39b2ec-e94f-4ba4-ac35-bd2442653bcd\" type=\"checkbox\" ><label for=\"0c39b2ec-e94f-4ba4-ac35-bd2442653bcd\" class=\"sk-toggleable__label sk-toggleable__label-arrow\">OneHotEncoder</label><div class=\"sk-toggleable__content\"><pre>OneHotEncoder(handle_unknown=&#x27;ignore&#x27;, sparse=False)</pre></div></div></div></div></div></div></div></div><div class=\"sk-item\"><div class=\"sk-estimator sk-toggleable\"><input class=\"sk-toggleable__control sk-hidden--visually\" id=\"d29ecc7f-3cc1-4c81-8763-fea0961b1dd6\" type=\"checkbox\" ><label for=\"d29ecc7f-3cc1-4c81-8763-fea0961b1dd6\" class=\"sk-toggleable__label sk-toggleable__label-arrow\">KNeighborsClassifier</label><div class=\"sk-toggleable__content\"><pre>KNeighborsClassifier()</pre></div></div></div></div></div></div></div>"
      ],
      "text/plain": [
       "Pipeline(steps=[('columntransformer',\n",
       "                 ColumnTransformer(transformers=[('num_tr',\n",
       "                                                  Pipeline(steps=[('scaler',\n",
       "                                                                   StandardScaler())]),\n",
       "                                                  ['age']),\n",
       "                                                 ('cat_tr',\n",
       "                                                  OneHotEncoder(handle_unknown='ignore',\n",
       "                                                                sparse=False),\n",
       "                                                  ['education', 'gender',\n",
       "                                                   'category'])])),\n",
       "                ('kneighborsclassifier', KNeighborsClassifier())])"
      ]
     },
     "execution_count": 56,
     "metadata": {},
     "output_type": "execute_result"
    }
   ],
   "source": [
    "pipe = make_pipeline(preprocessor, KNeighborsClassifier())\n",
    "pipe"
   ]
  },
  {
   "cell_type": "code",
   "execution_count": 57,
   "metadata": {},
   "outputs": [
    {
     "data": {
      "text/plain": [
       "0.9854285714285714"
      ]
     },
     "execution_count": 57,
     "metadata": {},
     "output_type": "execute_result"
    }
   ],
   "source": [
    "cross_val_score(pipe, X_train, y_train, cv=5, scoring='accuracy').mean()"
   ]
  },
  {
   "cell_type": "code",
   "execution_count": 58,
   "metadata": {},
   "outputs": [],
   "source": [
    "# Training the model\n",
    "knn_model = pipe.fit(X_train, y_train)"
   ]
  },
  {
   "cell_type": "code",
   "execution_count": 59,
   "metadata": {},
   "outputs": [
    {
     "data": {
      "text/plain": [
       "0.9866666666666667"
      ]
     },
     "execution_count": 59,
     "metadata": {},
     "output_type": "execute_result"
    }
   ],
   "source": [
    "# Model score on unseen data\n",
    "knn_model.score(X_test, y_test)"
   ]
  },
  {
   "cell_type": "code",
   "execution_count": 60,
   "metadata": {},
   "outputs": [
    {
     "data": {
      "text/plain": [
       "array([[1., 0.]])"
      ]
     },
     "execution_count": 60,
     "metadata": {},
     "output_type": "execute_result"
    }
   ],
   "source": [
    "# Using the model for prediction\n",
    "knn_model.predict_proba(pd.DataFrame(X_train.iloc[0,:]).T)"
   ]
  },
  {
   "cell_type": "markdown",
   "metadata": {},
   "source": [
    "## Exporting the model"
   ]
  },
  {
   "cell_type": "code",
   "execution_count": 61,
   "metadata": {},
   "outputs": [],
   "source": [
    "# Exporting the baseline model (the notebook has been updated, and the model as well. The new model is not exported 04.03.2022, 16:42)\n",
    "#filename = \"KNN_BaseModel.joblib\"\n",
    "#joblib.dump(knn_model, filename)"
   ]
  },
  {
   "cell_type": "markdown",
   "metadata": {},
   "source": [
    "## Updated preprocessing pipeline - new feature (action) added \n"
   ]
  },
  {
   "cell_type": "code",
   "execution_count": 62,
   "metadata": {},
   "outputs": [
    {
     "data": {
      "text/html": [
       "<style>#sk-4bf4f157-1f73-41c9-b3ee-aa896da4b0e5 {color: black;background-color: white;}#sk-4bf4f157-1f73-41c9-b3ee-aa896da4b0e5 pre{padding: 0;}#sk-4bf4f157-1f73-41c9-b3ee-aa896da4b0e5 div.sk-toggleable {background-color: white;}#sk-4bf4f157-1f73-41c9-b3ee-aa896da4b0e5 label.sk-toggleable__label {cursor: pointer;display: block;width: 100%;margin-bottom: 0;padding: 0.3em;box-sizing: border-box;text-align: center;}#sk-4bf4f157-1f73-41c9-b3ee-aa896da4b0e5 label.sk-toggleable__label-arrow:before {content: \"▸\";float: left;margin-right: 0.25em;color: #696969;}#sk-4bf4f157-1f73-41c9-b3ee-aa896da4b0e5 label.sk-toggleable__label-arrow:hover:before {color: black;}#sk-4bf4f157-1f73-41c9-b3ee-aa896da4b0e5 div.sk-estimator:hover label.sk-toggleable__label-arrow:before {color: black;}#sk-4bf4f157-1f73-41c9-b3ee-aa896da4b0e5 div.sk-toggleable__content {max-height: 0;max-width: 0;overflow: hidden;text-align: left;background-color: #f0f8ff;}#sk-4bf4f157-1f73-41c9-b3ee-aa896da4b0e5 div.sk-toggleable__content pre {margin: 0.2em;color: black;border-radius: 0.25em;background-color: #f0f8ff;}#sk-4bf4f157-1f73-41c9-b3ee-aa896da4b0e5 input.sk-toggleable__control:checked~div.sk-toggleable__content {max-height: 200px;max-width: 100%;overflow: auto;}#sk-4bf4f157-1f73-41c9-b3ee-aa896da4b0e5 input.sk-toggleable__control:checked~label.sk-toggleable__label-arrow:before {content: \"▾\";}#sk-4bf4f157-1f73-41c9-b3ee-aa896da4b0e5 div.sk-estimator input.sk-toggleable__control:checked~label.sk-toggleable__label {background-color: #d4ebff;}#sk-4bf4f157-1f73-41c9-b3ee-aa896da4b0e5 div.sk-label input.sk-toggleable__control:checked~label.sk-toggleable__label {background-color: #d4ebff;}#sk-4bf4f157-1f73-41c9-b3ee-aa896da4b0e5 input.sk-hidden--visually {border: 0;clip: rect(1px 1px 1px 1px);clip: rect(1px, 1px, 1px, 1px);height: 1px;margin: -1px;overflow: hidden;padding: 0;position: absolute;width: 1px;}#sk-4bf4f157-1f73-41c9-b3ee-aa896da4b0e5 div.sk-estimator {font-family: monospace;background-color: #f0f8ff;border: 1px dotted black;border-radius: 0.25em;box-sizing: border-box;margin-bottom: 0.5em;}#sk-4bf4f157-1f73-41c9-b3ee-aa896da4b0e5 div.sk-estimator:hover {background-color: #d4ebff;}#sk-4bf4f157-1f73-41c9-b3ee-aa896da4b0e5 div.sk-parallel-item::after {content: \"\";width: 100%;border-bottom: 1px solid gray;flex-grow: 1;}#sk-4bf4f157-1f73-41c9-b3ee-aa896da4b0e5 div.sk-label:hover label.sk-toggleable__label {background-color: #d4ebff;}#sk-4bf4f157-1f73-41c9-b3ee-aa896da4b0e5 div.sk-serial::before {content: \"\";position: absolute;border-left: 1px solid gray;box-sizing: border-box;top: 2em;bottom: 0;left: 50%;}#sk-4bf4f157-1f73-41c9-b3ee-aa896da4b0e5 div.sk-serial {display: flex;flex-direction: column;align-items: center;background-color: white;padding-right: 0.2em;padding-left: 0.2em;}#sk-4bf4f157-1f73-41c9-b3ee-aa896da4b0e5 div.sk-item {z-index: 1;}#sk-4bf4f157-1f73-41c9-b3ee-aa896da4b0e5 div.sk-parallel {display: flex;align-items: stretch;justify-content: center;background-color: white;}#sk-4bf4f157-1f73-41c9-b3ee-aa896da4b0e5 div.sk-parallel::before {content: \"\";position: absolute;border-left: 1px solid gray;box-sizing: border-box;top: 2em;bottom: 0;left: 50%;}#sk-4bf4f157-1f73-41c9-b3ee-aa896da4b0e5 div.sk-parallel-item {display: flex;flex-direction: column;position: relative;background-color: white;}#sk-4bf4f157-1f73-41c9-b3ee-aa896da4b0e5 div.sk-parallel-item:first-child::after {align-self: flex-end;width: 50%;}#sk-4bf4f157-1f73-41c9-b3ee-aa896da4b0e5 div.sk-parallel-item:last-child::after {align-self: flex-start;width: 50%;}#sk-4bf4f157-1f73-41c9-b3ee-aa896da4b0e5 div.sk-parallel-item:only-child::after {width: 0;}#sk-4bf4f157-1f73-41c9-b3ee-aa896da4b0e5 div.sk-dashed-wrapped {border: 1px dashed gray;margin: 0 0.4em 0.5em 0.4em;box-sizing: border-box;padding-bottom: 0.4em;background-color: white;position: relative;}#sk-4bf4f157-1f73-41c9-b3ee-aa896da4b0e5 div.sk-label label {font-family: monospace;font-weight: bold;background-color: white;display: inline-block;line-height: 1.2em;}#sk-4bf4f157-1f73-41c9-b3ee-aa896da4b0e5 div.sk-label-container {position: relative;z-index: 2;text-align: center;}#sk-4bf4f157-1f73-41c9-b3ee-aa896da4b0e5 div.sk-container {/* jupyter's `normalize.less` sets `[hidden] { display: none; }` but bootstrap.min.css set `[hidden] { display: none !important; }` so we also need the `!important` here to be able to override the default hidden behavior on the sphinx rendered scikit-learn.org. See: https://github.com/scikit-learn/scikit-learn/issues/21755 */display: inline-block !important;position: relative;}#sk-4bf4f157-1f73-41c9-b3ee-aa896da4b0e5 div.sk-text-repr-fallback {display: none;}</style><div id=\"sk-4bf4f157-1f73-41c9-b3ee-aa896da4b0e5\" class=\"sk-top-container\"><div class=\"sk-text-repr-fallback\"><pre>ColumnTransformer(transformers=[(&#x27;num_tr&#x27;,\n",
       "                                 Pipeline(steps=[(&#x27;scaler&#x27;, StandardScaler())]),\n",
       "                                 [&#x27;age&#x27;]),\n",
       "                                (&#x27;cat_tr&#x27;,\n",
       "                                 OneHotEncoder(handle_unknown=&#x27;ignore&#x27;,\n",
       "                                               sparse=False),\n",
       "                                 [&#x27;education&#x27;, &#x27;gender&#x27;, &#x27;category&#x27;,\n",
       "                                  &#x27;action&#x27;])])</pre><b>Please rerun this cell to show the HTML repr or trust the notebook.</b></div><div class=\"sk-container\" hidden><div class=\"sk-item sk-dashed-wrapped\"><div class=\"sk-label-container\"><div class=\"sk-label sk-toggleable\"><input class=\"sk-toggleable__control sk-hidden--visually\" id=\"64d24067-5a2f-432f-b90c-2786f335d2de\" type=\"checkbox\" ><label for=\"64d24067-5a2f-432f-b90c-2786f335d2de\" class=\"sk-toggleable__label sk-toggleable__label-arrow\">ColumnTransformer</label><div class=\"sk-toggleable__content\"><pre>ColumnTransformer(transformers=[(&#x27;num_tr&#x27;,\n",
       "                                 Pipeline(steps=[(&#x27;scaler&#x27;, StandardScaler())]),\n",
       "                                 [&#x27;age&#x27;]),\n",
       "                                (&#x27;cat_tr&#x27;,\n",
       "                                 OneHotEncoder(handle_unknown=&#x27;ignore&#x27;,\n",
       "                                               sparse=False),\n",
       "                                 [&#x27;education&#x27;, &#x27;gender&#x27;, &#x27;category&#x27;,\n",
       "                                  &#x27;action&#x27;])])</pre></div></div></div><div class=\"sk-parallel\"><div class=\"sk-parallel-item\"><div class=\"sk-item\"><div class=\"sk-label-container\"><div class=\"sk-label sk-toggleable\"><input class=\"sk-toggleable__control sk-hidden--visually\" id=\"d3b35133-78bb-420d-8655-829209ee37de\" type=\"checkbox\" ><label for=\"d3b35133-78bb-420d-8655-829209ee37de\" class=\"sk-toggleable__label sk-toggleable__label-arrow\">num_tr</label><div class=\"sk-toggleable__content\"><pre>[&#x27;age&#x27;]</pre></div></div></div><div class=\"sk-serial\"><div class=\"sk-item\"><div class=\"sk-serial\"><div class=\"sk-item\"><div class=\"sk-estimator sk-toggleable\"><input class=\"sk-toggleable__control sk-hidden--visually\" id=\"7ae2d2f0-baf9-431d-8718-8eb77bb53f3f\" type=\"checkbox\" ><label for=\"7ae2d2f0-baf9-431d-8718-8eb77bb53f3f\" class=\"sk-toggleable__label sk-toggleable__label-arrow\">StandardScaler</label><div class=\"sk-toggleable__content\"><pre>StandardScaler()</pre></div></div></div></div></div></div></div></div><div class=\"sk-parallel-item\"><div class=\"sk-item\"><div class=\"sk-label-container\"><div class=\"sk-label sk-toggleable\"><input class=\"sk-toggleable__control sk-hidden--visually\" id=\"345f0c32-a56b-42cb-80bc-5fb565038cef\" type=\"checkbox\" ><label for=\"345f0c32-a56b-42cb-80bc-5fb565038cef\" class=\"sk-toggleable__label sk-toggleable__label-arrow\">cat_tr</label><div class=\"sk-toggleable__content\"><pre>[&#x27;education&#x27;, &#x27;gender&#x27;, &#x27;category&#x27;, &#x27;action&#x27;]</pre></div></div></div><div class=\"sk-serial\"><div class=\"sk-item\"><div class=\"sk-estimator sk-toggleable\"><input class=\"sk-toggleable__control sk-hidden--visually\" id=\"642ef08a-dee7-4ca4-97b8-658b493cc2ec\" type=\"checkbox\" ><label for=\"642ef08a-dee7-4ca4-97b8-658b493cc2ec\" class=\"sk-toggleable__label sk-toggleable__label-arrow\">OneHotEncoder</label><div class=\"sk-toggleable__content\"><pre>OneHotEncoder(handle_unknown=&#x27;ignore&#x27;, sparse=False)</pre></div></div></div></div></div></div></div></div></div></div>"
      ],
      "text/plain": [
       "ColumnTransformer(transformers=[('num_tr',\n",
       "                                 Pipeline(steps=[('scaler', StandardScaler())]),\n",
       "                                 ['age']),\n",
       "                                ('cat_tr',\n",
       "                                 OneHotEncoder(handle_unknown='ignore',\n",
       "                                               sparse=False),\n",
       "                                 ['education', 'gender', 'category',\n",
       "                                  'action'])])"
      ]
     },
     "execution_count": 62,
     "metadata": {},
     "output_type": "execute_result"
    }
   ],
   "source": [
    "# Scale for numerical variables: \n",
    "num_transformer2 = Pipeline([\n",
    "    ('scaler', StandardScaler())])\n",
    "\n",
    "# Encode categorical variables with OneHotEncoder\n",
    "cat_transformer2 = OneHotEncoder(handle_unknown='ignore', sparse=False)\n",
    "\n",
    "# Paralellize \"num_transformer\" and \"One hot encoder\"\n",
    "preprocessor2 = ColumnTransformer([\n",
    "    ('num_tr', num_transformer, ['age']),\n",
    "    ('cat_tr', cat_transformer, ['education', 'gender', 'category', 'action'])],\n",
    "    remainder='drop')\n",
    "    \n",
    "preprocessor2"
   ]
  },
  {
   "cell_type": "markdown",
   "metadata": {},
   "source": [
    "## Merging the updated pipeline with KNN model"
   ]
  },
  {
   "cell_type": "code",
   "execution_count": 63,
   "metadata": {},
   "outputs": [
    {
     "data": {
      "text/html": [
       "<style>#sk-db9b7a97-955d-4b40-8e02-6d8670417c99 {color: black;background-color: white;}#sk-db9b7a97-955d-4b40-8e02-6d8670417c99 pre{padding: 0;}#sk-db9b7a97-955d-4b40-8e02-6d8670417c99 div.sk-toggleable {background-color: white;}#sk-db9b7a97-955d-4b40-8e02-6d8670417c99 label.sk-toggleable__label {cursor: pointer;display: block;width: 100%;margin-bottom: 0;padding: 0.3em;box-sizing: border-box;text-align: center;}#sk-db9b7a97-955d-4b40-8e02-6d8670417c99 label.sk-toggleable__label-arrow:before {content: \"▸\";float: left;margin-right: 0.25em;color: #696969;}#sk-db9b7a97-955d-4b40-8e02-6d8670417c99 label.sk-toggleable__label-arrow:hover:before {color: black;}#sk-db9b7a97-955d-4b40-8e02-6d8670417c99 div.sk-estimator:hover label.sk-toggleable__label-arrow:before {color: black;}#sk-db9b7a97-955d-4b40-8e02-6d8670417c99 div.sk-toggleable__content {max-height: 0;max-width: 0;overflow: hidden;text-align: left;background-color: #f0f8ff;}#sk-db9b7a97-955d-4b40-8e02-6d8670417c99 div.sk-toggleable__content pre {margin: 0.2em;color: black;border-radius: 0.25em;background-color: #f0f8ff;}#sk-db9b7a97-955d-4b40-8e02-6d8670417c99 input.sk-toggleable__control:checked~div.sk-toggleable__content {max-height: 200px;max-width: 100%;overflow: auto;}#sk-db9b7a97-955d-4b40-8e02-6d8670417c99 input.sk-toggleable__control:checked~label.sk-toggleable__label-arrow:before {content: \"▾\";}#sk-db9b7a97-955d-4b40-8e02-6d8670417c99 div.sk-estimator input.sk-toggleable__control:checked~label.sk-toggleable__label {background-color: #d4ebff;}#sk-db9b7a97-955d-4b40-8e02-6d8670417c99 div.sk-label input.sk-toggleable__control:checked~label.sk-toggleable__label {background-color: #d4ebff;}#sk-db9b7a97-955d-4b40-8e02-6d8670417c99 input.sk-hidden--visually {border: 0;clip: rect(1px 1px 1px 1px);clip: rect(1px, 1px, 1px, 1px);height: 1px;margin: -1px;overflow: hidden;padding: 0;position: absolute;width: 1px;}#sk-db9b7a97-955d-4b40-8e02-6d8670417c99 div.sk-estimator {font-family: monospace;background-color: #f0f8ff;border: 1px dotted black;border-radius: 0.25em;box-sizing: border-box;margin-bottom: 0.5em;}#sk-db9b7a97-955d-4b40-8e02-6d8670417c99 div.sk-estimator:hover {background-color: #d4ebff;}#sk-db9b7a97-955d-4b40-8e02-6d8670417c99 div.sk-parallel-item::after {content: \"\";width: 100%;border-bottom: 1px solid gray;flex-grow: 1;}#sk-db9b7a97-955d-4b40-8e02-6d8670417c99 div.sk-label:hover label.sk-toggleable__label {background-color: #d4ebff;}#sk-db9b7a97-955d-4b40-8e02-6d8670417c99 div.sk-serial::before {content: \"\";position: absolute;border-left: 1px solid gray;box-sizing: border-box;top: 2em;bottom: 0;left: 50%;}#sk-db9b7a97-955d-4b40-8e02-6d8670417c99 div.sk-serial {display: flex;flex-direction: column;align-items: center;background-color: white;padding-right: 0.2em;padding-left: 0.2em;}#sk-db9b7a97-955d-4b40-8e02-6d8670417c99 div.sk-item {z-index: 1;}#sk-db9b7a97-955d-4b40-8e02-6d8670417c99 div.sk-parallel {display: flex;align-items: stretch;justify-content: center;background-color: white;}#sk-db9b7a97-955d-4b40-8e02-6d8670417c99 div.sk-parallel::before {content: \"\";position: absolute;border-left: 1px solid gray;box-sizing: border-box;top: 2em;bottom: 0;left: 50%;}#sk-db9b7a97-955d-4b40-8e02-6d8670417c99 div.sk-parallel-item {display: flex;flex-direction: column;position: relative;background-color: white;}#sk-db9b7a97-955d-4b40-8e02-6d8670417c99 div.sk-parallel-item:first-child::after {align-self: flex-end;width: 50%;}#sk-db9b7a97-955d-4b40-8e02-6d8670417c99 div.sk-parallel-item:last-child::after {align-self: flex-start;width: 50%;}#sk-db9b7a97-955d-4b40-8e02-6d8670417c99 div.sk-parallel-item:only-child::after {width: 0;}#sk-db9b7a97-955d-4b40-8e02-6d8670417c99 div.sk-dashed-wrapped {border: 1px dashed gray;margin: 0 0.4em 0.5em 0.4em;box-sizing: border-box;padding-bottom: 0.4em;background-color: white;position: relative;}#sk-db9b7a97-955d-4b40-8e02-6d8670417c99 div.sk-label label {font-family: monospace;font-weight: bold;background-color: white;display: inline-block;line-height: 1.2em;}#sk-db9b7a97-955d-4b40-8e02-6d8670417c99 div.sk-label-container {position: relative;z-index: 2;text-align: center;}#sk-db9b7a97-955d-4b40-8e02-6d8670417c99 div.sk-container {/* jupyter's `normalize.less` sets `[hidden] { display: none; }` but bootstrap.min.css set `[hidden] { display: none !important; }` so we also need the `!important` here to be able to override the default hidden behavior on the sphinx rendered scikit-learn.org. See: https://github.com/scikit-learn/scikit-learn/issues/21755 */display: inline-block !important;position: relative;}#sk-db9b7a97-955d-4b40-8e02-6d8670417c99 div.sk-text-repr-fallback {display: none;}</style><div id=\"sk-db9b7a97-955d-4b40-8e02-6d8670417c99\" class=\"sk-top-container\"><div class=\"sk-text-repr-fallback\"><pre>Pipeline(steps=[(&#x27;columntransformer&#x27;,\n",
       "                 ColumnTransformer(transformers=[(&#x27;num_tr&#x27;,\n",
       "                                                  Pipeline(steps=[(&#x27;scaler&#x27;,\n",
       "                                                                   StandardScaler())]),\n",
       "                                                  [&#x27;age&#x27;]),\n",
       "                                                 (&#x27;cat_tr&#x27;,\n",
       "                                                  OneHotEncoder(handle_unknown=&#x27;ignore&#x27;,\n",
       "                                                                sparse=False),\n",
       "                                                  [&#x27;education&#x27;, &#x27;gender&#x27;,\n",
       "                                                   &#x27;category&#x27;])])),\n",
       "                (&#x27;kneighborsclassifier&#x27;, KNeighborsClassifier())])</pre><b>Please rerun this cell to show the HTML repr or trust the notebook.</b></div><div class=\"sk-container\" hidden><div class=\"sk-item sk-dashed-wrapped\"><div class=\"sk-label-container\"><div class=\"sk-label sk-toggleable\"><input class=\"sk-toggleable__control sk-hidden--visually\" id=\"460ae029-e531-4a2d-99e4-11b30af583b4\" type=\"checkbox\" ><label for=\"460ae029-e531-4a2d-99e4-11b30af583b4\" class=\"sk-toggleable__label sk-toggleable__label-arrow\">Pipeline</label><div class=\"sk-toggleable__content\"><pre>Pipeline(steps=[(&#x27;columntransformer&#x27;,\n",
       "                 ColumnTransformer(transformers=[(&#x27;num_tr&#x27;,\n",
       "                                                  Pipeline(steps=[(&#x27;scaler&#x27;,\n",
       "                                                                   StandardScaler())]),\n",
       "                                                  [&#x27;age&#x27;]),\n",
       "                                                 (&#x27;cat_tr&#x27;,\n",
       "                                                  OneHotEncoder(handle_unknown=&#x27;ignore&#x27;,\n",
       "                                                                sparse=False),\n",
       "                                                  [&#x27;education&#x27;, &#x27;gender&#x27;,\n",
       "                                                   &#x27;category&#x27;])])),\n",
       "                (&#x27;kneighborsclassifier&#x27;, KNeighborsClassifier())])</pre></div></div></div><div class=\"sk-serial\"><div class=\"sk-item sk-dashed-wrapped\"><div class=\"sk-label-container\"><div class=\"sk-label sk-toggleable\"><input class=\"sk-toggleable__control sk-hidden--visually\" id=\"4f84ebba-f9ec-4718-841b-406f706c2891\" type=\"checkbox\" ><label for=\"4f84ebba-f9ec-4718-841b-406f706c2891\" class=\"sk-toggleable__label sk-toggleable__label-arrow\">columntransformer: ColumnTransformer</label><div class=\"sk-toggleable__content\"><pre>ColumnTransformer(transformers=[(&#x27;num_tr&#x27;,\n",
       "                                 Pipeline(steps=[(&#x27;scaler&#x27;, StandardScaler())]),\n",
       "                                 [&#x27;age&#x27;]),\n",
       "                                (&#x27;cat_tr&#x27;,\n",
       "                                 OneHotEncoder(handle_unknown=&#x27;ignore&#x27;,\n",
       "                                               sparse=False),\n",
       "                                 [&#x27;education&#x27;, &#x27;gender&#x27;, &#x27;category&#x27;])])</pre></div></div></div><div class=\"sk-parallel\"><div class=\"sk-parallel-item\"><div class=\"sk-item\"><div class=\"sk-label-container\"><div class=\"sk-label sk-toggleable\"><input class=\"sk-toggleable__control sk-hidden--visually\" id=\"3f256a95-5bb2-4340-9421-23762cd9723e\" type=\"checkbox\" ><label for=\"3f256a95-5bb2-4340-9421-23762cd9723e\" class=\"sk-toggleable__label sk-toggleable__label-arrow\">num_tr</label><div class=\"sk-toggleable__content\"><pre>[&#x27;age&#x27;]</pre></div></div></div><div class=\"sk-serial\"><div class=\"sk-item\"><div class=\"sk-serial\"><div class=\"sk-item\"><div class=\"sk-estimator sk-toggleable\"><input class=\"sk-toggleable__control sk-hidden--visually\" id=\"12c5b6ef-cdd3-46d0-a1f0-1115640019ad\" type=\"checkbox\" ><label for=\"12c5b6ef-cdd3-46d0-a1f0-1115640019ad\" class=\"sk-toggleable__label sk-toggleable__label-arrow\">StandardScaler</label><div class=\"sk-toggleable__content\"><pre>StandardScaler()</pre></div></div></div></div></div></div></div></div><div class=\"sk-parallel-item\"><div class=\"sk-item\"><div class=\"sk-label-container\"><div class=\"sk-label sk-toggleable\"><input class=\"sk-toggleable__control sk-hidden--visually\" id=\"dd0a9fb3-52ce-4570-8f23-2bbca0e39c58\" type=\"checkbox\" ><label for=\"dd0a9fb3-52ce-4570-8f23-2bbca0e39c58\" class=\"sk-toggleable__label sk-toggleable__label-arrow\">cat_tr</label><div class=\"sk-toggleable__content\"><pre>[&#x27;education&#x27;, &#x27;gender&#x27;, &#x27;category&#x27;]</pre></div></div></div><div class=\"sk-serial\"><div class=\"sk-item\"><div class=\"sk-estimator sk-toggleable\"><input class=\"sk-toggleable__control sk-hidden--visually\" id=\"b0decc85-ef87-45b4-8094-7868973994f5\" type=\"checkbox\" ><label for=\"b0decc85-ef87-45b4-8094-7868973994f5\" class=\"sk-toggleable__label sk-toggleable__label-arrow\">OneHotEncoder</label><div class=\"sk-toggleable__content\"><pre>OneHotEncoder(handle_unknown=&#x27;ignore&#x27;, sparse=False)</pre></div></div></div></div></div></div></div></div><div class=\"sk-item\"><div class=\"sk-estimator sk-toggleable\"><input class=\"sk-toggleable__control sk-hidden--visually\" id=\"7fc9ad5e-dd84-4b31-b611-f8bcd2ee396d\" type=\"checkbox\" ><label for=\"7fc9ad5e-dd84-4b31-b611-f8bcd2ee396d\" class=\"sk-toggleable__label sk-toggleable__label-arrow\">KNeighborsClassifier</label><div class=\"sk-toggleable__content\"><pre>KNeighborsClassifier()</pre></div></div></div></div></div></div></div>"
      ],
      "text/plain": [
       "Pipeline(steps=[('columntransformer',\n",
       "                 ColumnTransformer(transformers=[('num_tr',\n",
       "                                                  Pipeline(steps=[('scaler',\n",
       "                                                                   StandardScaler())]),\n",
       "                                                  ['age']),\n",
       "                                                 ('cat_tr',\n",
       "                                                  OneHotEncoder(handle_unknown='ignore',\n",
       "                                                                sparse=False),\n",
       "                                                  ['education', 'gender',\n",
       "                                                   'category'])])),\n",
       "                ('kneighborsclassifier', KNeighborsClassifier())])"
      ]
     },
     "execution_count": 63,
     "metadata": {},
     "output_type": "execute_result"
    }
   ],
   "source": [
    "pipe2 = make_pipeline(preprocessor, KNeighborsClassifier())\n",
    "pipe2"
   ]
  },
  {
   "cell_type": "markdown",
   "metadata": {},
   "source": [
    "# Activities per defined time \"series\""
   ]
  },
  {
   "cell_type": "markdown",
   "metadata": {},
   "source": [
    "## Function to return a dataframe (df) of activities happening within a percentage of a course (limit)"
   ]
  },
  {
   "cell_type": "code",
   "execution_count": 64,
   "metadata": {},
   "outputs": [
    {
     "data": {
      "text/html": [
       "<div>\n",
       "<style scoped>\n",
       "    .dataframe tbody tr th:only-of-type {\n",
       "        vertical-align: middle;\n",
       "    }\n",
       "\n",
       "    .dataframe tbody tr th {\n",
       "        vertical-align: top;\n",
       "    }\n",
       "\n",
       "    .dataframe thead th {\n",
       "        text-align: right;\n",
       "    }\n",
       "</style>\n",
       "<table border=\"1\" class=\"dataframe\">\n",
       "  <thead>\n",
       "    <tr style=\"text-align: right;\">\n",
       "      <th></th>\n",
       "      <th>username</th>\n",
       "      <th>session_id</th>\n",
       "      <th>action</th>\n",
       "      <th>truth</th>\n",
       "      <th>id</th>\n",
       "      <th>start</th>\n",
       "      <th>end</th>\n",
       "      <th>category</th>\n",
       "      <th>gender</th>\n",
       "      <th>education</th>\n",
       "      <th>birth</th>\n",
       "      <th>age</th>\n",
       "      <th>timestamp</th>\n",
       "      <th>timediff</th>\n",
       "    </tr>\n",
       "  </thead>\n",
       "  <tbody>\n",
       "    <tr>\n",
       "      <th>865516</th>\n",
       "      <td>5</td>\n",
       "      <td>6ff66b03510e0dc515ea4637216f1ad3</td>\n",
       "      <td>load_video</td>\n",
       "      <td>1</td>\n",
       "      <td>802</td>\n",
       "      <td>2015-09-29 08:00:00</td>\n",
       "      <td>2016-01-15 23:30:00</td>\n",
       "      <td>computer</td>\n",
       "      <td>male</td>\n",
       "      <td>Doctorate</td>\n",
       "      <td>1985.0</td>\n",
       "      <td>30</td>\n",
       "      <td>1443613884</td>\n",
       "      <td>0.0</td>\n",
       "    </tr>\n",
       "    <tr>\n",
       "      <th>865517</th>\n",
       "      <td>5</td>\n",
       "      <td>6ff66b03510e0dc515ea4637216f1ad3</td>\n",
       "      <td>load_video</td>\n",
       "      <td>1</td>\n",
       "      <td>802</td>\n",
       "      <td>2015-09-29 08:00:00</td>\n",
       "      <td>2016-01-15 23:30:00</td>\n",
       "      <td>computer</td>\n",
       "      <td>male</td>\n",
       "      <td>Doctorate</td>\n",
       "      <td>1985.0</td>\n",
       "      <td>30</td>\n",
       "      <td>1443613889</td>\n",
       "      <td>5.0</td>\n",
       "    </tr>\n",
       "    <tr>\n",
       "      <th>865520</th>\n",
       "      <td>5</td>\n",
       "      <td>6ff66b03510e0dc515ea4637216f1ad3</td>\n",
       "      <td>close_courseware</td>\n",
       "      <td>1</td>\n",
       "      <td>802</td>\n",
       "      <td>2015-09-29 08:00:00</td>\n",
       "      <td>2016-01-15 23:30:00</td>\n",
       "      <td>computer</td>\n",
       "      <td>male</td>\n",
       "      <td>Doctorate</td>\n",
       "      <td>1985.0</td>\n",
       "      <td>30</td>\n",
       "      <td>1443613995</td>\n",
       "      <td>106.0</td>\n",
       "    </tr>\n",
       "  </tbody>\n",
       "</table>\n",
       "</div>"
      ],
      "text/plain": [
       "        username                        session_id            action  truth  \\\n",
       "865516         5  6ff66b03510e0dc515ea4637216f1ad3        load_video      1   \n",
       "865517         5  6ff66b03510e0dc515ea4637216f1ad3        load_video      1   \n",
       "865520         5  6ff66b03510e0dc515ea4637216f1ad3  close_courseware      1   \n",
       "\n",
       "         id                start                  end  category gender  \\\n",
       "865516  802  2015-09-29 08:00:00  2016-01-15 23:30:00  computer   male   \n",
       "865517  802  2015-09-29 08:00:00  2016-01-15 23:30:00  computer   male   \n",
       "865520  802  2015-09-29 08:00:00  2016-01-15 23:30:00  computer   male   \n",
       "\n",
       "        education   birth  age   timestamp  timediff  \n",
       "865516  Doctorate  1985.0   30  1443613884       0.0  \n",
       "865517  Doctorate  1985.0   30  1443613889       5.0  \n",
       "865520  Doctorate  1985.0   30  1443613995     106.0  "
      ]
     },
     "execution_count": 64,
     "metadata": {},
     "output_type": "execute_result"
    }
   ],
   "source": [
    "df.head(3)"
   ]
  },
  {
   "cell_type": "code",
   "execution_count": 65,
   "metadata": {},
   "outputs": [],
   "source": [
    "df['user_course_id'] = df['username'].astype(str) + '_' + df['id'].astype(str)"
   ]
  },
  {
   "cell_type": "code",
   "execution_count": 66,
   "metadata": {},
   "outputs": [
    {
     "data": {
      "text/plain": [
       "(8291326, 15)"
      ]
     },
     "execution_count": 66,
     "metadata": {},
     "output_type": "execute_result"
    }
   ],
   "source": [
    "df.shape"
   ]
  },
  {
   "cell_type": "code",
   "execution_count": 67,
   "metadata": {},
   "outputs": [],
   "source": [
    "def calc_percentage_course(df, limit):\n",
    "    df['course_start'] = pd.to_datetime(df['start'])\n",
    "    df['course_start'] = df.course_start.values.astype(np.int64) // 10 ** 9\n",
    "    df['course_end'] = pd.to_datetime(df['end'])\n",
    "    df['course_end'] = df.course_end.values.astype(np.int64) // 10 ** 9\n",
    "    df = df.drop(['start'], axis = 1)\n",
    "    df = df.drop(['end'], axis = 1)\n",
    "    df['percent_course'] = (df['timestamp'] - df['course_start'])/(df['course_end'] - df['course_start'])\n",
    "    users_min_limit_per_comp = df[df['percent_course'] >= 0.3]['username'].unique()\n",
    "    df = df[df['username'].isin(users_min_limit_per_comp)][df['percent_course'] < limit]\n",
    "    return df"
   ]
  },
  {
   "cell_type": "markdown",
   "metadata": {},
   "source": [
    "## Users who completed at least 30% of a course\n"
   ]
  },
  {
   "cell_type": "code",
   "execution_count": 68,
   "metadata": {},
   "outputs": [
    {
     "name": "stderr",
     "output_type": "stream",
     "text": [
      "/var/folders/72/fkz0cc590d36rk6ymj140_qr0000gn/T/ipykernel_88269/3312630568.py:10: UserWarning: Boolean Series key will be reindexed to match DataFrame index.\n",
      "  df = df[df['username'].isin(users_min_limit_per_comp)][df['percent_course'] < limit]\n"
     ]
    },
    {
     "data": {
      "text/html": [
       "<div>\n",
       "<style scoped>\n",
       "    .dataframe tbody tr th:only-of-type {\n",
       "        vertical-align: middle;\n",
       "    }\n",
       "\n",
       "    .dataframe tbody tr th {\n",
       "        vertical-align: top;\n",
       "    }\n",
       "\n",
       "    .dataframe thead th {\n",
       "        text-align: right;\n",
       "    }\n",
       "</style>\n",
       "<table border=\"1\" class=\"dataframe\">\n",
       "  <thead>\n",
       "    <tr style=\"text-align: right;\">\n",
       "      <th></th>\n",
       "      <th>username</th>\n",
       "      <th>session_id</th>\n",
       "      <th>action</th>\n",
       "      <th>truth</th>\n",
       "      <th>id</th>\n",
       "      <th>category</th>\n",
       "      <th>gender</th>\n",
       "      <th>education</th>\n",
       "      <th>birth</th>\n",
       "      <th>age</th>\n",
       "      <th>timestamp</th>\n",
       "      <th>timediff</th>\n",
       "      <th>user_course_id</th>\n",
       "      <th>course_start</th>\n",
       "      <th>course_end</th>\n",
       "      <th>percent_course</th>\n",
       "    </tr>\n",
       "  </thead>\n",
       "  <tbody>\n",
       "    <tr>\n",
       "      <th>865516</th>\n",
       "      <td>5</td>\n",
       "      <td>6ff66b03510e0dc515ea4637216f1ad3</td>\n",
       "      <td>load_video</td>\n",
       "      <td>1</td>\n",
       "      <td>802</td>\n",
       "      <td>computer</td>\n",
       "      <td>male</td>\n",
       "      <td>Doctorate</td>\n",
       "      <td>1985.0</td>\n",
       "      <td>30</td>\n",
       "      <td>1443613884</td>\n",
       "      <td>0.0</td>\n",
       "      <td>5_802</td>\n",
       "      <td>1443513600</td>\n",
       "      <td>1452900600</td>\n",
       "      <td>0.010683</td>\n",
       "    </tr>\n",
       "    <tr>\n",
       "      <th>865517</th>\n",
       "      <td>5</td>\n",
       "      <td>6ff66b03510e0dc515ea4637216f1ad3</td>\n",
       "      <td>load_video</td>\n",
       "      <td>1</td>\n",
       "      <td>802</td>\n",
       "      <td>computer</td>\n",
       "      <td>male</td>\n",
       "      <td>Doctorate</td>\n",
       "      <td>1985.0</td>\n",
       "      <td>30</td>\n",
       "      <td>1443613889</td>\n",
       "      <td>5.0</td>\n",
       "      <td>5_802</td>\n",
       "      <td>1443513600</td>\n",
       "      <td>1452900600</td>\n",
       "      <td>0.010684</td>\n",
       "    </tr>\n",
       "    <tr>\n",
       "      <th>865520</th>\n",
       "      <td>5</td>\n",
       "      <td>6ff66b03510e0dc515ea4637216f1ad3</td>\n",
       "      <td>close_courseware</td>\n",
       "      <td>1</td>\n",
       "      <td>802</td>\n",
       "      <td>computer</td>\n",
       "      <td>male</td>\n",
       "      <td>Doctorate</td>\n",
       "      <td>1985.0</td>\n",
       "      <td>30</td>\n",
       "      <td>1443613995</td>\n",
       "      <td>106.0</td>\n",
       "      <td>5_802</td>\n",
       "      <td>1443513600</td>\n",
       "      <td>1452900600</td>\n",
       "      <td>0.010695</td>\n",
       "    </tr>\n",
       "  </tbody>\n",
       "</table>\n",
       "</div>"
      ],
      "text/plain": [
       "        username                        session_id            action  truth  \\\n",
       "865516         5  6ff66b03510e0dc515ea4637216f1ad3        load_video      1   \n",
       "865517         5  6ff66b03510e0dc515ea4637216f1ad3        load_video      1   \n",
       "865520         5  6ff66b03510e0dc515ea4637216f1ad3  close_courseware      1   \n",
       "\n",
       "         id  category gender  education   birth  age   timestamp  timediff  \\\n",
       "865516  802  computer   male  Doctorate  1985.0   30  1443613884       0.0   \n",
       "865517  802  computer   male  Doctorate  1985.0   30  1443613889       5.0   \n",
       "865520  802  computer   male  Doctorate  1985.0   30  1443613995     106.0   \n",
       "\n",
       "       user_course_id  course_start  course_end  percent_course  \n",
       "865516          5_802    1443513600  1452900600        0.010683  \n",
       "865517          5_802    1443513600  1452900600        0.010684  \n",
       "865520          5_802    1443513600  1452900600        0.010695  "
      ]
     },
     "execution_count": 68,
     "metadata": {},
     "output_type": "execute_result"
    }
   ],
   "source": [
    "df_30_perc = calc_percentage_course(df, 0.3)\n",
    "df_30_perc.head(3)"
   ]
  },
  {
   "cell_type": "code",
   "execution_count": 69,
   "metadata": {},
   "outputs": [
    {
     "data": {
      "text/plain": [
       "4984"
      ]
     },
     "execution_count": 69,
     "metadata": {},
     "output_type": "execute_result"
    }
   ],
   "source": [
    "df_30_perc.username.nunique()"
   ]
  },
  {
   "cell_type": "markdown",
   "metadata": {},
   "source": [
    "### Their activities up till 30 % of a course\n"
   ]
  },
  {
   "cell_type": "code",
   "execution_count": 70,
   "metadata": {},
   "outputs": [],
   "source": [
    "tomerge_30_1 = df_30_perc[['action', 'user_course_id']].groupby(by=['user_course_id']).count()\n",
    "tomerge_30_2 = df_30_perc[['user_course_id', 'truth']].drop_duplicates()"
   ]
  },
  {
   "cell_type": "code",
   "execution_count": 71,
   "metadata": {},
   "outputs": [
    {
     "data": {
      "text/html": [
       "<div>\n",
       "<style scoped>\n",
       "    .dataframe tbody tr th:only-of-type {\n",
       "        vertical-align: middle;\n",
       "    }\n",
       "\n",
       "    .dataframe tbody tr th {\n",
       "        vertical-align: top;\n",
       "    }\n",
       "\n",
       "    .dataframe thead th {\n",
       "        text-align: right;\n",
       "    }\n",
       "</style>\n",
       "<table border=\"1\" class=\"dataframe\">\n",
       "  <thead>\n",
       "    <tr style=\"text-align: right;\">\n",
       "      <th></th>\n",
       "      <th>user_course_id</th>\n",
       "      <th>action</th>\n",
       "      <th>truth</th>\n",
       "    </tr>\n",
       "  </thead>\n",
       "  <tbody>\n",
       "    <tr>\n",
       "      <th>0</th>\n",
       "      <td>1000607_1926</td>\n",
       "      <td>22</td>\n",
       "      <td>0</td>\n",
       "    </tr>\n",
       "    <tr>\n",
       "      <th>1</th>\n",
       "      <td>1000607_2070</td>\n",
       "      <td>4</td>\n",
       "      <td>0</td>\n",
       "    </tr>\n",
       "    <tr>\n",
       "      <th>2</th>\n",
       "      <td>1000607_2909</td>\n",
       "      <td>6</td>\n",
       "      <td>0</td>\n",
       "    </tr>\n",
       "    <tr>\n",
       "      <th>3</th>\n",
       "      <td>1000607_536</td>\n",
       "      <td>342</td>\n",
       "      <td>0</td>\n",
       "    </tr>\n",
       "    <tr>\n",
       "      <th>4</th>\n",
       "      <td>1000607_747</td>\n",
       "      <td>200</td>\n",
       "      <td>0</td>\n",
       "    </tr>\n",
       "    <tr>\n",
       "      <th>...</th>\n",
       "      <td>...</td>\n",
       "      <td>...</td>\n",
       "      <td>...</td>\n",
       "    </tr>\n",
       "    <tr>\n",
       "      <th>19821</th>\n",
       "      <td>99517_6711</td>\n",
       "      <td>159</td>\n",
       "      <td>1</td>\n",
       "    </tr>\n",
       "    <tr>\n",
       "      <th>19822</th>\n",
       "      <td>99517_747</td>\n",
       "      <td>84</td>\n",
       "      <td>0</td>\n",
       "    </tr>\n",
       "    <tr>\n",
       "      <th>19823</th>\n",
       "      <td>99517_9474</td>\n",
       "      <td>113</td>\n",
       "      <td>0</td>\n",
       "    </tr>\n",
       "    <tr>\n",
       "      <th>19824</th>\n",
       "      <td>99517_9598</td>\n",
       "      <td>130</td>\n",
       "      <td>1</td>\n",
       "    </tr>\n",
       "    <tr>\n",
       "      <th>19825</th>\n",
       "      <td>997090_575</td>\n",
       "      <td>32</td>\n",
       "      <td>1</td>\n",
       "    </tr>\n",
       "  </tbody>\n",
       "</table>\n",
       "<p>19826 rows × 3 columns</p>\n",
       "</div>"
      ],
      "text/plain": [
       "      user_course_id  action  truth\n",
       "0       1000607_1926      22      0\n",
       "1       1000607_2070       4      0\n",
       "2       1000607_2909       6      0\n",
       "3        1000607_536     342      0\n",
       "4        1000607_747     200      0\n",
       "...              ...     ...    ...\n",
       "19821     99517_6711     159      1\n",
       "19822      99517_747      84      0\n",
       "19823     99517_9474     113      0\n",
       "19824     99517_9598     130      1\n",
       "19825     997090_575      32      1\n",
       "\n",
       "[19826 rows x 3 columns]"
      ]
     },
     "execution_count": 71,
     "metadata": {},
     "output_type": "execute_result"
    }
   ],
   "source": [
    "# Number of activities and if dopped out\n",
    "pd.merge(tomerge_30_1, tomerge_30_2, on='user_course_id')"
   ]
  },
  {
   "cell_type": "markdown",
   "metadata": {},
   "source": [
    "### Their activities up till 20 % of a course"
   ]
  },
  {
   "cell_type": "code",
   "execution_count": 72,
   "metadata": {},
   "outputs": [
    {
     "name": "stderr",
     "output_type": "stream",
     "text": [
      "/var/folders/72/fkz0cc590d36rk6ymj140_qr0000gn/T/ipykernel_88269/3312630568.py:10: UserWarning: Boolean Series key will be reindexed to match DataFrame index.\n",
      "  df = df[df['username'].isin(users_min_limit_per_comp)][df['percent_course'] < limit]\n"
     ]
    },
    {
     "data": {
      "text/html": [
       "<div>\n",
       "<style scoped>\n",
       "    .dataframe tbody tr th:only-of-type {\n",
       "        vertical-align: middle;\n",
       "    }\n",
       "\n",
       "    .dataframe tbody tr th {\n",
       "        vertical-align: top;\n",
       "    }\n",
       "\n",
       "    .dataframe thead th {\n",
       "        text-align: right;\n",
       "    }\n",
       "</style>\n",
       "<table border=\"1\" class=\"dataframe\">\n",
       "  <thead>\n",
       "    <tr style=\"text-align: right;\">\n",
       "      <th></th>\n",
       "      <th>username</th>\n",
       "      <th>session_id</th>\n",
       "      <th>action</th>\n",
       "      <th>truth</th>\n",
       "      <th>id</th>\n",
       "      <th>category</th>\n",
       "      <th>gender</th>\n",
       "      <th>education</th>\n",
       "      <th>birth</th>\n",
       "      <th>age</th>\n",
       "      <th>timestamp</th>\n",
       "      <th>timediff</th>\n",
       "      <th>user_course_id</th>\n",
       "      <th>course_start</th>\n",
       "      <th>course_end</th>\n",
       "      <th>percent_course</th>\n",
       "    </tr>\n",
       "  </thead>\n",
       "  <tbody>\n",
       "    <tr>\n",
       "      <th>865516</th>\n",
       "      <td>5</td>\n",
       "      <td>6ff66b03510e0dc515ea4637216f1ad3</td>\n",
       "      <td>load_video</td>\n",
       "      <td>1</td>\n",
       "      <td>802</td>\n",
       "      <td>computer</td>\n",
       "      <td>male</td>\n",
       "      <td>Doctorate</td>\n",
       "      <td>1985.0</td>\n",
       "      <td>30</td>\n",
       "      <td>1443613884</td>\n",
       "      <td>0.0</td>\n",
       "      <td>5_802</td>\n",
       "      <td>1443513600</td>\n",
       "      <td>1452900600</td>\n",
       "      <td>0.010683</td>\n",
       "    </tr>\n",
       "    <tr>\n",
       "      <th>865517</th>\n",
       "      <td>5</td>\n",
       "      <td>6ff66b03510e0dc515ea4637216f1ad3</td>\n",
       "      <td>load_video</td>\n",
       "      <td>1</td>\n",
       "      <td>802</td>\n",
       "      <td>computer</td>\n",
       "      <td>male</td>\n",
       "      <td>Doctorate</td>\n",
       "      <td>1985.0</td>\n",
       "      <td>30</td>\n",
       "      <td>1443613889</td>\n",
       "      <td>5.0</td>\n",
       "      <td>5_802</td>\n",
       "      <td>1443513600</td>\n",
       "      <td>1452900600</td>\n",
       "      <td>0.010684</td>\n",
       "    </tr>\n",
       "    <tr>\n",
       "      <th>865520</th>\n",
       "      <td>5</td>\n",
       "      <td>6ff66b03510e0dc515ea4637216f1ad3</td>\n",
       "      <td>close_courseware</td>\n",
       "      <td>1</td>\n",
       "      <td>802</td>\n",
       "      <td>computer</td>\n",
       "      <td>male</td>\n",
       "      <td>Doctorate</td>\n",
       "      <td>1985.0</td>\n",
       "      <td>30</td>\n",
       "      <td>1443613995</td>\n",
       "      <td>106.0</td>\n",
       "      <td>5_802</td>\n",
       "      <td>1443513600</td>\n",
       "      <td>1452900600</td>\n",
       "      <td>0.010695</td>\n",
       "    </tr>\n",
       "  </tbody>\n",
       "</table>\n",
       "</div>"
      ],
      "text/plain": [
       "        username                        session_id            action  truth  \\\n",
       "865516         5  6ff66b03510e0dc515ea4637216f1ad3        load_video      1   \n",
       "865517         5  6ff66b03510e0dc515ea4637216f1ad3        load_video      1   \n",
       "865520         5  6ff66b03510e0dc515ea4637216f1ad3  close_courseware      1   \n",
       "\n",
       "         id  category gender  education   birth  age   timestamp  timediff  \\\n",
       "865516  802  computer   male  Doctorate  1985.0   30  1443613884       0.0   \n",
       "865517  802  computer   male  Doctorate  1985.0   30  1443613889       5.0   \n",
       "865520  802  computer   male  Doctorate  1985.0   30  1443613995     106.0   \n",
       "\n",
       "       user_course_id  course_start  course_end  percent_course  \n",
       "865516          5_802    1443513600  1452900600        0.010683  \n",
       "865517          5_802    1443513600  1452900600        0.010684  \n",
       "865520          5_802    1443513600  1452900600        0.010695  "
      ]
     },
     "execution_count": 72,
     "metadata": {},
     "output_type": "execute_result"
    }
   ],
   "source": [
    "df_20_perc = calc_percentage_course(df, 0.2)\n",
    "df_20_perc.head(3)"
   ]
  },
  {
   "cell_type": "code",
   "execution_count": 73,
   "metadata": {},
   "outputs": [
    {
     "data": {
      "text/plain": [
       "4650"
      ]
     },
     "execution_count": 73,
     "metadata": {},
     "output_type": "execute_result"
    }
   ],
   "source": [
    "df_20_perc.username.nunique()"
   ]
  },
  {
   "cell_type": "code",
   "execution_count": 74,
   "metadata": {},
   "outputs": [],
   "source": [
    "tomerge_20_1 = df_20_perc[['action', 'user_course_id']].groupby(by=['user_course_id']).count()\n",
    "tomerge_20_2 = df_20_perc[['user_course_id', 'truth']].drop_duplicates()"
   ]
  },
  {
   "cell_type": "code",
   "execution_count": 75,
   "metadata": {},
   "outputs": [
    {
     "data": {
      "text/html": [
       "<div>\n",
       "<style scoped>\n",
       "    .dataframe tbody tr th:only-of-type {\n",
       "        vertical-align: middle;\n",
       "    }\n",
       "\n",
       "    .dataframe tbody tr th {\n",
       "        vertical-align: top;\n",
       "    }\n",
       "\n",
       "    .dataframe thead th {\n",
       "        text-align: right;\n",
       "    }\n",
       "</style>\n",
       "<table border=\"1\" class=\"dataframe\">\n",
       "  <thead>\n",
       "    <tr style=\"text-align: right;\">\n",
       "      <th></th>\n",
       "      <th>user_course_id</th>\n",
       "      <th>action</th>\n",
       "      <th>truth</th>\n",
       "    </tr>\n",
       "  </thead>\n",
       "  <tbody>\n",
       "    <tr>\n",
       "      <th>0</th>\n",
       "      <td>1000607_1926</td>\n",
       "      <td>9</td>\n",
       "      <td>0</td>\n",
       "    </tr>\n",
       "    <tr>\n",
       "      <th>1</th>\n",
       "      <td>1000607_2070</td>\n",
       "      <td>4</td>\n",
       "      <td>0</td>\n",
       "    </tr>\n",
       "    <tr>\n",
       "      <th>2</th>\n",
       "      <td>1000607_2909</td>\n",
       "      <td>3</td>\n",
       "      <td>0</td>\n",
       "    </tr>\n",
       "    <tr>\n",
       "      <th>3</th>\n",
       "      <td>1000607_536</td>\n",
       "      <td>341</td>\n",
       "      <td>0</td>\n",
       "    </tr>\n",
       "    <tr>\n",
       "      <th>4</th>\n",
       "      <td>1000607_747</td>\n",
       "      <td>96</td>\n",
       "      <td>0</td>\n",
       "    </tr>\n",
       "    <tr>\n",
       "      <th>...</th>\n",
       "      <td>...</td>\n",
       "      <td>...</td>\n",
       "      <td>...</td>\n",
       "    </tr>\n",
       "    <tr>\n",
       "      <th>16957</th>\n",
       "      <td>99517_6711</td>\n",
       "      <td>159</td>\n",
       "      <td>1</td>\n",
       "    </tr>\n",
       "    <tr>\n",
       "      <th>16958</th>\n",
       "      <td>99517_747</td>\n",
       "      <td>84</td>\n",
       "      <td>0</td>\n",
       "    </tr>\n",
       "    <tr>\n",
       "      <th>16959</th>\n",
       "      <td>99517_9474</td>\n",
       "      <td>113</td>\n",
       "      <td>0</td>\n",
       "    </tr>\n",
       "    <tr>\n",
       "      <th>16960</th>\n",
       "      <td>99517_9598</td>\n",
       "      <td>127</td>\n",
       "      <td>1</td>\n",
       "    </tr>\n",
       "    <tr>\n",
       "      <th>16961</th>\n",
       "      <td>997090_575</td>\n",
       "      <td>31</td>\n",
       "      <td>1</td>\n",
       "    </tr>\n",
       "  </tbody>\n",
       "</table>\n",
       "<p>16962 rows × 3 columns</p>\n",
       "</div>"
      ],
      "text/plain": [
       "      user_course_id  action  truth\n",
       "0       1000607_1926       9      0\n",
       "1       1000607_2070       4      0\n",
       "2       1000607_2909       3      0\n",
       "3        1000607_536     341      0\n",
       "4        1000607_747      96      0\n",
       "...              ...     ...    ...\n",
       "16957     99517_6711     159      1\n",
       "16958      99517_747      84      0\n",
       "16959     99517_9474     113      0\n",
       "16960     99517_9598     127      1\n",
       "16961     997090_575      31      1\n",
       "\n",
       "[16962 rows x 3 columns]"
      ]
     },
     "execution_count": 75,
     "metadata": {},
     "output_type": "execute_result"
    }
   ],
   "source": [
    "pd.merge(tomerge_20_1, tomerge_20_2, on='user_course_id')"
   ]
  },
  {
   "cell_type": "markdown",
   "metadata": {},
   "source": [
    "### Their activities up till 10 % of a course"
   ]
  },
  {
   "cell_type": "code",
   "execution_count": 76,
   "metadata": {},
   "outputs": [
    {
     "name": "stderr",
     "output_type": "stream",
     "text": [
      "/var/folders/72/fkz0cc590d36rk6ymj140_qr0000gn/T/ipykernel_88269/3312630568.py:10: UserWarning: Boolean Series key will be reindexed to match DataFrame index.\n",
      "  df = df[df['username'].isin(users_min_limit_per_comp)][df['percent_course'] < limit]\n"
     ]
    },
    {
     "data": {
      "text/html": [
       "<div>\n",
       "<style scoped>\n",
       "    .dataframe tbody tr th:only-of-type {\n",
       "        vertical-align: middle;\n",
       "    }\n",
       "\n",
       "    .dataframe tbody tr th {\n",
       "        vertical-align: top;\n",
       "    }\n",
       "\n",
       "    .dataframe thead th {\n",
       "        text-align: right;\n",
       "    }\n",
       "</style>\n",
       "<table border=\"1\" class=\"dataframe\">\n",
       "  <thead>\n",
       "    <tr style=\"text-align: right;\">\n",
       "      <th></th>\n",
       "      <th>username</th>\n",
       "      <th>session_id</th>\n",
       "      <th>action</th>\n",
       "      <th>truth</th>\n",
       "      <th>id</th>\n",
       "      <th>category</th>\n",
       "      <th>gender</th>\n",
       "      <th>education</th>\n",
       "      <th>birth</th>\n",
       "      <th>age</th>\n",
       "      <th>timestamp</th>\n",
       "      <th>timediff</th>\n",
       "      <th>user_course_id</th>\n",
       "      <th>course_start</th>\n",
       "      <th>course_end</th>\n",
       "      <th>percent_course</th>\n",
       "    </tr>\n",
       "  </thead>\n",
       "  <tbody>\n",
       "    <tr>\n",
       "      <th>865516</th>\n",
       "      <td>5</td>\n",
       "      <td>6ff66b03510e0dc515ea4637216f1ad3</td>\n",
       "      <td>load_video</td>\n",
       "      <td>1</td>\n",
       "      <td>802</td>\n",
       "      <td>computer</td>\n",
       "      <td>male</td>\n",
       "      <td>Doctorate</td>\n",
       "      <td>1985.0</td>\n",
       "      <td>30</td>\n",
       "      <td>1443613884</td>\n",
       "      <td>0.0</td>\n",
       "      <td>5_802</td>\n",
       "      <td>1443513600</td>\n",
       "      <td>1452900600</td>\n",
       "      <td>0.010683</td>\n",
       "    </tr>\n",
       "    <tr>\n",
       "      <th>865517</th>\n",
       "      <td>5</td>\n",
       "      <td>6ff66b03510e0dc515ea4637216f1ad3</td>\n",
       "      <td>load_video</td>\n",
       "      <td>1</td>\n",
       "      <td>802</td>\n",
       "      <td>computer</td>\n",
       "      <td>male</td>\n",
       "      <td>Doctorate</td>\n",
       "      <td>1985.0</td>\n",
       "      <td>30</td>\n",
       "      <td>1443613889</td>\n",
       "      <td>5.0</td>\n",
       "      <td>5_802</td>\n",
       "      <td>1443513600</td>\n",
       "      <td>1452900600</td>\n",
       "      <td>0.010684</td>\n",
       "    </tr>\n",
       "    <tr>\n",
       "      <th>865520</th>\n",
       "      <td>5</td>\n",
       "      <td>6ff66b03510e0dc515ea4637216f1ad3</td>\n",
       "      <td>close_courseware</td>\n",
       "      <td>1</td>\n",
       "      <td>802</td>\n",
       "      <td>computer</td>\n",
       "      <td>male</td>\n",
       "      <td>Doctorate</td>\n",
       "      <td>1985.0</td>\n",
       "      <td>30</td>\n",
       "      <td>1443613995</td>\n",
       "      <td>106.0</td>\n",
       "      <td>5_802</td>\n",
       "      <td>1443513600</td>\n",
       "      <td>1452900600</td>\n",
       "      <td>0.010695</td>\n",
       "    </tr>\n",
       "    <tr>\n",
       "      <th>865529</th>\n",
       "      <td>5</td>\n",
       "      <td>6ff66b03510e0dc515ea4637216f1ad3</td>\n",
       "      <td>load_video</td>\n",
       "      <td>1</td>\n",
       "      <td>802</td>\n",
       "      <td>computer</td>\n",
       "      <td>male</td>\n",
       "      <td>Doctorate</td>\n",
       "      <td>1985.0</td>\n",
       "      <td>30</td>\n",
       "      <td>1443613999</td>\n",
       "      <td>4.0</td>\n",
       "      <td>5_802</td>\n",
       "      <td>1443513600</td>\n",
       "      <td>1452900600</td>\n",
       "      <td>0.010696</td>\n",
       "    </tr>\n",
       "    <tr>\n",
       "      <th>865535</th>\n",
       "      <td>5</td>\n",
       "      <td>6ff66b03510e0dc515ea4637216f1ad3</td>\n",
       "      <td>play_video</td>\n",
       "      <td>1</td>\n",
       "      <td>802</td>\n",
       "      <td>computer</td>\n",
       "      <td>male</td>\n",
       "      <td>Doctorate</td>\n",
       "      <td>1985.0</td>\n",
       "      <td>30</td>\n",
       "      <td>1443614005</td>\n",
       "      <td>6.0</td>\n",
       "      <td>5_802</td>\n",
       "      <td>1443513600</td>\n",
       "      <td>1452900600</td>\n",
       "      <td>0.010696</td>\n",
       "    </tr>\n",
       "    <tr>\n",
       "      <th>...</th>\n",
       "      <td>...</td>\n",
       "      <td>...</td>\n",
       "      <td>...</td>\n",
       "      <td>...</td>\n",
       "      <td>...</td>\n",
       "      <td>...</td>\n",
       "      <td>...</td>\n",
       "      <td>...</td>\n",
       "      <td>...</td>\n",
       "      <td>...</td>\n",
       "      <td>...</td>\n",
       "      <td>...</td>\n",
       "      <td>...</td>\n",
       "      <td>...</td>\n",
       "      <td>...</td>\n",
       "      <td>...</td>\n",
       "    </tr>\n",
       "    <tr>\n",
       "      <th>17750114</th>\n",
       "      <td>6934979</td>\n",
       "      <td>c351ad70c3edd6c58163099f09bc6c17</td>\n",
       "      <td>close_courseware</td>\n",
       "      <td>1</td>\n",
       "      <td>9801</td>\n",
       "      <td>foreign language</td>\n",
       "      <td>female</td>\n",
       "      <td>Primary</td>\n",
       "      <td>2006.0</td>\n",
       "      <td>11</td>\n",
       "      <td>1494089898</td>\n",
       "      <td>1.0</td>\n",
       "      <td>6934979_9801</td>\n",
       "      <td>1493539200</td>\n",
       "      <td>1499644800</td>\n",
       "      <td>0.090196</td>\n",
       "    </tr>\n",
       "    <tr>\n",
       "      <th>17750115</th>\n",
       "      <td>6934979</td>\n",
       "      <td>c351ad70c3edd6c58163099f09bc6c17</td>\n",
       "      <td>click_courseware</td>\n",
       "      <td>1</td>\n",
       "      <td>9801</td>\n",
       "      <td>foreign language</td>\n",
       "      <td>female</td>\n",
       "      <td>Primary</td>\n",
       "      <td>2006.0</td>\n",
       "      <td>11</td>\n",
       "      <td>1494089899</td>\n",
       "      <td>1.0</td>\n",
       "      <td>6934979_9801</td>\n",
       "      <td>1493539200</td>\n",
       "      <td>1499644800</td>\n",
       "      <td>0.090196</td>\n",
       "    </tr>\n",
       "    <tr>\n",
       "      <th>17750098</th>\n",
       "      <td>6934979</td>\n",
       "      <td>c351ad70c3edd6c58163099f09bc6c17</td>\n",
       "      <td>click_courseware</td>\n",
       "      <td>1</td>\n",
       "      <td>9801</td>\n",
       "      <td>foreign language</td>\n",
       "      <td>female</td>\n",
       "      <td>Primary</td>\n",
       "      <td>2006.0</td>\n",
       "      <td>11</td>\n",
       "      <td>1494089903</td>\n",
       "      <td>4.0</td>\n",
       "      <td>6934979_9801</td>\n",
       "      <td>1493539200</td>\n",
       "      <td>1499644800</td>\n",
       "      <td>0.090196</td>\n",
       "    </tr>\n",
       "    <tr>\n",
       "      <th>17750116</th>\n",
       "      <td>6934979</td>\n",
       "      <td>c351ad70c3edd6c58163099f09bc6c17</td>\n",
       "      <td>close_courseware</td>\n",
       "      <td>1</td>\n",
       "      <td>9801</td>\n",
       "      <td>foreign language</td>\n",
       "      <td>female</td>\n",
       "      <td>Primary</td>\n",
       "      <td>2006.0</td>\n",
       "      <td>11</td>\n",
       "      <td>1494089903</td>\n",
       "      <td>0.0</td>\n",
       "      <td>6934979_9801</td>\n",
       "      <td>1493539200</td>\n",
       "      <td>1499644800</td>\n",
       "      <td>0.090196</td>\n",
       "    </tr>\n",
       "    <tr>\n",
       "      <th>17750091</th>\n",
       "      <td>6934979</td>\n",
       "      <td>c351ad70c3edd6c58163099f09bc6c17</td>\n",
       "      <td>click_info</td>\n",
       "      <td>1</td>\n",
       "      <td>9801</td>\n",
       "      <td>foreign language</td>\n",
       "      <td>female</td>\n",
       "      <td>Primary</td>\n",
       "      <td>2006.0</td>\n",
       "      <td>11</td>\n",
       "      <td>1494089904</td>\n",
       "      <td>1.0</td>\n",
       "      <td>6934979_9801</td>\n",
       "      <td>1493539200</td>\n",
       "      <td>1499644800</td>\n",
       "      <td>0.090197</td>\n",
       "    </tr>\n",
       "  </tbody>\n",
       "</table>\n",
       "<p>1412415 rows × 16 columns</p>\n",
       "</div>"
      ],
      "text/plain": [
       "          username                        session_id            action  truth  \\\n",
       "865516           5  6ff66b03510e0dc515ea4637216f1ad3        load_video      1   \n",
       "865517           5  6ff66b03510e0dc515ea4637216f1ad3        load_video      1   \n",
       "865520           5  6ff66b03510e0dc515ea4637216f1ad3  close_courseware      1   \n",
       "865529           5  6ff66b03510e0dc515ea4637216f1ad3        load_video      1   \n",
       "865535           5  6ff66b03510e0dc515ea4637216f1ad3        play_video      1   \n",
       "...            ...                               ...               ...    ...   \n",
       "17750114   6934979  c351ad70c3edd6c58163099f09bc6c17  close_courseware      1   \n",
       "17750115   6934979  c351ad70c3edd6c58163099f09bc6c17  click_courseware      1   \n",
       "17750098   6934979  c351ad70c3edd6c58163099f09bc6c17  click_courseware      1   \n",
       "17750116   6934979  c351ad70c3edd6c58163099f09bc6c17  close_courseware      1   \n",
       "17750091   6934979  c351ad70c3edd6c58163099f09bc6c17        click_info      1   \n",
       "\n",
       "            id          category  gender  education   birth  age   timestamp  \\\n",
       "865516     802          computer    male  Doctorate  1985.0   30  1443613884   \n",
       "865517     802          computer    male  Doctorate  1985.0   30  1443613889   \n",
       "865520     802          computer    male  Doctorate  1985.0   30  1443613995   \n",
       "865529     802          computer    male  Doctorate  1985.0   30  1443613999   \n",
       "865535     802          computer    male  Doctorate  1985.0   30  1443614005   \n",
       "...        ...               ...     ...        ...     ...  ...         ...   \n",
       "17750114  9801  foreign language  female    Primary  2006.0   11  1494089898   \n",
       "17750115  9801  foreign language  female    Primary  2006.0   11  1494089899   \n",
       "17750098  9801  foreign language  female    Primary  2006.0   11  1494089903   \n",
       "17750116  9801  foreign language  female    Primary  2006.0   11  1494089903   \n",
       "17750091  9801  foreign language  female    Primary  2006.0   11  1494089904   \n",
       "\n",
       "          timediff user_course_id  course_start  course_end  percent_course  \n",
       "865516         0.0          5_802    1443513600  1452900600        0.010683  \n",
       "865517         5.0          5_802    1443513600  1452900600        0.010684  \n",
       "865520       106.0          5_802    1443513600  1452900600        0.010695  \n",
       "865529         4.0          5_802    1443513600  1452900600        0.010696  \n",
       "865535         6.0          5_802    1443513600  1452900600        0.010696  \n",
       "...            ...            ...           ...         ...             ...  \n",
       "17750114       1.0   6934979_9801    1493539200  1499644800        0.090196  \n",
       "17750115       1.0   6934979_9801    1493539200  1499644800        0.090196  \n",
       "17750098       4.0   6934979_9801    1493539200  1499644800        0.090196  \n",
       "17750116       0.0   6934979_9801    1493539200  1499644800        0.090196  \n",
       "17750091       1.0   6934979_9801    1493539200  1499644800        0.090197  \n",
       "\n",
       "[1412415 rows x 16 columns]"
      ]
     },
     "execution_count": 76,
     "metadata": {},
     "output_type": "execute_result"
    }
   ],
   "source": [
    "df_10_perc = calc_percentage_course(df, 0.1)\n",
    "df_10_perc"
   ]
  },
  {
   "cell_type": "code",
   "execution_count": 77,
   "metadata": {},
   "outputs": [
    {
     "data": {
      "text/plain": [
       "4027"
      ]
     },
     "execution_count": 77,
     "metadata": {},
     "output_type": "execute_result"
    }
   ],
   "source": [
    "df_10_perc.username.nunique()"
   ]
  },
  {
   "cell_type": "code",
   "execution_count": 78,
   "metadata": {},
   "outputs": [],
   "source": [
    "tomerge_10_1 = df_20_perc[['action', 'user_course_id']].groupby(by=['user_course_id']).count()\n",
    "tomerge_10_2 = df_20_perc[['user_course_id', 'truth']].drop_duplicates()"
   ]
  },
  {
   "cell_type": "code",
   "execution_count": 79,
   "metadata": {},
   "outputs": [
    {
     "data": {
      "text/html": [
       "<div>\n",
       "<style scoped>\n",
       "    .dataframe tbody tr th:only-of-type {\n",
       "        vertical-align: middle;\n",
       "    }\n",
       "\n",
       "    .dataframe tbody tr th {\n",
       "        vertical-align: top;\n",
       "    }\n",
       "\n",
       "    .dataframe thead th {\n",
       "        text-align: right;\n",
       "    }\n",
       "</style>\n",
       "<table border=\"1\" class=\"dataframe\">\n",
       "  <thead>\n",
       "    <tr style=\"text-align: right;\">\n",
       "      <th></th>\n",
       "      <th>user_course_id</th>\n",
       "      <th>action</th>\n",
       "      <th>truth</th>\n",
       "    </tr>\n",
       "  </thead>\n",
       "  <tbody>\n",
       "    <tr>\n",
       "      <th>0</th>\n",
       "      <td>1000607_1926</td>\n",
       "      <td>9</td>\n",
       "      <td>0</td>\n",
       "    </tr>\n",
       "    <tr>\n",
       "      <th>1</th>\n",
       "      <td>1000607_2070</td>\n",
       "      <td>4</td>\n",
       "      <td>0</td>\n",
       "    </tr>\n",
       "    <tr>\n",
       "      <th>2</th>\n",
       "      <td>1000607_2909</td>\n",
       "      <td>3</td>\n",
       "      <td>0</td>\n",
       "    </tr>\n",
       "    <tr>\n",
       "      <th>3</th>\n",
       "      <td>1000607_536</td>\n",
       "      <td>341</td>\n",
       "      <td>0</td>\n",
       "    </tr>\n",
       "    <tr>\n",
       "      <th>4</th>\n",
       "      <td>1000607_747</td>\n",
       "      <td>96</td>\n",
       "      <td>0</td>\n",
       "    </tr>\n",
       "    <tr>\n",
       "      <th>...</th>\n",
       "      <td>...</td>\n",
       "      <td>...</td>\n",
       "      <td>...</td>\n",
       "    </tr>\n",
       "    <tr>\n",
       "      <th>16957</th>\n",
       "      <td>99517_6711</td>\n",
       "      <td>159</td>\n",
       "      <td>1</td>\n",
       "    </tr>\n",
       "    <tr>\n",
       "      <th>16958</th>\n",
       "      <td>99517_747</td>\n",
       "      <td>84</td>\n",
       "      <td>0</td>\n",
       "    </tr>\n",
       "    <tr>\n",
       "      <th>16959</th>\n",
       "      <td>99517_9474</td>\n",
       "      <td>113</td>\n",
       "      <td>0</td>\n",
       "    </tr>\n",
       "    <tr>\n",
       "      <th>16960</th>\n",
       "      <td>99517_9598</td>\n",
       "      <td>127</td>\n",
       "      <td>1</td>\n",
       "    </tr>\n",
       "    <tr>\n",
       "      <th>16961</th>\n",
       "      <td>997090_575</td>\n",
       "      <td>31</td>\n",
       "      <td>1</td>\n",
       "    </tr>\n",
       "  </tbody>\n",
       "</table>\n",
       "<p>16962 rows × 3 columns</p>\n",
       "</div>"
      ],
      "text/plain": [
       "      user_course_id  action  truth\n",
       "0       1000607_1926       9      0\n",
       "1       1000607_2070       4      0\n",
       "2       1000607_2909       3      0\n",
       "3        1000607_536     341      0\n",
       "4        1000607_747      96      0\n",
       "...              ...     ...    ...\n",
       "16957     99517_6711     159      1\n",
       "16958      99517_747      84      0\n",
       "16959     99517_9474     113      0\n",
       "16960     99517_9598     127      1\n",
       "16961     997090_575      31      1\n",
       "\n",
       "[16962 rows x 3 columns]"
      ]
     },
     "execution_count": 79,
     "metadata": {},
     "output_type": "execute_result"
    }
   ],
   "source": [
    "pd.merge(tomerge_10_1, tomerge_10_2, on='user_course_id')"
   ]
  },
  {
   "cell_type": "code",
   "execution_count": null,
   "metadata": {},
   "outputs": [],
   "source": []
  }
 ],
 "metadata": {
  "colab": {
   "authorship_tag": "ABX9TyNfB6EqPLZGf+oM4wquBrV2",
   "collapsed_sections": [],
   "mount_file_id": "1VKPXQNTEhHiLyDTcO4EWnai3Pr7zS_zl",
   "name": "merged_dataframe.ipynb",
   "provenance": []
  },
  "kernelspec": {
   "display_name": "Python 3 (ipykernel)",
   "language": "python",
   "name": "python3"
  },
  "language_info": {
   "codemirror_mode": {
    "name": "ipython",
    "version": 3
   },
   "file_extension": ".py",
   "mimetype": "text/x-python",
   "name": "python",
   "nbconvert_exporter": "python",
   "pygments_lexer": "ipython3",
   "version": "3.8.12"
  },
  "toc": {
   "base_numbering": 1,
   "nav_menu": {},
   "number_sections": true,
   "sideBar": true,
   "skip_h1_title": false,
   "title_cell": "Table of Contents",
   "title_sidebar": "Contents",
   "toc_cell": false,
   "toc_position": {},
   "toc_section_display": true,
   "toc_window_display": true
  }
 },
 "nbformat": 4,
 "nbformat_minor": 1
}
